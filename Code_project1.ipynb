{
  "nbformat": 4,
  "nbformat_minor": 0,
  "metadata": {
    "colab": {
      "provenance": [],
      "mount_file_id": "1_kQNolFDY4G3dXCAKg3uoXZpadLuCY1c",
      "authorship_tag": "ABX9TyPXXxWFURt0nre3QDTeECDV",
      "include_colab_link": true
    },
    "kernelspec": {
      "name": "python3",
      "display_name": "Python 3"
    },
    "language_info": {
      "name": "python"
    }
  },
  "cells": [
    {
      "cell_type": "markdown",
      "metadata": {
        "id": "view-in-github",
        "colab_type": "text"
      },
      "source": [
        "<a href=\"https://colab.research.google.com/github/ev1025/CP1/blob/main/Code_project1.ipynb\" target=\"_parent\"><img src=\"https://colab.research.google.com/assets/colab-badge.svg\" alt=\"Open In Colab\"/></a>"
      ]
    },
    {
      "cell_type": "markdown",
      "source": [
        "# 인스타카트 데이터 분석"
      ],
      "metadata": {
        "id": "VpDCmYYFg9Z4"
      }
    },
    {
      "cell_type": "markdown",
      "source": [
        "참고자료 : 케글 인스타카트 장바구니 분석 데이터     \n",
        "https://www.kaggle.com/datasets/psparks/instacart-market-basket-analysis"
      ],
      "metadata": {
        "id": "TJNQ25YFhgoG"
      }
    },
    {
      "cell_type": "markdown",
      "source": [
        "# 1. CRISP-DM 기반 분석"
      ],
      "metadata": {
        "id": "z-oZneANhFPX"
      }
    },
    {
      "cell_type": "markdown",
      "source": [
        "## 1) 비즈니스이해"
      ],
      "metadata": {
        "id": "Feqiq8RVhOJK"
      }
    },
    {
      "cell_type": "markdown",
      "source": [
        "## 2) 데이터 이해"
      ],
      "metadata": {
        "id": "GX4uEt0phQxU"
      }
    },
    {
      "cell_type": "markdown",
      "source": [
        "## 3) 데이터 전처리"
      ],
      "metadata": {
        "id": "gOjbyTlphSp0"
      }
    },
    {
      "cell_type": "code",
      "source": [
        "# 한글 그래프 폰트(런타임재시작, plt.rc('font', family='NanumBarunGothic'))\n",
        "!sudo apt-get install -y fonts-nanum\n",
        "!sudo fc-cache -fv\n",
        "!rm ~/.cache/matplotlib -rf"
      ],
      "metadata": {
        "colab": {
          "base_uri": "https://localhost:8080/"
        },
        "id": "84Jl8CSIXo4p",
        "outputId": "eb6eef72-ed0f-44f8-d69d-ad306152ebaf"
      },
      "execution_count": null,
      "outputs": [
        {
          "output_type": "stream",
          "name": "stdout",
          "text": [
            "Reading package lists... Done\n",
            "Building dependency tree       \n",
            "Reading state information... Done\n",
            "fonts-nanum is already the newest version (20170925-1).\n",
            "The following package was automatically installed and is no longer required:\n",
            "  libnvidia-common-460\n",
            "Use 'sudo apt autoremove' to remove it.\n",
            "0 upgraded, 0 newly installed, 0 to remove and 21 not upgraded.\n",
            "/usr/share/fonts: caching, new cache contents: 0 fonts, 1 dirs\n",
            "/usr/share/fonts/truetype: caching, new cache contents: 0 fonts, 3 dirs\n",
            "/usr/share/fonts/truetype/humor-sans: caching, new cache contents: 1 fonts, 0 dirs\n",
            "/usr/share/fonts/truetype/liberation: caching, new cache contents: 16 fonts, 0 dirs\n",
            "/usr/share/fonts/truetype/nanum: caching, new cache contents: 10 fonts, 0 dirs\n",
            "/usr/local/share/fonts: caching, new cache contents: 0 fonts, 0 dirs\n",
            "/root/.local/share/fonts: skipping, no such directory\n",
            "/root/.fonts: skipping, no such directory\n",
            "/var/cache/fontconfig: cleaning cache directory\n",
            "/root/.cache/fontconfig: not cleaning non-existent cache directory\n",
            "/root/.fontconfig: not cleaning non-existent cache directory\n",
            "fc-cache: succeeded\n"
          ]
        }
      ]
    },
    {
      "cell_type": "code",
      "source": [
        "import matplotlib.pyplot as plt\n",
        "import seaborn as sns\n",
        "\n",
        "import pandas as pd\n",
        "import numpy as np\n",
        "from functools import reduce"
      ],
      "metadata": {
        "id": "INnJt-a5ZK92"
      },
      "execution_count": null,
      "outputs": []
    },
    {
      "cell_type": "code",
      "source": [
        "df1 = pd.read_csv('/content/drive/MyDrive/인스타카트/aisles.csv')               # 소분류\n",
        "df2 = pd.read_csv('/content/drive/MyDrive/인스타카트/departments.csv')          # 대분류\n",
        "df3 = pd.read_csv('/content/drive/MyDrive/인스타카트/order_products__train.csv')\n",
        "df4 = pd.read_csv('/content/drive/MyDrive/인스타카트/orders.csv')\n",
        "df5 = pd.read_csv('/content/drive/MyDrive/인스타카트/products.csv')"
      ],
      "metadata": {
        "id": "wfLtQBhVkUfN"
      },
      "execution_count": null,
      "outputs": []
    },
    {
      "cell_type": "code",
      "source": [
        "df3.shape"
      ],
      "metadata": {
        "colab": {
          "base_uri": "https://localhost:8080/"
        },
        "id": "eWSY1KoQMmrI",
        "outputId": "6ffd9fb0-778c-4963-c105-19d6d28699e7"
      },
      "execution_count": null,
      "outputs": [
        {
          "output_type": "execute_result",
          "data": {
            "text/plain": [
              "(1384617, 4)"
            ]
          },
          "metadata": {},
          "execution_count": 4
        }
      ]
    },
    {
      "cell_type": "code",
      "source": [
        "df1.isnull().sum()"
      ],
      "metadata": {
        "id": "fevHHqohlj42",
        "colab": {
          "base_uri": "https://localhost:8080/"
        },
        "outputId": "3f8354d5-fc61-404d-a741-95b54de837f2"
      },
      "execution_count": null,
      "outputs": [
        {
          "output_type": "execute_result",
          "data": {
            "text/plain": [
              "aisle_id    0\n",
              "aisle       0\n",
              "dtype: int64"
            ]
          },
          "metadata": {},
          "execution_count": 5
        }
      ]
    },
    {
      "cell_type": "code",
      "source": [
        "df2.isnull().sum()"
      ],
      "metadata": {
        "id": "wbhd3i14lqc2",
        "colab": {
          "base_uri": "https://localhost:8080/"
        },
        "outputId": "4bf30959-de2a-4318-967d-c406f1a52708"
      },
      "execution_count": null,
      "outputs": [
        {
          "output_type": "execute_result",
          "data": {
            "text/plain": [
              "department_id    0\n",
              "department       0\n",
              "dtype: int64"
            ]
          },
          "metadata": {},
          "execution_count": 6
        }
      ]
    },
    {
      "cell_type": "code",
      "source": [
        "df3.isnull().sum()"
      ],
      "metadata": {
        "id": "iAddx9Nfl3Ff",
        "colab": {
          "base_uri": "https://localhost:8080/"
        },
        "outputId": "1bea2aa2-7842-43ca-d67b-208d92e76b30"
      },
      "execution_count": null,
      "outputs": [
        {
          "output_type": "execute_result",
          "data": {
            "text/plain": [
              "order_id             0\n",
              "product_id           0\n",
              "add_to_cart_order    0\n",
              "reordered            0\n",
              "dtype: int64"
            ]
          },
          "metadata": {},
          "execution_count": 7
        }
      ]
    },
    {
      "cell_type": "code",
      "source": [
        "df4.isnull().sum()# 현재 주문 이전 주문과의 텀(데이터 유지)"
      ],
      "metadata": {
        "id": "tLpJMTrjl6D3",
        "colab": {
          "base_uri": "https://localhost:8080/"
        },
        "outputId": "5d3df618-5267-4290-9243-32bfcae7f1fb"
      },
      "execution_count": null,
      "outputs": [
        {
          "output_type": "execute_result",
          "data": {
            "text/plain": [
              "order_id                       0\n",
              "user_id                        0\n",
              "eval_set                       0\n",
              "order_number                   0\n",
              "order_dow                      0\n",
              "order_hour_of_day              0\n",
              "days_since_prior_order    206209\n",
              "dtype: int64"
            ]
          },
          "metadata": {},
          "execution_count": 8
        }
      ]
    },
    {
      "cell_type": "code",
      "source": [
        "df5.isnull().sum() "
      ],
      "metadata": {
        "id": "LJtlIqk3l-uo",
        "colab": {
          "base_uri": "https://localhost:8080/"
        },
        "outputId": "62aa30a6-4142-4da0-bb02-a65023472335"
      },
      "execution_count": null,
      "outputs": [
        {
          "output_type": "execute_result",
          "data": {
            "text/plain": [
              "product_id       0\n",
              "product_name     0\n",
              "aisle_id         0\n",
              "department_id    0\n",
              "dtype: int64"
            ]
          },
          "metadata": {},
          "execution_count": 9
        }
      ]
    },
    {
      "cell_type": "code",
      "source": [
        "# 한 번에 merge 각 컬럼이 달라서 실패\n",
        "# data = [df3,df1,df2,df5,df6]\n",
        "# full_data = reduce(lambda x,y : pd.merge(x,y), data)"
      ],
      "metadata": {
        "id": "iT3xQv1SH6Nz"
      },
      "execution_count": null,
      "outputs": []
    },
    {
      "cell_type": "code",
      "source": [
        "# 데이터 합치는 함수\n",
        "def df_merge(t1,t2,t3,t4,t5):\n",
        "    data = pd.merge(t1,t2)\n",
        "    data = pd.merge(data,t3)\n",
        "    data = pd.merge(data,t4)\n",
        "    data = pd.merge(data,t5)\n",
        "    return data"
      ],
      "metadata": {
        "id": "pWEljM2cnF-E"
      },
      "execution_count": null,
      "outputs": []
    },
    {
      "cell_type": "code",
      "source": [
        "full_data = df_merge(df3,df4,df5,df1,df2)\n",
        "full_data"
      ],
      "metadata": {
        "id": "Tq-zXFb7uCu6",
        "colab": {
          "base_uri": "https://localhost:8080/",
          "height": 800
        },
        "outputId": "8585b09a-b72b-48fc-c640-1ac4f17afcfa"
      },
      "execution_count": null,
      "outputs": [
        {
          "output_type": "execute_result",
          "data": {
            "text/plain": [
              "         order_id  product_id  add_to_cart_order  reordered  user_id eval_set  \\\n",
              "0               1       49302                  1          1   112108    train   \n",
              "1          816049       49302                  7          1    47901    train   \n",
              "2         1242203       49302                  1          1     2993    train   \n",
              "3         1383349       49302                 11          1    41425    train   \n",
              "4         1787378       49302                  8          0   187205    train   \n",
              "...           ...         ...                ...        ...      ...      ...   \n",
              "1384612   3283540       39484                 23          1   103639    train   \n",
              "1384613   3339757       24892                  1          1   157916    train   \n",
              "1384614   3343813       24892                  9          0    43638    train   \n",
              "1384615   3343813       27290                 10          0    43638    train   \n",
              "1384616   3406152       20143                  5          0    66681    train   \n",
              "\n",
              "         order_number  order_dow  order_hour_of_day  days_since_prior_order  \\\n",
              "0                   4          4                 10                     9.0   \n",
              "1                  14          4                  6                    16.0   \n",
              "2                  15          0                  7                     7.0   \n",
              "3                   4          3                  8                    14.0   \n",
              "4                   5          4                 14                    30.0   \n",
              "...               ...        ...                ...                     ...   \n",
              "1384612             7          0                 20                     6.0   \n",
              "1384613             4          2                  6                    22.0   \n",
              "1384614            10          2                 15                    22.0   \n",
              "1384615            10          2                 15                    22.0   \n",
              "1384616             8          6                  8                     3.0   \n",
              "\n",
              "                                              product_name  aisle_id  \\\n",
              "0                                         Bulgarian Yogurt       120   \n",
              "1                                         Bulgarian Yogurt       120   \n",
              "2                                         Bulgarian Yogurt       120   \n",
              "3                                         Bulgarian Yogurt       120   \n",
              "4                                         Bulgarian Yogurt       120   \n",
              "...                                                    ...       ...   \n",
              "1384612              Sliced Turkey Feast in Gravy Cat Food        41   \n",
              "1384613                 Wild Mackerel & Whitefish Cat Food        41   \n",
              "1384614                 Wild Mackerel & Whitefish Cat Food        41   \n",
              "1384615  Purrfect Delicacies Wet Cat Food Flaked Oceanf...        41   \n",
              "1384616  Savory Shreds with Turkey & Giblets in Gravy C...        41   \n",
              "\n",
              "         department_id          aisle  department  \n",
              "0                   16         yogurt  dairy eggs  \n",
              "1                   16         yogurt  dairy eggs  \n",
              "2                   16         yogurt  dairy eggs  \n",
              "3                   16         yogurt  dairy eggs  \n",
              "4                   16         yogurt  dairy eggs  \n",
              "...                ...            ...         ...  \n",
              "1384612              8  cat food care        pets  \n",
              "1384613              8  cat food care        pets  \n",
              "1384614              8  cat food care        pets  \n",
              "1384615              8  cat food care        pets  \n",
              "1384616              8  cat food care        pets  \n",
              "\n",
              "[1384617 rows x 15 columns]"
            ],
            "text/html": [
              "\n",
              "  <div id=\"df-97dd32e6-3c68-4460-ad77-8cffdf12d1cc\">\n",
              "    <div class=\"colab-df-container\">\n",
              "      <div>\n",
              "<style scoped>\n",
              "    .dataframe tbody tr th:only-of-type {\n",
              "        vertical-align: middle;\n",
              "    }\n",
              "\n",
              "    .dataframe tbody tr th {\n",
              "        vertical-align: top;\n",
              "    }\n",
              "\n",
              "    .dataframe thead th {\n",
              "        text-align: right;\n",
              "    }\n",
              "</style>\n",
              "<table border=\"1\" class=\"dataframe\">\n",
              "  <thead>\n",
              "    <tr style=\"text-align: right;\">\n",
              "      <th></th>\n",
              "      <th>order_id</th>\n",
              "      <th>product_id</th>\n",
              "      <th>add_to_cart_order</th>\n",
              "      <th>reordered</th>\n",
              "      <th>user_id</th>\n",
              "      <th>eval_set</th>\n",
              "      <th>order_number</th>\n",
              "      <th>order_dow</th>\n",
              "      <th>order_hour_of_day</th>\n",
              "      <th>days_since_prior_order</th>\n",
              "      <th>product_name</th>\n",
              "      <th>aisle_id</th>\n",
              "      <th>department_id</th>\n",
              "      <th>aisle</th>\n",
              "      <th>department</th>\n",
              "    </tr>\n",
              "  </thead>\n",
              "  <tbody>\n",
              "    <tr>\n",
              "      <th>0</th>\n",
              "      <td>1</td>\n",
              "      <td>49302</td>\n",
              "      <td>1</td>\n",
              "      <td>1</td>\n",
              "      <td>112108</td>\n",
              "      <td>train</td>\n",
              "      <td>4</td>\n",
              "      <td>4</td>\n",
              "      <td>10</td>\n",
              "      <td>9.0</td>\n",
              "      <td>Bulgarian Yogurt</td>\n",
              "      <td>120</td>\n",
              "      <td>16</td>\n",
              "      <td>yogurt</td>\n",
              "      <td>dairy eggs</td>\n",
              "    </tr>\n",
              "    <tr>\n",
              "      <th>1</th>\n",
              "      <td>816049</td>\n",
              "      <td>49302</td>\n",
              "      <td>7</td>\n",
              "      <td>1</td>\n",
              "      <td>47901</td>\n",
              "      <td>train</td>\n",
              "      <td>14</td>\n",
              "      <td>4</td>\n",
              "      <td>6</td>\n",
              "      <td>16.0</td>\n",
              "      <td>Bulgarian Yogurt</td>\n",
              "      <td>120</td>\n",
              "      <td>16</td>\n",
              "      <td>yogurt</td>\n",
              "      <td>dairy eggs</td>\n",
              "    </tr>\n",
              "    <tr>\n",
              "      <th>2</th>\n",
              "      <td>1242203</td>\n",
              "      <td>49302</td>\n",
              "      <td>1</td>\n",
              "      <td>1</td>\n",
              "      <td>2993</td>\n",
              "      <td>train</td>\n",
              "      <td>15</td>\n",
              "      <td>0</td>\n",
              "      <td>7</td>\n",
              "      <td>7.0</td>\n",
              "      <td>Bulgarian Yogurt</td>\n",
              "      <td>120</td>\n",
              "      <td>16</td>\n",
              "      <td>yogurt</td>\n",
              "      <td>dairy eggs</td>\n",
              "    </tr>\n",
              "    <tr>\n",
              "      <th>3</th>\n",
              "      <td>1383349</td>\n",
              "      <td>49302</td>\n",
              "      <td>11</td>\n",
              "      <td>1</td>\n",
              "      <td>41425</td>\n",
              "      <td>train</td>\n",
              "      <td>4</td>\n",
              "      <td>3</td>\n",
              "      <td>8</td>\n",
              "      <td>14.0</td>\n",
              "      <td>Bulgarian Yogurt</td>\n",
              "      <td>120</td>\n",
              "      <td>16</td>\n",
              "      <td>yogurt</td>\n",
              "      <td>dairy eggs</td>\n",
              "    </tr>\n",
              "    <tr>\n",
              "      <th>4</th>\n",
              "      <td>1787378</td>\n",
              "      <td>49302</td>\n",
              "      <td>8</td>\n",
              "      <td>0</td>\n",
              "      <td>187205</td>\n",
              "      <td>train</td>\n",
              "      <td>5</td>\n",
              "      <td>4</td>\n",
              "      <td>14</td>\n",
              "      <td>30.0</td>\n",
              "      <td>Bulgarian Yogurt</td>\n",
              "      <td>120</td>\n",
              "      <td>16</td>\n",
              "      <td>yogurt</td>\n",
              "      <td>dairy eggs</td>\n",
              "    </tr>\n",
              "    <tr>\n",
              "      <th>...</th>\n",
              "      <td>...</td>\n",
              "      <td>...</td>\n",
              "      <td>...</td>\n",
              "      <td>...</td>\n",
              "      <td>...</td>\n",
              "      <td>...</td>\n",
              "      <td>...</td>\n",
              "      <td>...</td>\n",
              "      <td>...</td>\n",
              "      <td>...</td>\n",
              "      <td>...</td>\n",
              "      <td>...</td>\n",
              "      <td>...</td>\n",
              "      <td>...</td>\n",
              "      <td>...</td>\n",
              "    </tr>\n",
              "    <tr>\n",
              "      <th>1384612</th>\n",
              "      <td>3283540</td>\n",
              "      <td>39484</td>\n",
              "      <td>23</td>\n",
              "      <td>1</td>\n",
              "      <td>103639</td>\n",
              "      <td>train</td>\n",
              "      <td>7</td>\n",
              "      <td>0</td>\n",
              "      <td>20</td>\n",
              "      <td>6.0</td>\n",
              "      <td>Sliced Turkey Feast in Gravy Cat Food</td>\n",
              "      <td>41</td>\n",
              "      <td>8</td>\n",
              "      <td>cat food care</td>\n",
              "      <td>pets</td>\n",
              "    </tr>\n",
              "    <tr>\n",
              "      <th>1384613</th>\n",
              "      <td>3339757</td>\n",
              "      <td>24892</td>\n",
              "      <td>1</td>\n",
              "      <td>1</td>\n",
              "      <td>157916</td>\n",
              "      <td>train</td>\n",
              "      <td>4</td>\n",
              "      <td>2</td>\n",
              "      <td>6</td>\n",
              "      <td>22.0</td>\n",
              "      <td>Wild Mackerel &amp; Whitefish Cat Food</td>\n",
              "      <td>41</td>\n",
              "      <td>8</td>\n",
              "      <td>cat food care</td>\n",
              "      <td>pets</td>\n",
              "    </tr>\n",
              "    <tr>\n",
              "      <th>1384614</th>\n",
              "      <td>3343813</td>\n",
              "      <td>24892</td>\n",
              "      <td>9</td>\n",
              "      <td>0</td>\n",
              "      <td>43638</td>\n",
              "      <td>train</td>\n",
              "      <td>10</td>\n",
              "      <td>2</td>\n",
              "      <td>15</td>\n",
              "      <td>22.0</td>\n",
              "      <td>Wild Mackerel &amp; Whitefish Cat Food</td>\n",
              "      <td>41</td>\n",
              "      <td>8</td>\n",
              "      <td>cat food care</td>\n",
              "      <td>pets</td>\n",
              "    </tr>\n",
              "    <tr>\n",
              "      <th>1384615</th>\n",
              "      <td>3343813</td>\n",
              "      <td>27290</td>\n",
              "      <td>10</td>\n",
              "      <td>0</td>\n",
              "      <td>43638</td>\n",
              "      <td>train</td>\n",
              "      <td>10</td>\n",
              "      <td>2</td>\n",
              "      <td>15</td>\n",
              "      <td>22.0</td>\n",
              "      <td>Purrfect Delicacies Wet Cat Food Flaked Oceanf...</td>\n",
              "      <td>41</td>\n",
              "      <td>8</td>\n",
              "      <td>cat food care</td>\n",
              "      <td>pets</td>\n",
              "    </tr>\n",
              "    <tr>\n",
              "      <th>1384616</th>\n",
              "      <td>3406152</td>\n",
              "      <td>20143</td>\n",
              "      <td>5</td>\n",
              "      <td>0</td>\n",
              "      <td>66681</td>\n",
              "      <td>train</td>\n",
              "      <td>8</td>\n",
              "      <td>6</td>\n",
              "      <td>8</td>\n",
              "      <td>3.0</td>\n",
              "      <td>Savory Shreds with Turkey &amp; Giblets in Gravy C...</td>\n",
              "      <td>41</td>\n",
              "      <td>8</td>\n",
              "      <td>cat food care</td>\n",
              "      <td>pets</td>\n",
              "    </tr>\n",
              "  </tbody>\n",
              "</table>\n",
              "<p>1384617 rows × 15 columns</p>\n",
              "</div>\n",
              "      <button class=\"colab-df-convert\" onclick=\"convertToInteractive('df-97dd32e6-3c68-4460-ad77-8cffdf12d1cc')\"\n",
              "              title=\"Convert this dataframe to an interactive table.\"\n",
              "              style=\"display:none;\">\n",
              "        \n",
              "  <svg xmlns=\"http://www.w3.org/2000/svg\" height=\"24px\"viewBox=\"0 0 24 24\"\n",
              "       width=\"24px\">\n",
              "    <path d=\"M0 0h24v24H0V0z\" fill=\"none\"/>\n",
              "    <path d=\"M18.56 5.44l.94 2.06.94-2.06 2.06-.94-2.06-.94-.94-2.06-.94 2.06-2.06.94zm-11 1L8.5 8.5l.94-2.06 2.06-.94-2.06-.94L8.5 2.5l-.94 2.06-2.06.94zm10 10l.94 2.06.94-2.06 2.06-.94-2.06-.94-.94-2.06-.94 2.06-2.06.94z\"/><path d=\"M17.41 7.96l-1.37-1.37c-.4-.4-.92-.59-1.43-.59-.52 0-1.04.2-1.43.59L10.3 9.45l-7.72 7.72c-.78.78-.78 2.05 0 2.83L4 21.41c.39.39.9.59 1.41.59.51 0 1.02-.2 1.41-.59l7.78-7.78 2.81-2.81c.8-.78.8-2.07 0-2.86zM5.41 20L4 18.59l7.72-7.72 1.47 1.35L5.41 20z\"/>\n",
              "  </svg>\n",
              "      </button>\n",
              "      \n",
              "  <style>\n",
              "    .colab-df-container {\n",
              "      display:flex;\n",
              "      flex-wrap:wrap;\n",
              "      gap: 12px;\n",
              "    }\n",
              "\n",
              "    .colab-df-convert {\n",
              "      background-color: #E8F0FE;\n",
              "      border: none;\n",
              "      border-radius: 50%;\n",
              "      cursor: pointer;\n",
              "      display: none;\n",
              "      fill: #1967D2;\n",
              "      height: 32px;\n",
              "      padding: 0 0 0 0;\n",
              "      width: 32px;\n",
              "    }\n",
              "\n",
              "    .colab-df-convert:hover {\n",
              "      background-color: #E2EBFA;\n",
              "      box-shadow: 0px 1px 2px rgba(60, 64, 67, 0.3), 0px 1px 3px 1px rgba(60, 64, 67, 0.15);\n",
              "      fill: #174EA6;\n",
              "    }\n",
              "\n",
              "    [theme=dark] .colab-df-convert {\n",
              "      background-color: #3B4455;\n",
              "      fill: #D2E3FC;\n",
              "    }\n",
              "\n",
              "    [theme=dark] .colab-df-convert:hover {\n",
              "      background-color: #434B5C;\n",
              "      box-shadow: 0px 1px 3px 1px rgba(0, 0, 0, 0.15);\n",
              "      filter: drop-shadow(0px 1px 2px rgba(0, 0, 0, 0.3));\n",
              "      fill: #FFFFFF;\n",
              "    }\n",
              "  </style>\n",
              "\n",
              "      <script>\n",
              "        const buttonEl =\n",
              "          document.querySelector('#df-97dd32e6-3c68-4460-ad77-8cffdf12d1cc button.colab-df-convert');\n",
              "        buttonEl.style.display =\n",
              "          google.colab.kernel.accessAllowed ? 'block' : 'none';\n",
              "\n",
              "        async function convertToInteractive(key) {\n",
              "          const element = document.querySelector('#df-97dd32e6-3c68-4460-ad77-8cffdf12d1cc');\n",
              "          const dataTable =\n",
              "            await google.colab.kernel.invokeFunction('convertToInteractive',\n",
              "                                                     [key], {});\n",
              "          if (!dataTable) return;\n",
              "\n",
              "          const docLinkHtml = 'Like what you see? Visit the ' +\n",
              "            '<a target=\"_blank\" href=https://colab.research.google.com/notebooks/data_table.ipynb>data table notebook</a>'\n",
              "            + ' to learn more about interactive tables.';\n",
              "          element.innerHTML = '';\n",
              "          dataTable['output_type'] = 'display_data';\n",
              "          await google.colab.output.renderOutput(dataTable, element);\n",
              "          const docLink = document.createElement('div');\n",
              "          docLink.innerHTML = docLinkHtml;\n",
              "          element.appendChild(docLink);\n",
              "        }\n",
              "      </script>\n",
              "    </div>\n",
              "  </div>\n",
              "  "
            ]
          },
          "metadata": {},
          "execution_count": 12
        }
      ]
    },
    {
      "cell_type": "code",
      "source": [
        "# 그래프분석에 사용할 데이터 만들기\n",
        "df_graph = full_data[['order_id', 'user_id','product_name','aisle','department','order_number','reordered','order_dow','days_since_prior_order']]"
      ],
      "metadata": {
        "id": "Ik-UJdOZqDUU"
      },
      "execution_count": null,
      "outputs": []
    },
    {
      "cell_type": "code",
      "source": [
        "# 컬럼명 변경\n",
        "def df_rename(data):\n",
        "    data.columns = ['주문번호','유저','제품','소분류','대분류','누적주문','재주문','요일','주문텀']\n",
        "    return data"
      ],
      "metadata": {
        "id": "FB8Llhu-3sDw"
      },
      "execution_count": null,
      "outputs": []
    },
    {
      "cell_type": "code",
      "source": [
        "df_graph = df_rename(df_graph)\n",
        "df_graph = df_graph.sort_values(by='주문번호',ignore_index=True)"
      ],
      "metadata": {
        "id": "XC_tCP0o3x3a"
      },
      "execution_count": null,
      "outputs": []
    },
    {
      "cell_type": "code",
      "source": [
        "# CSV로 저장\n",
        "# df_graph.to_csv('file.csv',index=False)"
      ],
      "metadata": {
        "id": "jYtb-1APJpVn"
      },
      "execution_count": null,
      "outputs": []
    },
    {
      "cell_type": "markdown",
      "source": [
        "#### 분석"
      ],
      "metadata": {
        "id": "6Y36hPserqLw"
      }
    },
    {
      "cell_type": "code",
      "source": [
        "df_graph.groupby('제품')['주문텀'].max().sort_values(ascending=False).dropna()"
      ],
      "metadata": {
        "colab": {
          "base_uri": "https://localhost:8080/"
        },
        "id": "DJmB0FeXlJzf",
        "outputId": "09e7b6bb-fdee-43a7-8c95-3e266af0053e"
      },
      "execution_count": null,
      "outputs": [
        {
          "output_type": "execute_result",
          "data": {
            "text/plain": [
              "제품\n",
              "#2 Coffee Filters                                        30.0\n",
              "Organic Lowatf Plain Yogurt                              30.0\n",
              "Organic Mandarins                                        30.0\n",
              "Organic Maitake Mushrooms                                30.0\n",
              "Organic Magnolia and Poppy Scented Glass Cleaner         30.0\n",
              "                                                         ... \n",
              "Aromafier Diffuser, Grey                                  0.0\n",
              "Medium Picture Hanging Strips                             0.0\n",
              "Hershey's Chocolate/Strawberry                            0.0\n",
              "Gallon Size Single Slide Storage Bags                     0.0\n",
              "Dairy Free 5X Protein Almond Plus Vanilla Almond Milk     0.0\n",
              "Name: 주문텀, Length: 39123, dtype: float64"
            ]
          },
          "metadata": {},
          "execution_count": 17
        }
      ]
    },
    {
      "cell_type": "code",
      "source": [
        "# 대분류 순위\n",
        "df_graph['대분류'].value_counts(normalize=True)"
      ],
      "metadata": {
        "id": "F7tLdFsjSrIo",
        "colab": {
          "base_uri": "https://localhost:8080/"
        },
        "outputId": "fc26d2d0-e3f6-4b09-ed41-1f3ce5246b2d"
      },
      "execution_count": null,
      "outputs": [
        {
          "output_type": "execute_result",
          "data": {
            "text/plain": [
              "produce            0.295451\n",
              "dairy eggs         0.156759\n",
              "snacks             0.085845\n",
              "beverages          0.082366\n",
              "frozen             0.072530\n",
              "pantry             0.058675\n",
              "bakery             0.034951\n",
              "canned goods       0.033799\n",
              "deli               0.031988\n",
              "dry goods pasta    0.027959\n",
              "household          0.025990\n",
              "meat seafood       0.021888\n",
              "breakfast          0.021306\n",
              "personal care      0.015578\n",
              "babies             0.010791\n",
              "international      0.008596\n",
              "missing            0.005959\n",
              "alcohol            0.004043\n",
              "pets               0.003248\n",
              "other              0.001296\n",
              "bulk               0.000981\n",
              "Name: 대분류, dtype: float64"
            ]
          },
          "metadata": {},
          "execution_count": 18
        }
      ]
    },
    {
      "cell_type": "code",
      "source": [
        "count_depart = df_graph['대분류'].value_counts()\n",
        "count_depart = count_depart.to_frame()\n",
        "count_depart.reset_index(inplace=True)\n",
        "count_depart.columns = ['대분류','개수']"
      ],
      "metadata": {
        "id": "91w0vEwvd8AD"
      },
      "execution_count": null,
      "outputs": []
    },
    {
      "cell_type": "code",
      "source": [
        "plt.rc('font', size= 15, family='NanumBarunGothic')\n",
        "plt.rc('xtick',labelsize=12)\n",
        "\n",
        "plt.figure(figsize =(12,8))\n",
        "sns.barplot(data=count_depart[:10],x='대분류',y='개수')\n",
        "\n",
        "plt.show()"
      ],
      "metadata": {
        "id": "VR-mbv8werR8",
        "colab": {
          "base_uri": "https://localhost:8080/",
          "height": 505
        },
        "outputId": "4e7d2127-3d52-4bc0-ae9a-d8159e0aa868"
      },
      "execution_count": null,
      "outputs": [
        {
          "output_type": "display_data",
          "data": {
            "text/plain": [
              "<Figure size 864x576 with 1 Axes>"
            ],
            "image/png": "[encoded data removed]"
          },
          "metadata": {
            "needs_background": "light"
          }
        }
      ]
    },
    {
      "cell_type": "code",
      "source": [
        "# 대분류 produce의 제품목록\n",
        "df_graph[df_graph['대분류']=='produce']['제품'].value_counts()"
      ],
      "metadata": {
        "id": "8Llem3cSTJ9T",
        "colab": {
          "base_uri": "https://localhost:8080/"
        },
        "outputId": "5bda5397-41e9-4c4e-d554-e840724dceb3"
      },
      "execution_count": null,
      "outputs": [
        {
          "output_type": "execute_result",
          "data": {
            "text/plain": [
              "Banana                                              18726\n",
              "Bag of Organic Bananas                              15480\n",
              "Organic Strawberries                                10894\n",
              "Organic Baby Spinach                                 9784\n",
              "Large Lemon                                          8135\n",
              "                                                    ...  \n",
              "Mamey                                                   1\n",
              "Fresh Sweet Corn                                        1\n",
              "Curly Mustard Greens Bunch                              1\n",
              "Junami Apple                                            1\n",
              "Baby Food Blueberry, Parsnip & Buckwheat Stage 2        1\n",
              "Name: 제품, Length: 1533, dtype: int64"
            ]
          },
          "metadata": {},
          "execution_count": 21
        }
      ]
    },
    {
      "cell_type": "code",
      "source": [
        "df_graph.groupby(['요일','대분류'])['유저'].count().loc[0]"
      ],
      "metadata": {
        "id": "OHywSQEPiRaX",
        "colab": {
          "base_uri": "https://localhost:8080/"
        },
        "outputId": "273e9c26-f7b3-4f12-83d5-8c1835133ec1"
      },
      "execution_count": null,
      "outputs": [
        {
          "output_type": "execute_result",
          "data": {
            "text/plain": [
              "대분류\n",
              "alcohol               713\n",
              "babies               3486\n",
              "bakery              11237\n",
              "beverages           22561\n",
              "breakfast            6619\n",
              "bulk                  307\n",
              "canned goods        11656\n",
              "dairy eggs          50756\n",
              "deli                10589\n",
              "dry goods pasta      9505\n",
              "frozen              23033\n",
              "household            7453\n",
              "international        2995\n",
              "meat seafood         7804\n",
              "missing              2042\n",
              "other                 373\n",
              "pantry              18386\n",
              "personal care        4685\n",
              "pets                  888\n",
              "produce            104085\n",
              "snacks              24853\n",
              "Name: 유저, dtype: int64"
            ]
          },
          "metadata": {},
          "execution_count": 22
        }
      ]
    },
    {
      "cell_type": "code",
      "source": [
        "product_count = df_graph['제품'].value_counts()\n",
        "product_count"
      ],
      "metadata": {
        "id": "hESwpYLmR6vJ",
        "colab": {
          "base_uri": "https://localhost:8080/"
        },
        "outputId": "b5f35d31-0f28-4e92-b111-c00cf7b4e6f9"
      },
      "execution_count": null,
      "outputs": [
        {
          "output_type": "execute_result",
          "data": {
            "text/plain": [
              "Banana                                                               18726\n",
              "Bag of Organic Bananas                                               15480\n",
              "Organic Strawberries                                                 10894\n",
              "Organic Baby Spinach                                                  9784\n",
              "Large Lemon                                                           8135\n",
              "                                                                     ...  \n",
              "Almond Stuffed Green Olives                                              1\n",
              "Petite Creme Lowfat Strawberry Yogurt                                    1\n",
              "Organic Petite Creme Mon Cherry Amour Yogurt                             1\n",
              "Greek 100 Calories Whips! Peaches 'n Cream Fat Free Yogurt Mousse        1\n",
              "Plain Golden Toasted Bread Crumbs                                        1\n",
              "Name: 제품, Length: 39123, dtype: int64"
            ]
          },
          "metadata": {},
          "execution_count": 23
        }
      ]
    },
    {
      "cell_type": "code",
      "source": [
        "top_5 = product_count[:5].to_frame().reset_index()"
      ],
      "metadata": {
        "id": "y2ttBUfqUmV3"
      },
      "execution_count": null,
      "outputs": []
    },
    {
      "cell_type": "code",
      "source": [
        "top_5.rename(columns={'index':'제품명'},inplace=True)"
      ],
      "metadata": {
        "id": "_CMI__QSbi5v"
      },
      "execution_count": null,
      "outputs": []
    },
    {
      "cell_type": "code",
      "source": [
        "plt.figure(figsize=(10,7))\n",
        "sns.barplot(data = top_5, x='제품명',y='제품')\n",
        "plt.show()"
      ],
      "metadata": {
        "id": "fZxi4MzAS_IF",
        "colab": {
          "base_uri": "https://localhost:8080/",
          "height": 451
        },
        "outputId": "b4a34d48-204e-41f5-ad79-0658c3ec91cd"
      },
      "execution_count": null,
      "outputs": [
        {
          "output_type": "display_data",
          "data": {
            "text/plain": [
              "<Figure size 720x504 with 1 Axes>"
            ],
            "image/png": "[encoded data removed]"
          },
          "metadata": {
            "needs_background": "light"
          }
        }
      ]
    },
    {
      "cell_type": "code",
      "source": [
        "# 재주문이 많은 제품 top20\n",
        "df_graph.groupby('제품')['재주문'].sum().sort_values(ascending=False).head(20)"
      ],
      "metadata": {
        "id": "ZuhBFbfhU2XI",
        "colab": {
          "base_uri": "https://localhost:8080/"
        },
        "outputId": "9a81ced0-60f7-4d21-c0c1-c11ec762708c"
      },
      "execution_count": null,
      "outputs": [
        {
          "output_type": "execute_result",
          "data": {
            "text/plain": [
              "제품\n",
              "Banana                        16557\n",
              "Bag of Organic Bananas        13362\n",
              "Organic Strawberries           8603\n",
              "Organic Baby Spinach           8055\n",
              "Organic Avocado                6226\n",
              "Organic Hass Avocado           6042\n",
              "Large Lemon                    5923\n",
              "Strawberries                   4786\n",
              "Organic Raspberries            4279\n",
              "Limes                          4234\n",
              "Organic Whole Milk             4174\n",
              "Organic Blueberries            3384\n",
              "Organic Zucchini               3266\n",
              "Organic Yellow Onion           3094\n",
              "Organic Garlic                 3041\n",
              "Organic Cucumber               3007\n",
              "Seedless Red Grapes            2869\n",
              "Organic Grape Tomatoes         2727\n",
              "Sparkling Water Grapefruit     2662\n",
              "Honeycrisp Apple               2655\n",
              "Name: 재주문, dtype: int64"
            ]
          },
          "metadata": {},
          "execution_count": 27
        }
      ]
    },
    {
      "cell_type": "code",
      "source": [
        "df_graph['소분류'].value_counts(normalize=True)"
      ],
      "metadata": {
        "id": "J-UNcTabSz6d",
        "colab": {
          "base_uri": "https://localhost:8080/"
        },
        "outputId": "d7733f13-16a9-4705-ee9d-9411bfd2b204"
      },
      "execution_count": null,
      "outputs": [
        {
          "output_type": "execute_result",
          "data": {
            "text/plain": [
              "fresh vegetables              0.108773\n",
              "fresh fruits                  0.108675\n",
              "packaged vegetables fruits    0.056689\n",
              "yogurt                        0.039896\n",
              "packaged cheese               0.030116\n",
              "                                ...   \n",
              "kitchen supplies              0.000324\n",
              "baby bath body care           0.000237\n",
              "baby accessories              0.000221\n",
              "frozen juice                  0.000212\n",
              "beauty                        0.000207\n",
              "Name: 소분류, Length: 134, dtype: float64"
            ]
          },
          "metadata": {},
          "execution_count": 28
        }
      ]
    },
    {
      "cell_type": "code",
      "source": [
        "df_days = df_graph.groupby('요일')['유저'].count()\n",
        "df_days = df_days.to_frame()\n",
        "df_days.reset_index(inplace=True)\n",
        "df_days"
      ],
      "metadata": {
        "id": "HSnfiazmWz8C",
        "colab": {
          "base_uri": "https://localhost:8080/",
          "height": 269
        },
        "outputId": "d6f99502-40e2-4aad-fae4-c420da07db74"
      },
      "execution_count": null,
      "outputs": [
        {
          "output_type": "execute_result",
          "data": {
            "text/plain": [
              "   요일      유저\n",
              "0   0  324026\n",
              "1   1  205978\n",
              "2   2  160562\n",
              "3   3  154381\n",
              "4   4  155481\n",
              "5   5  176910\n",
              "6   6  207279"
            ],
            "text/html": [
              "\n",
              "  <div id=\"df-af77ef00-bea6-4f9e-bb5a-c4036319fdf2\">\n",
              "    <div class=\"colab-df-container\">\n",
              "      <div>\n",
              "<style scoped>\n",
              "    .dataframe tbody tr th:only-of-type {\n",
              "        vertical-align: middle;\n",
              "    }\n",
              "\n",
              "    .dataframe tbody tr th {\n",
              "        vertical-align: top;\n",
              "    }\n",
              "\n",
              "    .dataframe thead th {\n",
              "        text-align: right;\n",
              "    }\n",
              "</style>\n",
              "<table border=\"1\" class=\"dataframe\">\n",
              "  <thead>\n",
              "    <tr style=\"text-align: right;\">\n",
              "      <th></th>\n",
              "      <th>요일</th>\n",
              "      <th>유저</th>\n",
              "    </tr>\n",
              "  </thead>\n",
              "  <tbody>\n",
              "    <tr>\n",
              "      <th>0</th>\n",
              "      <td>0</td>\n",
              "      <td>324026</td>\n",
              "    </tr>\n",
              "    <tr>\n",
              "      <th>1</th>\n",
              "      <td>1</td>\n",
              "      <td>205978</td>\n",
              "    </tr>\n",
              "    <tr>\n",
              "      <th>2</th>\n",
              "      <td>2</td>\n",
              "      <td>160562</td>\n",
              "    </tr>\n",
              "    <tr>\n",
              "      <th>3</th>\n",
              "      <td>3</td>\n",
              "      <td>154381</td>\n",
              "    </tr>\n",
              "    <tr>\n",
              "      <th>4</th>\n",
              "      <td>4</td>\n",
              "      <td>155481</td>\n",
              "    </tr>\n",
              "    <tr>\n",
              "      <th>5</th>\n",
              "      <td>5</td>\n",
              "      <td>176910</td>\n",
              "    </tr>\n",
              "    <tr>\n",
              "      <th>6</th>\n",
              "      <td>6</td>\n",
              "      <td>207279</td>\n",
              "    </tr>\n",
              "  </tbody>\n",
              "</table>\n",
              "</div>\n",
              "      <button class=\"colab-df-convert\" onclick=\"convertToInteractive('df-af77ef00-bea6-4f9e-bb5a-c4036319fdf2')\"\n",
              "              title=\"Convert this dataframe to an interactive table.\"\n",
              "              style=\"display:none;\">\n",
              "        \n",
              "  <svg xmlns=\"http://www.w3.org/2000/svg\" height=\"24px\"viewBox=\"0 0 24 24\"\n",
              "       width=\"24px\">\n",
              "    <path d=\"M0 0h24v24H0V0z\" fill=\"none\"/>\n",
              "    <path d=\"M18.56 5.44l.94 2.06.94-2.06 2.06-.94-2.06-.94-.94-2.06-.94 2.06-2.06.94zm-11 1L8.5 8.5l.94-2.06 2.06-.94-2.06-.94L8.5 2.5l-.94 2.06-2.06.94zm10 10l.94 2.06.94-2.06 2.06-.94-2.06-.94-.94-2.06-.94 2.06-2.06.94z\"/><path d=\"M17.41 7.96l-1.37-1.37c-.4-.4-.92-.59-1.43-.59-.52 0-1.04.2-1.43.59L10.3 9.45l-7.72 7.72c-.78.78-.78 2.05 0 2.83L4 21.41c.39.39.9.59 1.41.59.51 0 1.02-.2 1.41-.59l7.78-7.78 2.81-2.81c.8-.78.8-2.07 0-2.86zM5.41 20L4 18.59l7.72-7.72 1.47 1.35L5.41 20z\"/>\n",
              "  </svg>\n",
              "      </button>\n",
              "      \n",
              "  <style>\n",
              "    .colab-df-container {\n",
              "      display:flex;\n",
              "      flex-wrap:wrap;\n",
              "      gap: 12px;\n",
              "    }\n",
              "\n",
              "    .colab-df-convert {\n",
              "      background-color: #E8F0FE;\n",
              "      border: none;\n",
              "      border-radius: 50%;\n",
              "      cursor: pointer;\n",
              "      display: none;\n",
              "      fill: #1967D2;\n",
              "      height: 32px;\n",
              "      padding: 0 0 0 0;\n",
              "      width: 32px;\n",
              "    }\n",
              "\n",
              "    .colab-df-convert:hover {\n",
              "      background-color: #E2EBFA;\n",
              "      box-shadow: 0px 1px 2px rgba(60, 64, 67, 0.3), 0px 1px 3px 1px rgba(60, 64, 67, 0.15);\n",
              "      fill: #174EA6;\n",
              "    }\n",
              "\n",
              "    [theme=dark] .colab-df-convert {\n",
              "      background-color: #3B4455;\n",
              "      fill: #D2E3FC;\n",
              "    }\n",
              "\n",
              "    [theme=dark] .colab-df-convert:hover {\n",
              "      background-color: #434B5C;\n",
              "      box-shadow: 0px 1px 3px 1px rgba(0, 0, 0, 0.15);\n",
              "      filter: drop-shadow(0px 1px 2px rgba(0, 0, 0, 0.3));\n",
              "      fill: #FFFFFF;\n",
              "    }\n",
              "  </style>\n",
              "\n",
              "      <script>\n",
              "        const buttonEl =\n",
              "          document.querySelector('#df-af77ef00-bea6-4f9e-bb5a-c4036319fdf2 button.colab-df-convert');\n",
              "        buttonEl.style.display =\n",
              "          google.colab.kernel.accessAllowed ? 'block' : 'none';\n",
              "\n",
              "        async function convertToInteractive(key) {\n",
              "          const element = document.querySelector('#df-af77ef00-bea6-4f9e-bb5a-c4036319fdf2');\n",
              "          const dataTable =\n",
              "            await google.colab.kernel.invokeFunction('convertToInteractive',\n",
              "                                                     [key], {});\n",
              "          if (!dataTable) return;\n",
              "\n",
              "          const docLinkHtml = 'Like what you see? Visit the ' +\n",
              "            '<a target=\"_blank\" href=https://colab.research.google.com/notebooks/data_table.ipynb>data table notebook</a>'\n",
              "            + ' to learn more about interactive tables.';\n",
              "          element.innerHTML = '';\n",
              "          dataTable['output_type'] = 'display_data';\n",
              "          await google.colab.output.renderOutput(dataTable, element);\n",
              "          const docLink = document.createElement('div');\n",
              "          docLink.innerHTML = docLinkHtml;\n",
              "          element.appendChild(docLink);\n",
              "        }\n",
              "      </script>\n",
              "    </div>\n",
              "  </div>\n",
              "  "
            ]
          },
          "metadata": {},
          "execution_count": 29
        }
      ]
    },
    {
      "cell_type": "code",
      "source": [
        "plt.figure(figsize=(8,6))\n",
        "sns.barplot(data = df_days, x=df_days['요일'],y= df_days['유저'] )"
      ],
      "metadata": {
        "id": "4N24nUCzWZ3A",
        "colab": {
          "base_uri": "https://localhost:8080/",
          "height": 413
        },
        "outputId": "7a6cb5b9-de01-4930-f08b-e1ab7df7e265"
      },
      "execution_count": null,
      "outputs": [
        {
          "output_type": "execute_result",
          "data": {
            "text/plain": [
              "<matplotlib.axes._subplots.AxesSubplot at 0x7f45ed7d6f70>"
            ]
          },
          "metadata": {},
          "execution_count": 30
        },
        {
          "output_type": "display_data",
          "data": {
            "text/plain": [
              "<Figure size 576x432 with 1 Axes>"
            ],
            "image/png": "[encoded data removed]"
          },
          "metadata": {
            "needs_background": "light"
          }
        }
      ]
    },
    {
      "cell_type": "code",
      "source": [
        "day_depart = df_graph.groupby('요일')['대분류'].value_counts()\n",
        "day_depart = day_depart.to_frame()\n",
        "day_depart"
      ],
      "metadata": {
        "id": "9go5R3zmX_WA",
        "colab": {
          "base_uri": "https://localhost:8080/",
          "height": 455
        },
        "outputId": "94da0f66-3498-4121-b874-be1e1236c3ab"
      },
      "execution_count": null,
      "outputs": [
        {
          "output_type": "execute_result",
          "data": {
            "text/plain": [
              "                  대분류\n",
              "요일 대분류               \n",
              "0  produce     104085\n",
              "   dairy eggs   50756\n",
              "   snacks       24853\n",
              "   frozen       23033\n",
              "   beverages    22561\n",
              "...               ...\n",
              "6  missing       1372\n",
              "   pets           816\n",
              "   alcohol        765\n",
              "   other          285\n",
              "   bulk           192\n",
              "\n",
              "[147 rows x 1 columns]"
            ],
            "text/html": [
              "\n",
              "  <div id=\"df-5743f8d1-e895-4c78-8acd-71e9951ba75d\">\n",
              "    <div class=\"colab-df-container\">\n",
              "      <div>\n",
              "<style scoped>\n",
              "    .dataframe tbody tr th:only-of-type {\n",
              "        vertical-align: middle;\n",
              "    }\n",
              "\n",
              "    .dataframe tbody tr th {\n",
              "        vertical-align: top;\n",
              "    }\n",
              "\n",
              "    .dataframe thead th {\n",
              "        text-align: right;\n",
              "    }\n",
              "</style>\n",
              "<table border=\"1\" class=\"dataframe\">\n",
              "  <thead>\n",
              "    <tr style=\"text-align: right;\">\n",
              "      <th></th>\n",
              "      <th></th>\n",
              "      <th>대분류</th>\n",
              "    </tr>\n",
              "    <tr>\n",
              "      <th>요일</th>\n",
              "      <th>대분류</th>\n",
              "      <th></th>\n",
              "    </tr>\n",
              "  </thead>\n",
              "  <tbody>\n",
              "    <tr>\n",
              "      <th rowspan=\"5\" valign=\"top\">0</th>\n",
              "      <th>produce</th>\n",
              "      <td>104085</td>\n",
              "    </tr>\n",
              "    <tr>\n",
              "      <th>dairy eggs</th>\n",
              "      <td>50756</td>\n",
              "    </tr>\n",
              "    <tr>\n",
              "      <th>snacks</th>\n",
              "      <td>24853</td>\n",
              "    </tr>\n",
              "    <tr>\n",
              "      <th>frozen</th>\n",
              "      <td>23033</td>\n",
              "    </tr>\n",
              "    <tr>\n",
              "      <th>beverages</th>\n",
              "      <td>22561</td>\n",
              "    </tr>\n",
              "    <tr>\n",
              "      <th>...</th>\n",
              "      <th>...</th>\n",
              "      <td>...</td>\n",
              "    </tr>\n",
              "    <tr>\n",
              "      <th rowspan=\"5\" valign=\"top\">6</th>\n",
              "      <th>missing</th>\n",
              "      <td>1372</td>\n",
              "    </tr>\n",
              "    <tr>\n",
              "      <th>pets</th>\n",
              "      <td>816</td>\n",
              "    </tr>\n",
              "    <tr>\n",
              "      <th>alcohol</th>\n",
              "      <td>765</td>\n",
              "    </tr>\n",
              "    <tr>\n",
              "      <th>other</th>\n",
              "      <td>285</td>\n",
              "    </tr>\n",
              "    <tr>\n",
              "      <th>bulk</th>\n",
              "      <td>192</td>\n",
              "    </tr>\n",
              "  </tbody>\n",
              "</table>\n",
              "<p>147 rows × 1 columns</p>\n",
              "</div>\n",
              "      <button class=\"colab-df-convert\" onclick=\"convertToInteractive('df-5743f8d1-e895-4c78-8acd-71e9951ba75d')\"\n",
              "              title=\"Convert this dataframe to an interactive table.\"\n",
              "              style=\"display:none;\">\n",
              "        \n",
              "  <svg xmlns=\"http://www.w3.org/2000/svg\" height=\"24px\"viewBox=\"0 0 24 24\"\n",
              "       width=\"24px\">\n",
              "    <path d=\"M0 0h24v24H0V0z\" fill=\"none\"/>\n",
              "    <path d=\"M18.56 5.44l.94 2.06.94-2.06 2.06-.94-2.06-.94-.94-2.06-.94 2.06-2.06.94zm-11 1L8.5 8.5l.94-2.06 2.06-.94-2.06-.94L8.5 2.5l-.94 2.06-2.06.94zm10 10l.94 2.06.94-2.06 2.06-.94-2.06-.94-.94-2.06-.94 2.06-2.06.94z\"/><path d=\"M17.41 7.96l-1.37-1.37c-.4-.4-.92-.59-1.43-.59-.52 0-1.04.2-1.43.59L10.3 9.45l-7.72 7.72c-.78.78-.78 2.05 0 2.83L4 21.41c.39.39.9.59 1.41.59.51 0 1.02-.2 1.41-.59l7.78-7.78 2.81-2.81c.8-.78.8-2.07 0-2.86zM5.41 20L4 18.59l7.72-7.72 1.47 1.35L5.41 20z\"/>\n",
              "  </svg>\n",
              "      </button>\n",
              "      \n",
              "  <style>\n",
              "    .colab-df-container {\n",
              "      display:flex;\n",
              "      flex-wrap:wrap;\n",
              "      gap: 12px;\n",
              "    }\n",
              "\n",
              "    .colab-df-convert {\n",
              "      background-color: #E8F0FE;\n",
              "      border: none;\n",
              "      border-radius: 50%;\n",
              "      cursor: pointer;\n",
              "      display: none;\n",
              "      fill: #1967D2;\n",
              "      height: 32px;\n",
              "      padding: 0 0 0 0;\n",
              "      width: 32px;\n",
              "    }\n",
              "\n",
              "    .colab-df-convert:hover {\n",
              "      background-color: #E2EBFA;\n",
              "      box-shadow: 0px 1px 2px rgba(60, 64, 67, 0.3), 0px 1px 3px 1px rgba(60, 64, 67, 0.15);\n",
              "      fill: #174EA6;\n",
              "    }\n",
              "\n",
              "    [theme=dark] .colab-df-convert {\n",
              "      background-color: #3B4455;\n",
              "      fill: #D2E3FC;\n",
              "    }\n",
              "\n",
              "    [theme=dark] .colab-df-convert:hover {\n",
              "      background-color: #434B5C;\n",
              "      box-shadow: 0px 1px 3px 1px rgba(0, 0, 0, 0.15);\n",
              "      filter: drop-shadow(0px 1px 2px rgba(0, 0, 0, 0.3));\n",
              "      fill: #FFFFFF;\n",
              "    }\n",
              "  </style>\n",
              "\n",
              "      <script>\n",
              "        const buttonEl =\n",
              "          document.querySelector('#df-5743f8d1-e895-4c78-8acd-71e9951ba75d button.colab-df-convert');\n",
              "        buttonEl.style.display =\n",
              "          google.colab.kernel.accessAllowed ? 'block' : 'none';\n",
              "\n",
              "        async function convertToInteractive(key) {\n",
              "          const element = document.querySelector('#df-5743f8d1-e895-4c78-8acd-71e9951ba75d');\n",
              "          const dataTable =\n",
              "            await google.colab.kernel.invokeFunction('convertToInteractive',\n",
              "                                                     [key], {});\n",
              "          if (!dataTable) return;\n",
              "\n",
              "          const docLinkHtml = 'Like what you see? Visit the ' +\n",
              "            '<a target=\"_blank\" href=https://colab.research.google.com/notebooks/data_table.ipynb>data table notebook</a>'\n",
              "            + ' to learn more about interactive tables.';\n",
              "          element.innerHTML = '';\n",
              "          dataTable['output_type'] = 'display_data';\n",
              "          await google.colab.output.renderOutput(dataTable, element);\n",
              "          const docLink = document.createElement('div');\n",
              "          docLink.innerHTML = docLinkHtml;\n",
              "          element.appendChild(docLink);\n",
              "        }\n",
              "      </script>\n",
              "    </div>\n",
              "  </div>\n",
              "  "
            ]
          },
          "metadata": {},
          "execution_count": 31
        }
      ]
    },
    {
      "cell_type": "code",
      "source": [
        "day_depart.loc[0]"
      ],
      "metadata": {
        "id": "4KFrQxMBYrDI",
        "colab": {
          "base_uri": "https://localhost:8080/",
          "height": 739
        },
        "outputId": "385a33f9-9f1b-4acf-e8d3-25b34a6daccb"
      },
      "execution_count": null,
      "outputs": [
        {
          "output_type": "execute_result",
          "data": {
            "text/plain": [
              "                    대분류\n",
              "대분류                    \n",
              "produce          104085\n",
              "dairy eggs        50756\n",
              "snacks            24853\n",
              "frozen            23033\n",
              "beverages         22561\n",
              "pantry            18386\n",
              "canned goods      11656\n",
              "bakery            11237\n",
              "deli              10589\n",
              "dry goods pasta    9505\n",
              "meat seafood       7804\n",
              "household          7453\n",
              "breakfast          6619\n",
              "personal care      4685\n",
              "babies             3486\n",
              "international      2995\n",
              "missing            2042\n",
              "pets                888\n",
              "alcohol             713\n",
              "other               373\n",
              "bulk                307"
            ],
            "text/html": [
              "\n",
              "  <div id=\"df-296e871f-18b6-4dc1-a114-88935ca7ada2\">\n",
              "    <div class=\"colab-df-container\">\n",
              "      <div>\n",
              "<style scoped>\n",
              "    .dataframe tbody tr th:only-of-type {\n",
              "        vertical-align: middle;\n",
              "    }\n",
              "\n",
              "    .dataframe tbody tr th {\n",
              "        vertical-align: top;\n",
              "    }\n",
              "\n",
              "    .dataframe thead th {\n",
              "        text-align: right;\n",
              "    }\n",
              "</style>\n",
              "<table border=\"1\" class=\"dataframe\">\n",
              "  <thead>\n",
              "    <tr style=\"text-align: right;\">\n",
              "      <th></th>\n",
              "      <th>대분류</th>\n",
              "    </tr>\n",
              "    <tr>\n",
              "      <th>대분류</th>\n",
              "      <th></th>\n",
              "    </tr>\n",
              "  </thead>\n",
              "  <tbody>\n",
              "    <tr>\n",
              "      <th>produce</th>\n",
              "      <td>104085</td>\n",
              "    </tr>\n",
              "    <tr>\n",
              "      <th>dairy eggs</th>\n",
              "      <td>50756</td>\n",
              "    </tr>\n",
              "    <tr>\n",
              "      <th>snacks</th>\n",
              "      <td>24853</td>\n",
              "    </tr>\n",
              "    <tr>\n",
              "      <th>frozen</th>\n",
              "      <td>23033</td>\n",
              "    </tr>\n",
              "    <tr>\n",
              "      <th>beverages</th>\n",
              "      <td>22561</td>\n",
              "    </tr>\n",
              "    <tr>\n",
              "      <th>pantry</th>\n",
              "      <td>18386</td>\n",
              "    </tr>\n",
              "    <tr>\n",
              "      <th>canned goods</th>\n",
              "      <td>11656</td>\n",
              "    </tr>\n",
              "    <tr>\n",
              "      <th>bakery</th>\n",
              "      <td>11237</td>\n",
              "    </tr>\n",
              "    <tr>\n",
              "      <th>deli</th>\n",
              "      <td>10589</td>\n",
              "    </tr>\n",
              "    <tr>\n",
              "      <th>dry goods pasta</th>\n",
              "      <td>9505</td>\n",
              "    </tr>\n",
              "    <tr>\n",
              "      <th>meat seafood</th>\n",
              "      <td>7804</td>\n",
              "    </tr>\n",
              "    <tr>\n",
              "      <th>household</th>\n",
              "      <td>7453</td>\n",
              "    </tr>\n",
              "    <tr>\n",
              "      <th>breakfast</th>\n",
              "      <td>6619</td>\n",
              "    </tr>\n",
              "    <tr>\n",
              "      <th>personal care</th>\n",
              "      <td>4685</td>\n",
              "    </tr>\n",
              "    <tr>\n",
              "      <th>babies</th>\n",
              "      <td>3486</td>\n",
              "    </tr>\n",
              "    <tr>\n",
              "      <th>international</th>\n",
              "      <td>2995</td>\n",
              "    </tr>\n",
              "    <tr>\n",
              "      <th>missing</th>\n",
              "      <td>2042</td>\n",
              "    </tr>\n",
              "    <tr>\n",
              "      <th>pets</th>\n",
              "      <td>888</td>\n",
              "    </tr>\n",
              "    <tr>\n",
              "      <th>alcohol</th>\n",
              "      <td>713</td>\n",
              "    </tr>\n",
              "    <tr>\n",
              "      <th>other</th>\n",
              "      <td>373</td>\n",
              "    </tr>\n",
              "    <tr>\n",
              "      <th>bulk</th>\n",
              "      <td>307</td>\n",
              "    </tr>\n",
              "  </tbody>\n",
              "</table>\n",
              "</div>\n",
              "      <button class=\"colab-df-convert\" onclick=\"convertToInteractive('df-296e871f-18b6-4dc1-a114-88935ca7ada2')\"\n",
              "              title=\"Convert this dataframe to an interactive table.\"\n",
              "              style=\"display:none;\">\n",
              "        \n",
              "  <svg xmlns=\"http://www.w3.org/2000/svg\" height=\"24px\"viewBox=\"0 0 24 24\"\n",
              "       width=\"24px\">\n",
              "    <path d=\"M0 0h24v24H0V0z\" fill=\"none\"/>\n",
              "    <path d=\"M18.56 5.44l.94 2.06.94-2.06 2.06-.94-2.06-.94-.94-2.06-.94 2.06-2.06.94zm-11 1L8.5 8.5l.94-2.06 2.06-.94-2.06-.94L8.5 2.5l-.94 2.06-2.06.94zm10 10l.94 2.06.94-2.06 2.06-.94-2.06-.94-.94-2.06-.94 2.06-2.06.94z\"/><path d=\"M17.41 7.96l-1.37-1.37c-.4-.4-.92-.59-1.43-.59-.52 0-1.04.2-1.43.59L10.3 9.45l-7.72 7.72c-.78.78-.78 2.05 0 2.83L4 21.41c.39.39.9.59 1.41.59.51 0 1.02-.2 1.41-.59l7.78-7.78 2.81-2.81c.8-.78.8-2.07 0-2.86zM5.41 20L4 18.59l7.72-7.72 1.47 1.35L5.41 20z\"/>\n",
              "  </svg>\n",
              "      </button>\n",
              "      \n",
              "  <style>\n",
              "    .colab-df-container {\n",
              "      display:flex;\n",
              "      flex-wrap:wrap;\n",
              "      gap: 12px;\n",
              "    }\n",
              "\n",
              "    .colab-df-convert {\n",
              "      background-color: #E8F0FE;\n",
              "      border: none;\n",
              "      border-radius: 50%;\n",
              "      cursor: pointer;\n",
              "      display: none;\n",
              "      fill: #1967D2;\n",
              "      height: 32px;\n",
              "      padding: 0 0 0 0;\n",
              "      width: 32px;\n",
              "    }\n",
              "\n",
              "    .colab-df-convert:hover {\n",
              "      background-color: #E2EBFA;\n",
              "      box-shadow: 0px 1px 2px rgba(60, 64, 67, 0.3), 0px 1px 3px 1px rgba(60, 64, 67, 0.15);\n",
              "      fill: #174EA6;\n",
              "    }\n",
              "\n",
              "    [theme=dark] .colab-df-convert {\n",
              "      background-color: #3B4455;\n",
              "      fill: #D2E3FC;\n",
              "    }\n",
              "\n",
              "    [theme=dark] .colab-df-convert:hover {\n",
              "      background-color: #434B5C;\n",
              "      box-shadow: 0px 1px 3px 1px rgba(0, 0, 0, 0.15);\n",
              "      filter: drop-shadow(0px 1px 2px rgba(0, 0, 0, 0.3));\n",
              "      fill: #FFFFFF;\n",
              "    }\n",
              "  </style>\n",
              "\n",
              "      <script>\n",
              "        const buttonEl =\n",
              "          document.querySelector('#df-296e871f-18b6-4dc1-a114-88935ca7ada2 button.colab-df-convert');\n",
              "        buttonEl.style.display =\n",
              "          google.colab.kernel.accessAllowed ? 'block' : 'none';\n",
              "\n",
              "        async function convertToInteractive(key) {\n",
              "          const element = document.querySelector('#df-296e871f-18b6-4dc1-a114-88935ca7ada2');\n",
              "          const dataTable =\n",
              "            await google.colab.kernel.invokeFunction('convertToInteractive',\n",
              "                                                     [key], {});\n",
              "          if (!dataTable) return;\n",
              "\n",
              "          const docLinkHtml = 'Like what you see? Visit the ' +\n",
              "            '<a target=\"_blank\" href=https://colab.research.google.com/notebooks/data_table.ipynb>data table notebook</a>'\n",
              "            + ' to learn more about interactive tables.';\n",
              "          element.innerHTML = '';\n",
              "          dataTable['output_type'] = 'display_data';\n",
              "          await google.colab.output.renderOutput(dataTable, element);\n",
              "          const docLink = document.createElement('div');\n",
              "          docLink.innerHTML = docLinkHtml;\n",
              "          element.appendChild(docLink);\n",
              "        }\n",
              "      </script>\n",
              "    </div>\n",
              "  </div>\n",
              "  "
            ]
          },
          "metadata": {},
          "execution_count": 32
        }
      ]
    },
    {
      "cell_type": "code",
      "source": [
        "day_aisles = df_graph.groupby('요일')['소분류'].value_counts()\n",
        "day_aisles = day_aisles.to_frame()\n",
        "day_aisles"
      ],
      "metadata": {
        "id": "dU3mjekPcOFF",
        "colab": {
          "base_uri": "https://localhost:8080/",
          "height": 455
        },
        "outputId": "a59e7ddb-0ba5-4fc6-a5d7-be9dae686c8a"
      },
      "execution_count": null,
      "outputs": [
        {
          "output_type": "execute_result",
          "data": {
            "text/plain": [
              "                                 소분류\n",
              "요일 소분류                              \n",
              "0  fresh vegetables            39998\n",
              "   fresh fruits                37086\n",
              "   packaged vegetables fruits  20244\n",
              "   yogurt                      13398\n",
              "   packaged cheese              9953\n",
              "...                              ...\n",
              "6  kitchen supplies               73\n",
              "   frozen juice                   52\n",
              "   baby bath body care            49\n",
              "   beauty                         49\n",
              "   baby accessories               45\n",
              "\n",
              "[938 rows x 1 columns]"
            ],
            "text/html": [
              "\n",
              "  <div id=\"df-d26d88f1-56b5-4c66-840f-faaa2d6620c8\">\n",
              "    <div class=\"colab-df-container\">\n",
              "      <div>\n",
              "<style scoped>\n",
              "    .dataframe tbody tr th:only-of-type {\n",
              "        vertical-align: middle;\n",
              "    }\n",
              "\n",
              "    .dataframe tbody tr th {\n",
              "        vertical-align: top;\n",
              "    }\n",
              "\n",
              "    .dataframe thead th {\n",
              "        text-align: right;\n",
              "    }\n",
              "</style>\n",
              "<table border=\"1\" class=\"dataframe\">\n",
              "  <thead>\n",
              "    <tr style=\"text-align: right;\">\n",
              "      <th></th>\n",
              "      <th></th>\n",
              "      <th>소분류</th>\n",
              "    </tr>\n",
              "    <tr>\n",
              "      <th>요일</th>\n",
              "      <th>소분류</th>\n",
              "      <th></th>\n",
              "    </tr>\n",
              "  </thead>\n",
              "  <tbody>\n",
              "    <tr>\n",
              "      <th rowspan=\"5\" valign=\"top\">0</th>\n",
              "      <th>fresh vegetables</th>\n",
              "      <td>39998</td>\n",
              "    </tr>\n",
              "    <tr>\n",
              "      <th>fresh fruits</th>\n",
              "      <td>37086</td>\n",
              "    </tr>\n",
              "    <tr>\n",
              "      <th>packaged vegetables fruits</th>\n",
              "      <td>20244</td>\n",
              "    </tr>\n",
              "    <tr>\n",
              "      <th>yogurt</th>\n",
              "      <td>13398</td>\n",
              "    </tr>\n",
              "    <tr>\n",
              "      <th>packaged cheese</th>\n",
              "      <td>9953</td>\n",
              "    </tr>\n",
              "    <tr>\n",
              "      <th>...</th>\n",
              "      <th>...</th>\n",
              "      <td>...</td>\n",
              "    </tr>\n",
              "    <tr>\n",
              "      <th rowspan=\"5\" valign=\"top\">6</th>\n",
              "      <th>kitchen supplies</th>\n",
              "      <td>73</td>\n",
              "    </tr>\n",
              "    <tr>\n",
              "      <th>frozen juice</th>\n",
              "      <td>52</td>\n",
              "    </tr>\n",
              "    <tr>\n",
              "      <th>baby bath body care</th>\n",
              "      <td>49</td>\n",
              "    </tr>\n",
              "    <tr>\n",
              "      <th>beauty</th>\n",
              "      <td>49</td>\n",
              "    </tr>\n",
              "    <tr>\n",
              "      <th>baby accessories</th>\n",
              "      <td>45</td>\n",
              "    </tr>\n",
              "  </tbody>\n",
              "</table>\n",
              "<p>938 rows × 1 columns</p>\n",
              "</div>\n",
              "      <button class=\"colab-df-convert\" onclick=\"convertToInteractive('df-d26d88f1-56b5-4c66-840f-faaa2d6620c8')\"\n",
              "              title=\"Convert this dataframe to an interactive table.\"\n",
              "              style=\"display:none;\">\n",
              "        \n",
              "  <svg xmlns=\"http://www.w3.org/2000/svg\" height=\"24px\"viewBox=\"0 0 24 24\"\n",
              "       width=\"24px\">\n",
              "    <path d=\"M0 0h24v24H0V0z\" fill=\"none\"/>\n",
              "    <path d=\"M18.56 5.44l.94 2.06.94-2.06 2.06-.94-2.06-.94-.94-2.06-.94 2.06-2.06.94zm-11 1L8.5 8.5l.94-2.06 2.06-.94-2.06-.94L8.5 2.5l-.94 2.06-2.06.94zm10 10l.94 2.06.94-2.06 2.06-.94-2.06-.94-.94-2.06-.94 2.06-2.06.94z\"/><path d=\"M17.41 7.96l-1.37-1.37c-.4-.4-.92-.59-1.43-.59-.52 0-1.04.2-1.43.59L10.3 9.45l-7.72 7.72c-.78.78-.78 2.05 0 2.83L4 21.41c.39.39.9.59 1.41.59.51 0 1.02-.2 1.41-.59l7.78-7.78 2.81-2.81c.8-.78.8-2.07 0-2.86zM5.41 20L4 18.59l7.72-7.72 1.47 1.35L5.41 20z\"/>\n",
              "  </svg>\n",
              "      </button>\n",
              "      \n",
              "  <style>\n",
              "    .colab-df-container {\n",
              "      display:flex;\n",
              "      flex-wrap:wrap;\n",
              "      gap: 12px;\n",
              "    }\n",
              "\n",
              "    .colab-df-convert {\n",
              "      background-color: #E8F0FE;\n",
              "      border: none;\n",
              "      border-radius: 50%;\n",
              "      cursor: pointer;\n",
              "      display: none;\n",
              "      fill: #1967D2;\n",
              "      height: 32px;\n",
              "      padding: 0 0 0 0;\n",
              "      width: 32px;\n",
              "    }\n",
              "\n",
              "    .colab-df-convert:hover {\n",
              "      background-color: #E2EBFA;\n",
              "      box-shadow: 0px 1px 2px rgba(60, 64, 67, 0.3), 0px 1px 3px 1px rgba(60, 64, 67, 0.15);\n",
              "      fill: #174EA6;\n",
              "    }\n",
              "\n",
              "    [theme=dark] .colab-df-convert {\n",
              "      background-color: #3B4455;\n",
              "      fill: #D2E3FC;\n",
              "    }\n",
              "\n",
              "    [theme=dark] .colab-df-convert:hover {\n",
              "      background-color: #434B5C;\n",
              "      box-shadow: 0px 1px 3px 1px rgba(0, 0, 0, 0.15);\n",
              "      filter: drop-shadow(0px 1px 2px rgba(0, 0, 0, 0.3));\n",
              "      fill: #FFFFFF;\n",
              "    }\n",
              "  </style>\n",
              "\n",
              "      <script>\n",
              "        const buttonEl =\n",
              "          document.querySelector('#df-d26d88f1-56b5-4c66-840f-faaa2d6620c8 button.colab-df-convert');\n",
              "        buttonEl.style.display =\n",
              "          google.colab.kernel.accessAllowed ? 'block' : 'none';\n",
              "\n",
              "        async function convertToInteractive(key) {\n",
              "          const element = document.querySelector('#df-d26d88f1-56b5-4c66-840f-faaa2d6620c8');\n",
              "          const dataTable =\n",
              "            await google.colab.kernel.invokeFunction('convertToInteractive',\n",
              "                                                     [key], {});\n",
              "          if (!dataTable) return;\n",
              "\n",
              "          const docLinkHtml = 'Like what you see? Visit the ' +\n",
              "            '<a target=\"_blank\" href=https://colab.research.google.com/notebooks/data_table.ipynb>data table notebook</a>'\n",
              "            + ' to learn more about interactive tables.';\n",
              "          element.innerHTML = '';\n",
              "          dataTable['output_type'] = 'display_data';\n",
              "          await google.colab.output.renderOutput(dataTable, element);\n",
              "          const docLink = document.createElement('div');\n",
              "          docLink.innerHTML = docLinkHtml;\n",
              "          element.appendChild(docLink);\n",
              "        }\n",
              "      </script>\n",
              "    </div>\n",
              "  </div>\n",
              "  "
            ]
          },
          "metadata": {},
          "execution_count": 33
        }
      ]
    },
    {
      "cell_type": "code",
      "source": [
        "day_aisles.loc[1]"
      ],
      "metadata": {
        "id": "b_efje0EctZg",
        "colab": {
          "base_uri": "https://localhost:8080/",
          "height": 455
        },
        "outputId": "3d833206-182e-4656-cd79-c931f07bab59"
      },
      "execution_count": null,
      "outputs": [
        {
          "output_type": "execute_result",
          "data": {
            "text/plain": [
              "                              소분류\n",
              "소분류                              \n",
              "fresh fruits                23013\n",
              "fresh vegetables            22579\n",
              "packaged vegetables fruits  11949\n",
              "yogurt                       8684\n",
              "packaged cheese              6194\n",
              "...                           ...\n",
              "baby bath body care            45\n",
              "baby accessories               41\n",
              "specialty wines champagnes     40\n",
              "frozen juice                   37\n",
              "beauty                         22\n",
              "\n",
              "[134 rows x 1 columns]"
            ],
            "text/html": [
              "\n",
              "  <div id=\"df-56ac5e05-ed93-48be-85bc-575dc9d2cdf8\">\n",
              "    <div class=\"colab-df-container\">\n",
              "      <div>\n",
              "<style scoped>\n",
              "    .dataframe tbody tr th:only-of-type {\n",
              "        vertical-align: middle;\n",
              "    }\n",
              "\n",
              "    .dataframe tbody tr th {\n",
              "        vertical-align: top;\n",
              "    }\n",
              "\n",
              "    .dataframe thead th {\n",
              "        text-align: right;\n",
              "    }\n",
              "</style>\n",
              "<table border=\"1\" class=\"dataframe\">\n",
              "  <thead>\n",
              "    <tr style=\"text-align: right;\">\n",
              "      <th></th>\n",
              "      <th>소분류</th>\n",
              "    </tr>\n",
              "    <tr>\n",
              "      <th>소분류</th>\n",
              "      <th></th>\n",
              "    </tr>\n",
              "  </thead>\n",
              "  <tbody>\n",
              "    <tr>\n",
              "      <th>fresh fruits</th>\n",
              "      <td>23013</td>\n",
              "    </tr>\n",
              "    <tr>\n",
              "      <th>fresh vegetables</th>\n",
              "      <td>22579</td>\n",
              "    </tr>\n",
              "    <tr>\n",
              "      <th>packaged vegetables fruits</th>\n",
              "      <td>11949</td>\n",
              "    </tr>\n",
              "    <tr>\n",
              "      <th>yogurt</th>\n",
              "      <td>8684</td>\n",
              "    </tr>\n",
              "    <tr>\n",
              "      <th>packaged cheese</th>\n",
              "      <td>6194</td>\n",
              "    </tr>\n",
              "    <tr>\n",
              "      <th>...</th>\n",
              "      <td>...</td>\n",
              "    </tr>\n",
              "    <tr>\n",
              "      <th>baby bath body care</th>\n",
              "      <td>45</td>\n",
              "    </tr>\n",
              "    <tr>\n",
              "      <th>baby accessories</th>\n",
              "      <td>41</td>\n",
              "    </tr>\n",
              "    <tr>\n",
              "      <th>specialty wines champagnes</th>\n",
              "      <td>40</td>\n",
              "    </tr>\n",
              "    <tr>\n",
              "      <th>frozen juice</th>\n",
              "      <td>37</td>\n",
              "    </tr>\n",
              "    <tr>\n",
              "      <th>beauty</th>\n",
              "      <td>22</td>\n",
              "    </tr>\n",
              "  </tbody>\n",
              "</table>\n",
              "<p>134 rows × 1 columns</p>\n",
              "</div>\n",
              "      <button class=\"colab-df-convert\" onclick=\"convertToInteractive('df-56ac5e05-ed93-48be-85bc-575dc9d2cdf8')\"\n",
              "              title=\"Convert this dataframe to an interactive table.\"\n",
              "              style=\"display:none;\">\n",
              "        \n",
              "  <svg xmlns=\"http://www.w3.org/2000/svg\" height=\"24px\"viewBox=\"0 0 24 24\"\n",
              "       width=\"24px\">\n",
              "    <path d=\"M0 0h24v24H0V0z\" fill=\"none\"/>\n",
              "    <path d=\"M18.56 5.44l.94 2.06.94-2.06 2.06-.94-2.06-.94-.94-2.06-.94 2.06-2.06.94zm-11 1L8.5 8.5l.94-2.06 2.06-.94-2.06-.94L8.5 2.5l-.94 2.06-2.06.94zm10 10l.94 2.06.94-2.06 2.06-.94-2.06-.94-.94-2.06-.94 2.06-2.06.94z\"/><path d=\"M17.41 7.96l-1.37-1.37c-.4-.4-.92-.59-1.43-.59-.52 0-1.04.2-1.43.59L10.3 9.45l-7.72 7.72c-.78.78-.78 2.05 0 2.83L4 21.41c.39.39.9.59 1.41.59.51 0 1.02-.2 1.41-.59l7.78-7.78 2.81-2.81c.8-.78.8-2.07 0-2.86zM5.41 20L4 18.59l7.72-7.72 1.47 1.35L5.41 20z\"/>\n",
              "  </svg>\n",
              "      </button>\n",
              "      \n",
              "  <style>\n",
              "    .colab-df-container {\n",
              "      display:flex;\n",
              "      flex-wrap:wrap;\n",
              "      gap: 12px;\n",
              "    }\n",
              "\n",
              "    .colab-df-convert {\n",
              "      background-color: #E8F0FE;\n",
              "      border: none;\n",
              "      border-radius: 50%;\n",
              "      cursor: pointer;\n",
              "      display: none;\n",
              "      fill: #1967D2;\n",
              "      height: 32px;\n",
              "      padding: 0 0 0 0;\n",
              "      width: 32px;\n",
              "    }\n",
              "\n",
              "    .colab-df-convert:hover {\n",
              "      background-color: #E2EBFA;\n",
              "      box-shadow: 0px 1px 2px rgba(60, 64, 67, 0.3), 0px 1px 3px 1px rgba(60, 64, 67, 0.15);\n",
              "      fill: #174EA6;\n",
              "    }\n",
              "\n",
              "    [theme=dark] .colab-df-convert {\n",
              "      background-color: #3B4455;\n",
              "      fill: #D2E3FC;\n",
              "    }\n",
              "\n",
              "    [theme=dark] .colab-df-convert:hover {\n",
              "      background-color: #434B5C;\n",
              "      box-shadow: 0px 1px 3px 1px rgba(0, 0, 0, 0.15);\n",
              "      filter: drop-shadow(0px 1px 2px rgba(0, 0, 0, 0.3));\n",
              "      fill: #FFFFFF;\n",
              "    }\n",
              "  </style>\n",
              "\n",
              "      <script>\n",
              "        const buttonEl =\n",
              "          document.querySelector('#df-56ac5e05-ed93-48be-85bc-575dc9d2cdf8 button.colab-df-convert');\n",
              "        buttonEl.style.display =\n",
              "          google.colab.kernel.accessAllowed ? 'block' : 'none';\n",
              "\n",
              "        async function convertToInteractive(key) {\n",
              "          const element = document.querySelector('#df-56ac5e05-ed93-48be-85bc-575dc9d2cdf8');\n",
              "          const dataTable =\n",
              "            await google.colab.kernel.invokeFunction('convertToInteractive',\n",
              "                                                     [key], {});\n",
              "          if (!dataTable) return;\n",
              "\n",
              "          const docLinkHtml = 'Like what you see? Visit the ' +\n",
              "            '<a target=\"_blank\" href=https://colab.research.google.com/notebooks/data_table.ipynb>data table notebook</a>'\n",
              "            + ' to learn more about interactive tables.';\n",
              "          element.innerHTML = '';\n",
              "          dataTable['output_type'] = 'display_data';\n",
              "          await google.colab.output.renderOutput(dataTable, element);\n",
              "          const docLink = document.createElement('div');\n",
              "          docLink.innerHTML = docLinkHtml;\n",
              "          element.appendChild(docLink);\n",
              "        }\n",
              "      </script>\n",
              "    </div>\n",
              "  </div>\n",
              "  "
            ]
          },
          "metadata": {},
          "execution_count": 34
        }
      ]
    },
    {
      "cell_type": "markdown",
      "source": [
        "## 4) 모델링"
      ],
      "metadata": {
        "id": "gh7kGCI8hUKI"
      }
    },
    {
      "cell_type": "markdown",
      "source": [
        "### 연관규칙분석(Association Rule)"
      ],
      "metadata": {
        "id": "RfGMweD5XJ90"
      }
    },
    {
      "cell_type": "code",
      "source": [
        "# 주문번호 별 주문 리스트 나누기(한 번 주문 할 때 어떤 물건을 같이 사는지 확인하기 위해서)\n",
        "\n",
        "# 연관규칙분석을 위해 요소 비교를 하는 과정에서 시간이 오래걸려서 리스트 대신 array를 사용하였다.\n",
        "# 하나의 iterator 요소간 비교에서 zip 함수를 사용 할 수 있었다.\n",
        "# 마지막 열은 record에 append 되지 않는 점을 확인하여 if문을 하나 더 추가하여 마지막 열 추가\n",
        "\n",
        "df_array = df_graph.values # 전체 데이터를 array화 하여 계산속도 증가\n",
        "\n",
        "record = [] # 주문번호 별 주문내역리스트\n",
        "record2 =[] # 한 주문에 포함 된 내역\n",
        "\n",
        "for p1, p2 in zip(df_array, df_array[1:]): # 0과1 1과2 ... 비교하도록 for문 \n",
        "\n",
        "    if p1[0]==p2[0]:              # 주문번호가 같으면 record2에 추가\n",
        "        record2.append(p1[2])\n",
        "\n",
        "        if p1[2]==df_array[-2][2]: # 전체데이터의 마지막열에 도달하면 마지막 주문내역 record에 추가\n",
        "            record2.append(p2[2])\n",
        "            record.append(record2)\n",
        "  \n",
        "    else:\n",
        "        record2.append(p1[2])    # 주문번호가 다르면 해당 주문의 마지막 물건이다. 주문번호 마지막 목록을 record2에 추가하고\n",
        "        record.append(record2)   # 해당 주문을 그룹화한 record2를 record에 추가하고\n",
        "        record2 = []             # record2를 초기화"
      ],
      "metadata": {
        "id": "1JdMjJ0IKkjf"
      },
      "execution_count": null,
      "outputs": []
    },
    {
      "cell_type": "code",
      "source": [
        "# 같은 주문번호끼리 list\n",
        "record[0]"
      ],
      "metadata": {
        "colab": {
          "base_uri": "https://localhost:8080/"
        },
        "id": "QQyZOVhBOshv",
        "outputId": "c53f5f9d-6d7c-480f-8fe9-42696d8d7719"
      },
      "execution_count": null,
      "outputs": [
        {
          "output_type": "execute_result",
          "data": {
            "text/plain": [
              "['Bulgarian Yogurt',\n",
              " 'Lightly Smoked Sardines in Olive Oil',\n",
              " 'Organic Celery Hearts',\n",
              " 'Organic Whole String Cheese',\n",
              " 'Organic Hass Avocado',\n",
              " 'Bag of Organic Bananas',\n",
              " 'Organic 4% Milk Fat Whole Milk Cottage Cheese',\n",
              " 'Cucumber Kirby']"
            ]
          },
          "metadata": {},
          "execution_count": 36
        }
      ]
    },
    {
      "cell_type": "code",
      "source": [
        "# 위에 record 확인용\n",
        "df_graph.head(10)"
      ],
      "metadata": {
        "colab": {
          "base_uri": "https://localhost:8080/",
          "height": 459
        },
        "id": "w7oOACnOMQUH",
        "outputId": "71a4a389-35b3-47fd-cfae-86b93297ca6d"
      },
      "execution_count": null,
      "outputs": [
        {
          "output_type": "execute_result",
          "data": {
            "text/plain": [
              "   주문번호      유저                                             제품  \\\n",
              "0     1  112108                               Bulgarian Yogurt   \n",
              "1     1  112108           Lightly Smoked Sardines in Olive Oil   \n",
              "2     1  112108                          Organic Celery Hearts   \n",
              "3     1  112108                    Organic Whole String Cheese   \n",
              "4     1  112108                           Organic Hass Avocado   \n",
              "5     1  112108                         Bag of Organic Bananas   \n",
              "6     1  112108  Organic 4% Milk Fat Whole Milk Cottage Cheese   \n",
              "7     1  112108                                 Cucumber Kirby   \n",
              "8    36   79431                                      Asparagus   \n",
              "9    36   79431                  Grated Pecorino Romano Cheese   \n",
              "\n",
              "                    소분류           대분류  누적주문  재주문  요일   주문텀  \n",
              "0                yogurt    dairy eggs     4    1   4   9.0  \n",
              "1   canned meat seafood  canned goods     4    1   4   9.0  \n",
              "2      fresh vegetables       produce     4    0   4   9.0  \n",
              "3       packaged cheese    dairy eggs     4    1   4   9.0  \n",
              "4          fresh fruits       produce     4    0   4   9.0  \n",
              "5          fresh fruits       produce     4    0   4   9.0  \n",
              "6  other creams cheeses    dairy eggs     4    1   4   9.0  \n",
              "7      fresh vegetables       produce     4    0   4   9.0  \n",
              "8      fresh vegetables       produce    23    1   6  30.0  \n",
              "9     specialty cheeses    dairy eggs    23    0   6  30.0  "
            ],
            "text/html": [
              "\n",
              "  <div id=\"df-88b09bbf-dbfe-4c2f-8cda-566f438bde39\">\n",
              "    <div class=\"colab-df-container\">\n",
              "      <div>\n",
              "<style scoped>\n",
              "    .dataframe tbody tr th:only-of-type {\n",
              "        vertical-align: middle;\n",
              "    }\n",
              "\n",
              "    .dataframe tbody tr th {\n",
              "        vertical-align: top;\n",
              "    }\n",
              "\n",
              "    .dataframe thead th {\n",
              "        text-align: right;\n",
              "    }\n",
              "</style>\n",
              "<table border=\"1\" class=\"dataframe\">\n",
              "  <thead>\n",
              "    <tr style=\"text-align: right;\">\n",
              "      <th></th>\n",
              "      <th>주문번호</th>\n",
              "      <th>유저</th>\n",
              "      <th>제품</th>\n",
              "      <th>소분류</th>\n",
              "      <th>대분류</th>\n",
              "      <th>누적주문</th>\n",
              "      <th>재주문</th>\n",
              "      <th>요일</th>\n",
              "      <th>주문텀</th>\n",
              "    </tr>\n",
              "  </thead>\n",
              "  <tbody>\n",
              "    <tr>\n",
              "      <th>0</th>\n",
              "      <td>1</td>\n",
              "      <td>112108</td>\n",
              "      <td>Bulgarian Yogurt</td>\n",
              "      <td>yogurt</td>\n",
              "      <td>dairy eggs</td>\n",
              "      <td>4</td>\n",
              "      <td>1</td>\n",
              "      <td>4</td>\n",
              "      <td>9.0</td>\n",
              "    </tr>\n",
              "    <tr>\n",
              "      <th>1</th>\n",
              "      <td>1</td>\n",
              "      <td>112108</td>\n",
              "      <td>Lightly Smoked Sardines in Olive Oil</td>\n",
              "      <td>canned meat seafood</td>\n",
              "      <td>canned goods</td>\n",
              "      <td>4</td>\n",
              "      <td>1</td>\n",
              "      <td>4</td>\n",
              "      <td>9.0</td>\n",
              "    </tr>\n",
              "    <tr>\n",
              "      <th>2</th>\n",
              "      <td>1</td>\n",
              "      <td>112108</td>\n",
              "      <td>Organic Celery Hearts</td>\n",
              "      <td>fresh vegetables</td>\n",
              "      <td>produce</td>\n",
              "      <td>4</td>\n",
              "      <td>0</td>\n",
              "      <td>4</td>\n",
              "      <td>9.0</td>\n",
              "    </tr>\n",
              "    <tr>\n",
              "      <th>3</th>\n",
              "      <td>1</td>\n",
              "      <td>112108</td>\n",
              "      <td>Organic Whole String Cheese</td>\n",
              "      <td>packaged cheese</td>\n",
              "      <td>dairy eggs</td>\n",
              "      <td>4</td>\n",
              "      <td>1</td>\n",
              "      <td>4</td>\n",
              "      <td>9.0</td>\n",
              "    </tr>\n",
              "    <tr>\n",
              "      <th>4</th>\n",
              "      <td>1</td>\n",
              "      <td>112108</td>\n",
              "      <td>Organic Hass Avocado</td>\n",
              "      <td>fresh fruits</td>\n",
              "      <td>produce</td>\n",
              "      <td>4</td>\n",
              "      <td>0</td>\n",
              "      <td>4</td>\n",
              "      <td>9.0</td>\n",
              "    </tr>\n",
              "    <tr>\n",
              "      <th>5</th>\n",
              "      <td>1</td>\n",
              "      <td>112108</td>\n",
              "      <td>Bag of Organic Bananas</td>\n",
              "      <td>fresh fruits</td>\n",
              "      <td>produce</td>\n",
              "      <td>4</td>\n",
              "      <td>0</td>\n",
              "      <td>4</td>\n",
              "      <td>9.0</td>\n",
              "    </tr>\n",
              "    <tr>\n",
              "      <th>6</th>\n",
              "      <td>1</td>\n",
              "      <td>112108</td>\n",
              "      <td>Organic 4% Milk Fat Whole Milk Cottage Cheese</td>\n",
              "      <td>other creams cheeses</td>\n",
              "      <td>dairy eggs</td>\n",
              "      <td>4</td>\n",
              "      <td>1</td>\n",
              "      <td>4</td>\n",
              "      <td>9.0</td>\n",
              "    </tr>\n",
              "    <tr>\n",
              "      <th>7</th>\n",
              "      <td>1</td>\n",
              "      <td>112108</td>\n",
              "      <td>Cucumber Kirby</td>\n",
              "      <td>fresh vegetables</td>\n",
              "      <td>produce</td>\n",
              "      <td>4</td>\n",
              "      <td>0</td>\n",
              "      <td>4</td>\n",
              "      <td>9.0</td>\n",
              "    </tr>\n",
              "    <tr>\n",
              "      <th>8</th>\n",
              "      <td>36</td>\n",
              "      <td>79431</td>\n",
              "      <td>Asparagus</td>\n",
              "      <td>fresh vegetables</td>\n",
              "      <td>produce</td>\n",
              "      <td>23</td>\n",
              "      <td>1</td>\n",
              "      <td>6</td>\n",
              "      <td>30.0</td>\n",
              "    </tr>\n",
              "    <tr>\n",
              "      <th>9</th>\n",
              "      <td>36</td>\n",
              "      <td>79431</td>\n",
              "      <td>Grated Pecorino Romano Cheese</td>\n",
              "      <td>specialty cheeses</td>\n",
              "      <td>dairy eggs</td>\n",
              "      <td>23</td>\n",
              "      <td>0</td>\n",
              "      <td>6</td>\n",
              "      <td>30.0</td>\n",
              "    </tr>\n",
              "  </tbody>\n",
              "</table>\n",
              "</div>\n",
              "      <button class=\"colab-df-convert\" onclick=\"convertToInteractive('df-88b09bbf-dbfe-4c2f-8cda-566f438bde39')\"\n",
              "              title=\"Convert this dataframe to an interactive table.\"\n",
              "              style=\"display:none;\">\n",
              "        \n",
              "  <svg xmlns=\"http://www.w3.org/2000/svg\" height=\"24px\"viewBox=\"0 0 24 24\"\n",
              "       width=\"24px\">\n",
              "    <path d=\"M0 0h24v24H0V0z\" fill=\"none\"/>\n",
              "    <path d=\"M18.56 5.44l.94 2.06.94-2.06 2.06-.94-2.06-.94-.94-2.06-.94 2.06-2.06.94zm-11 1L8.5 8.5l.94-2.06 2.06-.94-2.06-.94L8.5 2.5l-.94 2.06-2.06.94zm10 10l.94 2.06.94-2.06 2.06-.94-2.06-.94-.94-2.06-.94 2.06-2.06.94z\"/><path d=\"M17.41 7.96l-1.37-1.37c-.4-.4-.92-.59-1.43-.59-.52 0-1.04.2-1.43.59L10.3 9.45l-7.72 7.72c-.78.78-.78 2.05 0 2.83L4 21.41c.39.39.9.59 1.41.59.51 0 1.02-.2 1.41-.59l7.78-7.78 2.81-2.81c.8-.78.8-2.07 0-2.86zM5.41 20L4 18.59l7.72-7.72 1.47 1.35L5.41 20z\"/>\n",
              "  </svg>\n",
              "      </button>\n",
              "      \n",
              "  <style>\n",
              "    .colab-df-container {\n",
              "      display:flex;\n",
              "      flex-wrap:wrap;\n",
              "      gap: 12px;\n",
              "    }\n",
              "\n",
              "    .colab-df-convert {\n",
              "      background-color: #E8F0FE;\n",
              "      border: none;\n",
              "      border-radius: 50%;\n",
              "      cursor: pointer;\n",
              "      display: none;\n",
              "      fill: #1967D2;\n",
              "      height: 32px;\n",
              "      padding: 0 0 0 0;\n",
              "      width: 32px;\n",
              "    }\n",
              "\n",
              "    .colab-df-convert:hover {\n",
              "      background-color: #E2EBFA;\n",
              "      box-shadow: 0px 1px 2px rgba(60, 64, 67, 0.3), 0px 1px 3px 1px rgba(60, 64, 67, 0.15);\n",
              "      fill: #174EA6;\n",
              "    }\n",
              "\n",
              "    [theme=dark] .colab-df-convert {\n",
              "      background-color: #3B4455;\n",
              "      fill: #D2E3FC;\n",
              "    }\n",
              "\n",
              "    [theme=dark] .colab-df-convert:hover {\n",
              "      background-color: #434B5C;\n",
              "      box-shadow: 0px 1px 3px 1px rgba(0, 0, 0, 0.15);\n",
              "      filter: drop-shadow(0px 1px 2px rgba(0, 0, 0, 0.3));\n",
              "      fill: #FFFFFF;\n",
              "    }\n",
              "  </style>\n",
              "\n",
              "      <script>\n",
              "        const buttonEl =\n",
              "          document.querySelector('#df-88b09bbf-dbfe-4c2f-8cda-566f438bde39 button.colab-df-convert');\n",
              "        buttonEl.style.display =\n",
              "          google.colab.kernel.accessAllowed ? 'block' : 'none';\n",
              "\n",
              "        async function convertToInteractive(key) {\n",
              "          const element = document.querySelector('#df-88b09bbf-dbfe-4c2f-8cda-566f438bde39');\n",
              "          const dataTable =\n",
              "            await google.colab.kernel.invokeFunction('convertToInteractive',\n",
              "                                                     [key], {});\n",
              "          if (!dataTable) return;\n",
              "\n",
              "          const docLinkHtml = 'Like what you see? Visit the ' +\n",
              "            '<a target=\"_blank\" href=https://colab.research.google.com/notebooks/data_table.ipynb>data table notebook</a>'\n",
              "            + ' to learn more about interactive tables.';\n",
              "          element.innerHTML = '';\n",
              "          dataTable['output_type'] = 'display_data';\n",
              "          await google.colab.output.renderOutput(dataTable, element);\n",
              "          const docLink = document.createElement('div');\n",
              "          docLink.innerHTML = docLinkHtml;\n",
              "          element.appendChild(docLink);\n",
              "        }\n",
              "      </script>\n",
              "    </div>\n",
              "  </div>\n",
              "  "
            ]
          },
          "metadata": {},
          "execution_count": 37
        }
      ]
    },
    {
      "cell_type": "markdown",
      "source": [
        "**surpport (지지도)**\n",
        "- $P(A∩B)$ \n",
        "- A,B가 동시에 일어난 수 / 전체 거래 수\n",
        "- A와 B가 동시에 거래되는 비중 \n",
        "\n",
        "**confidence (신뢰도)**\n",
        "- $P(A∩B)/P(A)$\n",
        "- A,B가 동시에 일어난 수 / A가 일어난 수\n",
        "- A를 포함하는 거래 중 A,B가 동시에 거래되는 비중\n",
        "\n",
        "**lift(향상도)**\n",
        "- $P(A∩B) / P(A)*P(B)$  = $P(B|A) / P(B)$\n",
        "- A,B가 동시에 일어난 수 / 독립된 A * 독립된 B\n",
        "- AB, AC가 같은 신뢰도를 가질 때, B와 C 중 어느것이 더 관련있는지\n",
        "- (lift = 1) 독립 / (lift > 1) 양의 상관관계 / (lift < 1) 음의 상관관계  \n",
        "\n",
        "> **Tip**   \n",
        "1. 지지도,신뢰도, 향상도가 모두 높다 = 좋은 rule\n",
        "2. 지지도가 낮고 신뢰와 향상도가 높다 = 실효성이 떨어짐\n"
      ],
      "metadata": {
        "id": "8t1kP3KWcXv5"
      }
    },
    {
      "cell_type": "markdown",
      "source": [
        "#### **apriori공식문서** : http://rasbt.github.io/mlxtend/user_guide/frequent_patterns/apriori/"
      ],
      "metadata": {
        "id": "AEHWvNkMh8_C"
      }
    },
    {
      "cell_type": "code",
      "source": [
        "from mlxtend.preprocessing import TransactionEncoder\n",
        "\n",
        "te = TransactionEncoder()\n",
        "te_ary = te.fit(record).transform(record) # fit = 고유한 라벨을 갖게됨 / transform = 원핫인코딩,numpy배열로 전환\n",
        "ap_data = pd.DataFrame(te_ary,columns=te.columns_) # 원핫 인코딩 된 데이터프레임으로 변환"
      ],
      "metadata": {
        "id": "IedDhYKFXXYD"
      },
      "execution_count": null,
      "outputs": []
    },
    {
      "cell_type": "code",
      "source": [
        "# 주문당 평균 10건 주문 -> 주문건당 혜택?\n",
        "mean_order =[te_ary[i].sum() for i in range(len(te_ary))]\n",
        "np.mean(mean_order) "
      ],
      "metadata": {
        "colab": {
          "base_uri": "https://localhost:8080/"
        },
        "id": "bMBfmJ_ifVJ3",
        "outputId": "a5ac6cf2-293f-4432-d41e-ad300c38e878"
      },
      "execution_count": null,
      "outputs": [
        {
          "output_type": "execute_result",
          "data": {
            "text/plain": [
              "10.622537348184979"
            ]
          },
          "metadata": {},
          "execution_count": 39
        }
      ]
    },
    {
      "cell_type": "code",
      "source": [
        "# 지지도가 0.1% 이상인 데이터 출력\n",
        "# 데이터용량이 커서 메모리부족현상발생 ->FP-growth 알고리즘 사용\n",
        "from mlxtend.frequent_patterns import apriori, association_rules\n",
        "\n",
        "# frequent_itemsets = apriori(ap_data, min_support=0.1, use_colnames=True)\n",
        "# frequent_itemsets"
      ],
      "metadata": {
        "id": "zYZ9fQqNW14g"
      },
      "execution_count": null,
      "outputs": []
    },
    {
      "cell_type": "code",
      "source": [
        "# association_rules(frequent_itemsets, metric='confidence', min_threshold=0.1)"
      ],
      "metadata": {
        "id": "3Dtm4cb9ZIW0"
      },
      "execution_count": null,
      "outputs": []
    },
    {
      "cell_type": "markdown",
      "source": [
        "#### FP-growth Algorithm"
      ],
      "metadata": {
        "id": "5IJEL8Rsj1WL"
      }
    },
    {
      "cell_type": "code",
      "source": [
        "# %pip install mlxtend --upgrade"
      ],
      "metadata": {
        "id": "YnaJhsn7oNmN"
      },
      "execution_count": null,
      "outputs": []
    },
    {
      "cell_type": "code",
      "source": [
        "# import에러 발생하여 mlxtend 버전업그레이드 진행\n",
        "from mlxtend.frequent_patterns import fpgrowth\n",
        "\n",
        "result = fpgrowth(ap_data, min_support=0.01, use_colnames=True)\n",
        "result_chart = association_rules(result, metric='confidence',  min_threshold=0.01)"
      ],
      "metadata": {
        "id": "NeuU5UFZkGxd"
      },
      "execution_count": null,
      "outputs": []
    },
    {
      "cell_type": "code",
      "source": [
        "result_chart"
      ],
      "metadata": {
        "colab": {
          "base_uri": "https://localhost:8080/",
          "height": 1000
        },
        "id": "d1EAti9Toxjy",
        "outputId": "7d0dd89c-5203-48c8-c879-bb2a4ab545a4"
      },
      "execution_count": null,
      "outputs": [
        {
          "output_type": "execute_result",
          "data": {
            "text/plain": [
              "                 antecedents               consequents  antecedent support  \\\n",
              "0   (Bag of Organic Bananas)    (Organic Hass Avocado)            0.120506   \n",
              "1     (Organic Hass Avocado)  (Bag of Organic Bananas)            0.057023   \n",
              "2     (Organic Hass Avocado)    (Organic Strawberries)            0.057023   \n",
              "3     (Organic Strawberries)    (Organic Hass Avocado)            0.084055   \n",
              "4     (Organic Baby Spinach)    (Organic Hass Avocado)            0.076634   \n",
              "5     (Organic Hass Avocado)    (Organic Baby Spinach)            0.057023   \n",
              "6   (Bag of Organic Bananas)     (Organic Raspberries)            0.120506   \n",
              "7      (Organic Raspberries)  (Bag of Organic Bananas)            0.042865   \n",
              "8     (Organic Strawberries)     (Organic Raspberries)            0.084055   \n",
              "9      (Organic Raspberries)    (Organic Strawberries)            0.042865   \n",
              "10        (Organic Cucumber)  (Bag of Organic Bananas)            0.035910   \n",
              "11  (Bag of Organic Bananas)    (Organic Strawberries)            0.120506   \n",
              "12    (Organic Strawberries)  (Bag of Organic Bananas)            0.084055   \n",
              "13    (Organic Strawberries)                  (Banana)            0.084055   \n",
              "14                  (Banana)    (Organic Strawberries)            0.142858   \n",
              "15            (Strawberries)                  (Banana)            0.049460   \n",
              "16                  (Banana)            (Strawberries)            0.142858   \n",
              "17                  (Banana)             (Large Lemon)            0.142858   \n",
              "18             (Large Lemon)                  (Banana)            0.062341   \n",
              "19    (Organic Baby Spinach)                  (Banana)            0.076634   \n",
              "20                  (Banana)    (Organic Baby Spinach)            0.142858   \n",
              "21    (Organic Baby Spinach)    (Organic Strawberries)            0.076634   \n",
              "22    (Organic Strawberries)    (Organic Baby Spinach)            0.084055   \n",
              "23  (Bag of Organic Bananas)    (Organic Baby Spinach)            0.120506   \n",
              "24    (Organic Baby Spinach)  (Bag of Organic Bananas)            0.076634   \n",
              "25                   (Limes)                  (Banana)            0.046328   \n",
              "26                   (Limes)             (Large Lemon)            0.046328   \n",
              "27             (Large Lemon)                   (Limes)            0.062341   \n",
              "28         (Organic Avocado)    (Organic Baby Spinach)            0.057143   \n",
              "29    (Organic Baby Spinach)         (Organic Avocado)            0.076634   \n",
              "30         (Organic Avocado)                  (Banana)            0.057143   \n",
              "31                  (Banana)         (Organic Avocado)            0.142858   \n",
              "32         (Organic Avocado)             (Large Lemon)            0.057143   \n",
              "33             (Large Lemon)         (Organic Avocado)            0.062341   \n",
              "\n",
              "    consequent support   support  confidence      lift  leverage  conviction  \n",
              "0             0.057023  0.019348    0.160558  2.815674  0.012477    1.123338  \n",
              "1             0.120506  0.019348    0.339305  2.815674  0.012477    1.331165  \n",
              "2             0.084055  0.012100    0.212197  2.524502  0.007307    1.162657  \n",
              "3             0.057023  0.012100    0.143955  2.524502  0.007307    1.101551  \n",
              "4             0.057023  0.010057    0.131236  2.301451  0.005687    1.085423  \n",
              "5             0.076634  0.010057    0.176370  2.301451  0.005687    1.121093  \n",
              "6             0.042865  0.013940    0.115682  2.698751  0.008775    1.082342  \n",
              "7             0.120506  0.013940    0.325215  2.698751  0.008775    1.303369  \n",
              "8             0.042865  0.012896    0.153427  3.579306  0.009293    1.130599  \n",
              "9             0.084055  0.012896    0.300859  3.579306  0.009293    1.310100  \n",
              "10            0.120506  0.010012    0.278812  2.313684  0.005685    1.219508  \n",
              "11            0.084055  0.023907    0.198392  2.360263  0.013778    1.142634  \n",
              "12            0.120506  0.023907    0.284425  2.360263  0.013778    1.229074  \n",
              "13            0.142858  0.016704    0.198731  1.391107  0.004696    1.069731  \n",
              "14            0.084055  0.016704    0.116930  1.391107  0.004696    1.037228  \n",
              "15            0.142858  0.014887    0.300987  2.106894  0.007821    1.226217  \n",
              "16            0.049460  0.014887    0.104206  2.106894  0.007821    1.061115  \n",
              "17            0.062341  0.016584    0.116088  1.862155  0.007678    1.060806  \n",
              "18            0.142858  0.016584    0.266024  1.862155  0.007678    1.167806  \n",
              "19            0.142858  0.015540    0.202783  1.419474  0.004592    1.075168  \n",
              "20            0.076634  0.015540    0.108780  1.419474  0.004592    1.036070  \n",
              "21            0.084055  0.012821    0.167304  1.990408  0.006380    1.099975  \n",
              "22            0.076634  0.012821    0.152533  1.990408  0.006380    1.089560  \n",
              "23            0.076634  0.017869    0.148280  1.934903  0.008634    1.084119  \n",
              "24            0.120506  0.017869    0.233167  1.934903  0.008634    1.146917  \n",
              "25            0.142858  0.010260    0.221466  1.550248  0.003642    1.100968  \n",
              "26            0.062341  0.012235    0.264105  4.236468  0.009347    1.274175  \n",
              "27            0.046328  0.012235    0.196265  4.236468  0.009347    1.186551  \n",
              "28            0.076634  0.010958    0.191772  2.502431  0.006579    1.142457  \n",
              "29            0.057143  0.010958    0.142997  2.502431  0.006579    1.100179  \n",
              "30            0.142858  0.017132    0.299816  2.098696  0.008969    1.224166  \n",
              "31            0.057143  0.017132    0.119926  2.098696  0.008969    1.071338  \n",
              "32            0.062341  0.010485    0.183491  2.943351  0.006923    1.148376  \n",
              "33            0.057143  0.010485    0.168193  2.943351  0.006923    1.133504  "
            ],
            "text/html": [
              "\n",
              "  <div id=\"df-7684aee9-4388-4014-8805-c9844b613ba8\">\n",
              "    <div class=\"colab-df-container\">\n",
              "      <div>\n",
              "<style scoped>\n",
              "    .dataframe tbody tr th:only-of-type {\n",
              "        vertical-align: middle;\n",
              "    }\n",
              "\n",
              "    .dataframe tbody tr th {\n",
              "        vertical-align: top;\n",
              "    }\n",
              "\n",
              "    .dataframe thead th {\n",
              "        text-align: right;\n",
              "    }\n",
              "</style>\n",
              "<table border=\"1\" class=\"dataframe\">\n",
              "  <thead>\n",
              "    <tr style=\"text-align: right;\">\n",
              "      <th></th>\n",
              "      <th>antecedents</th>\n",
              "      <th>consequents</th>\n",
              "      <th>antecedent support</th>\n",
              "      <th>consequent support</th>\n",
              "      <th>support</th>\n",
              "      <th>confidence</th>\n",
              "      <th>lift</th>\n",
              "      <th>leverage</th>\n",
              "      <th>conviction</th>\n",
              "    </tr>\n",
              "  </thead>\n",
              "  <tbody>\n",
              "    <tr>\n",
              "      <th>0</th>\n",
              "      <td>(Bag of Organic Bananas)</td>\n",
              "      <td>(Organic Hass Avocado)</td>\n",
              "      <td>0.120506</td>\n",
              "      <td>0.057023</td>\n",
              "      <td>0.019348</td>\n",
              "      <td>0.160558</td>\n",
              "      <td>2.815674</td>\n",
              "      <td>0.012477</td>\n",
              "      <td>1.123338</td>\n",
              "    </tr>\n",
              "    <tr>\n",
              "      <th>1</th>\n",
              "      <td>(Organic Hass Avocado)</td>\n",
              "      <td>(Bag of Organic Bananas)</td>\n",
              "      <td>0.057023</td>\n",
              "      <td>0.120506</td>\n",
              "      <td>0.019348</td>\n",
              "      <td>0.339305</td>\n",
              "      <td>2.815674</td>\n",
              "      <td>0.012477</td>\n",
              "      <td>1.331165</td>\n",
              "    </tr>\n",
              "    <tr>\n",
              "      <th>2</th>\n",
              "      <td>(Organic Hass Avocado)</td>\n",
              "      <td>(Organic Strawberries)</td>\n",
              "      <td>0.057023</td>\n",
              "      <td>0.084055</td>\n",
              "      <td>0.012100</td>\n",
              "      <td>0.212197</td>\n",
              "      <td>2.524502</td>\n",
              "      <td>0.007307</td>\n",
              "      <td>1.162657</td>\n",
              "    </tr>\n",
              "    <tr>\n",
              "      <th>3</th>\n",
              "      <td>(Organic Strawberries)</td>\n",
              "      <td>(Organic Hass Avocado)</td>\n",
              "      <td>0.084055</td>\n",
              "      <td>0.057023</td>\n",
              "      <td>0.012100</td>\n",
              "      <td>0.143955</td>\n",
              "      <td>2.524502</td>\n",
              "      <td>0.007307</td>\n",
              "      <td>1.101551</td>\n",
              "    </tr>\n",
              "    <tr>\n",
              "      <th>4</th>\n",
              "      <td>(Organic Baby Spinach)</td>\n",
              "      <td>(Organic Hass Avocado)</td>\n",
              "      <td>0.076634</td>\n",
              "      <td>0.057023</td>\n",
              "      <td>0.010057</td>\n",
              "      <td>0.131236</td>\n",
              "      <td>2.301451</td>\n",
              "      <td>0.005687</td>\n",
              "      <td>1.085423</td>\n",
              "    </tr>\n",
              "    <tr>\n",
              "      <th>5</th>\n",
              "      <td>(Organic Hass Avocado)</td>\n",
              "      <td>(Organic Baby Spinach)</td>\n",
              "      <td>0.057023</td>\n",
              "      <td>0.076634</td>\n",
              "      <td>0.010057</td>\n",
              "      <td>0.176370</td>\n",
              "      <td>2.301451</td>\n",
              "      <td>0.005687</td>\n",
              "      <td>1.121093</td>\n",
              "    </tr>\n",
              "    <tr>\n",
              "      <th>6</th>\n",
              "      <td>(Bag of Organic Bananas)</td>\n",
              "      <td>(Organic Raspberries)</td>\n",
              "      <td>0.120506</td>\n",
              "      <td>0.042865</td>\n",
              "      <td>0.013940</td>\n",
              "      <td>0.115682</td>\n",
              "      <td>2.698751</td>\n",
              "      <td>0.008775</td>\n",
              "      <td>1.082342</td>\n",
              "    </tr>\n",
              "    <tr>\n",
              "      <th>7</th>\n",
              "      <td>(Organic Raspberries)</td>\n",
              "      <td>(Bag of Organic Bananas)</td>\n",
              "      <td>0.042865</td>\n",
              "      <td>0.120506</td>\n",
              "      <td>0.013940</td>\n",
              "      <td>0.325215</td>\n",
              "      <td>2.698751</td>\n",
              "      <td>0.008775</td>\n",
              "      <td>1.303369</td>\n",
              "    </tr>\n",
              "    <tr>\n",
              "      <th>8</th>\n",
              "      <td>(Organic Strawberries)</td>\n",
              "      <td>(Organic Raspberries)</td>\n",
              "      <td>0.084055</td>\n",
              "      <td>0.042865</td>\n",
              "      <td>0.012896</td>\n",
              "      <td>0.153427</td>\n",
              "      <td>3.579306</td>\n",
              "      <td>0.009293</td>\n",
              "      <td>1.130599</td>\n",
              "    </tr>\n",
              "    <tr>\n",
              "      <th>9</th>\n",
              "      <td>(Organic Raspberries)</td>\n",
              "      <td>(Organic Strawberries)</td>\n",
              "      <td>0.042865</td>\n",
              "      <td>0.084055</td>\n",
              "      <td>0.012896</td>\n",
              "      <td>0.300859</td>\n",
              "      <td>3.579306</td>\n",
              "      <td>0.009293</td>\n",
              "      <td>1.310100</td>\n",
              "    </tr>\n",
              "    <tr>\n",
              "      <th>10</th>\n",
              "      <td>(Organic Cucumber)</td>\n",
              "      <td>(Bag of Organic Bananas)</td>\n",
              "      <td>0.035910</td>\n",
              "      <td>0.120506</td>\n",
              "      <td>0.010012</td>\n",
              "      <td>0.278812</td>\n",
              "      <td>2.313684</td>\n",
              "      <td>0.005685</td>\n",
              "      <td>1.219508</td>\n",
              "    </tr>\n",
              "    <tr>\n",
              "      <th>11</th>\n",
              "      <td>(Bag of Organic Bananas)</td>\n",
              "      <td>(Organic Strawberries)</td>\n",
              "      <td>0.120506</td>\n",
              "      <td>0.084055</td>\n",
              "      <td>0.023907</td>\n",
              "      <td>0.198392</td>\n",
              "      <td>2.360263</td>\n",
              "      <td>0.013778</td>\n",
              "      <td>1.142634</td>\n",
              "    </tr>\n",
              "    <tr>\n",
              "      <th>12</th>\n",
              "      <td>(Organic Strawberries)</td>\n",
              "      <td>(Bag of Organic Bananas)</td>\n",
              "      <td>0.084055</td>\n",
              "      <td>0.120506</td>\n",
              "      <td>0.023907</td>\n",
              "      <td>0.284425</td>\n",
              "      <td>2.360263</td>\n",
              "      <td>0.013778</td>\n",
              "      <td>1.229074</td>\n",
              "    </tr>\n",
              "    <tr>\n",
              "      <th>13</th>\n",
              "      <td>(Organic Strawberries)</td>\n",
              "      <td>(Banana)</td>\n",
              "      <td>0.084055</td>\n",
              "      <td>0.142858</td>\n",
              "      <td>0.016704</td>\n",
              "      <td>0.198731</td>\n",
              "      <td>1.391107</td>\n",
              "      <td>0.004696</td>\n",
              "      <td>1.069731</td>\n",
              "    </tr>\n",
              "    <tr>\n",
              "      <th>14</th>\n",
              "      <td>(Banana)</td>\n",
              "      <td>(Organic Strawberries)</td>\n",
              "      <td>0.142858</td>\n",
              "      <td>0.084055</td>\n",
              "      <td>0.016704</td>\n",
              "      <td>0.116930</td>\n",
              "      <td>1.391107</td>\n",
              "      <td>0.004696</td>\n",
              "      <td>1.037228</td>\n",
              "    </tr>\n",
              "    <tr>\n",
              "      <th>15</th>\n",
              "      <td>(Strawberries)</td>\n",
              "      <td>(Banana)</td>\n",
              "      <td>0.049460</td>\n",
              "      <td>0.142858</td>\n",
              "      <td>0.014887</td>\n",
              "      <td>0.300987</td>\n",
              "      <td>2.106894</td>\n",
              "      <td>0.007821</td>\n",
              "      <td>1.226217</td>\n",
              "    </tr>\n",
              "    <tr>\n",
              "      <th>16</th>\n",
              "      <td>(Banana)</td>\n",
              "      <td>(Strawberries)</td>\n",
              "      <td>0.142858</td>\n",
              "      <td>0.049460</td>\n",
              "      <td>0.014887</td>\n",
              "      <td>0.104206</td>\n",
              "      <td>2.106894</td>\n",
              "      <td>0.007821</td>\n",
              "      <td>1.061115</td>\n",
              "    </tr>\n",
              "    <tr>\n",
              "      <th>17</th>\n",
              "      <td>(Banana)</td>\n",
              "      <td>(Large Lemon)</td>\n",
              "      <td>0.142858</td>\n",
              "      <td>0.062341</td>\n",
              "      <td>0.016584</td>\n",
              "      <td>0.116088</td>\n",
              "      <td>1.862155</td>\n",
              "      <td>0.007678</td>\n",
              "      <td>1.060806</td>\n",
              "    </tr>\n",
              "    <tr>\n",
              "      <th>18</th>\n",
              "      <td>(Large Lemon)</td>\n",
              "      <td>(Banana)</td>\n",
              "      <td>0.062341</td>\n",
              "      <td>0.142858</td>\n",
              "      <td>0.016584</td>\n",
              "      <td>0.266024</td>\n",
              "      <td>1.862155</td>\n",
              "      <td>0.007678</td>\n",
              "      <td>1.167806</td>\n",
              "    </tr>\n",
              "    <tr>\n",
              "      <th>19</th>\n",
              "      <td>(Organic Baby Spinach)</td>\n",
              "      <td>(Banana)</td>\n",
              "      <td>0.076634</td>\n",
              "      <td>0.142858</td>\n",
              "      <td>0.015540</td>\n",
              "      <td>0.202783</td>\n",
              "      <td>1.419474</td>\n",
              "      <td>0.004592</td>\n",
              "      <td>1.075168</td>\n",
              "    </tr>\n",
              "    <tr>\n",
              "      <th>20</th>\n",
              "      <td>(Banana)</td>\n",
              "      <td>(Organic Baby Spinach)</td>\n",
              "      <td>0.142858</td>\n",
              "      <td>0.076634</td>\n",
              "      <td>0.015540</td>\n",
              "      <td>0.108780</td>\n",
              "      <td>1.419474</td>\n",
              "      <td>0.004592</td>\n",
              "      <td>1.036070</td>\n",
              "    </tr>\n",
              "    <tr>\n",
              "      <th>21</th>\n",
              "      <td>(Organic Baby Spinach)</td>\n",
              "      <td>(Organic Strawberries)</td>\n",
              "      <td>0.076634</td>\n",
              "      <td>0.084055</td>\n",
              "      <td>0.012821</td>\n",
              "      <td>0.167304</td>\n",
              "      <td>1.990408</td>\n",
              "      <td>0.006380</td>\n",
              "      <td>1.099975</td>\n",
              "    </tr>\n",
              "    <tr>\n",
              "      <th>22</th>\n",
              "      <td>(Organic Strawberries)</td>\n",
              "      <td>(Organic Baby Spinach)</td>\n",
              "      <td>0.084055</td>\n",
              "      <td>0.076634</td>\n",
              "      <td>0.012821</td>\n",
              "      <td>0.152533</td>\n",
              "      <td>1.990408</td>\n",
              "      <td>0.006380</td>\n",
              "      <td>1.089560</td>\n",
              "    </tr>\n",
              "    <tr>\n",
              "      <th>23</th>\n",
              "      <td>(Bag of Organic Bananas)</td>\n",
              "      <td>(Organic Baby Spinach)</td>\n",
              "      <td>0.120506</td>\n",
              "      <td>0.076634</td>\n",
              "      <td>0.017869</td>\n",
              "      <td>0.148280</td>\n",
              "      <td>1.934903</td>\n",
              "      <td>0.008634</td>\n",
              "      <td>1.084119</td>\n",
              "    </tr>\n",
              "    <tr>\n",
              "      <th>24</th>\n",
              "      <td>(Organic Baby Spinach)</td>\n",
              "      <td>(Bag of Organic Bananas)</td>\n",
              "      <td>0.076634</td>\n",
              "      <td>0.120506</td>\n",
              "      <td>0.017869</td>\n",
              "      <td>0.233167</td>\n",
              "      <td>1.934903</td>\n",
              "      <td>0.008634</td>\n",
              "      <td>1.146917</td>\n",
              "    </tr>\n",
              "    <tr>\n",
              "      <th>25</th>\n",
              "      <td>(Limes)</td>\n",
              "      <td>(Banana)</td>\n",
              "      <td>0.046328</td>\n",
              "      <td>0.142858</td>\n",
              "      <td>0.010260</td>\n",
              "      <td>0.221466</td>\n",
              "      <td>1.550248</td>\n",
              "      <td>0.003642</td>\n",
              "      <td>1.100968</td>\n",
              "    </tr>\n",
              "    <tr>\n",
              "      <th>26</th>\n",
              "      <td>(Limes)</td>\n",
              "      <td>(Large Lemon)</td>\n",
              "      <td>0.046328</td>\n",
              "      <td>0.062341</td>\n",
              "      <td>0.012235</td>\n",
              "      <td>0.264105</td>\n",
              "      <td>4.236468</td>\n",
              "      <td>0.009347</td>\n",
              "      <td>1.274175</td>\n",
              "    </tr>\n",
              "    <tr>\n",
              "      <th>27</th>\n",
              "      <td>(Large Lemon)</td>\n",
              "      <td>(Limes)</td>\n",
              "      <td>0.062341</td>\n",
              "      <td>0.046328</td>\n",
              "      <td>0.012235</td>\n",
              "      <td>0.196265</td>\n",
              "      <td>4.236468</td>\n",
              "      <td>0.009347</td>\n",
              "      <td>1.186551</td>\n",
              "    </tr>\n",
              "    <tr>\n",
              "      <th>28</th>\n",
              "      <td>(Organic Avocado)</td>\n",
              "      <td>(Organic Baby Spinach)</td>\n",
              "      <td>0.057143</td>\n",
              "      <td>0.076634</td>\n",
              "      <td>0.010958</td>\n",
              "      <td>0.191772</td>\n",
              "      <td>2.502431</td>\n",
              "      <td>0.006579</td>\n",
              "      <td>1.142457</td>\n",
              "    </tr>\n",
              "    <tr>\n",
              "      <th>29</th>\n",
              "      <td>(Organic Baby Spinach)</td>\n",
              "      <td>(Organic Avocado)</td>\n",
              "      <td>0.076634</td>\n",
              "      <td>0.057143</td>\n",
              "      <td>0.010958</td>\n",
              "      <td>0.142997</td>\n",
              "      <td>2.502431</td>\n",
              "      <td>0.006579</td>\n",
              "      <td>1.100179</td>\n",
              "    </tr>\n",
              "    <tr>\n",
              "      <th>30</th>\n",
              "      <td>(Organic Avocado)</td>\n",
              "      <td>(Banana)</td>\n",
              "      <td>0.057143</td>\n",
              "      <td>0.142858</td>\n",
              "      <td>0.017132</td>\n",
              "      <td>0.299816</td>\n",
              "      <td>2.098696</td>\n",
              "      <td>0.008969</td>\n",
              "      <td>1.224166</td>\n",
              "    </tr>\n",
              "    <tr>\n",
              "      <th>31</th>\n",
              "      <td>(Banana)</td>\n",
              "      <td>(Organic Avocado)</td>\n",
              "      <td>0.142858</td>\n",
              "      <td>0.057143</td>\n",
              "      <td>0.017132</td>\n",
              "      <td>0.119926</td>\n",
              "      <td>2.098696</td>\n",
              "      <td>0.008969</td>\n",
              "      <td>1.071338</td>\n",
              "    </tr>\n",
              "    <tr>\n",
              "      <th>32</th>\n",
              "      <td>(Organic Avocado)</td>\n",
              "      <td>(Large Lemon)</td>\n",
              "      <td>0.057143</td>\n",
              "      <td>0.062341</td>\n",
              "      <td>0.010485</td>\n",
              "      <td>0.183491</td>\n",
              "      <td>2.943351</td>\n",
              "      <td>0.006923</td>\n",
              "      <td>1.148376</td>\n",
              "    </tr>\n",
              "    <tr>\n",
              "      <th>33</th>\n",
              "      <td>(Large Lemon)</td>\n",
              "      <td>(Organic Avocado)</td>\n",
              "      <td>0.062341</td>\n",
              "      <td>0.057143</td>\n",
              "      <td>0.010485</td>\n",
              "      <td>0.168193</td>\n",
              "      <td>2.943351</td>\n",
              "      <td>0.006923</td>\n",
              "      <td>1.133504</td>\n",
              "    </tr>\n",
              "  </tbody>\n",
              "</table>\n",
              "</div>\n",
              "      <button class=\"colab-df-convert\" onclick=\"convertToInteractive('df-7684aee9-4388-4014-8805-c9844b613ba8')\"\n",
              "              title=\"Convert this dataframe to an interactive table.\"\n",
              "              style=\"display:none;\">\n",
              "        \n",
              "  <svg xmlns=\"http://www.w3.org/2000/svg\" height=\"24px\"viewBox=\"0 0 24 24\"\n",
              "       width=\"24px\">\n",
              "    <path d=\"M0 0h24v24H0V0z\" fill=\"none\"/>\n",
              "    <path d=\"M18.56 5.44l.94 2.06.94-2.06 2.06-.94-2.06-.94-.94-2.06-.94 2.06-2.06.94zm-11 1L8.5 8.5l.94-2.06 2.06-.94-2.06-.94L8.5 2.5l-.94 2.06-2.06.94zm10 10l.94 2.06.94-2.06 2.06-.94-2.06-.94-.94-2.06-.94 2.06-2.06.94z\"/><path d=\"M17.41 7.96l-1.37-1.37c-.4-.4-.92-.59-1.43-.59-.52 0-1.04.2-1.43.59L10.3 9.45l-7.72 7.72c-.78.78-.78 2.05 0 2.83L4 21.41c.39.39.9.59 1.41.59.51 0 1.02-.2 1.41-.59l7.78-7.78 2.81-2.81c.8-.78.8-2.07 0-2.86zM5.41 20L4 18.59l7.72-7.72 1.47 1.35L5.41 20z\"/>\n",
              "  </svg>\n",
              "      </button>\n",
              "      \n",
              "  <style>\n",
              "    .colab-df-container {\n",
              "      display:flex;\n",
              "      flex-wrap:wrap;\n",
              "      gap: 12px;\n",
              "    }\n",
              "\n",
              "    .colab-df-convert {\n",
              "      background-color: #E8F0FE;\n",
              "      border: none;\n",
              "      border-radius: 50%;\n",
              "      cursor: pointer;\n",
              "      display: none;\n",
              "      fill: #1967D2;\n",
              "      height: 32px;\n",
              "      padding: 0 0 0 0;\n",
              "      width: 32px;\n",
              "    }\n",
              "\n",
              "    .colab-df-convert:hover {\n",
              "      background-color: #E2EBFA;\n",
              "      box-shadow: 0px 1px 2px rgba(60, 64, 67, 0.3), 0px 1px 3px 1px rgba(60, 64, 67, 0.15);\n",
              "      fill: #174EA6;\n",
              "    }\n",
              "\n",
              "    [theme=dark] .colab-df-convert {\n",
              "      background-color: #3B4455;\n",
              "      fill: #D2E3FC;\n",
              "    }\n",
              "\n",
              "    [theme=dark] .colab-df-convert:hover {\n",
              "      background-color: #434B5C;\n",
              "      box-shadow: 0px 1px 3px 1px rgba(0, 0, 0, 0.15);\n",
              "      filter: drop-shadow(0px 1px 2px rgba(0, 0, 0, 0.3));\n",
              "      fill: #FFFFFF;\n",
              "    }\n",
              "  </style>\n",
              "\n",
              "      <script>\n",
              "        const buttonEl =\n",
              "          document.querySelector('#df-7684aee9-4388-4014-8805-c9844b613ba8 button.colab-df-convert');\n",
              "        buttonEl.style.display =\n",
              "          google.colab.kernel.accessAllowed ? 'block' : 'none';\n",
              "\n",
              "        async function convertToInteractive(key) {\n",
              "          const element = document.querySelector('#df-7684aee9-4388-4014-8805-c9844b613ba8');\n",
              "          const dataTable =\n",
              "            await google.colab.kernel.invokeFunction('convertToInteractive',\n",
              "                                                     [key], {});\n",
              "          if (!dataTable) return;\n",
              "\n",
              "          const docLinkHtml = 'Like what you see? Visit the ' +\n",
              "            '<a target=\"_blank\" href=https://colab.research.google.com/notebooks/data_table.ipynb>data table notebook</a>'\n",
              "            + ' to learn more about interactive tables.';\n",
              "          element.innerHTML = '';\n",
              "          dataTable['output_type'] = 'display_data';\n",
              "          await google.colab.output.renderOutput(dataTable, element);\n",
              "          const docLink = document.createElement('div');\n",
              "          docLink.innerHTML = docLinkHtml;\n",
              "          element.appendChild(docLink);\n",
              "        }\n",
              "      </script>\n",
              "    </div>\n",
              "  </div>\n",
              "  "
            ]
          },
          "metadata": {},
          "execution_count": 50
        }
      ]
    },
    {
      "cell_type": "markdown",
      "source": [
        "### k-means"
      ],
      "metadata": {
        "id": "AKdEEzqejMfG"
      }
    },
    {
      "cell_type": "code",
      "source": [
        "from sklearn.cluster import KMeans\n",
        "from sklearn.preprocessing import MinMaxScaler\n",
        "\n",
        "df_model = df_graph[['누적주문','주문텀']].dropna()\n",
        "scaler = MinMaxScaler()\n",
        "sc_data = scaler.fit_transform(df_model)"
      ],
      "metadata": {
        "id": "PIImIP1CjOeB"
      },
      "execution_count": 60,
      "outputs": []
    },
    {
      "cell_type": "code",
      "source": [
        "k = 5\n",
        "model = KMeans(n_clusters=k, random_state=12)\n",
        "model.fit(sc_data)"
      ],
      "metadata": {
        "id": "hVH9QU73nMEA",
        "colab": {
          "base_uri": "https://localhost:8080/"
        },
        "outputId": "7466ec9e-a09b-4cf7-fca0-0d291971b016"
      },
      "execution_count": 61,
      "outputs": [
        {
          "output_type": "execute_result",
          "data": {
            "text/plain": [
              "KMeans(n_clusters=5, random_state=12)"
            ]
          },
          "metadata": {},
          "execution_count": 61
        }
      ]
    },
    {
      "cell_type": "code",
      "source": [
        "df_graph['cluster'] = model.fit_predict(sc_data)"
      ],
      "metadata": {
        "id": "LhaiBT8_rDVx"
      },
      "execution_count": 62,
      "outputs": []
    },
    {
      "cell_type": "code",
      "source": [
        "plt.figure(figsize=(12,8))\n",
        "for i in range(k):\n",
        "    plt.scatter(df_graph.loc[df_graph['cluster']==i, '누적주문'], \n",
        "                df_graph.loc[df_graph['cluster']==i, '주문텀'], \n",
        "                label = 'cluster'+str(i))\n",
        "plt.xlabel('누적주문')\n",
        "plt.ylabel('주문텀')\n",
        "plt.legend()\n",
        "plt.show()"
      ],
      "metadata": {
        "colab": {
          "base_uri": "https://localhost:8080/",
          "height": 560
        },
        "id": "hgoN-adNrOX-",
        "outputId": "54439b5f-cd01-4dee-fab9-1286ca606232"
      },
      "execution_count": 63,
      "outputs": [
        {
          "output_type": "stream",
          "name": "stderr",
          "text": [
            "/usr/local/lib/python3.8/dist-packages/IPython/core/pylabtools.py:128: UserWarning: Creating legend with loc=\"best\" can be slow with large amounts of data.\n",
            "  fig.canvas.print_figure(bytes_io, **kw)\n"
          ]
        },
        {
          "output_type": "display_data",
          "data": {
            "text/plain": [
              "<Figure size 864x576 with 1 Axes>"
            ],
            "image/png": "[encoded data removed]"
          },
          "metadata": {
            "needs_background": "light"
          }
        }
      ]
    },
    {
      "cell_type": "markdown",
      "source": [
        "## 5) 평가"
      ],
      "metadata": {
        "id": "vAHummnChWVu"
      }
    },
    {
      "cell_type": "markdown",
      "source": [
        "## 6) 배포"
      ],
      "metadata": {
        "id": "jxW9YQndhY3w"
      }
    },
    {
      "cell_type": "code",
      "execution_count": null,
      "metadata": {
        "id": "E4N69JGigrVR"
      },
      "outputs": [],
      "source": []
    }
  ]
}