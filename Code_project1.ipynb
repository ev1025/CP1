{
  "nbformat": 4,
  "nbformat_minor": 0,
  "metadata": {
    "colab": {
      "provenance": [],
      "collapsed_sections": [
        "N2y8HE2mmYO1"
      ],
      "mount_file_id": "1_kQNolFDY4G3dXCAKg3uoXZpadLuCY1c",
      "authorship_tag": "ABX9TyOk3Z8ECmf1W68FU0tqIs9K",
      "include_colab_link": true
    },
    "kernelspec": {
      "name": "python3",
      "display_name": "Python 3"
    },
    "language_info": {
      "name": "python"
    }
  },
  "cells": [
    {
      "cell_type": "markdown",
      "metadata": {
        "id": "view-in-github",
        "colab_type": "text"
      },
      "source": [
        "<a href=\"https://colab.research.google.com/github/ev1025/CP1/blob/main/Code_project1.ipynb\" target=\"_parent\"><img src=\"https://colab.research.google.com/assets/colab-badge.svg\" alt=\"Open In Colab\"/></a>"
      ]
    },
    {
      "cell_type": "markdown",
      "source": [
        "# 인스타카트 데이터 분석"
      ],
      "metadata": {
        "id": "VpDCmYYFg9Z4"
      }
    },
    {
      "cell_type": "markdown",
      "source": [
        "참고자료 : 케글 인스타카트 장바구니 분석 데이터     \n",
        "https://www.kaggle.com/datasets/psparks/instacart-market-basket-analysis"
      ],
      "metadata": {
        "id": "TJNQ25YFhgoG"
      }
    },
    {
      "cell_type": "markdown",
      "source": [
        "# 1. CRISP-DM 기반 분석"
      ],
      "metadata": {
        "id": "z-oZneANhFPX"
      }
    },
    {
      "cell_type": "markdown",
      "source": [
        "## 1) 비즈니스이해"
      ],
      "metadata": {
        "id": "Feqiq8RVhOJK"
      }
    },
    {
      "cell_type": "markdown",
      "source": [
        "## 2) 데이터 이해"
      ],
      "metadata": {
        "id": "GX4uEt0phQxU"
      }
    },
    {
      "cell_type": "markdown",
      "source": [
        "## 3) 데이터 전처리"
      ],
      "metadata": {
        "id": "gOjbyTlphSp0"
      }
    },
    {
      "cell_type": "code",
      "source": [
        "# 한글 그래프 폰트(런타임재시작, plt.rc('font', family='NanumBarunGothic'))\n",
        "!sudo apt-get install -y fonts-nanum\n",
        "!sudo fc-cache -fv\n",
        "!rm ~/.cache/matplotlib -rf"
      ],
      "metadata": {
        "colab": {
          "base_uri": "https://localhost:8080/"
        },
        "id": "84Jl8CSIXo4p",
        "outputId": "a028a1d6-eb4a-4cff-cac4-775197aaf862"
      },
      "execution_count": 1,
      "outputs": [
        {
          "output_type": "stream",
          "name": "stdout",
          "text": [
            "Reading package lists... Done\n",
            "Building dependency tree       \n",
            "Reading state information... Done\n",
            "fonts-nanum is already the newest version (20170925-1).\n",
            "The following package was automatically installed and is no longer required:\n",
            "  libnvidia-common-460\n",
            "Use 'sudo apt autoremove' to remove it.\n",
            "0 upgraded, 0 newly installed, 0 to remove and 21 not upgraded.\n",
            "/usr/share/fonts: caching, new cache contents: 0 fonts, 1 dirs\n",
            "/usr/share/fonts/truetype: caching, new cache contents: 0 fonts, 3 dirs\n",
            "/usr/share/fonts/truetype/humor-sans: caching, new cache contents: 1 fonts, 0 dirs\n",
            "/usr/share/fonts/truetype/liberation: caching, new cache contents: 16 fonts, 0 dirs\n",
            "/usr/share/fonts/truetype/nanum: caching, new cache contents: 10 fonts, 0 dirs\n",
            "/usr/local/share/fonts: caching, new cache contents: 0 fonts, 0 dirs\n",
            "/root/.local/share/fonts: skipping, no such directory\n",
            "/root/.fonts: skipping, no such directory\n",
            "/var/cache/fontconfig: cleaning cache directory\n",
            "/root/.cache/fontconfig: not cleaning non-existent cache directory\n",
            "/root/.fontconfig: not cleaning non-existent cache directory\n",
            "fc-cache: succeeded\n"
          ]
        }
      ]
    },
    {
      "cell_type": "code",
      "source": [
        "import matplotlib.pyplot as plt\n",
        "import seaborn as sns\n",
        "\n",
        "import pandas as pd\n",
        "import numpy as np"
      ],
      "metadata": {
        "id": "INnJt-a5ZK92"
      },
      "execution_count": 22,
      "outputs": []
    },
    {
      "cell_type": "code",
      "source": [
        "df1 = pd.read_csv('/content/drive/MyDrive/인스타카트/aisles.csv')               # 소분류\n",
        "df2 = pd.read_csv('/content/drive/MyDrive/인스타카트/departments.csv')          # 대분류\n",
        "df3 = pd.read_csv('/content/drive/MyDrive/인스타카트/order_products__prior.csv')\n",
        "df4 = pd.read_csv('/content/drive/MyDrive/인스타카트/order_products__train.csv')\n",
        "df5 = pd.read_csv('/content/drive/MyDrive/인스타카트/orders.csv')\n",
        "df6 = pd.read_csv('/content/drive/MyDrive/인스타카트/products.csv')"
      ],
      "metadata": {
        "id": "wfLtQBhVkUfN"
      },
      "execution_count": 2,
      "outputs": []
    },
    {
      "cell_type": "code",
      "source": [
        "df1.isnull().sum()"
      ],
      "metadata": {
        "id": "fevHHqohlj42",
        "colab": {
          "base_uri": "https://localhost:8080/"
        },
        "outputId": "833ac719-35e4-4239-905b-7ce71aa6e0bc"
      },
      "execution_count": 14,
      "outputs": [
        {
          "output_type": "execute_result",
          "data": {
            "text/plain": [
              "aisle_id    0\n",
              "aisle       0\n",
              "dtype: int64"
            ]
          },
          "metadata": {},
          "execution_count": 14
        }
      ]
    },
    {
      "cell_type": "code",
      "source": [
        "df2.isnull().sum()"
      ],
      "metadata": {
        "id": "wbhd3i14lqc2",
        "colab": {
          "base_uri": "https://localhost:8080/"
        },
        "outputId": "4067e567-cd48-4598-b151-74d32e8ec49d"
      },
      "execution_count": 15,
      "outputs": [
        {
          "output_type": "execute_result",
          "data": {
            "text/plain": [
              "department_id    0\n",
              "department       0\n",
              "dtype: int64"
            ]
          },
          "metadata": {},
          "execution_count": 15
        }
      ]
    },
    {
      "cell_type": "code",
      "source": [
        "df3.isnull().sum()"
      ],
      "metadata": {
        "id": "iAddx9Nfl3Ff",
        "colab": {
          "base_uri": "https://localhost:8080/"
        },
        "outputId": "8d447083-da65-427c-8a70-4d718731de31"
      },
      "execution_count": 16,
      "outputs": [
        {
          "output_type": "execute_result",
          "data": {
            "text/plain": [
              "order_id             0\n",
              "product_id           0\n",
              "add_to_cart_order    0\n",
              "reordered            0\n",
              "dtype: int64"
            ]
          },
          "metadata": {},
          "execution_count": 16
        }
      ]
    },
    {
      "cell_type": "code",
      "source": [
        "df4.isnull().sum()"
      ],
      "metadata": {
        "id": "tLpJMTrjl6D3",
        "colab": {
          "base_uri": "https://localhost:8080/"
        },
        "outputId": "a12f0b5d-baa1-4f46-8f51-63fc22511979"
      },
      "execution_count": 17,
      "outputs": [
        {
          "output_type": "execute_result",
          "data": {
            "text/plain": [
              "order_id             0\n",
              "product_id           0\n",
              "add_to_cart_order    0\n",
              "reordered            0\n",
              "dtype: int64"
            ]
          },
          "metadata": {},
          "execution_count": 17
        }
      ]
    },
    {
      "cell_type": "code",
      "source": [
        "df5.isnull().sum() # 현재 주문 이전 주문과의 텀(데이터 유지)"
      ],
      "metadata": {
        "id": "LJtlIqk3l-uo",
        "colab": {
          "base_uri": "https://localhost:8080/"
        },
        "outputId": "e89d380a-6d06-49dc-af65-d55e6a643920"
      },
      "execution_count": 18,
      "outputs": [
        {
          "output_type": "execute_result",
          "data": {
            "text/plain": [
              "order_id                       0\n",
              "user_id                        0\n",
              "eval_set                       0\n",
              "order_number                   0\n",
              "order_dow                      0\n",
              "order_hour_of_day              0\n",
              "days_since_prior_order    206209\n",
              "dtype: int64"
            ]
          },
          "metadata": {},
          "execution_count": 18
        }
      ]
    },
    {
      "cell_type": "code",
      "source": [
        "df6.isnull().sum()"
      ],
      "metadata": {
        "id": "kSs4kve5mA4Z",
        "colab": {
          "base_uri": "https://localhost:8080/"
        },
        "outputId": "e7dc6f94-ec73-45e0-abc4-92faf7470660"
      },
      "execution_count": 19,
      "outputs": [
        {
          "output_type": "execute_result",
          "data": {
            "text/plain": [
              "product_id       0\n",
              "product_name     0\n",
              "aisle_id         0\n",
              "department_id    0\n",
              "dtype: int64"
            ]
          },
          "metadata": {},
          "execution_count": 19
        }
      ]
    },
    {
      "cell_type": "code",
      "source": [
        "# 데이터 합치는 함수\n",
        "def df_merge(t1,t2,t3):\n",
        "    data = pd.merge(t1,t2)\n",
        "    data = pd.merge(data,t3)\n",
        "    return data"
      ],
      "metadata": {
        "id": "pWEljM2cnF-E"
      },
      "execution_count": 3,
      "outputs": []
    },
    {
      "cell_type": "code",
      "source": [
        "df_prior = df_merge(df3,df5,df6)\n",
        "df_train = df_merge(df4,df5,df6)"
      ],
      "metadata": {
        "id": "Tq-zXFb7uCu6"
      },
      "execution_count": 4,
      "outputs": []
    },
    {
      "cell_type": "code",
      "source": [
        "# 그래프분석에 사용할 데이터 만들기\n",
        "prior_graph = df_prior.drop(['product_id','aisle_id','department_id','eval_set'],axis=1)\n",
        "train_graph = df_train.drop(['product_id','aisle_id','department_id','eval_set'],axis=1)"
      ],
      "metadata": {
        "id": "Ik-UJdOZqDUU"
      },
      "execution_count": 5,
      "outputs": []
    },
    {
      "cell_type": "code",
      "source": [
        "# 컬럼명 변경\n",
        "def df_rename(data):\n",
        "    data.columns = ['주문번호','선택순서','재주문','유저번호','누적주문','요일','주문시간','주문텀','제품']\n",
        "    return data"
      ],
      "metadata": {
        "id": "FB8Llhu-3sDw"
      },
      "execution_count": 6,
      "outputs": []
    },
    {
      "cell_type": "code",
      "source": [
        "prior_graph = df_rename(prior_graph)\n",
        "train_graph = df_rename(train_graph)"
      ],
      "metadata": {
        "id": "XC_tCP0o3x3a"
      },
      "execution_count": 7,
      "outputs": []
    },
    {
      "cell_type": "code",
      "source": [
        "# CSV로 저장\n",
        "# df_prior.to_csv(index=False)\n",
        "# df_train.to_csv('file.csv',index=False)"
      ],
      "metadata": {
        "id": "jYtb-1APJpVn"
      },
      "execution_count": 13,
      "outputs": []
    },
    {
      "cell_type": "code",
      "source": [
        "product_count = train_graph['제품'].value_counts()"
      ],
      "metadata": {
        "id": "hESwpYLmR6vJ"
      },
      "execution_count": 23,
      "outputs": []
    },
    {
      "cell_type": "code",
      "source": [
        "top_5 = product_count[:5].to_frame().reset_index()"
      ],
      "metadata": {
        "id": "y2ttBUfqUmV3"
      },
      "execution_count": 35,
      "outputs": []
    },
    {
      "cell_type": "code",
      "source": [
        "top_5.rename(columns={'index':'제품명'},inplace=True)"
      ],
      "metadata": {
        "id": "_CMI__QSbi5v"
      },
      "execution_count": 55,
      "outputs": []
    },
    {
      "cell_type": "code",
      "source": [
        "plt.rc('font', family='NanumBarunGothic')\n",
        "plt.figure(figsize=(8,6))\n",
        "sns.barplot(data = top_5, x='제품명',y='제품')\n",
        "plt.show()"
      ],
      "metadata": {
        "colab": {
          "base_uri": "https://localhost:8080/",
          "height": 389
        },
        "id": "fZxi4MzAS_IF",
        "outputId": "65dd613a-b450-4df7-c856-afbcef875496"
      },
      "execution_count": 57,
      "outputs": [
        {
          "output_type": "display_data",
          "data": {
            "text/plain": [
              "<Figure size 576x432 with 1 Axes>"
            ],
            "image/png": "[encoded data removed]"
          },
          "metadata": {
            "needs_background": "light"
          }
        }
      ]
    },
    {
      "cell_type": "code",
      "source": [],
      "metadata": {
        "id": "w8Z8PAymdcds"
      },
      "execution_count": null,
      "outputs": []
    },
    {
      "cell_type": "markdown",
      "source": [
        "## 4) 모델링"
      ],
      "metadata": {
        "id": "gh7kGCI8hUKI"
      }
    },
    {
      "cell_type": "markdown",
      "source": [
        "## 5) 평가"
      ],
      "metadata": {
        "id": "vAHummnChWVu"
      }
    },
    {
      "cell_type": "markdown",
      "source": [
        "## 6) 배포"
      ],
      "metadata": {
        "id": "jxW9YQndhY3w"
      }
    },
    {
      "cell_type": "code",
      "execution_count": 20,
      "metadata": {
        "id": "E4N69JGigrVR"
      },
      "outputs": [],
      "source": []
    }
  ]
}