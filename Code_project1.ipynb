{
  "nbformat": 4,
  "nbformat_minor": 0,
  "metadata": {
    "colab": {
      "provenance": [],
      "mount_file_id": "1_kQNolFDY4G3dXCAKg3uoXZpadLuCY1c",
      "authorship_tag": "ABX9TyP4eg2+8iGi6nbFWU7yeugB",
      "include_colab_link": true
    },
    "kernelspec": {
      "name": "python3",
      "display_name": "Python 3"
    },
    "language_info": {
      "name": "python"
    }
  },
  "cells": [
    {
      "cell_type": "markdown",
      "metadata": {
        "id": "view-in-github",
        "colab_type": "text"
      },
      "source": [
        "<a href=\"https://colab.research.google.com/github/ev1025/CP1/blob/main/Code_project1.ipynb\" target=\"_parent\"><img src=\"https://colab.research.google.com/assets/colab-badge.svg\" alt=\"Open In Colab\"/></a>"
      ]
    },
    {
      "cell_type": "markdown",
      "source": [
        "# 인스타카트 데이터 분석"
      ],
      "metadata": {
        "id": "VpDCmYYFg9Z4"
      }
    },
    {
      "cell_type": "markdown",
      "source": [
        "참고자료 : 케글 인스타카트 장바구니 분석 데이터     \n",
        "https://www.kaggle.com/datasets/psparks/instacart-market-basket-analysis"
      ],
      "metadata": {
        "id": "TJNQ25YFhgoG"
      }
    },
    {
      "cell_type": "markdown",
      "source": [
        "# 1. CRISP-DM 기반 분석"
      ],
      "metadata": {
        "id": "z-oZneANhFPX"
      }
    },
    {
      "cell_type": "markdown",
      "source": [
        "## 1) 비즈니스이해"
      ],
      "metadata": {
        "id": "Feqiq8RVhOJK"
      }
    },
    {
      "cell_type": "markdown",
      "source": [
        "## 2) 데이터 이해"
      ],
      "metadata": {
        "id": "GX4uEt0phQxU"
      }
    },
    {
      "cell_type": "markdown",
      "source": [
        "## 3) 데이터 전처리"
      ],
      "metadata": {
        "id": "gOjbyTlphSp0"
      }
    },
    {
      "cell_type": "code",
      "source": [
        "# 한글 그래프 폰트(런타임재시작, plt.rc('font', family='NanumBarunGothic'))\n",
        "!sudo apt-get install -y fonts-nanum\n",
        "!sudo fc-cache -fv\n",
        "!rm ~/.cache/matplotlib -rf"
      ],
      "metadata": {
        "colab": {
          "base_uri": "https://localhost:8080/"
        },
        "id": "84Jl8CSIXo4p",
        "outputId": "b50f3b71-33e6-414b-dda4-606e5a5456fa"
      },
      "execution_count": 1,
      "outputs": [
        {
          "output_type": "stream",
          "name": "stdout",
          "text": [
            "Reading package lists... Done\n",
            "Building dependency tree       \n",
            "Reading state information... Done\n",
            "fonts-nanum is already the newest version (20170925-1).\n",
            "The following package was automatically installed and is no longer required:\n",
            "  libnvidia-common-460\n",
            "Use 'sudo apt autoremove' to remove it.\n",
            "0 upgraded, 0 newly installed, 0 to remove and 21 not upgraded.\n",
            "/usr/share/fonts: caching, new cache contents: 0 fonts, 1 dirs\n",
            "/usr/share/fonts/truetype: caching, new cache contents: 0 fonts, 3 dirs\n",
            "/usr/share/fonts/truetype/humor-sans: caching, new cache contents: 1 fonts, 0 dirs\n",
            "/usr/share/fonts/truetype/liberation: caching, new cache contents: 16 fonts, 0 dirs\n",
            "/usr/share/fonts/truetype/nanum: caching, new cache contents: 10 fonts, 0 dirs\n",
            "/usr/local/share/fonts: caching, new cache contents: 0 fonts, 0 dirs\n",
            "/root/.local/share/fonts: skipping, no such directory\n",
            "/root/.fonts: skipping, no such directory\n",
            "/var/cache/fontconfig: cleaning cache directory\n",
            "/root/.cache/fontconfig: not cleaning non-existent cache directory\n",
            "/root/.fontconfig: not cleaning non-existent cache directory\n",
            "fc-cache: succeeded\n"
          ]
        }
      ]
    },
    {
      "cell_type": "code",
      "source": [
        "import matplotlib.pyplot as plt\n",
        "import seaborn as sns\n",
        "\n",
        "import pandas as pd\n",
        "import numpy as np\n",
        "from functools import reduce"
      ],
      "metadata": {
        "id": "INnJt-a5ZK92"
      },
      "execution_count": 1,
      "outputs": []
    },
    {
      "cell_type": "code",
      "source": [
        "df1 = pd.read_csv('/content/drive/MyDrive/인스타카트/aisles.csv')               # 소분류\n",
        "df2 = pd.read_csv('/content/drive/MyDrive/인스타카트/departments.csv')          # 대분류\n",
        "df3 = pd.read_csv('/content/drive/MyDrive/인스타카트/order_products__train.csv')\n",
        "df4 = pd.read_csv('/content/drive/MyDrive/인스타카트/orders.csv')\n",
        "df5 = pd.read_csv('/content/drive/MyDrive/인스타카트/products.csv')"
      ],
      "metadata": {
        "id": "wfLtQBhVkUfN"
      },
      "execution_count": 2,
      "outputs": []
    },
    {
      "cell_type": "code",
      "source": [
        "df3.shape"
      ],
      "metadata": {
        "colab": {
          "base_uri": "https://localhost:8080/"
        },
        "id": "eWSY1KoQMmrI",
        "outputId": "daa40c1f-2300-4ded-82f2-be854bc69271"
      },
      "execution_count": 4,
      "outputs": [
        {
          "output_type": "execute_result",
          "data": {
            "text/plain": [
              "(1384617, 4)"
            ]
          },
          "metadata": {},
          "execution_count": 4
        }
      ]
    },
    {
      "cell_type": "code",
      "source": [
        "df1.isnull().sum()"
      ],
      "metadata": {
        "id": "fevHHqohlj42",
        "colab": {
          "base_uri": "https://localhost:8080/"
        },
        "outputId": "55d0e945-d710-4db9-8621-484d8a0e4e7f"
      },
      "execution_count": 5,
      "outputs": [
        {
          "output_type": "execute_result",
          "data": {
            "text/plain": [
              "aisle_id    0\n",
              "aisle       0\n",
              "dtype: int64"
            ]
          },
          "metadata": {},
          "execution_count": 5
        }
      ]
    },
    {
      "cell_type": "code",
      "source": [
        "df2.isnull().sum()"
      ],
      "metadata": {
        "id": "wbhd3i14lqc2",
        "colab": {
          "base_uri": "https://localhost:8080/"
        },
        "outputId": "351caec9-a391-46da-f55e-e47ccdaea18a"
      },
      "execution_count": 6,
      "outputs": [
        {
          "output_type": "execute_result",
          "data": {
            "text/plain": [
              "department_id    0\n",
              "department       0\n",
              "dtype: int64"
            ]
          },
          "metadata": {},
          "execution_count": 6
        }
      ]
    },
    {
      "cell_type": "code",
      "source": [
        "df3.isnull().sum()"
      ],
      "metadata": {
        "id": "iAddx9Nfl3Ff",
        "colab": {
          "base_uri": "https://localhost:8080/"
        },
        "outputId": "9d9784ff-6312-4223-9f58-5b6d292276f5"
      },
      "execution_count": 7,
      "outputs": [
        {
          "output_type": "execute_result",
          "data": {
            "text/plain": [
              "order_id             0\n",
              "product_id           0\n",
              "add_to_cart_order    0\n",
              "reordered            0\n",
              "dtype: int64"
            ]
          },
          "metadata": {},
          "execution_count": 7
        }
      ]
    },
    {
      "cell_type": "code",
      "source": [
        "df4.isnull().sum()# 현재 주문 이전 주문과의 텀(데이터 유지)"
      ],
      "metadata": {
        "id": "tLpJMTrjl6D3",
        "colab": {
          "base_uri": "https://localhost:8080/"
        },
        "outputId": "dc9099ec-e86d-4165-ddd6-67c5995c3057"
      },
      "execution_count": 8,
      "outputs": [
        {
          "output_type": "execute_result",
          "data": {
            "text/plain": [
              "order_id                       0\n",
              "user_id                        0\n",
              "eval_set                       0\n",
              "order_number                   0\n",
              "order_dow                      0\n",
              "order_hour_of_day              0\n",
              "days_since_prior_order    206209\n",
              "dtype: int64"
            ]
          },
          "metadata": {},
          "execution_count": 8
        }
      ]
    },
    {
      "cell_type": "code",
      "source": [
        "df5.isnull().sum() "
      ],
      "metadata": {
        "id": "LJtlIqk3l-uo",
        "colab": {
          "base_uri": "https://localhost:8080/"
        },
        "outputId": "095fcf41-8865-42b5-a284-4de001c60d3a"
      },
      "execution_count": 9,
      "outputs": [
        {
          "output_type": "execute_result",
          "data": {
            "text/plain": [
              "product_id       0\n",
              "product_name     0\n",
              "aisle_id         0\n",
              "department_id    0\n",
              "dtype: int64"
            ]
          },
          "metadata": {},
          "execution_count": 9
        }
      ]
    },
    {
      "cell_type": "code",
      "source": [
        "# 한 번에 merge 각 컬럼이 달라서 실패\n",
        "# data = [df3,df1,df2,df5,df6]\n",
        "# full_data = reduce(lambda x,y : pd.merge(x,y), data)"
      ],
      "metadata": {
        "id": "iT3xQv1SH6Nz"
      },
      "execution_count": 10,
      "outputs": []
    },
    {
      "cell_type": "code",
      "source": [
        "# 데이터 합치는 함수\n",
        "def df_merge(t1,t2,t3,t4,t5):\n",
        "    data = pd.merge(t1,t2)\n",
        "    data = pd.merge(data,t3)\n",
        "    data = pd.merge(data,t4)\n",
        "    data = pd.merge(data,t5)\n",
        "    return data"
      ],
      "metadata": {
        "id": "pWEljM2cnF-E"
      },
      "execution_count": 3,
      "outputs": []
    },
    {
      "cell_type": "code",
      "source": [
        "full_data = df_merge(df3,df4,df5,df1,df2)\n",
        "full_data"
      ],
      "metadata": {
        "id": "Tq-zXFb7uCu6",
        "colab": {
          "base_uri": "https://localhost:8080/",
          "height": 800
        },
        "outputId": "a3feef31-3460-47e0-eda1-5508ffc3fc49"
      },
      "execution_count": 4,
      "outputs": [
        {
          "output_type": "execute_result",
          "data": {
            "text/plain": [
              "         order_id  product_id  add_to_cart_order  reordered  user_id eval_set  \\\n",
              "0               1       49302                  1          1   112108    train   \n",
              "1          816049       49302                  7          1    47901    train   \n",
              "2         1242203       49302                  1          1     2993    train   \n",
              "3         1383349       49302                 11          1    41425    train   \n",
              "4         1787378       49302                  8          0   187205    train   \n",
              "...           ...         ...                ...        ...      ...      ...   \n",
              "1384612   3283540       39484                 23          1   103639    train   \n",
              "1384613   3339757       24892                  1          1   157916    train   \n",
              "1384614   3343813       24892                  9          0    43638    train   \n",
              "1384615   3343813       27290                 10          0    43638    train   \n",
              "1384616   3406152       20143                  5          0    66681    train   \n",
              "\n",
              "         order_number  order_dow  order_hour_of_day  days_since_prior_order  \\\n",
              "0                   4          4                 10                     9.0   \n",
              "1                  14          4                  6                    16.0   \n",
              "2                  15          0                  7                     7.0   \n",
              "3                   4          3                  8                    14.0   \n",
              "4                   5          4                 14                    30.0   \n",
              "...               ...        ...                ...                     ...   \n",
              "1384612             7          0                 20                     6.0   \n",
              "1384613             4          2                  6                    22.0   \n",
              "1384614            10          2                 15                    22.0   \n",
              "1384615            10          2                 15                    22.0   \n",
              "1384616             8          6                  8                     3.0   \n",
              "\n",
              "                                              product_name  aisle_id  \\\n",
              "0                                         Bulgarian Yogurt       120   \n",
              "1                                         Bulgarian Yogurt       120   \n",
              "2                                         Bulgarian Yogurt       120   \n",
              "3                                         Bulgarian Yogurt       120   \n",
              "4                                         Bulgarian Yogurt       120   \n",
              "...                                                    ...       ...   \n",
              "1384612              Sliced Turkey Feast in Gravy Cat Food        41   \n",
              "1384613                 Wild Mackerel & Whitefish Cat Food        41   \n",
              "1384614                 Wild Mackerel & Whitefish Cat Food        41   \n",
              "1384615  Purrfect Delicacies Wet Cat Food Flaked Oceanf...        41   \n",
              "1384616  Savory Shreds with Turkey & Giblets in Gravy C...        41   \n",
              "\n",
              "         department_id          aisle  department  \n",
              "0                   16         yogurt  dairy eggs  \n",
              "1                   16         yogurt  dairy eggs  \n",
              "2                   16         yogurt  dairy eggs  \n",
              "3                   16         yogurt  dairy eggs  \n",
              "4                   16         yogurt  dairy eggs  \n",
              "...                ...            ...         ...  \n",
              "1384612              8  cat food care        pets  \n",
              "1384613              8  cat food care        pets  \n",
              "1384614              8  cat food care        pets  \n",
              "1384615              8  cat food care        pets  \n",
              "1384616              8  cat food care        pets  \n",
              "\n",
              "[1384617 rows x 15 columns]"
            ],
            "text/html": [
              "\n",
              "  <div id=\"df-6ce2e31c-6efb-49fa-bea8-dfa857ebef7d\">\n",
              "    <div class=\"colab-df-container\">\n",
              "      <div>\n",
              "<style scoped>\n",
              "    .dataframe tbody tr th:only-of-type {\n",
              "        vertical-align: middle;\n",
              "    }\n",
              "\n",
              "    .dataframe tbody tr th {\n",
              "        vertical-align: top;\n",
              "    }\n",
              "\n",
              "    .dataframe thead th {\n",
              "        text-align: right;\n",
              "    }\n",
              "</style>\n",
              "<table border=\"1\" class=\"dataframe\">\n",
              "  <thead>\n",
              "    <tr style=\"text-align: right;\">\n",
              "      <th></th>\n",
              "      <th>order_id</th>\n",
              "      <th>product_id</th>\n",
              "      <th>add_to_cart_order</th>\n",
              "      <th>reordered</th>\n",
              "      <th>user_id</th>\n",
              "      <th>eval_set</th>\n",
              "      <th>order_number</th>\n",
              "      <th>order_dow</th>\n",
              "      <th>order_hour_of_day</th>\n",
              "      <th>days_since_prior_order</th>\n",
              "      <th>product_name</th>\n",
              "      <th>aisle_id</th>\n",
              "      <th>department_id</th>\n",
              "      <th>aisle</th>\n",
              "      <th>department</th>\n",
              "    </tr>\n",
              "  </thead>\n",
              "  <tbody>\n",
              "    <tr>\n",
              "      <th>0</th>\n",
              "      <td>1</td>\n",
              "      <td>49302</td>\n",
              "      <td>1</td>\n",
              "      <td>1</td>\n",
              "      <td>112108</td>\n",
              "      <td>train</td>\n",
              "      <td>4</td>\n",
              "      <td>4</td>\n",
              "      <td>10</td>\n",
              "      <td>9.0</td>\n",
              "      <td>Bulgarian Yogurt</td>\n",
              "      <td>120</td>\n",
              "      <td>16</td>\n",
              "      <td>yogurt</td>\n",
              "      <td>dairy eggs</td>\n",
              "    </tr>\n",
              "    <tr>\n",
              "      <th>1</th>\n",
              "      <td>816049</td>\n",
              "      <td>49302</td>\n",
              "      <td>7</td>\n",
              "      <td>1</td>\n",
              "      <td>47901</td>\n",
              "      <td>train</td>\n",
              "      <td>14</td>\n",
              "      <td>4</td>\n",
              "      <td>6</td>\n",
              "      <td>16.0</td>\n",
              "      <td>Bulgarian Yogurt</td>\n",
              "      <td>120</td>\n",
              "      <td>16</td>\n",
              "      <td>yogurt</td>\n",
              "      <td>dairy eggs</td>\n",
              "    </tr>\n",
              "    <tr>\n",
              "      <th>2</th>\n",
              "      <td>1242203</td>\n",
              "      <td>49302</td>\n",
              "      <td>1</td>\n",
              "      <td>1</td>\n",
              "      <td>2993</td>\n",
              "      <td>train</td>\n",
              "      <td>15</td>\n",
              "      <td>0</td>\n",
              "      <td>7</td>\n",
              "      <td>7.0</td>\n",
              "      <td>Bulgarian Yogurt</td>\n",
              "      <td>120</td>\n",
              "      <td>16</td>\n",
              "      <td>yogurt</td>\n",
              "      <td>dairy eggs</td>\n",
              "    </tr>\n",
              "    <tr>\n",
              "      <th>3</th>\n",
              "      <td>1383349</td>\n",
              "      <td>49302</td>\n",
              "      <td>11</td>\n",
              "      <td>1</td>\n",
              "      <td>41425</td>\n",
              "      <td>train</td>\n",
              "      <td>4</td>\n",
              "      <td>3</td>\n",
              "      <td>8</td>\n",
              "      <td>14.0</td>\n",
              "      <td>Bulgarian Yogurt</td>\n",
              "      <td>120</td>\n",
              "      <td>16</td>\n",
              "      <td>yogurt</td>\n",
              "      <td>dairy eggs</td>\n",
              "    </tr>\n",
              "    <tr>\n",
              "      <th>4</th>\n",
              "      <td>1787378</td>\n",
              "      <td>49302</td>\n",
              "      <td>8</td>\n",
              "      <td>0</td>\n",
              "      <td>187205</td>\n",
              "      <td>train</td>\n",
              "      <td>5</td>\n",
              "      <td>4</td>\n",
              "      <td>14</td>\n",
              "      <td>30.0</td>\n",
              "      <td>Bulgarian Yogurt</td>\n",
              "      <td>120</td>\n",
              "      <td>16</td>\n",
              "      <td>yogurt</td>\n",
              "      <td>dairy eggs</td>\n",
              "    </tr>\n",
              "    <tr>\n",
              "      <th>...</th>\n",
              "      <td>...</td>\n",
              "      <td>...</td>\n",
              "      <td>...</td>\n",
              "      <td>...</td>\n",
              "      <td>...</td>\n",
              "      <td>...</td>\n",
              "      <td>...</td>\n",
              "      <td>...</td>\n",
              "      <td>...</td>\n",
              "      <td>...</td>\n",
              "      <td>...</td>\n",
              "      <td>...</td>\n",
              "      <td>...</td>\n",
              "      <td>...</td>\n",
              "      <td>...</td>\n",
              "    </tr>\n",
              "    <tr>\n",
              "      <th>1384612</th>\n",
              "      <td>3283540</td>\n",
              "      <td>39484</td>\n",
              "      <td>23</td>\n",
              "      <td>1</td>\n",
              "      <td>103639</td>\n",
              "      <td>train</td>\n",
              "      <td>7</td>\n",
              "      <td>0</td>\n",
              "      <td>20</td>\n",
              "      <td>6.0</td>\n",
              "      <td>Sliced Turkey Feast in Gravy Cat Food</td>\n",
              "      <td>41</td>\n",
              "      <td>8</td>\n",
              "      <td>cat food care</td>\n",
              "      <td>pets</td>\n",
              "    </tr>\n",
              "    <tr>\n",
              "      <th>1384613</th>\n",
              "      <td>3339757</td>\n",
              "      <td>24892</td>\n",
              "      <td>1</td>\n",
              "      <td>1</td>\n",
              "      <td>157916</td>\n",
              "      <td>train</td>\n",
              "      <td>4</td>\n",
              "      <td>2</td>\n",
              "      <td>6</td>\n",
              "      <td>22.0</td>\n",
              "      <td>Wild Mackerel &amp; Whitefish Cat Food</td>\n",
              "      <td>41</td>\n",
              "      <td>8</td>\n",
              "      <td>cat food care</td>\n",
              "      <td>pets</td>\n",
              "    </tr>\n",
              "    <tr>\n",
              "      <th>1384614</th>\n",
              "      <td>3343813</td>\n",
              "      <td>24892</td>\n",
              "      <td>9</td>\n",
              "      <td>0</td>\n",
              "      <td>43638</td>\n",
              "      <td>train</td>\n",
              "      <td>10</td>\n",
              "      <td>2</td>\n",
              "      <td>15</td>\n",
              "      <td>22.0</td>\n",
              "      <td>Wild Mackerel &amp; Whitefish Cat Food</td>\n",
              "      <td>41</td>\n",
              "      <td>8</td>\n",
              "      <td>cat food care</td>\n",
              "      <td>pets</td>\n",
              "    </tr>\n",
              "    <tr>\n",
              "      <th>1384615</th>\n",
              "      <td>3343813</td>\n",
              "      <td>27290</td>\n",
              "      <td>10</td>\n",
              "      <td>0</td>\n",
              "      <td>43638</td>\n",
              "      <td>train</td>\n",
              "      <td>10</td>\n",
              "      <td>2</td>\n",
              "      <td>15</td>\n",
              "      <td>22.0</td>\n",
              "      <td>Purrfect Delicacies Wet Cat Food Flaked Oceanf...</td>\n",
              "      <td>41</td>\n",
              "      <td>8</td>\n",
              "      <td>cat food care</td>\n",
              "      <td>pets</td>\n",
              "    </tr>\n",
              "    <tr>\n",
              "      <th>1384616</th>\n",
              "      <td>3406152</td>\n",
              "      <td>20143</td>\n",
              "      <td>5</td>\n",
              "      <td>0</td>\n",
              "      <td>66681</td>\n",
              "      <td>train</td>\n",
              "      <td>8</td>\n",
              "      <td>6</td>\n",
              "      <td>8</td>\n",
              "      <td>3.0</td>\n",
              "      <td>Savory Shreds with Turkey &amp; Giblets in Gravy C...</td>\n",
              "      <td>41</td>\n",
              "      <td>8</td>\n",
              "      <td>cat food care</td>\n",
              "      <td>pets</td>\n",
              "    </tr>\n",
              "  </tbody>\n",
              "</table>\n",
              "<p>1384617 rows × 15 columns</p>\n",
              "</div>\n",
              "      <button class=\"colab-df-convert\" onclick=\"convertToInteractive('df-6ce2e31c-6efb-49fa-bea8-dfa857ebef7d')\"\n",
              "              title=\"Convert this dataframe to an interactive table.\"\n",
              "              style=\"display:none;\">\n",
              "        \n",
              "  <svg xmlns=\"http://www.w3.org/2000/svg\" height=\"24px\"viewBox=\"0 0 24 24\"\n",
              "       width=\"24px\">\n",
              "    <path d=\"M0 0h24v24H0V0z\" fill=\"none\"/>\n",
              "    <path d=\"M18.56 5.44l.94 2.06.94-2.06 2.06-.94-2.06-.94-.94-2.06-.94 2.06-2.06.94zm-11 1L8.5 8.5l.94-2.06 2.06-.94-2.06-.94L8.5 2.5l-.94 2.06-2.06.94zm10 10l.94 2.06.94-2.06 2.06-.94-2.06-.94-.94-2.06-.94 2.06-2.06.94z\"/><path d=\"M17.41 7.96l-1.37-1.37c-.4-.4-.92-.59-1.43-.59-.52 0-1.04.2-1.43.59L10.3 9.45l-7.72 7.72c-.78.78-.78 2.05 0 2.83L4 21.41c.39.39.9.59 1.41.59.51 0 1.02-.2 1.41-.59l7.78-7.78 2.81-2.81c.8-.78.8-2.07 0-2.86zM5.41 20L4 18.59l7.72-7.72 1.47 1.35L5.41 20z\"/>\n",
              "  </svg>\n",
              "      </button>\n",
              "      \n",
              "  <style>\n",
              "    .colab-df-container {\n",
              "      display:flex;\n",
              "      flex-wrap:wrap;\n",
              "      gap: 12px;\n",
              "    }\n",
              "\n",
              "    .colab-df-convert {\n",
              "      background-color: #E8F0FE;\n",
              "      border: none;\n",
              "      border-radius: 50%;\n",
              "      cursor: pointer;\n",
              "      display: none;\n",
              "      fill: #1967D2;\n",
              "      height: 32px;\n",
              "      padding: 0 0 0 0;\n",
              "      width: 32px;\n",
              "    }\n",
              "\n",
              "    .colab-df-convert:hover {\n",
              "      background-color: #E2EBFA;\n",
              "      box-shadow: 0px 1px 2px rgba(60, 64, 67, 0.3), 0px 1px 3px 1px rgba(60, 64, 67, 0.15);\n",
              "      fill: #174EA6;\n",
              "    }\n",
              "\n",
              "    [theme=dark] .colab-df-convert {\n",
              "      background-color: #3B4455;\n",
              "      fill: #D2E3FC;\n",
              "    }\n",
              "\n",
              "    [theme=dark] .colab-df-convert:hover {\n",
              "      background-color: #434B5C;\n",
              "      box-shadow: 0px 1px 3px 1px rgba(0, 0, 0, 0.15);\n",
              "      filter: drop-shadow(0px 1px 2px rgba(0, 0, 0, 0.3));\n",
              "      fill: #FFFFFF;\n",
              "    }\n",
              "  </style>\n",
              "\n",
              "      <script>\n",
              "        const buttonEl =\n",
              "          document.querySelector('#df-6ce2e31c-6efb-49fa-bea8-dfa857ebef7d button.colab-df-convert');\n",
              "        buttonEl.style.display =\n",
              "          google.colab.kernel.accessAllowed ? 'block' : 'none';\n",
              "\n",
              "        async function convertToInteractive(key) {\n",
              "          const element = document.querySelector('#df-6ce2e31c-6efb-49fa-bea8-dfa857ebef7d');\n",
              "          const dataTable =\n",
              "            await google.colab.kernel.invokeFunction('convertToInteractive',\n",
              "                                                     [key], {});\n",
              "          if (!dataTable) return;\n",
              "\n",
              "          const docLinkHtml = 'Like what you see? Visit the ' +\n",
              "            '<a target=\"_blank\" href=https://colab.research.google.com/notebooks/data_table.ipynb>data table notebook</a>'\n",
              "            + ' to learn more about interactive tables.';\n",
              "          element.innerHTML = '';\n",
              "          dataTable['output_type'] = 'display_data';\n",
              "          await google.colab.output.renderOutput(dataTable, element);\n",
              "          const docLink = document.createElement('div');\n",
              "          docLink.innerHTML = docLinkHtml;\n",
              "          element.appendChild(docLink);\n",
              "        }\n",
              "      </script>\n",
              "    </div>\n",
              "  </div>\n",
              "  "
            ]
          },
          "metadata": {},
          "execution_count": 4
        }
      ]
    },
    {
      "cell_type": "code",
      "source": [
        "# 그래프분석에 사용할 데이터 만들기\n",
        "df_graph = full_data[['order_id', 'user_id','product_name','aisle','department','order_number','reordered','order_dow','days_since_prior_order']]"
      ],
      "metadata": {
        "id": "Ik-UJdOZqDUU"
      },
      "execution_count": 5,
      "outputs": []
    },
    {
      "cell_type": "code",
      "source": [
        "# 컬럼명 변경\n",
        "def df_rename(data):\n",
        "    data.columns = ['주문번호','유저','제품','소분류','대분류','누적주문','재주문','요일','주문텀']\n",
        "    return data"
      ],
      "metadata": {
        "id": "FB8Llhu-3sDw"
      },
      "execution_count": 6,
      "outputs": []
    },
    {
      "cell_type": "code",
      "source": [
        "df_graph = df_rename(df_graph)\n",
        "df_graph = df_graph.sort_values(by='주문번호',ignore_index=True)"
      ],
      "metadata": {
        "id": "XC_tCP0o3x3a"
      },
      "execution_count": 7,
      "outputs": []
    },
    {
      "cell_type": "code",
      "source": [
        "# CSV로 저장\n",
        "# df_graph.to_csv('file.csv',index=False)"
      ],
      "metadata": {
        "id": "jYtb-1APJpVn"
      },
      "execution_count": 16,
      "outputs": []
    },
    {
      "cell_type": "markdown",
      "source": [
        "#### 분석"
      ],
      "metadata": {
        "id": "6Y36hPserqLw"
      }
    },
    {
      "cell_type": "code",
      "source": [
        "df_graph.groupby('제품')['주문텀'].max().sort_values(ascending=False).dropna()"
      ],
      "metadata": {
        "colab": {
          "base_uri": "https://localhost:8080/"
        },
        "id": "DJmB0FeXlJzf",
        "outputId": "56ec3098-4054-429f-d7f5-e19e35ad7933"
      },
      "execution_count": 11,
      "outputs": [
        {
          "output_type": "execute_result",
          "data": {
            "text/plain": [
              "제품\n",
              "#2 Coffee Filters                                        30.0\n",
              "Organic Lowatf Plain Yogurt                              30.0\n",
              "Organic Mandarins                                        30.0\n",
              "Organic Maitake Mushrooms                                30.0\n",
              "Organic Magnolia and Poppy Scented Glass Cleaner         30.0\n",
              "                                                         ... \n",
              "Aromafier Diffuser, Grey                                  0.0\n",
              "Medium Picture Hanging Strips                             0.0\n",
              "Hershey's Chocolate/Strawberry                            0.0\n",
              "Gallon Size Single Slide Storage Bags                     0.0\n",
              "Dairy Free 5X Protein Almond Plus Vanilla Almond Milk     0.0\n",
              "Name: 주문텀, Length: 39123, dtype: float64"
            ]
          },
          "metadata": {},
          "execution_count": 11
        }
      ]
    },
    {
      "cell_type": "code",
      "source": [
        "# 대분류 순위\n",
        "df_graph['대분류'].value_counts(normalize=True)"
      ],
      "metadata": {
        "id": "F7tLdFsjSrIo"
      },
      "execution_count": null,
      "outputs": []
    },
    {
      "cell_type": "code",
      "source": [
        "count_depart = df_graph['대분류'].value_counts()\n",
        "count_depart = count_depart.to_frame()\n",
        "count_depart.reset_index(inplace=True)\n",
        "count_depart.columns = ['대분류','개수']"
      ],
      "metadata": {
        "id": "91w0vEwvd8AD"
      },
      "execution_count": null,
      "outputs": []
    },
    {
      "cell_type": "code",
      "source": [
        "plt.rc('font', size= 15, family='NanumBarunGothic')\n",
        "plt.rc('xtick',labelsize=12)\n",
        "\n",
        "plt.figure(figsize =(12,8))\n",
        "sns.barplot(data=count_depart[:10],x='대분류',y='개수')\n",
        "\n",
        "plt.show()"
      ],
      "metadata": {
        "id": "VR-mbv8werR8"
      },
      "execution_count": null,
      "outputs": []
    },
    {
      "cell_type": "code",
      "source": [
        "# 대분류 produce의 제품목록\n",
        "df_graph[df_graph['대분류']=='produce']['제품'].value_counts()"
      ],
      "metadata": {
        "id": "8Llem3cSTJ9T"
      },
      "execution_count": null,
      "outputs": []
    },
    {
      "cell_type": "code",
      "source": [
        "df_graph.groupby(['요일','대분류'])['유저'].count().loc[0]"
      ],
      "metadata": {
        "id": "OHywSQEPiRaX"
      },
      "execution_count": null,
      "outputs": []
    },
    {
      "cell_type": "code",
      "source": [
        "product_count = df_graph['제품'].value_counts()\n",
        "product_count"
      ],
      "metadata": {
        "id": "hESwpYLmR6vJ"
      },
      "execution_count": null,
      "outputs": []
    },
    {
      "cell_type": "code",
      "source": [
        "top_5 = product_count[:5].to_frame().reset_index()"
      ],
      "metadata": {
        "id": "y2ttBUfqUmV3"
      },
      "execution_count": null,
      "outputs": []
    },
    {
      "cell_type": "code",
      "source": [
        "top_5.rename(columns={'index':'제품명'},inplace=True)"
      ],
      "metadata": {
        "id": "_CMI__QSbi5v"
      },
      "execution_count": null,
      "outputs": []
    },
    {
      "cell_type": "code",
      "source": [
        "plt.figure(figsize=(10,7))\n",
        "sns.barplot(data = top_5, x='제품명',y='제품')\n",
        "plt.show()"
      ],
      "metadata": {
        "id": "fZxi4MzAS_IF"
      },
      "execution_count": null,
      "outputs": []
    },
    {
      "cell_type": "code",
      "source": [
        "# 재주문이 많은 제품 top20\n",
        "df_graph.groupby('제품')['재주문'].sum().sort_values(ascending=False).head(20)"
      ],
      "metadata": {
        "id": "ZuhBFbfhU2XI"
      },
      "execution_count": null,
      "outputs": []
    },
    {
      "cell_type": "code",
      "source": [
        "df_graph['소분류'].value_counts(normalize=True)"
      ],
      "metadata": {
        "id": "J-UNcTabSz6d"
      },
      "execution_count": null,
      "outputs": []
    },
    {
      "cell_type": "code",
      "source": [
        "df_days = df_graph.groupby('요일')['유저'].count()\n",
        "df_days = df_days.to_frame()\n",
        "df_days.reset_index(inplace=True)\n",
        "df_days"
      ],
      "metadata": {
        "id": "HSnfiazmWz8C"
      },
      "execution_count": null,
      "outputs": []
    },
    {
      "cell_type": "code",
      "source": [
        "plt.figure(figsize=(8,6))\n",
        "sns.barplot(data = df_days, x=df_days['요일'],y= df_days['유저'] )"
      ],
      "metadata": {
        "id": "4N24nUCzWZ3A"
      },
      "execution_count": null,
      "outputs": []
    },
    {
      "cell_type": "code",
      "source": [
        "day_depart = df_graph.groupby('요일')['대분류'].value_counts()\n",
        "day_depart = day_depart.to_frame()\n",
        "day_depart"
      ],
      "metadata": {
        "id": "9go5R3zmX_WA"
      },
      "execution_count": null,
      "outputs": []
    },
    {
      "cell_type": "code",
      "source": [
        "day_depart.loc[0]"
      ],
      "metadata": {
        "id": "4KFrQxMBYrDI"
      },
      "execution_count": null,
      "outputs": []
    },
    {
      "cell_type": "code",
      "source": [
        "day_aisles = df_graph.groupby('요일')['소분류'].value_counts()\n",
        "day_aisles = day_aisles.to_frame()\n",
        "day_aisles"
      ],
      "metadata": {
        "id": "dU3mjekPcOFF"
      },
      "execution_count": null,
      "outputs": []
    },
    {
      "cell_type": "code",
      "source": [
        "day_aisles.loc[1]"
      ],
      "metadata": {
        "id": "b_efje0EctZg"
      },
      "execution_count": null,
      "outputs": []
    },
    {
      "cell_type": "markdown",
      "source": [
        "## 4) 모델링"
      ],
      "metadata": {
        "id": "gh7kGCI8hUKI"
      }
    },
    {
      "cell_type": "markdown",
      "source": [
        "k-means"
      ],
      "metadata": {
        "id": "AKdEEzqejMfG"
      }
    },
    {
      "cell_type": "code",
      "source": [
        "df_graph"
      ],
      "metadata": {
        "colab": {
          "base_uri": "https://localhost:8080/"
        },
        "id": "K2m0VCPew2mI",
        "outputId": "af225dc9-58d9-46f7-c37f-d5e90907daea"
      },
      "execution_count": 8,
      "outputs": [
        {
          "output_type": "execute_result",
          "data": {
            "text/plain": [
              "(1384617, 9)"
            ]
          },
          "metadata": {},
          "execution_count": 8
        }
      ]
    },
    {
      "cell_type": "code",
      "source": [
        "df_graph.loc[0]['주문번호']\n",
        "df_graph.loc[5]['주문번호']"
      ],
      "metadata": {
        "colab": {
          "base_uri": "https://localhost:8080/"
        },
        "id": "YZfGUMooqnUZ",
        "outputId": "e04dfe96-c952-435e-c13a-426558519b52"
      },
      "execution_count": 9,
      "outputs": [
        {
          "output_type": "execute_result",
          "data": {
            "text/plain": [
              "1"
            ]
          },
          "metadata": {},
          "execution_count": 9
        }
      ]
    },
    {
      "cell_type": "code",
      "source": [
        "df_graph.values[0][0] == df_graph.values[1][0]"
      ],
      "metadata": {
        "colab": {
          "base_uri": "https://localhost:8080/"
        },
        "id": "XLvyVItCp0nL",
        "outputId": "1a60cbf9-0001-4e3c-b472-304b97177802"
      },
      "execution_count": 42,
      "outputs": [
        {
          "output_type": "execute_result",
          "data": {
            "text/plain": [
              "True"
            ]
          },
          "metadata": {},
          "execution_count": 42
        }
      ]
    },
    {
      "cell_type": "code",
      "source": [
        "df_graph.head(31)"
      ],
      "metadata": {
        "colab": {
          "base_uri": "https://localhost:8080/",
          "height": 1000
        },
        "id": "B_zEWz5465qp",
        "outputId": "a56a8ad7-f9f7-45cd-ab2e-78cd1c8f0973"
      },
      "execution_count": 111,
      "outputs": [
        {
          "output_type": "execute_result",
          "data": {
            "text/plain": [
              "    주문번호      유저                                             제품  \\\n",
              "0      1  112108                               Bulgarian Yogurt   \n",
              "1      1  112108           Lightly Smoked Sardines in Olive Oil   \n",
              "2      1  112108                          Organic Celery Hearts   \n",
              "3      1  112108                    Organic Whole String Cheese   \n",
              "4      1  112108                           Organic Hass Avocado   \n",
              "5      1  112108                         Bag of Organic Bananas   \n",
              "6      1  112108  Organic 4% Milk Fat Whole Milk Cottage Cheese   \n",
              "7      1  112108                                 Cucumber Kirby   \n",
              "8     36   79431                                      Asparagus   \n",
              "9     36   79431                  Grated Pecorino Romano Cheese   \n",
              "10    36   79431                             Super Greens Salad   \n",
              "11    36   79431                            Organic Half & Half   \n",
              "12    36   79431            Cage Free Extra Large Grade AA Eggs   \n",
              "13    36   79431                                   Spring Water   \n",
              "14    36   79431                          Prosciutto, Americano   \n",
              "15    36   79431              Organic Garnet Sweet Potato (Yam)   \n",
              "16    38   42756                             Shelled Pistachios   \n",
              "17    38   42756                       Organic Biologique Limes   \n",
              "18    38   42756                                     Green Peas   \n",
              "19    38   42756                                     Fresh Dill   \n",
              "20    38   42756                       Organic Hot House Tomato   \n",
              "21    38   42756                            Flat Parsley, Bunch   \n",
              "22    38   42756                           Organic Baby Arugula   \n",
              "23    38   42756                               Bunched Cilantro   \n",
              "24    38   42756     Organic Raw Unfiltered Apple Cider Vinegar   \n",
              "25    96   17227                                 Roasted Turkey   \n",
              "26    96   17227                               Organic Cucumber   \n",
              "27    96   17227                         Organic Grape Tomatoes   \n",
              "28    96   17227                            Organic Blueberries   \n",
              "29    96   17227                            Organic Raspberries   \n",
              "30    96   17227                    Organic Pomegranate Kernels   \n",
              "\n",
              "                              소분류           대분류  누적주문  재주문  요일   주문텀  \n",
              "0                          yogurt    dairy eggs     4    1   4   9.0  \n",
              "1             canned meat seafood  canned goods     4    1   4   9.0  \n",
              "2                fresh vegetables       produce     4    0   4   9.0  \n",
              "3                 packaged cheese    dairy eggs     4    1   4   9.0  \n",
              "4                    fresh fruits       produce     4    0   4   9.0  \n",
              "5                    fresh fruits       produce     4    0   4   9.0  \n",
              "6            other creams cheeses    dairy eggs     4    1   4   9.0  \n",
              "7                fresh vegetables       produce     4    0   4   9.0  \n",
              "8                fresh vegetables       produce    23    1   6  30.0  \n",
              "9               specialty cheeses    dairy eggs    23    0   6  30.0  \n",
              "10     packaged vegetables fruits       produce    23    1   6  30.0  \n",
              "11                          cream    dairy eggs    23    0   6  30.0  \n",
              "12                           eggs    dairy eggs    23    1   6  30.0  \n",
              "13  water seltzer sparkling water     beverages    23    1   6  30.0  \n",
              "14                     lunch meat          deli    23    1   6  30.0  \n",
              "15               fresh vegetables       produce    23    1   6  30.0  \n",
              "16         nuts seeds dried fruit        snacks     6    0   6  24.0  \n",
              "17     packaged vegetables fruits       produce     6    0   6  24.0  \n",
              "18                 frozen produce        frozen     6    0   6  24.0  \n",
              "19                    fresh herbs       produce     6    0   6  24.0  \n",
              "20               fresh vegetables       produce     6    0   6  24.0  \n",
              "21                    fresh herbs       produce     6    0   6  24.0  \n",
              "22     packaged vegetables fruits       produce     6    1   6  24.0  \n",
              "23                    fresh herbs       produce     6    0   6  24.0  \n",
              "24                  oils vinegars        pantry     6    0   6  24.0  \n",
              "25                     lunch meat          deli     7    1   6  30.0  \n",
              "26               fresh vegetables       produce     7    0   6  30.0  \n",
              "27     packaged vegetables fruits       produce     7    1   6  30.0  \n",
              "28     packaged vegetables fruits       produce     7    1   6  30.0  \n",
              "29     packaged vegetables fruits       produce     7    1   6  30.0  \n",
              "30                 frozen produce        frozen     7    0   6  30.0  "
            ],
            "text/html": [
              "\n",
              "  <div id=\"df-f5b52cd7-7380-4aa4-9be7-9813a15df4c7\">\n",
              "    <div class=\"colab-df-container\">\n",
              "      <div>\n",
              "<style scoped>\n",
              "    .dataframe tbody tr th:only-of-type {\n",
              "        vertical-align: middle;\n",
              "    }\n",
              "\n",
              "    .dataframe tbody tr th {\n",
              "        vertical-align: top;\n",
              "    }\n",
              "\n",
              "    .dataframe thead th {\n",
              "        text-align: right;\n",
              "    }\n",
              "</style>\n",
              "<table border=\"1\" class=\"dataframe\">\n",
              "  <thead>\n",
              "    <tr style=\"text-align: right;\">\n",
              "      <th></th>\n",
              "      <th>주문번호</th>\n",
              "      <th>유저</th>\n",
              "      <th>제품</th>\n",
              "      <th>소분류</th>\n",
              "      <th>대분류</th>\n",
              "      <th>누적주문</th>\n",
              "      <th>재주문</th>\n",
              "      <th>요일</th>\n",
              "      <th>주문텀</th>\n",
              "    </tr>\n",
              "  </thead>\n",
              "  <tbody>\n",
              "    <tr>\n",
              "      <th>0</th>\n",
              "      <td>1</td>\n",
              "      <td>112108</td>\n",
              "      <td>Bulgarian Yogurt</td>\n",
              "      <td>yogurt</td>\n",
              "      <td>dairy eggs</td>\n",
              "      <td>4</td>\n",
              "      <td>1</td>\n",
              "      <td>4</td>\n",
              "      <td>9.0</td>\n",
              "    </tr>\n",
              "    <tr>\n",
              "      <th>1</th>\n",
              "      <td>1</td>\n",
              "      <td>112108</td>\n",
              "      <td>Lightly Smoked Sardines in Olive Oil</td>\n",
              "      <td>canned meat seafood</td>\n",
              "      <td>canned goods</td>\n",
              "      <td>4</td>\n",
              "      <td>1</td>\n",
              "      <td>4</td>\n",
              "      <td>9.0</td>\n",
              "    </tr>\n",
              "    <tr>\n",
              "      <th>2</th>\n",
              "      <td>1</td>\n",
              "      <td>112108</td>\n",
              "      <td>Organic Celery Hearts</td>\n",
              "      <td>fresh vegetables</td>\n",
              "      <td>produce</td>\n",
              "      <td>4</td>\n",
              "      <td>0</td>\n",
              "      <td>4</td>\n",
              "      <td>9.0</td>\n",
              "    </tr>\n",
              "    <tr>\n",
              "      <th>3</th>\n",
              "      <td>1</td>\n",
              "      <td>112108</td>\n",
              "      <td>Organic Whole String Cheese</td>\n",
              "      <td>packaged cheese</td>\n",
              "      <td>dairy eggs</td>\n",
              "      <td>4</td>\n",
              "      <td>1</td>\n",
              "      <td>4</td>\n",
              "      <td>9.0</td>\n",
              "    </tr>\n",
              "    <tr>\n",
              "      <th>4</th>\n",
              "      <td>1</td>\n",
              "      <td>112108</td>\n",
              "      <td>Organic Hass Avocado</td>\n",
              "      <td>fresh fruits</td>\n",
              "      <td>produce</td>\n",
              "      <td>4</td>\n",
              "      <td>0</td>\n",
              "      <td>4</td>\n",
              "      <td>9.0</td>\n",
              "    </tr>\n",
              "    <tr>\n",
              "      <th>5</th>\n",
              "      <td>1</td>\n",
              "      <td>112108</td>\n",
              "      <td>Bag of Organic Bananas</td>\n",
              "      <td>fresh fruits</td>\n",
              "      <td>produce</td>\n",
              "      <td>4</td>\n",
              "      <td>0</td>\n",
              "      <td>4</td>\n",
              "      <td>9.0</td>\n",
              "    </tr>\n",
              "    <tr>\n",
              "      <th>6</th>\n",
              "      <td>1</td>\n",
              "      <td>112108</td>\n",
              "      <td>Organic 4% Milk Fat Whole Milk Cottage Cheese</td>\n",
              "      <td>other creams cheeses</td>\n",
              "      <td>dairy eggs</td>\n",
              "      <td>4</td>\n",
              "      <td>1</td>\n",
              "      <td>4</td>\n",
              "      <td>9.0</td>\n",
              "    </tr>\n",
              "    <tr>\n",
              "      <th>7</th>\n",
              "      <td>1</td>\n",
              "      <td>112108</td>\n",
              "      <td>Cucumber Kirby</td>\n",
              "      <td>fresh vegetables</td>\n",
              "      <td>produce</td>\n",
              "      <td>4</td>\n",
              "      <td>0</td>\n",
              "      <td>4</td>\n",
              "      <td>9.0</td>\n",
              "    </tr>\n",
              "    <tr>\n",
              "      <th>8</th>\n",
              "      <td>36</td>\n",
              "      <td>79431</td>\n",
              "      <td>Asparagus</td>\n",
              "      <td>fresh vegetables</td>\n",
              "      <td>produce</td>\n",
              "      <td>23</td>\n",
              "      <td>1</td>\n",
              "      <td>6</td>\n",
              "      <td>30.0</td>\n",
              "    </tr>\n",
              "    <tr>\n",
              "      <th>9</th>\n",
              "      <td>36</td>\n",
              "      <td>79431</td>\n",
              "      <td>Grated Pecorino Romano Cheese</td>\n",
              "      <td>specialty cheeses</td>\n",
              "      <td>dairy eggs</td>\n",
              "      <td>23</td>\n",
              "      <td>0</td>\n",
              "      <td>6</td>\n",
              "      <td>30.0</td>\n",
              "    </tr>\n",
              "    <tr>\n",
              "      <th>10</th>\n",
              "      <td>36</td>\n",
              "      <td>79431</td>\n",
              "      <td>Super Greens Salad</td>\n",
              "      <td>packaged vegetables fruits</td>\n",
              "      <td>produce</td>\n",
              "      <td>23</td>\n",
              "      <td>1</td>\n",
              "      <td>6</td>\n",
              "      <td>30.0</td>\n",
              "    </tr>\n",
              "    <tr>\n",
              "      <th>11</th>\n",
              "      <td>36</td>\n",
              "      <td>79431</td>\n",
              "      <td>Organic Half &amp; Half</td>\n",
              "      <td>cream</td>\n",
              "      <td>dairy eggs</td>\n",
              "      <td>23</td>\n",
              "      <td>0</td>\n",
              "      <td>6</td>\n",
              "      <td>30.0</td>\n",
              "    </tr>\n",
              "    <tr>\n",
              "      <th>12</th>\n",
              "      <td>36</td>\n",
              "      <td>79431</td>\n",
              "      <td>Cage Free Extra Large Grade AA Eggs</td>\n",
              "      <td>eggs</td>\n",
              "      <td>dairy eggs</td>\n",
              "      <td>23</td>\n",
              "      <td>1</td>\n",
              "      <td>6</td>\n",
              "      <td>30.0</td>\n",
              "    </tr>\n",
              "    <tr>\n",
              "      <th>13</th>\n",
              "      <td>36</td>\n",
              "      <td>79431</td>\n",
              "      <td>Spring Water</td>\n",
              "      <td>water seltzer sparkling water</td>\n",
              "      <td>beverages</td>\n",
              "      <td>23</td>\n",
              "      <td>1</td>\n",
              "      <td>6</td>\n",
              "      <td>30.0</td>\n",
              "    </tr>\n",
              "    <tr>\n",
              "      <th>14</th>\n",
              "      <td>36</td>\n",
              "      <td>79431</td>\n",
              "      <td>Prosciutto, Americano</td>\n",
              "      <td>lunch meat</td>\n",
              "      <td>deli</td>\n",
              "      <td>23</td>\n",
              "      <td>1</td>\n",
              "      <td>6</td>\n",
              "      <td>30.0</td>\n",
              "    </tr>\n",
              "    <tr>\n",
              "      <th>15</th>\n",
              "      <td>36</td>\n",
              "      <td>79431</td>\n",
              "      <td>Organic Garnet Sweet Potato (Yam)</td>\n",
              "      <td>fresh vegetables</td>\n",
              "      <td>produce</td>\n",
              "      <td>23</td>\n",
              "      <td>1</td>\n",
              "      <td>6</td>\n",
              "      <td>30.0</td>\n",
              "    </tr>\n",
              "    <tr>\n",
              "      <th>16</th>\n",
              "      <td>38</td>\n",
              "      <td>42756</td>\n",
              "      <td>Shelled Pistachios</td>\n",
              "      <td>nuts seeds dried fruit</td>\n",
              "      <td>snacks</td>\n",
              "      <td>6</td>\n",
              "      <td>0</td>\n",
              "      <td>6</td>\n",
              "      <td>24.0</td>\n",
              "    </tr>\n",
              "    <tr>\n",
              "      <th>17</th>\n",
              "      <td>38</td>\n",
              "      <td>42756</td>\n",
              "      <td>Organic Biologique Limes</td>\n",
              "      <td>packaged vegetables fruits</td>\n",
              "      <td>produce</td>\n",
              "      <td>6</td>\n",
              "      <td>0</td>\n",
              "      <td>6</td>\n",
              "      <td>24.0</td>\n",
              "    </tr>\n",
              "    <tr>\n",
              "      <th>18</th>\n",
              "      <td>38</td>\n",
              "      <td>42756</td>\n",
              "      <td>Green Peas</td>\n",
              "      <td>frozen produce</td>\n",
              "      <td>frozen</td>\n",
              "      <td>6</td>\n",
              "      <td>0</td>\n",
              "      <td>6</td>\n",
              "      <td>24.0</td>\n",
              "    </tr>\n",
              "    <tr>\n",
              "      <th>19</th>\n",
              "      <td>38</td>\n",
              "      <td>42756</td>\n",
              "      <td>Fresh Dill</td>\n",
              "      <td>fresh herbs</td>\n",
              "      <td>produce</td>\n",
              "      <td>6</td>\n",
              "      <td>0</td>\n",
              "      <td>6</td>\n",
              "      <td>24.0</td>\n",
              "    </tr>\n",
              "    <tr>\n",
              "      <th>20</th>\n",
              "      <td>38</td>\n",
              "      <td>42756</td>\n",
              "      <td>Organic Hot House Tomato</td>\n",
              "      <td>fresh vegetables</td>\n",
              "      <td>produce</td>\n",
              "      <td>6</td>\n",
              "      <td>0</td>\n",
              "      <td>6</td>\n",
              "      <td>24.0</td>\n",
              "    </tr>\n",
              "    <tr>\n",
              "      <th>21</th>\n",
              "      <td>38</td>\n",
              "      <td>42756</td>\n",
              "      <td>Flat Parsley, Bunch</td>\n",
              "      <td>fresh herbs</td>\n",
              "      <td>produce</td>\n",
              "      <td>6</td>\n",
              "      <td>0</td>\n",
              "      <td>6</td>\n",
              "      <td>24.0</td>\n",
              "    </tr>\n",
              "    <tr>\n",
              "      <th>22</th>\n",
              "      <td>38</td>\n",
              "      <td>42756</td>\n",
              "      <td>Organic Baby Arugula</td>\n",
              "      <td>packaged vegetables fruits</td>\n",
              "      <td>produce</td>\n",
              "      <td>6</td>\n",
              "      <td>1</td>\n",
              "      <td>6</td>\n",
              "      <td>24.0</td>\n",
              "    </tr>\n",
              "    <tr>\n",
              "      <th>23</th>\n",
              "      <td>38</td>\n",
              "      <td>42756</td>\n",
              "      <td>Bunched Cilantro</td>\n",
              "      <td>fresh herbs</td>\n",
              "      <td>produce</td>\n",
              "      <td>6</td>\n",
              "      <td>0</td>\n",
              "      <td>6</td>\n",
              "      <td>24.0</td>\n",
              "    </tr>\n",
              "    <tr>\n",
              "      <th>24</th>\n",
              "      <td>38</td>\n",
              "      <td>42756</td>\n",
              "      <td>Organic Raw Unfiltered Apple Cider Vinegar</td>\n",
              "      <td>oils vinegars</td>\n",
              "      <td>pantry</td>\n",
              "      <td>6</td>\n",
              "      <td>0</td>\n",
              "      <td>6</td>\n",
              "      <td>24.0</td>\n",
              "    </tr>\n",
              "    <tr>\n",
              "      <th>25</th>\n",
              "      <td>96</td>\n",
              "      <td>17227</td>\n",
              "      <td>Roasted Turkey</td>\n",
              "      <td>lunch meat</td>\n",
              "      <td>deli</td>\n",
              "      <td>7</td>\n",
              "      <td>1</td>\n",
              "      <td>6</td>\n",
              "      <td>30.0</td>\n",
              "    </tr>\n",
              "    <tr>\n",
              "      <th>26</th>\n",
              "      <td>96</td>\n",
              "      <td>17227</td>\n",
              "      <td>Organic Cucumber</td>\n",
              "      <td>fresh vegetables</td>\n",
              "      <td>produce</td>\n",
              "      <td>7</td>\n",
              "      <td>0</td>\n",
              "      <td>6</td>\n",
              "      <td>30.0</td>\n",
              "    </tr>\n",
              "    <tr>\n",
              "      <th>27</th>\n",
              "      <td>96</td>\n",
              "      <td>17227</td>\n",
              "      <td>Organic Grape Tomatoes</td>\n",
              "      <td>packaged vegetables fruits</td>\n",
              "      <td>produce</td>\n",
              "      <td>7</td>\n",
              "      <td>1</td>\n",
              "      <td>6</td>\n",
              "      <td>30.0</td>\n",
              "    </tr>\n",
              "    <tr>\n",
              "      <th>28</th>\n",
              "      <td>96</td>\n",
              "      <td>17227</td>\n",
              "      <td>Organic Blueberries</td>\n",
              "      <td>packaged vegetables fruits</td>\n",
              "      <td>produce</td>\n",
              "      <td>7</td>\n",
              "      <td>1</td>\n",
              "      <td>6</td>\n",
              "      <td>30.0</td>\n",
              "    </tr>\n",
              "    <tr>\n",
              "      <th>29</th>\n",
              "      <td>96</td>\n",
              "      <td>17227</td>\n",
              "      <td>Organic Raspberries</td>\n",
              "      <td>packaged vegetables fruits</td>\n",
              "      <td>produce</td>\n",
              "      <td>7</td>\n",
              "      <td>1</td>\n",
              "      <td>6</td>\n",
              "      <td>30.0</td>\n",
              "    </tr>\n",
              "    <tr>\n",
              "      <th>30</th>\n",
              "      <td>96</td>\n",
              "      <td>17227</td>\n",
              "      <td>Organic Pomegranate Kernels</td>\n",
              "      <td>frozen produce</td>\n",
              "      <td>frozen</td>\n",
              "      <td>7</td>\n",
              "      <td>0</td>\n",
              "      <td>6</td>\n",
              "      <td>30.0</td>\n",
              "    </tr>\n",
              "  </tbody>\n",
              "</table>\n",
              "</div>\n",
              "      <button class=\"colab-df-convert\" onclick=\"convertToInteractive('df-f5b52cd7-7380-4aa4-9be7-9813a15df4c7')\"\n",
              "              title=\"Convert this dataframe to an interactive table.\"\n",
              "              style=\"display:none;\">\n",
              "        \n",
              "  <svg xmlns=\"http://www.w3.org/2000/svg\" height=\"24px\"viewBox=\"0 0 24 24\"\n",
              "       width=\"24px\">\n",
              "    <path d=\"M0 0h24v24H0V0z\" fill=\"none\"/>\n",
              "    <path d=\"M18.56 5.44l.94 2.06.94-2.06 2.06-.94-2.06-.94-.94-2.06-.94 2.06-2.06.94zm-11 1L8.5 8.5l.94-2.06 2.06-.94-2.06-.94L8.5 2.5l-.94 2.06-2.06.94zm10 10l.94 2.06.94-2.06 2.06-.94-2.06-.94-.94-2.06-.94 2.06-2.06.94z\"/><path d=\"M17.41 7.96l-1.37-1.37c-.4-.4-.92-.59-1.43-.59-.52 0-1.04.2-1.43.59L10.3 9.45l-7.72 7.72c-.78.78-.78 2.05 0 2.83L4 21.41c.39.39.9.59 1.41.59.51 0 1.02-.2 1.41-.59l7.78-7.78 2.81-2.81c.8-.78.8-2.07 0-2.86zM5.41 20L4 18.59l7.72-7.72 1.47 1.35L5.41 20z\"/>\n",
              "  </svg>\n",
              "      </button>\n",
              "      \n",
              "  <style>\n",
              "    .colab-df-container {\n",
              "      display:flex;\n",
              "      flex-wrap:wrap;\n",
              "      gap: 12px;\n",
              "    }\n",
              "\n",
              "    .colab-df-convert {\n",
              "      background-color: #E8F0FE;\n",
              "      border: none;\n",
              "      border-radius: 50%;\n",
              "      cursor: pointer;\n",
              "      display: none;\n",
              "      fill: #1967D2;\n",
              "      height: 32px;\n",
              "      padding: 0 0 0 0;\n",
              "      width: 32px;\n",
              "    }\n",
              "\n",
              "    .colab-df-convert:hover {\n",
              "      background-color: #E2EBFA;\n",
              "      box-shadow: 0px 1px 2px rgba(60, 64, 67, 0.3), 0px 1px 3px 1px rgba(60, 64, 67, 0.15);\n",
              "      fill: #174EA6;\n",
              "    }\n",
              "\n",
              "    [theme=dark] .colab-df-convert {\n",
              "      background-color: #3B4455;\n",
              "      fill: #D2E3FC;\n",
              "    }\n",
              "\n",
              "    [theme=dark] .colab-df-convert:hover {\n",
              "      background-color: #434B5C;\n",
              "      box-shadow: 0px 1px 3px 1px rgba(0, 0, 0, 0.15);\n",
              "      filter: drop-shadow(0px 1px 2px rgba(0, 0, 0, 0.3));\n",
              "      fill: #FFFFFF;\n",
              "    }\n",
              "  </style>\n",
              "\n",
              "      <script>\n",
              "        const buttonEl =\n",
              "          document.querySelector('#df-f5b52cd7-7380-4aa4-9be7-9813a15df4c7 button.colab-df-convert');\n",
              "        buttonEl.style.display =\n",
              "          google.colab.kernel.accessAllowed ? 'block' : 'none';\n",
              "\n",
              "        async function convertToInteractive(key) {\n",
              "          const element = document.querySelector('#df-f5b52cd7-7380-4aa4-9be7-9813a15df4c7');\n",
              "          const dataTable =\n",
              "            await google.colab.kernel.invokeFunction('convertToInteractive',\n",
              "                                                     [key], {});\n",
              "          if (!dataTable) return;\n",
              "\n",
              "          const docLinkHtml = 'Like what you see? Visit the ' +\n",
              "            '<a target=\"_blank\" href=https://colab.research.google.com/notebooks/data_table.ipynb>data table notebook</a>'\n",
              "            + ' to learn more about interactive tables.';\n",
              "          element.innerHTML = '';\n",
              "          dataTable['output_type'] = 'display_data';\n",
              "          await google.colab.output.renderOutput(dataTable, element);\n",
              "          const docLink = document.createElement('div');\n",
              "          docLink.innerHTML = docLinkHtml;\n",
              "          element.appendChild(docLink);\n",
              "        }\n",
              "      </script>\n",
              "    </div>\n",
              "  </div>\n",
              "  "
            ]
          },
          "metadata": {},
          "execution_count": 111
        }
      ]
    },
    {
      "cell_type": "code",
      "source": [
        "for i in range(30):\n",
        "    print(i)"
      ],
      "metadata": {
        "colab": {
          "base_uri": "https://localhost:8080/"
        },
        "id": "S_EXgzJWHaUV",
        "outputId": "e991654b-73f5-4164-8df8-2a619a63f4ef"
      },
      "execution_count": 112,
      "outputs": [
        {
          "output_type": "stream",
          "name": "stdout",
          "text": [
            "0\n",
            "1\n",
            "2\n",
            "3\n",
            "4\n",
            "5\n",
            "6\n",
            "7\n",
            "8\n",
            "9\n",
            "10\n",
            "11\n",
            "12\n",
            "13\n",
            "14\n",
            "15\n",
            "16\n",
            "17\n",
            "18\n",
            "19\n",
            "20\n",
            "21\n",
            "22\n",
            "23\n",
            "24\n",
            "25\n",
            "26\n",
            "27\n",
            "28\n",
            "29\n"
          ]
        }
      ]
    },
    {
      "cell_type": "code",
      "source": [
        "df_graph.tail(7)"
      ],
      "metadata": {
        "colab": {
          "base_uri": "https://localhost:8080/",
          "height": 365
        },
        "id": "hECFTV_bH7mh",
        "outputId": "7e6e6d48-b2bd-487f-a64f-442deb57cd58"
      },
      "execution_count": 126,
      "outputs": [
        {
          "output_type": "execute_result",
          "data": {
            "text/plain": [
              "            주문번호      유저                                                 제품  \\\n",
              "1384610  3421063  169679                               Twice Baked Potatoes   \n",
              "1384611  3421063  169679  No Salt Added Gluten-Free Blue Chips Made with...   \n",
              "1384612  3421063  169679                                Organic Half & Half   \n",
              "1384613  3421063  169679                             Natural Artesian Water   \n",
              "1384614  3421070  139822                               Creamy Peanut Butter   \n",
              "1384615  3421070  139822                    Organic Unsweetened Almond Milk   \n",
              "1384616  3421070  139822                                 Broccoli Florettes   \n",
              "\n",
              "                                   소분류         대분류  누적주문  재주문  요일  주문텀  \n",
              "1384610                 prepared meals        deli    30    1   0  4.0  \n",
              "1384611                 chips pretzels      snacks    30    1   0  4.0  \n",
              "1384612                          cream  dairy eggs    30    1   0  4.0  \n",
              "1384613  water seltzer sparkling water   beverages    30    1   0  4.0  \n",
              "1384614                        spreads      pantry    15    1   6  8.0  \n",
              "1384615                soy lactosefree  dairy eggs    15    1   6  8.0  \n",
              "1384616               packaged produce     produce    15    1   6  8.0  "
            ],
            "text/html": [
              "\n",
              "  <div id=\"df-9af6a7c1-5511-4ea5-b6af-b6d37ab0a3b1\">\n",
              "    <div class=\"colab-df-container\">\n",
              "      <div>\n",
              "<style scoped>\n",
              "    .dataframe tbody tr th:only-of-type {\n",
              "        vertical-align: middle;\n",
              "    }\n",
              "\n",
              "    .dataframe tbody tr th {\n",
              "        vertical-align: top;\n",
              "    }\n",
              "\n",
              "    .dataframe thead th {\n",
              "        text-align: right;\n",
              "    }\n",
              "</style>\n",
              "<table border=\"1\" class=\"dataframe\">\n",
              "  <thead>\n",
              "    <tr style=\"text-align: right;\">\n",
              "      <th></th>\n",
              "      <th>주문번호</th>\n",
              "      <th>유저</th>\n",
              "      <th>제품</th>\n",
              "      <th>소분류</th>\n",
              "      <th>대분류</th>\n",
              "      <th>누적주문</th>\n",
              "      <th>재주문</th>\n",
              "      <th>요일</th>\n",
              "      <th>주문텀</th>\n",
              "    </tr>\n",
              "  </thead>\n",
              "  <tbody>\n",
              "    <tr>\n",
              "      <th>1384610</th>\n",
              "      <td>3421063</td>\n",
              "      <td>169679</td>\n",
              "      <td>Twice Baked Potatoes</td>\n",
              "      <td>prepared meals</td>\n",
              "      <td>deli</td>\n",
              "      <td>30</td>\n",
              "      <td>1</td>\n",
              "      <td>0</td>\n",
              "      <td>4.0</td>\n",
              "    </tr>\n",
              "    <tr>\n",
              "      <th>1384611</th>\n",
              "      <td>3421063</td>\n",
              "      <td>169679</td>\n",
              "      <td>No Salt Added Gluten-Free Blue Chips Made with...</td>\n",
              "      <td>chips pretzels</td>\n",
              "      <td>snacks</td>\n",
              "      <td>30</td>\n",
              "      <td>1</td>\n",
              "      <td>0</td>\n",
              "      <td>4.0</td>\n",
              "    </tr>\n",
              "    <tr>\n",
              "      <th>1384612</th>\n",
              "      <td>3421063</td>\n",
              "      <td>169679</td>\n",
              "      <td>Organic Half &amp; Half</td>\n",
              "      <td>cream</td>\n",
              "      <td>dairy eggs</td>\n",
              "      <td>30</td>\n",
              "      <td>1</td>\n",
              "      <td>0</td>\n",
              "      <td>4.0</td>\n",
              "    </tr>\n",
              "    <tr>\n",
              "      <th>1384613</th>\n",
              "      <td>3421063</td>\n",
              "      <td>169679</td>\n",
              "      <td>Natural Artesian Water</td>\n",
              "      <td>water seltzer sparkling water</td>\n",
              "      <td>beverages</td>\n",
              "      <td>30</td>\n",
              "      <td>1</td>\n",
              "      <td>0</td>\n",
              "      <td>4.0</td>\n",
              "    </tr>\n",
              "    <tr>\n",
              "      <th>1384614</th>\n",
              "      <td>3421070</td>\n",
              "      <td>139822</td>\n",
              "      <td>Creamy Peanut Butter</td>\n",
              "      <td>spreads</td>\n",
              "      <td>pantry</td>\n",
              "      <td>15</td>\n",
              "      <td>1</td>\n",
              "      <td>6</td>\n",
              "      <td>8.0</td>\n",
              "    </tr>\n",
              "    <tr>\n",
              "      <th>1384615</th>\n",
              "      <td>3421070</td>\n",
              "      <td>139822</td>\n",
              "      <td>Organic Unsweetened Almond Milk</td>\n",
              "      <td>soy lactosefree</td>\n",
              "      <td>dairy eggs</td>\n",
              "      <td>15</td>\n",
              "      <td>1</td>\n",
              "      <td>6</td>\n",
              "      <td>8.0</td>\n",
              "    </tr>\n",
              "    <tr>\n",
              "      <th>1384616</th>\n",
              "      <td>3421070</td>\n",
              "      <td>139822</td>\n",
              "      <td>Broccoli Florettes</td>\n",
              "      <td>packaged produce</td>\n",
              "      <td>produce</td>\n",
              "      <td>15</td>\n",
              "      <td>1</td>\n",
              "      <td>6</td>\n",
              "      <td>8.0</td>\n",
              "    </tr>\n",
              "  </tbody>\n",
              "</table>\n",
              "</div>\n",
              "      <button class=\"colab-df-convert\" onclick=\"convertToInteractive('df-9af6a7c1-5511-4ea5-b6af-b6d37ab0a3b1')\"\n",
              "              title=\"Convert this dataframe to an interactive table.\"\n",
              "              style=\"display:none;\">\n",
              "        \n",
              "  <svg xmlns=\"http://www.w3.org/2000/svg\" height=\"24px\"viewBox=\"0 0 24 24\"\n",
              "       width=\"24px\">\n",
              "    <path d=\"M0 0h24v24H0V0z\" fill=\"none\"/>\n",
              "    <path d=\"M18.56 5.44l.94 2.06.94-2.06 2.06-.94-2.06-.94-.94-2.06-.94 2.06-2.06.94zm-11 1L8.5 8.5l.94-2.06 2.06-.94-2.06-.94L8.5 2.5l-.94 2.06-2.06.94zm10 10l.94 2.06.94-2.06 2.06-.94-2.06-.94-.94-2.06-.94 2.06-2.06.94z\"/><path d=\"M17.41 7.96l-1.37-1.37c-.4-.4-.92-.59-1.43-.59-.52 0-1.04.2-1.43.59L10.3 9.45l-7.72 7.72c-.78.78-.78 2.05 0 2.83L4 21.41c.39.39.9.59 1.41.59.51 0 1.02-.2 1.41-.59l7.78-7.78 2.81-2.81c.8-.78.8-2.07 0-2.86zM5.41 20L4 18.59l7.72-7.72 1.47 1.35L5.41 20z\"/>\n",
              "  </svg>\n",
              "      </button>\n",
              "      \n",
              "  <style>\n",
              "    .colab-df-container {\n",
              "      display:flex;\n",
              "      flex-wrap:wrap;\n",
              "      gap: 12px;\n",
              "    }\n",
              "\n",
              "    .colab-df-convert {\n",
              "      background-color: #E8F0FE;\n",
              "      border: none;\n",
              "      border-radius: 50%;\n",
              "      cursor: pointer;\n",
              "      display: none;\n",
              "      fill: #1967D2;\n",
              "      height: 32px;\n",
              "      padding: 0 0 0 0;\n",
              "      width: 32px;\n",
              "    }\n",
              "\n",
              "    .colab-df-convert:hover {\n",
              "      background-color: #E2EBFA;\n",
              "      box-shadow: 0px 1px 2px rgba(60, 64, 67, 0.3), 0px 1px 3px 1px rgba(60, 64, 67, 0.15);\n",
              "      fill: #174EA6;\n",
              "    }\n",
              "\n",
              "    [theme=dark] .colab-df-convert {\n",
              "      background-color: #3B4455;\n",
              "      fill: #D2E3FC;\n",
              "    }\n",
              "\n",
              "    [theme=dark] .colab-df-convert:hover {\n",
              "      background-color: #434B5C;\n",
              "      box-shadow: 0px 1px 3px 1px rgba(0, 0, 0, 0.15);\n",
              "      filter: drop-shadow(0px 1px 2px rgba(0, 0, 0, 0.3));\n",
              "      fill: #FFFFFF;\n",
              "    }\n",
              "  </style>\n",
              "\n",
              "      <script>\n",
              "        const buttonEl =\n",
              "          document.querySelector('#df-9af6a7c1-5511-4ea5-b6af-b6d37ab0a3b1 button.colab-df-convert');\n",
              "        buttonEl.style.display =\n",
              "          google.colab.kernel.accessAllowed ? 'block' : 'none';\n",
              "\n",
              "        async function convertToInteractive(key) {\n",
              "          const element = document.querySelector('#df-9af6a7c1-5511-4ea5-b6af-b6d37ab0a3b1');\n",
              "          const dataTable =\n",
              "            await google.colab.kernel.invokeFunction('convertToInteractive',\n",
              "                                                     [key], {});\n",
              "          if (!dataTable) return;\n",
              "\n",
              "          const docLinkHtml = 'Like what you see? Visit the ' +\n",
              "            '<a target=\"_blank\" href=https://colab.research.google.com/notebooks/data_table.ipynb>data table notebook</a>'\n",
              "            + ' to learn more about interactive tables.';\n",
              "          element.innerHTML = '';\n",
              "          dataTable['output_type'] = 'display_data';\n",
              "          await google.colab.output.renderOutput(dataTable, element);\n",
              "          const docLink = document.createElement('div');\n",
              "          docLink.innerHTML = docLinkHtml;\n",
              "          element.appendChild(docLink);\n",
              "        }\n",
              "      </script>\n",
              "    </div>\n",
              "  </div>\n",
              "  "
            ]
          },
          "metadata": {},
          "execution_count": 126
        }
      ]
    },
    {
      "cell_type": "code",
      "source": [
        "record[0]"
      ],
      "metadata": {
        "colab": {
          "base_uri": "https://localhost:8080/"
        },
        "id": "47hxbUFUH1y6",
        "outputId": "a6fc20f6-6f9a-47ea-c444-7870e6a11b9a"
      },
      "execution_count": 127,
      "outputs": [
        {
          "output_type": "execute_result",
          "data": {
            "text/plain": [
              "['Bulgarian Yogurt']"
            ]
          },
          "metadata": {},
          "execution_count": 127
        }
      ]
    },
    {
      "cell_type": "code",
      "source": [
        "abc = []\n",
        "for i in range(len(df_array)):\n",
        "    abc.append([df_array[j][2] for j in range(len(df_array)) if df_array[i][0]==df_array[j][0]])"
      ],
      "metadata": {
        "colab": {
          "base_uri": "https://localhost:8080/",
          "height": 288
        },
        "id": "1_cYNKd6Ijhp",
        "outputId": "f587c5b9-b14f-41af-e5f0-c20f2f5022d2"
      },
      "execution_count": 128,
      "outputs": [
        {
          "output_type": "error",
          "ename": "KeyboardInterrupt",
          "evalue": "ignored",
          "traceback": [
            "\u001b[0;31m---------------------------------------------------------------------------\u001b[0m",
            "\u001b[0;31mKeyboardInterrupt\u001b[0m                         Traceback (most recent call last)",
            "\u001b[0;32m<ipython-input-128-424f94cc513a>\u001b[0m in \u001b[0;36m<module>\u001b[0;34m\u001b[0m\n\u001b[1;32m      1\u001b[0m \u001b[0mabc\u001b[0m \u001b[0;34m=\u001b[0m \u001b[0;34m[\u001b[0m\u001b[0;34m]\u001b[0m\u001b[0;34m\u001b[0m\u001b[0;34m\u001b[0m\u001b[0m\n\u001b[1;32m      2\u001b[0m \u001b[0;32mfor\u001b[0m \u001b[0mi\u001b[0m \u001b[0;32min\u001b[0m \u001b[0mrange\u001b[0m\u001b[0;34m(\u001b[0m\u001b[0mlen\u001b[0m\u001b[0;34m(\u001b[0m\u001b[0mdf_array\u001b[0m\u001b[0;34m)\u001b[0m\u001b[0;34m)\u001b[0m\u001b[0;34m:\u001b[0m\u001b[0;34m\u001b[0m\u001b[0;34m\u001b[0m\u001b[0m\n\u001b[0;32m----> 3\u001b[0;31m     \u001b[0mabc\u001b[0m\u001b[0;34m.\u001b[0m\u001b[0mappend\u001b[0m\u001b[0;34m(\u001b[0m\u001b[0;34m[\u001b[0m\u001b[0mdf_array\u001b[0m\u001b[0;34m[\u001b[0m\u001b[0mj\u001b[0m\u001b[0;34m]\u001b[0m\u001b[0;34m[\u001b[0m\u001b[0;36m2\u001b[0m\u001b[0;34m]\u001b[0m \u001b[0;32mfor\u001b[0m \u001b[0mj\u001b[0m \u001b[0;32min\u001b[0m \u001b[0mrange\u001b[0m\u001b[0;34m(\u001b[0m\u001b[0mlen\u001b[0m\u001b[0;34m(\u001b[0m\u001b[0mdf_array\u001b[0m\u001b[0;34m)\u001b[0m\u001b[0;34m)\u001b[0m \u001b[0;32mif\u001b[0m \u001b[0mdf_array\u001b[0m\u001b[0;34m[\u001b[0m\u001b[0mi\u001b[0m\u001b[0;34m]\u001b[0m\u001b[0;34m[\u001b[0m\u001b[0;36m0\u001b[0m\u001b[0;34m]\u001b[0m\u001b[0;34m==\u001b[0m\u001b[0mdf_array\u001b[0m\u001b[0;34m[\u001b[0m\u001b[0mj\u001b[0m\u001b[0;34m]\u001b[0m\u001b[0;34m[\u001b[0m\u001b[0;36m0\u001b[0m\u001b[0;34m]\u001b[0m\u001b[0;34m]\u001b[0m\u001b[0;34m)\u001b[0m\u001b[0;34m\u001b[0m\u001b[0;34m\u001b[0m\u001b[0m\n\u001b[0m",
            "\u001b[0;32m<ipython-input-128-424f94cc513a>\u001b[0m in \u001b[0;36m<listcomp>\u001b[0;34m(.0)\u001b[0m\n\u001b[1;32m      1\u001b[0m \u001b[0mabc\u001b[0m \u001b[0;34m=\u001b[0m \u001b[0;34m[\u001b[0m\u001b[0;34m]\u001b[0m\u001b[0;34m\u001b[0m\u001b[0;34m\u001b[0m\u001b[0m\n\u001b[1;32m      2\u001b[0m \u001b[0;32mfor\u001b[0m \u001b[0mi\u001b[0m \u001b[0;32min\u001b[0m \u001b[0mrange\u001b[0m\u001b[0;34m(\u001b[0m\u001b[0mlen\u001b[0m\u001b[0;34m(\u001b[0m\u001b[0mdf_array\u001b[0m\u001b[0;34m)\u001b[0m\u001b[0;34m)\u001b[0m\u001b[0;34m:\u001b[0m\u001b[0;34m\u001b[0m\u001b[0;34m\u001b[0m\u001b[0m\n\u001b[0;32m----> 3\u001b[0;31m     \u001b[0mabc\u001b[0m\u001b[0;34m.\u001b[0m\u001b[0mappend\u001b[0m\u001b[0;34m(\u001b[0m\u001b[0;34m[\u001b[0m\u001b[0mdf_array\u001b[0m\u001b[0;34m[\u001b[0m\u001b[0mj\u001b[0m\u001b[0;34m]\u001b[0m\u001b[0;34m[\u001b[0m\u001b[0;36m2\u001b[0m\u001b[0;34m]\u001b[0m \u001b[0;32mfor\u001b[0m \u001b[0mj\u001b[0m \u001b[0;32min\u001b[0m \u001b[0mrange\u001b[0m\u001b[0;34m(\u001b[0m\u001b[0mlen\u001b[0m\u001b[0;34m(\u001b[0m\u001b[0mdf_array\u001b[0m\u001b[0;34m)\u001b[0m\u001b[0;34m)\u001b[0m \u001b[0;32mif\u001b[0m \u001b[0mdf_array\u001b[0m\u001b[0;34m[\u001b[0m\u001b[0mi\u001b[0m\u001b[0;34m]\u001b[0m\u001b[0;34m[\u001b[0m\u001b[0;36m0\u001b[0m\u001b[0;34m]\u001b[0m\u001b[0;34m==\u001b[0m\u001b[0mdf_array\u001b[0m\u001b[0;34m[\u001b[0m\u001b[0mj\u001b[0m\u001b[0;34m]\u001b[0m\u001b[0;34m[\u001b[0m\u001b[0;36m0\u001b[0m\u001b[0;34m]\u001b[0m\u001b[0;34m]\u001b[0m\u001b[0;34m)\u001b[0m\u001b[0;34m\u001b[0m\u001b[0;34m\u001b[0m\u001b[0m\n\u001b[0m",
            "\u001b[0;31mKeyboardInterrupt\u001b[0m: "
          ]
        }
      ]
    },
    {
      "cell_type": "code",
      "source": [
        "df_graph.head(33)"
      ],
      "metadata": {
        "colab": {
          "base_uri": "https://localhost:8080/",
          "height": 1000
        },
        "id": "w7oOACnOMQUH",
        "outputId": "c03e722f-056b-40b2-ebff-94a69ce104dc"
      },
      "execution_count": 223,
      "outputs": [
        {
          "output_type": "execute_result",
          "data": {
            "text/plain": [
              "    주문번호      유저                                             제품  \\\n",
              "0      1  112108                               Bulgarian Yogurt   \n",
              "1      1  112108           Lightly Smoked Sardines in Olive Oil   \n",
              "2      1  112108                          Organic Celery Hearts   \n",
              "3      1  112108                    Organic Whole String Cheese   \n",
              "4      1  112108                           Organic Hass Avocado   \n",
              "5      1  112108                         Bag of Organic Bananas   \n",
              "6      1  112108  Organic 4% Milk Fat Whole Milk Cottage Cheese   \n",
              "7      1  112108                                 Cucumber Kirby   \n",
              "8     36   79431                                      Asparagus   \n",
              "9     36   79431                  Grated Pecorino Romano Cheese   \n",
              "10    36   79431                             Super Greens Salad   \n",
              "11    36   79431                            Organic Half & Half   \n",
              "12    36   79431            Cage Free Extra Large Grade AA Eggs   \n",
              "13    36   79431                                   Spring Water   \n",
              "14    36   79431                          Prosciutto, Americano   \n",
              "15    36   79431              Organic Garnet Sweet Potato (Yam)   \n",
              "16    38   42756                             Shelled Pistachios   \n",
              "17    38   42756                       Organic Biologique Limes   \n",
              "18    38   42756                                     Green Peas   \n",
              "19    38   42756                                     Fresh Dill   \n",
              "20    38   42756                       Organic Hot House Tomato   \n",
              "21    38   42756                            Flat Parsley, Bunch   \n",
              "22    38   42756                           Organic Baby Arugula   \n",
              "23    38   42756                               Bunched Cilantro   \n",
              "24    38   42756     Organic Raw Unfiltered Apple Cider Vinegar   \n",
              "25    96   17227                                 Roasted Turkey   \n",
              "26    96   17227                               Organic Cucumber   \n",
              "27    96   17227                         Organic Grape Tomatoes   \n",
              "28    96   17227                            Organic Blueberries   \n",
              "29    96   17227                            Organic Raspberries   \n",
              "30    96   17227                    Organic Pomegranate Kernels   \n",
              "31    96   17227                     Organic Whole Strawberries   \n",
              "32    98   56463                 Organic Raw Kombucha Gingerade   \n",
              "\n",
              "                              소분류           대분류  누적주문  재주문  요일   주문텀  \n",
              "0                          yogurt    dairy eggs     4    1   4   9.0  \n",
              "1             canned meat seafood  canned goods     4    1   4   9.0  \n",
              "2                fresh vegetables       produce     4    0   4   9.0  \n",
              "3                 packaged cheese    dairy eggs     4    1   4   9.0  \n",
              "4                    fresh fruits       produce     4    0   4   9.0  \n",
              "5                    fresh fruits       produce     4    0   4   9.0  \n",
              "6            other creams cheeses    dairy eggs     4    1   4   9.0  \n",
              "7                fresh vegetables       produce     4    0   4   9.0  \n",
              "8                fresh vegetables       produce    23    1   6  30.0  \n",
              "9               specialty cheeses    dairy eggs    23    0   6  30.0  \n",
              "10     packaged vegetables fruits       produce    23    1   6  30.0  \n",
              "11                          cream    dairy eggs    23    0   6  30.0  \n",
              "12                           eggs    dairy eggs    23    1   6  30.0  \n",
              "13  water seltzer sparkling water     beverages    23    1   6  30.0  \n",
              "14                     lunch meat          deli    23    1   6  30.0  \n",
              "15               fresh vegetables       produce    23    1   6  30.0  \n",
              "16         nuts seeds dried fruit        snacks     6    0   6  24.0  \n",
              "17     packaged vegetables fruits       produce     6    0   6  24.0  \n",
              "18                 frozen produce        frozen     6    0   6  24.0  \n",
              "19                    fresh herbs       produce     6    0   6  24.0  \n",
              "20               fresh vegetables       produce     6    0   6  24.0  \n",
              "21                    fresh herbs       produce     6    0   6  24.0  \n",
              "22     packaged vegetables fruits       produce     6    1   6  24.0  \n",
              "23                    fresh herbs       produce     6    0   6  24.0  \n",
              "24                  oils vinegars        pantry     6    0   6  24.0  \n",
              "25                     lunch meat          deli     7    1   6  30.0  \n",
              "26               fresh vegetables       produce     7    0   6  30.0  \n",
              "27     packaged vegetables fruits       produce     7    1   6  30.0  \n",
              "28     packaged vegetables fruits       produce     7    1   6  30.0  \n",
              "29     packaged vegetables fruits       produce     7    1   6  30.0  \n",
              "30                 frozen produce        frozen     7    0   6  30.0  \n",
              "31                 frozen produce        frozen     7    1   6  30.0  \n",
              "32                   refrigerated     beverages    41    1   3  14.0  "
            ],
            "text/html": [
              "\n",
              "  <div id=\"df-1ebc40d5-31eb-490d-abab-69c62d59216b\">\n",
              "    <div class=\"colab-df-container\">\n",
              "      <div>\n",
              "<style scoped>\n",
              "    .dataframe tbody tr th:only-of-type {\n",
              "        vertical-align: middle;\n",
              "    }\n",
              "\n",
              "    .dataframe tbody tr th {\n",
              "        vertical-align: top;\n",
              "    }\n",
              "\n",
              "    .dataframe thead th {\n",
              "        text-align: right;\n",
              "    }\n",
              "</style>\n",
              "<table border=\"1\" class=\"dataframe\">\n",
              "  <thead>\n",
              "    <tr style=\"text-align: right;\">\n",
              "      <th></th>\n",
              "      <th>주문번호</th>\n",
              "      <th>유저</th>\n",
              "      <th>제품</th>\n",
              "      <th>소분류</th>\n",
              "      <th>대분류</th>\n",
              "      <th>누적주문</th>\n",
              "      <th>재주문</th>\n",
              "      <th>요일</th>\n",
              "      <th>주문텀</th>\n",
              "    </tr>\n",
              "  </thead>\n",
              "  <tbody>\n",
              "    <tr>\n",
              "      <th>0</th>\n",
              "      <td>1</td>\n",
              "      <td>112108</td>\n",
              "      <td>Bulgarian Yogurt</td>\n",
              "      <td>yogurt</td>\n",
              "      <td>dairy eggs</td>\n",
              "      <td>4</td>\n",
              "      <td>1</td>\n",
              "      <td>4</td>\n",
              "      <td>9.0</td>\n",
              "    </tr>\n",
              "    <tr>\n",
              "      <th>1</th>\n",
              "      <td>1</td>\n",
              "      <td>112108</td>\n",
              "      <td>Lightly Smoked Sardines in Olive Oil</td>\n",
              "      <td>canned meat seafood</td>\n",
              "      <td>canned goods</td>\n",
              "      <td>4</td>\n",
              "      <td>1</td>\n",
              "      <td>4</td>\n",
              "      <td>9.0</td>\n",
              "    </tr>\n",
              "    <tr>\n",
              "      <th>2</th>\n",
              "      <td>1</td>\n",
              "      <td>112108</td>\n",
              "      <td>Organic Celery Hearts</td>\n",
              "      <td>fresh vegetables</td>\n",
              "      <td>produce</td>\n",
              "      <td>4</td>\n",
              "      <td>0</td>\n",
              "      <td>4</td>\n",
              "      <td>9.0</td>\n",
              "    </tr>\n",
              "    <tr>\n",
              "      <th>3</th>\n",
              "      <td>1</td>\n",
              "      <td>112108</td>\n",
              "      <td>Organic Whole String Cheese</td>\n",
              "      <td>packaged cheese</td>\n",
              "      <td>dairy eggs</td>\n",
              "      <td>4</td>\n",
              "      <td>1</td>\n",
              "      <td>4</td>\n",
              "      <td>9.0</td>\n",
              "    </tr>\n",
              "    <tr>\n",
              "      <th>4</th>\n",
              "      <td>1</td>\n",
              "      <td>112108</td>\n",
              "      <td>Organic Hass Avocado</td>\n",
              "      <td>fresh fruits</td>\n",
              "      <td>produce</td>\n",
              "      <td>4</td>\n",
              "      <td>0</td>\n",
              "      <td>4</td>\n",
              "      <td>9.0</td>\n",
              "    </tr>\n",
              "    <tr>\n",
              "      <th>5</th>\n",
              "      <td>1</td>\n",
              "      <td>112108</td>\n",
              "      <td>Bag of Organic Bananas</td>\n",
              "      <td>fresh fruits</td>\n",
              "      <td>produce</td>\n",
              "      <td>4</td>\n",
              "      <td>0</td>\n",
              "      <td>4</td>\n",
              "      <td>9.0</td>\n",
              "    </tr>\n",
              "    <tr>\n",
              "      <th>6</th>\n",
              "      <td>1</td>\n",
              "      <td>112108</td>\n",
              "      <td>Organic 4% Milk Fat Whole Milk Cottage Cheese</td>\n",
              "      <td>other creams cheeses</td>\n",
              "      <td>dairy eggs</td>\n",
              "      <td>4</td>\n",
              "      <td>1</td>\n",
              "      <td>4</td>\n",
              "      <td>9.0</td>\n",
              "    </tr>\n",
              "    <tr>\n",
              "      <th>7</th>\n",
              "      <td>1</td>\n",
              "      <td>112108</td>\n",
              "      <td>Cucumber Kirby</td>\n",
              "      <td>fresh vegetables</td>\n",
              "      <td>produce</td>\n",
              "      <td>4</td>\n",
              "      <td>0</td>\n",
              "      <td>4</td>\n",
              "      <td>9.0</td>\n",
              "    </tr>\n",
              "    <tr>\n",
              "      <th>8</th>\n",
              "      <td>36</td>\n",
              "      <td>79431</td>\n",
              "      <td>Asparagus</td>\n",
              "      <td>fresh vegetables</td>\n",
              "      <td>produce</td>\n",
              "      <td>23</td>\n",
              "      <td>1</td>\n",
              "      <td>6</td>\n",
              "      <td>30.0</td>\n",
              "    </tr>\n",
              "    <tr>\n",
              "      <th>9</th>\n",
              "      <td>36</td>\n",
              "      <td>79431</td>\n",
              "      <td>Grated Pecorino Romano Cheese</td>\n",
              "      <td>specialty cheeses</td>\n",
              "      <td>dairy eggs</td>\n",
              "      <td>23</td>\n",
              "      <td>0</td>\n",
              "      <td>6</td>\n",
              "      <td>30.0</td>\n",
              "    </tr>\n",
              "    <tr>\n",
              "      <th>10</th>\n",
              "      <td>36</td>\n",
              "      <td>79431</td>\n",
              "      <td>Super Greens Salad</td>\n",
              "      <td>packaged vegetables fruits</td>\n",
              "      <td>produce</td>\n",
              "      <td>23</td>\n",
              "      <td>1</td>\n",
              "      <td>6</td>\n",
              "      <td>30.0</td>\n",
              "    </tr>\n",
              "    <tr>\n",
              "      <th>11</th>\n",
              "      <td>36</td>\n",
              "      <td>79431</td>\n",
              "      <td>Organic Half &amp; Half</td>\n",
              "      <td>cream</td>\n",
              "      <td>dairy eggs</td>\n",
              "      <td>23</td>\n",
              "      <td>0</td>\n",
              "      <td>6</td>\n",
              "      <td>30.0</td>\n",
              "    </tr>\n",
              "    <tr>\n",
              "      <th>12</th>\n",
              "      <td>36</td>\n",
              "      <td>79431</td>\n",
              "      <td>Cage Free Extra Large Grade AA Eggs</td>\n",
              "      <td>eggs</td>\n",
              "      <td>dairy eggs</td>\n",
              "      <td>23</td>\n",
              "      <td>1</td>\n",
              "      <td>6</td>\n",
              "      <td>30.0</td>\n",
              "    </tr>\n",
              "    <tr>\n",
              "      <th>13</th>\n",
              "      <td>36</td>\n",
              "      <td>79431</td>\n",
              "      <td>Spring Water</td>\n",
              "      <td>water seltzer sparkling water</td>\n",
              "      <td>beverages</td>\n",
              "      <td>23</td>\n",
              "      <td>1</td>\n",
              "      <td>6</td>\n",
              "      <td>30.0</td>\n",
              "    </tr>\n",
              "    <tr>\n",
              "      <th>14</th>\n",
              "      <td>36</td>\n",
              "      <td>79431</td>\n",
              "      <td>Prosciutto, Americano</td>\n",
              "      <td>lunch meat</td>\n",
              "      <td>deli</td>\n",
              "      <td>23</td>\n",
              "      <td>1</td>\n",
              "      <td>6</td>\n",
              "      <td>30.0</td>\n",
              "    </tr>\n",
              "    <tr>\n",
              "      <th>15</th>\n",
              "      <td>36</td>\n",
              "      <td>79431</td>\n",
              "      <td>Organic Garnet Sweet Potato (Yam)</td>\n",
              "      <td>fresh vegetables</td>\n",
              "      <td>produce</td>\n",
              "      <td>23</td>\n",
              "      <td>1</td>\n",
              "      <td>6</td>\n",
              "      <td>30.0</td>\n",
              "    </tr>\n",
              "    <tr>\n",
              "      <th>16</th>\n",
              "      <td>38</td>\n",
              "      <td>42756</td>\n",
              "      <td>Shelled Pistachios</td>\n",
              "      <td>nuts seeds dried fruit</td>\n",
              "      <td>snacks</td>\n",
              "      <td>6</td>\n",
              "      <td>0</td>\n",
              "      <td>6</td>\n",
              "      <td>24.0</td>\n",
              "    </tr>\n",
              "    <tr>\n",
              "      <th>17</th>\n",
              "      <td>38</td>\n",
              "      <td>42756</td>\n",
              "      <td>Organic Biologique Limes</td>\n",
              "      <td>packaged vegetables fruits</td>\n",
              "      <td>produce</td>\n",
              "      <td>6</td>\n",
              "      <td>0</td>\n",
              "      <td>6</td>\n",
              "      <td>24.0</td>\n",
              "    </tr>\n",
              "    <tr>\n",
              "      <th>18</th>\n",
              "      <td>38</td>\n",
              "      <td>42756</td>\n",
              "      <td>Green Peas</td>\n",
              "      <td>frozen produce</td>\n",
              "      <td>frozen</td>\n",
              "      <td>6</td>\n",
              "      <td>0</td>\n",
              "      <td>6</td>\n",
              "      <td>24.0</td>\n",
              "    </tr>\n",
              "    <tr>\n",
              "      <th>19</th>\n",
              "      <td>38</td>\n",
              "      <td>42756</td>\n",
              "      <td>Fresh Dill</td>\n",
              "      <td>fresh herbs</td>\n",
              "      <td>produce</td>\n",
              "      <td>6</td>\n",
              "      <td>0</td>\n",
              "      <td>6</td>\n",
              "      <td>24.0</td>\n",
              "    </tr>\n",
              "    <tr>\n",
              "      <th>20</th>\n",
              "      <td>38</td>\n",
              "      <td>42756</td>\n",
              "      <td>Organic Hot House Tomato</td>\n",
              "      <td>fresh vegetables</td>\n",
              "      <td>produce</td>\n",
              "      <td>6</td>\n",
              "      <td>0</td>\n",
              "      <td>6</td>\n",
              "      <td>24.0</td>\n",
              "    </tr>\n",
              "    <tr>\n",
              "      <th>21</th>\n",
              "      <td>38</td>\n",
              "      <td>42756</td>\n",
              "      <td>Flat Parsley, Bunch</td>\n",
              "      <td>fresh herbs</td>\n",
              "      <td>produce</td>\n",
              "      <td>6</td>\n",
              "      <td>0</td>\n",
              "      <td>6</td>\n",
              "      <td>24.0</td>\n",
              "    </tr>\n",
              "    <tr>\n",
              "      <th>22</th>\n",
              "      <td>38</td>\n",
              "      <td>42756</td>\n",
              "      <td>Organic Baby Arugula</td>\n",
              "      <td>packaged vegetables fruits</td>\n",
              "      <td>produce</td>\n",
              "      <td>6</td>\n",
              "      <td>1</td>\n",
              "      <td>6</td>\n",
              "      <td>24.0</td>\n",
              "    </tr>\n",
              "    <tr>\n",
              "      <th>23</th>\n",
              "      <td>38</td>\n",
              "      <td>42756</td>\n",
              "      <td>Bunched Cilantro</td>\n",
              "      <td>fresh herbs</td>\n",
              "      <td>produce</td>\n",
              "      <td>6</td>\n",
              "      <td>0</td>\n",
              "      <td>6</td>\n",
              "      <td>24.0</td>\n",
              "    </tr>\n",
              "    <tr>\n",
              "      <th>24</th>\n",
              "      <td>38</td>\n",
              "      <td>42756</td>\n",
              "      <td>Organic Raw Unfiltered Apple Cider Vinegar</td>\n",
              "      <td>oils vinegars</td>\n",
              "      <td>pantry</td>\n",
              "      <td>6</td>\n",
              "      <td>0</td>\n",
              "      <td>6</td>\n",
              "      <td>24.0</td>\n",
              "    </tr>\n",
              "    <tr>\n",
              "      <th>25</th>\n",
              "      <td>96</td>\n",
              "      <td>17227</td>\n",
              "      <td>Roasted Turkey</td>\n",
              "      <td>lunch meat</td>\n",
              "      <td>deli</td>\n",
              "      <td>7</td>\n",
              "      <td>1</td>\n",
              "      <td>6</td>\n",
              "      <td>30.0</td>\n",
              "    </tr>\n",
              "    <tr>\n",
              "      <th>26</th>\n",
              "      <td>96</td>\n",
              "      <td>17227</td>\n",
              "      <td>Organic Cucumber</td>\n",
              "      <td>fresh vegetables</td>\n",
              "      <td>produce</td>\n",
              "      <td>7</td>\n",
              "      <td>0</td>\n",
              "      <td>6</td>\n",
              "      <td>30.0</td>\n",
              "    </tr>\n",
              "    <tr>\n",
              "      <th>27</th>\n",
              "      <td>96</td>\n",
              "      <td>17227</td>\n",
              "      <td>Organic Grape Tomatoes</td>\n",
              "      <td>packaged vegetables fruits</td>\n",
              "      <td>produce</td>\n",
              "      <td>7</td>\n",
              "      <td>1</td>\n",
              "      <td>6</td>\n",
              "      <td>30.0</td>\n",
              "    </tr>\n",
              "    <tr>\n",
              "      <th>28</th>\n",
              "      <td>96</td>\n",
              "      <td>17227</td>\n",
              "      <td>Organic Blueberries</td>\n",
              "      <td>packaged vegetables fruits</td>\n",
              "      <td>produce</td>\n",
              "      <td>7</td>\n",
              "      <td>1</td>\n",
              "      <td>6</td>\n",
              "      <td>30.0</td>\n",
              "    </tr>\n",
              "    <tr>\n",
              "      <th>29</th>\n",
              "      <td>96</td>\n",
              "      <td>17227</td>\n",
              "      <td>Organic Raspberries</td>\n",
              "      <td>packaged vegetables fruits</td>\n",
              "      <td>produce</td>\n",
              "      <td>7</td>\n",
              "      <td>1</td>\n",
              "      <td>6</td>\n",
              "      <td>30.0</td>\n",
              "    </tr>\n",
              "    <tr>\n",
              "      <th>30</th>\n",
              "      <td>96</td>\n",
              "      <td>17227</td>\n",
              "      <td>Organic Pomegranate Kernels</td>\n",
              "      <td>frozen produce</td>\n",
              "      <td>frozen</td>\n",
              "      <td>7</td>\n",
              "      <td>0</td>\n",
              "      <td>6</td>\n",
              "      <td>30.0</td>\n",
              "    </tr>\n",
              "    <tr>\n",
              "      <th>31</th>\n",
              "      <td>96</td>\n",
              "      <td>17227</td>\n",
              "      <td>Organic Whole Strawberries</td>\n",
              "      <td>frozen produce</td>\n",
              "      <td>frozen</td>\n",
              "      <td>7</td>\n",
              "      <td>1</td>\n",
              "      <td>6</td>\n",
              "      <td>30.0</td>\n",
              "    </tr>\n",
              "    <tr>\n",
              "      <th>32</th>\n",
              "      <td>98</td>\n",
              "      <td>56463</td>\n",
              "      <td>Organic Raw Kombucha Gingerade</td>\n",
              "      <td>refrigerated</td>\n",
              "      <td>beverages</td>\n",
              "      <td>41</td>\n",
              "      <td>1</td>\n",
              "      <td>3</td>\n",
              "      <td>14.0</td>\n",
              "    </tr>\n",
              "  </tbody>\n",
              "</table>\n",
              "</div>\n",
              "      <button class=\"colab-df-convert\" onclick=\"convertToInteractive('df-1ebc40d5-31eb-490d-abab-69c62d59216b')\"\n",
              "              title=\"Convert this dataframe to an interactive table.\"\n",
              "              style=\"display:none;\">\n",
              "        \n",
              "  <svg xmlns=\"http://www.w3.org/2000/svg\" height=\"24px\"viewBox=\"0 0 24 24\"\n",
              "       width=\"24px\">\n",
              "    <path d=\"M0 0h24v24H0V0z\" fill=\"none\"/>\n",
              "    <path d=\"M18.56 5.44l.94 2.06.94-2.06 2.06-.94-2.06-.94-.94-2.06-.94 2.06-2.06.94zm-11 1L8.5 8.5l.94-2.06 2.06-.94-2.06-.94L8.5 2.5l-.94 2.06-2.06.94zm10 10l.94 2.06.94-2.06 2.06-.94-2.06-.94-.94-2.06-.94 2.06-2.06.94z\"/><path d=\"M17.41 7.96l-1.37-1.37c-.4-.4-.92-.59-1.43-.59-.52 0-1.04.2-1.43.59L10.3 9.45l-7.72 7.72c-.78.78-.78 2.05 0 2.83L4 21.41c.39.39.9.59 1.41.59.51 0 1.02-.2 1.41-.59l7.78-7.78 2.81-2.81c.8-.78.8-2.07 0-2.86zM5.41 20L4 18.59l7.72-7.72 1.47 1.35L5.41 20z\"/>\n",
              "  </svg>\n",
              "      </button>\n",
              "      \n",
              "  <style>\n",
              "    .colab-df-container {\n",
              "      display:flex;\n",
              "      flex-wrap:wrap;\n",
              "      gap: 12px;\n",
              "    }\n",
              "\n",
              "    .colab-df-convert {\n",
              "      background-color: #E8F0FE;\n",
              "      border: none;\n",
              "      border-radius: 50%;\n",
              "      cursor: pointer;\n",
              "      display: none;\n",
              "      fill: #1967D2;\n",
              "      height: 32px;\n",
              "      padding: 0 0 0 0;\n",
              "      width: 32px;\n",
              "    }\n",
              "\n",
              "    .colab-df-convert:hover {\n",
              "      background-color: #E2EBFA;\n",
              "      box-shadow: 0px 1px 2px rgba(60, 64, 67, 0.3), 0px 1px 3px 1px rgba(60, 64, 67, 0.15);\n",
              "      fill: #174EA6;\n",
              "    }\n",
              "\n",
              "    [theme=dark] .colab-df-convert {\n",
              "      background-color: #3B4455;\n",
              "      fill: #D2E3FC;\n",
              "    }\n",
              "\n",
              "    [theme=dark] .colab-df-convert:hover {\n",
              "      background-color: #434B5C;\n",
              "      box-shadow: 0px 1px 3px 1px rgba(0, 0, 0, 0.15);\n",
              "      filter: drop-shadow(0px 1px 2px rgba(0, 0, 0, 0.3));\n",
              "      fill: #FFFFFF;\n",
              "    }\n",
              "  </style>\n",
              "\n",
              "      <script>\n",
              "        const buttonEl =\n",
              "          document.querySelector('#df-1ebc40d5-31eb-490d-abab-69c62d59216b button.colab-df-convert');\n",
              "        buttonEl.style.display =\n",
              "          google.colab.kernel.accessAllowed ? 'block' : 'none';\n",
              "\n",
              "        async function convertToInteractive(key) {\n",
              "          const element = document.querySelector('#df-1ebc40d5-31eb-490d-abab-69c62d59216b');\n",
              "          const dataTable =\n",
              "            await google.colab.kernel.invokeFunction('convertToInteractive',\n",
              "                                                     [key], {});\n",
              "          if (!dataTable) return;\n",
              "\n",
              "          const docLinkHtml = 'Like what you see? Visit the ' +\n",
              "            '<a target=\"_blank\" href=https://colab.research.google.com/notebooks/data_table.ipynb>data table notebook</a>'\n",
              "            + ' to learn more about interactive tables.';\n",
              "          element.innerHTML = '';\n",
              "          dataTable['output_type'] = 'display_data';\n",
              "          await google.colab.output.renderOutput(dataTable, element);\n",
              "          const docLink = document.createElement('div');\n",
              "          docLink.innerHTML = docLinkHtml;\n",
              "          element.appendChild(docLink);\n",
              "        }\n",
              "      </script>\n",
              "    </div>\n",
              "  </div>\n",
              "  "
            ]
          },
          "metadata": {},
          "execution_count": 223
        }
      ]
    },
    {
      "cell_type": "code",
      "source": [
        "record[3]"
      ],
      "metadata": {
        "colab": {
          "base_uri": "https://localhost:8080/"
        },
        "id": "QQyZOVhBOshv",
        "outputId": "4cec4c29-4398-4b10-c22f-3f7fb9283c6e"
      },
      "execution_count": 222,
      "outputs": [
        {
          "output_type": "execute_result",
          "data": {
            "text/plain": [
              "['Roasted Turkey',\n",
              " 'Organic Cucumber',\n",
              " 'Organic Grape Tomatoes',\n",
              " 'Organic Blueberries',\n",
              " 'Organic Raspberries',\n",
              " 'Organic Pomegranate Kernels',\n",
              " 'Organic Whole Strawberries']"
            ]
          },
          "metadata": {},
          "execution_count": 222
        }
      ]
    },
    {
      "cell_type": "code",
      "source": [
        "# 주문번호 별 주문 리스트 나누기(한 번 주문 할 때 어떤 물건을 같이 사는지 확인하기 위해서)\n",
        "\n",
        "# 연관규칙분석을 위해 요소 비교를 하는 과정에서 시간이 오래걸려서 리스트 대신 array를 사용하였다.\n",
        "# 하나의 iterator 요소간 비교에서 zip 함수를 사용 할 수 있었다.\n",
        "# 마지막 열은 record에 append 되지 않는 점을 확인하여 if문을 하나 더 추가하여 마지막 열 추가\n",
        "\n",
        "df_array = df_graph.values # 전체 데이터를 array화 하여 계산속도 증가\n",
        "\n",
        "record = [] # 주문번호 별 주문내역리스트\n",
        "record2 =[] # 한 주문에 포함 된 내역\n",
        "\n",
        "for p1, p2 in zip(df_array, df_array[1:]): # 0과1 1과2 ... 비교하도록 for문 \n",
        "\n",
        "    if p1[0]==p2[0]:              # 주문번호가 같으면 record2에 추가\n",
        "        record2.append(p1[2])\n",
        "\n",
        "        if p1[2]==df_array[-2][2]: # 전체데이터의 마지막열에 도달하면 마지막 주문내역 record에 추가\n",
        "            record2.append(p2[2])\n",
        "            record.append(record2)\n",
        "  \n",
        "    else:\n",
        "        record2.append(p1[2])    # 주문번호가 다르면 해당 주문의 마지막 물건이다. 주문번호 마지막 목록을 record2에 추가하고\n",
        "        record.append(record2)   # 해당 주문을 그룹화한 record2를 record에 추가하고\n",
        "        record2 = []             # record2를 초기화"
      ],
      "metadata": {
        "id": "1JdMjJ0IKkjf"
      },
      "execution_count": 201,
      "outputs": []
    },
    {
      "cell_type": "code",
      "source": [],
      "metadata": {
        "id": "GdV3zLBpF2V0"
      },
      "execution_count": null,
      "outputs": []
    },
    {
      "cell_type": "code",
      "source": [
        "from sklearn.cluster import KMeans\n",
        "from sklearn.preprocessing import MinMaxScaler\n",
        "\n",
        "df_model = df_graph[['누적주문','주문텀']].dropna()\n",
        "scaler = MinMaxScaler()\n",
        "sc_data = scaler.fit_transform(df_model)"
      ],
      "metadata": {
        "id": "PIImIP1CjOeB"
      },
      "execution_count": null,
      "outputs": []
    },
    {
      "cell_type": "code",
      "source": [
        "# model = KMeans(n_clusters=10, random_state=12)\n",
        "# model.fit(sc_data)"
      ],
      "metadata": {
        "id": "hVH9QU73nMEA"
      },
      "execution_count": null,
      "outputs": []
    },
    {
      "cell_type": "markdown",
      "source": [
        "## 5) 평가"
      ],
      "metadata": {
        "id": "vAHummnChWVu"
      }
    },
    {
      "cell_type": "markdown",
      "source": [
        "## 6) 배포"
      ],
      "metadata": {
        "id": "jxW9YQndhY3w"
      }
    },
    {
      "cell_type": "code",
      "execution_count": null,
      "metadata": {
        "id": "E4N69JGigrVR"
      },
      "outputs": [],
      "source": []
    }
  ]
}