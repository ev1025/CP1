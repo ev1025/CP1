{
  "nbformat": 4,
  "nbformat_minor": 0,
  "metadata": {
    "colab": {
      "provenance": [],
      "mount_file_id": "1_kQNolFDY4G3dXCAKg3uoXZpadLuCY1c",
      "authorship_tag": "ABX9TyNT/YlbrUuK6Ek3ZHqav7kT",
      "include_colab_link": true
    },
    "kernelspec": {
      "name": "python3",
      "display_name": "Python 3"
    },
    "language_info": {
      "name": "python"
    }
  },
  "cells": [
    {
      "cell_type": "markdown",
      "metadata": {
        "id": "view-in-github",
        "colab_type": "text"
      },
      "source": [
        "<a href=\"https://colab.research.google.com/github/ev1025/CP1/blob/main/Code_project1.ipynb\" target=\"_parent\"><img src=\"https://colab.research.google.com/assets/colab-badge.svg\" alt=\"Open In Colab\"/></a>"
      ]
    },
    {
      "cell_type": "markdown",
      "source": [
        "# 인스타카트 데이터 분석"
      ],
      "metadata": {
        "id": "VpDCmYYFg9Z4"
      }
    },
    {
      "cell_type": "markdown",
      "source": [
        "참고자료 : 케글 인스타카트 장바구니 분석 데이터     \n",
        "https://www.kaggle.com/datasets/psparks/instacart-market-basket-analysis"
      ],
      "metadata": {
        "id": "TJNQ25YFhgoG"
      }
    },
    {
      "cell_type": "markdown",
      "source": [
        "# 1. CRISP-DM 기반 분석"
      ],
      "metadata": {
        "id": "z-oZneANhFPX"
      }
    },
    {
      "cell_type": "markdown",
      "source": [
        "## 1) 비즈니스이해"
      ],
      "metadata": {
        "id": "Feqiq8RVhOJK"
      }
    },
    {
      "cell_type": "markdown",
      "source": [
        "## 2) 데이터 이해"
      ],
      "metadata": {
        "id": "GX4uEt0phQxU"
      }
    },
    {
      "cell_type": "markdown",
      "source": [
        "## 3) 데이터 전처리"
      ],
      "metadata": {
        "id": "gOjbyTlphSp0"
      }
    },
    {
      "cell_type": "code",
      "source": [
        "# 한글 그래프 폰트(런타임재시작, plt.rc('font', family='NanumBarunGothic'))\n",
        "!sudo apt-get install -y fonts-nanum\n",
        "!sudo fc-cache -fv\n",
        "!rm ~/.cache/matplotlib -rf"
      ],
      "metadata": {
        "colab": {
          "base_uri": "https://localhost:8080/"
        },
        "id": "84Jl8CSIXo4p",
        "outputId": "4ba6fbcd-86dc-4455-adfc-ad3071e8f86b"
      },
      "execution_count": null,
      "outputs": [
        {
          "output_type": "stream",
          "name": "stdout",
          "text": [
            "Reading package lists... Done\n",
            "Building dependency tree       \n",
            "Reading state information... Done\n",
            "fonts-nanum is already the newest version (20170925-1).\n",
            "The following package was automatically installed and is no longer required:\n",
            "  libnvidia-common-460\n",
            "Use 'sudo apt autoremove' to remove it.\n",
            "0 upgraded, 0 newly installed, 0 to remove and 21 not upgraded.\n",
            "/usr/share/fonts: caching, new cache contents: 0 fonts, 1 dirs\n",
            "/usr/share/fonts/truetype: caching, new cache contents: 0 fonts, 3 dirs\n",
            "/usr/share/fonts/truetype/humor-sans: caching, new cache contents: 1 fonts, 0 dirs\n",
            "/usr/share/fonts/truetype/liberation: caching, new cache contents: 16 fonts, 0 dirs\n",
            "/usr/share/fonts/truetype/nanum: caching, new cache contents: 10 fonts, 0 dirs\n",
            "/usr/local/share/fonts: caching, new cache contents: 0 fonts, 0 dirs\n",
            "/root/.local/share/fonts: skipping, no such directory\n",
            "/root/.fonts: skipping, no such directory\n",
            "/var/cache/fontconfig: cleaning cache directory\n",
            "/root/.cache/fontconfig: not cleaning non-existent cache directory\n",
            "/root/.fontconfig: not cleaning non-existent cache directory\n",
            "fc-cache: succeeded\n"
          ]
        }
      ]
    },
    {
      "cell_type": "code",
      "source": [
        "import matplotlib.pyplot as plt\n",
        "import seaborn as sns\n",
        "\n",
        "import pandas as pd\n",
        "import numpy as np\n",
        "from functools import reduce"
      ],
      "metadata": {
        "id": "INnJt-a5ZK92"
      },
      "execution_count": null,
      "outputs": []
    },
    {
      "cell_type": "code",
      "source": [
        "df1 = pd.read_csv('/content/drive/MyDrive/인스타카트/aisles.csv')               # 소분류\n",
        "df2 = pd.read_csv('/content/drive/MyDrive/인스타카트/departments.csv')          # 대분류\n",
        "df3 = pd.read_csv('/content/drive/MyDrive/인스타카트/order_products__prior.csv')\n",
        "df4 = pd.read_csv('/content/drive/MyDrive/인스타카트/orders.csv')\n",
        "df5 = pd.read_csv('/content/drive/MyDrive/인스타카트/products.csv')"
      ],
      "metadata": {
        "id": "wfLtQBhVkUfN"
      },
      "execution_count": null,
      "outputs": []
    },
    {
      "cell_type": "code",
      "source": [
        "df3.shape"
      ],
      "metadata": {
        "colab": {
          "base_uri": "https://localhost:8080/"
        },
        "id": "eWSY1KoQMmrI",
        "outputId": "dd68423b-16c6-46aa-de72-9e5212c5a217"
      },
      "execution_count": null,
      "outputs": [
        {
          "output_type": "execute_result",
          "data": {
            "text/plain": [
              "(32434489, 4)"
            ]
          },
          "metadata": {},
          "execution_count": 4
        }
      ]
    },
    {
      "cell_type": "code",
      "source": [
        "df1.isnull().sum()"
      ],
      "metadata": {
        "id": "fevHHqohlj42",
        "colab": {
          "base_uri": "https://localhost:8080/"
        },
        "outputId": "8165da5a-af8c-4cfc-806f-5a33d386cd93"
      },
      "execution_count": null,
      "outputs": [
        {
          "output_type": "execute_result",
          "data": {
            "text/plain": [
              "aisle_id    0\n",
              "aisle       0\n",
              "dtype: int64"
            ]
          },
          "metadata": {},
          "execution_count": 5
        }
      ]
    },
    {
      "cell_type": "code",
      "source": [
        "df2.isnull().sum()"
      ],
      "metadata": {
        "id": "wbhd3i14lqc2",
        "colab": {
          "base_uri": "https://localhost:8080/"
        },
        "outputId": "9b97451b-4d32-485f-a1da-326d2019d863"
      },
      "execution_count": null,
      "outputs": [
        {
          "output_type": "execute_result",
          "data": {
            "text/plain": [
              "department_id    0\n",
              "department       0\n",
              "dtype: int64"
            ]
          },
          "metadata": {},
          "execution_count": 6
        }
      ]
    },
    {
      "cell_type": "code",
      "source": [
        "df3.isnull().sum()"
      ],
      "metadata": {
        "id": "iAddx9Nfl3Ff",
        "colab": {
          "base_uri": "https://localhost:8080/"
        },
        "outputId": "565e5cdf-21ea-40a6-ab6a-2bb34c8b2f8f"
      },
      "execution_count": null,
      "outputs": [
        {
          "output_type": "execute_result",
          "data": {
            "text/plain": [
              "order_id             0\n",
              "product_id           0\n",
              "add_to_cart_order    0\n",
              "reordered            0\n",
              "dtype: int64"
            ]
          },
          "metadata": {},
          "execution_count": 7
        }
      ]
    },
    {
      "cell_type": "code",
      "source": [
        "df4.isnull().sum()# 현재 주문 이전 주문과의 텀(데이터 유지)"
      ],
      "metadata": {
        "id": "tLpJMTrjl6D3",
        "colab": {
          "base_uri": "https://localhost:8080/"
        },
        "outputId": "a13b8490-fda2-42e8-ac5b-73ff384ad100"
      },
      "execution_count": null,
      "outputs": [
        {
          "output_type": "execute_result",
          "data": {
            "text/plain": [
              "order_id                       0\n",
              "user_id                        0\n",
              "eval_set                       0\n",
              "order_number                   0\n",
              "order_dow                      0\n",
              "order_hour_of_day              0\n",
              "days_since_prior_order    206209\n",
              "dtype: int64"
            ]
          },
          "metadata": {},
          "execution_count": 8
        }
      ]
    },
    {
      "cell_type": "code",
      "source": [
        "df5.isnull().sum() "
      ],
      "metadata": {
        "id": "LJtlIqk3l-uo",
        "colab": {
          "base_uri": "https://localhost:8080/"
        },
        "outputId": "3b963326-b796-4e49-d990-cb1c5f21e085"
      },
      "execution_count": null,
      "outputs": [
        {
          "output_type": "execute_result",
          "data": {
            "text/plain": [
              "product_id       0\n",
              "product_name     0\n",
              "aisle_id         0\n",
              "department_id    0\n",
              "dtype: int64"
            ]
          },
          "metadata": {},
          "execution_count": 9
        }
      ]
    },
    {
      "cell_type": "code",
      "source": [
        "# 한 번에 merge 각 컬럼이 달라서 실패\n",
        "# data = [df3,df1,df2,df5,df6]\n",
        "# full_data = reduce(lambda x,y : pd.merge(x,y), data)"
      ],
      "metadata": {
        "id": "iT3xQv1SH6Nz"
      },
      "execution_count": null,
      "outputs": []
    },
    {
      "cell_type": "code",
      "source": [
        "# 데이터 합치는 함수\n",
        "def df_merge(t1,t2,t3,t4,t5):\n",
        "    data = pd.merge(t1,t2)\n",
        "    data = pd.merge(data,t3)\n",
        "    data = pd.merge(data,t4)\n",
        "    data = pd.merge(data,t5)\n",
        "    return data"
      ],
      "metadata": {
        "id": "pWEljM2cnF-E"
      },
      "execution_count": null,
      "outputs": []
    },
    {
      "cell_type": "code",
      "source": [
        "full_data = df_merge(df3,df4,df5,df1,df2)\n",
        "full_data"
      ],
      "metadata": {
        "id": "Tq-zXFb7uCu6",
        "colab": {
          "base_uri": "https://localhost:8080/",
          "height": 424
        },
        "outputId": "33f7bbd1-f740-4452-93d4-07fc54da58a2"
      },
      "execution_count": null,
      "outputs": [
        {
          "output_type": "execute_result",
          "data": {
            "text/plain": [
              "          order_id  product_id  add_to_cart_order  reordered  user_id  \\\n",
              "0                2       33120                  1          1   202279   \n",
              "1               26       33120                  5          0   153404   \n",
              "2              120       33120                 13          0    23750   \n",
              "3              327       33120                  5          1    58707   \n",
              "4              390       33120                 28          1   166654   \n",
              "...            ...         ...                ...        ...      ...   \n",
              "32434484   2882701       21581                  8          0   174096   \n",
              "32434485   2909991       18001                  5          0    80613   \n",
              "32434486   3016581       46404                  1          1   132609   \n",
              "32434487   3326955       46404                  1          0   132609   \n",
              "32434488   3340423       46404                  3          0   103807   \n",
              "\n",
              "         eval_set  order_number  order_dow  order_hour_of_day  \\\n",
              "0           prior             3          5                  9   \n",
              "1           prior             2          0                 16   \n",
              "2           prior            11          6                  8   \n",
              "3           prior            21          6                  9   \n",
              "4           prior            48          0                 12   \n",
              "...           ...           ...        ...                ...   \n",
              "32434484    prior            11          3                  9   \n",
              "32434485    prior            10          0                 11   \n",
              "32434486    prior             8          5                 14   \n",
              "32434487    prior             7          3                 15   \n",
              "32434488    prior            12          6                 14   \n",
              "\n",
              "          days_since_prior_order                      product_name  aisle_id  \\\n",
              "0                            8.0                Organic Egg Whites        86   \n",
              "1                            7.0                Organic Egg Whites        86   \n",
              "2                           10.0                Organic Egg Whites        86   \n",
              "3                            8.0                Organic Egg Whites        86   \n",
              "4                            9.0                Organic Egg Whites        86   \n",
              "...                          ...                               ...       ...   \n",
              "32434484                     3.0  Doc McStuffins Adhesive Bandages         6   \n",
              "32434485                     2.0            Dried Porcini Mushroom         6   \n",
              "32434486                     2.0            Cotes De Provence Rose         6   \n",
              "32434487                     2.0            Cotes De Provence Rose         6   \n",
              "32434488                     4.0            Cotes De Provence Rose         6   \n",
              "\n",
              "          department_id  aisle  department  \n",
              "0                    16   eggs  dairy eggs  \n",
              "1                    16   eggs  dairy eggs  \n",
              "2                    16   eggs  dairy eggs  \n",
              "3                    16   eggs  dairy eggs  \n",
              "4                    16   eggs  dairy eggs  \n",
              "...                 ...    ...         ...  \n",
              "32434484              2  other       other  \n",
              "32434485              2  other       other  \n",
              "32434486              2  other       other  \n",
              "32434487              2  other       other  \n",
              "32434488              2  other       other  \n",
              "\n",
              "[32434489 rows x 15 columns]"
            ],
            "text/html": [
              "\n",
              "  <div id=\"df-85878e81-a967-4566-8031-09cd21493983\">\n",
              "    <div class=\"colab-df-container\">\n",
              "      <div>\n",
              "<style scoped>\n",
              "    .dataframe tbody tr th:only-of-type {\n",
              "        vertical-align: middle;\n",
              "    }\n",
              "\n",
              "    .dataframe tbody tr th {\n",
              "        vertical-align: top;\n",
              "    }\n",
              "\n",
              "    .dataframe thead th {\n",
              "        text-align: right;\n",
              "    }\n",
              "</style>\n",
              "<table border=\"1\" class=\"dataframe\">\n",
              "  <thead>\n",
              "    <tr style=\"text-align: right;\">\n",
              "      <th></th>\n",
              "      <th>order_id</th>\n",
              "      <th>product_id</th>\n",
              "      <th>add_to_cart_order</th>\n",
              "      <th>reordered</th>\n",
              "      <th>user_id</th>\n",
              "      <th>eval_set</th>\n",
              "      <th>order_number</th>\n",
              "      <th>order_dow</th>\n",
              "      <th>order_hour_of_day</th>\n",
              "      <th>days_since_prior_order</th>\n",
              "      <th>product_name</th>\n",
              "      <th>aisle_id</th>\n",
              "      <th>department_id</th>\n",
              "      <th>aisle</th>\n",
              "      <th>department</th>\n",
              "    </tr>\n",
              "  </thead>\n",
              "  <tbody>\n",
              "    <tr>\n",
              "      <th>0</th>\n",
              "      <td>2</td>\n",
              "      <td>33120</td>\n",
              "      <td>1</td>\n",
              "      <td>1</td>\n",
              "      <td>202279</td>\n",
              "      <td>prior</td>\n",
              "      <td>3</td>\n",
              "      <td>5</td>\n",
              "      <td>9</td>\n",
              "      <td>8.0</td>\n",
              "      <td>Organic Egg Whites</td>\n",
              "      <td>86</td>\n",
              "      <td>16</td>\n",
              "      <td>eggs</td>\n",
              "      <td>dairy eggs</td>\n",
              "    </tr>\n",
              "    <tr>\n",
              "      <th>1</th>\n",
              "      <td>26</td>\n",
              "      <td>33120</td>\n",
              "      <td>5</td>\n",
              "      <td>0</td>\n",
              "      <td>153404</td>\n",
              "      <td>prior</td>\n",
              "      <td>2</td>\n",
              "      <td>0</td>\n",
              "      <td>16</td>\n",
              "      <td>7.0</td>\n",
              "      <td>Organic Egg Whites</td>\n",
              "      <td>86</td>\n",
              "      <td>16</td>\n",
              "      <td>eggs</td>\n",
              "      <td>dairy eggs</td>\n",
              "    </tr>\n",
              "    <tr>\n",
              "      <th>2</th>\n",
              "      <td>120</td>\n",
              "      <td>33120</td>\n",
              "      <td>13</td>\n",
              "      <td>0</td>\n",
              "      <td>23750</td>\n",
              "      <td>prior</td>\n",
              "      <td>11</td>\n",
              "      <td>6</td>\n",
              "      <td>8</td>\n",
              "      <td>10.0</td>\n",
              "      <td>Organic Egg Whites</td>\n",
              "      <td>86</td>\n",
              "      <td>16</td>\n",
              "      <td>eggs</td>\n",
              "      <td>dairy eggs</td>\n",
              "    </tr>\n",
              "    <tr>\n",
              "      <th>3</th>\n",
              "      <td>327</td>\n",
              "      <td>33120</td>\n",
              "      <td>5</td>\n",
              "      <td>1</td>\n",
              "      <td>58707</td>\n",
              "      <td>prior</td>\n",
              "      <td>21</td>\n",
              "      <td>6</td>\n",
              "      <td>9</td>\n",
              "      <td>8.0</td>\n",
              "      <td>Organic Egg Whites</td>\n",
              "      <td>86</td>\n",
              "      <td>16</td>\n",
              "      <td>eggs</td>\n",
              "      <td>dairy eggs</td>\n",
              "    </tr>\n",
              "    <tr>\n",
              "      <th>4</th>\n",
              "      <td>390</td>\n",
              "      <td>33120</td>\n",
              "      <td>28</td>\n",
              "      <td>1</td>\n",
              "      <td>166654</td>\n",
              "      <td>prior</td>\n",
              "      <td>48</td>\n",
              "      <td>0</td>\n",
              "      <td>12</td>\n",
              "      <td>9.0</td>\n",
              "      <td>Organic Egg Whites</td>\n",
              "      <td>86</td>\n",
              "      <td>16</td>\n",
              "      <td>eggs</td>\n",
              "      <td>dairy eggs</td>\n",
              "    </tr>\n",
              "    <tr>\n",
              "      <th>...</th>\n",
              "      <td>...</td>\n",
              "      <td>...</td>\n",
              "      <td>...</td>\n",
              "      <td>...</td>\n",
              "      <td>...</td>\n",
              "      <td>...</td>\n",
              "      <td>...</td>\n",
              "      <td>...</td>\n",
              "      <td>...</td>\n",
              "      <td>...</td>\n",
              "      <td>...</td>\n",
              "      <td>...</td>\n",
              "      <td>...</td>\n",
              "      <td>...</td>\n",
              "      <td>...</td>\n",
              "    </tr>\n",
              "    <tr>\n",
              "      <th>32434484</th>\n",
              "      <td>2882701</td>\n",
              "      <td>21581</td>\n",
              "      <td>8</td>\n",
              "      <td>0</td>\n",
              "      <td>174096</td>\n",
              "      <td>prior</td>\n",
              "      <td>11</td>\n",
              "      <td>3</td>\n",
              "      <td>9</td>\n",
              "      <td>3.0</td>\n",
              "      <td>Doc McStuffins Adhesive Bandages</td>\n",
              "      <td>6</td>\n",
              "      <td>2</td>\n",
              "      <td>other</td>\n",
              "      <td>other</td>\n",
              "    </tr>\n",
              "    <tr>\n",
              "      <th>32434485</th>\n",
              "      <td>2909991</td>\n",
              "      <td>18001</td>\n",
              "      <td>5</td>\n",
              "      <td>0</td>\n",
              "      <td>80613</td>\n",
              "      <td>prior</td>\n",
              "      <td>10</td>\n",
              "      <td>0</td>\n",
              "      <td>11</td>\n",
              "      <td>2.0</td>\n",
              "      <td>Dried Porcini Mushroom</td>\n",
              "      <td>6</td>\n",
              "      <td>2</td>\n",
              "      <td>other</td>\n",
              "      <td>other</td>\n",
              "    </tr>\n",
              "    <tr>\n",
              "      <th>32434486</th>\n",
              "      <td>3016581</td>\n",
              "      <td>46404</td>\n",
              "      <td>1</td>\n",
              "      <td>1</td>\n",
              "      <td>132609</td>\n",
              "      <td>prior</td>\n",
              "      <td>8</td>\n",
              "      <td>5</td>\n",
              "      <td>14</td>\n",
              "      <td>2.0</td>\n",
              "      <td>Cotes De Provence Rose</td>\n",
              "      <td>6</td>\n",
              "      <td>2</td>\n",
              "      <td>other</td>\n",
              "      <td>other</td>\n",
              "    </tr>\n",
              "    <tr>\n",
              "      <th>32434487</th>\n",
              "      <td>3326955</td>\n",
              "      <td>46404</td>\n",
              "      <td>1</td>\n",
              "      <td>0</td>\n",
              "      <td>132609</td>\n",
              "      <td>prior</td>\n",
              "      <td>7</td>\n",
              "      <td>3</td>\n",
              "      <td>15</td>\n",
              "      <td>2.0</td>\n",
              "      <td>Cotes De Provence Rose</td>\n",
              "      <td>6</td>\n",
              "      <td>2</td>\n",
              "      <td>other</td>\n",
              "      <td>other</td>\n",
              "    </tr>\n",
              "    <tr>\n",
              "      <th>32434488</th>\n",
              "      <td>3340423</td>\n",
              "      <td>46404</td>\n",
              "      <td>3</td>\n",
              "      <td>0</td>\n",
              "      <td>103807</td>\n",
              "      <td>prior</td>\n",
              "      <td>12</td>\n",
              "      <td>6</td>\n",
              "      <td>14</td>\n",
              "      <td>4.0</td>\n",
              "      <td>Cotes De Provence Rose</td>\n",
              "      <td>6</td>\n",
              "      <td>2</td>\n",
              "      <td>other</td>\n",
              "      <td>other</td>\n",
              "    </tr>\n",
              "  </tbody>\n",
              "</table>\n",
              "<p>32434489 rows × 15 columns</p>\n",
              "</div>\n",
              "      <button class=\"colab-df-convert\" onclick=\"convertToInteractive('df-85878e81-a967-4566-8031-09cd21493983')\"\n",
              "              title=\"Convert this dataframe to an interactive table.\"\n",
              "              style=\"display:none;\">\n",
              "        \n",
              "  <svg xmlns=\"http://www.w3.org/2000/svg\" height=\"24px\"viewBox=\"0 0 24 24\"\n",
              "       width=\"24px\">\n",
              "    <path d=\"M0 0h24v24H0V0z\" fill=\"none\"/>\n",
              "    <path d=\"M18.56 5.44l.94 2.06.94-2.06 2.06-.94-2.06-.94-.94-2.06-.94 2.06-2.06.94zm-11 1L8.5 8.5l.94-2.06 2.06-.94-2.06-.94L8.5 2.5l-.94 2.06-2.06.94zm10 10l.94 2.06.94-2.06 2.06-.94-2.06-.94-.94-2.06-.94 2.06-2.06.94z\"/><path d=\"M17.41 7.96l-1.37-1.37c-.4-.4-.92-.59-1.43-.59-.52 0-1.04.2-1.43.59L10.3 9.45l-7.72 7.72c-.78.78-.78 2.05 0 2.83L4 21.41c.39.39.9.59 1.41.59.51 0 1.02-.2 1.41-.59l7.78-7.78 2.81-2.81c.8-.78.8-2.07 0-2.86zM5.41 20L4 18.59l7.72-7.72 1.47 1.35L5.41 20z\"/>\n",
              "  </svg>\n",
              "      </button>\n",
              "      \n",
              "  <style>\n",
              "    .colab-df-container {\n",
              "      display:flex;\n",
              "      flex-wrap:wrap;\n",
              "      gap: 12px;\n",
              "    }\n",
              "\n",
              "    .colab-df-convert {\n",
              "      background-color: #E8F0FE;\n",
              "      border: none;\n",
              "      border-radius: 50%;\n",
              "      cursor: pointer;\n",
              "      display: none;\n",
              "      fill: #1967D2;\n",
              "      height: 32px;\n",
              "      padding: 0 0 0 0;\n",
              "      width: 32px;\n",
              "    }\n",
              "\n",
              "    .colab-df-convert:hover {\n",
              "      background-color: #E2EBFA;\n",
              "      box-shadow: 0px 1px 2px rgba(60, 64, 67, 0.3), 0px 1px 3px 1px rgba(60, 64, 67, 0.15);\n",
              "      fill: #174EA6;\n",
              "    }\n",
              "\n",
              "    [theme=dark] .colab-df-convert {\n",
              "      background-color: #3B4455;\n",
              "      fill: #D2E3FC;\n",
              "    }\n",
              "\n",
              "    [theme=dark] .colab-df-convert:hover {\n",
              "      background-color: #434B5C;\n",
              "      box-shadow: 0px 1px 3px 1px rgba(0, 0, 0, 0.15);\n",
              "      filter: drop-shadow(0px 1px 2px rgba(0, 0, 0, 0.3));\n",
              "      fill: #FFFFFF;\n",
              "    }\n",
              "  </style>\n",
              "\n",
              "      <script>\n",
              "        const buttonEl =\n",
              "          document.querySelector('#df-85878e81-a967-4566-8031-09cd21493983 button.colab-df-convert');\n",
              "        buttonEl.style.display =\n",
              "          google.colab.kernel.accessAllowed ? 'block' : 'none';\n",
              "\n",
              "        async function convertToInteractive(key) {\n",
              "          const element = document.querySelector('#df-85878e81-a967-4566-8031-09cd21493983');\n",
              "          const dataTable =\n",
              "            await google.colab.kernel.invokeFunction('convertToInteractive',\n",
              "                                                     [key], {});\n",
              "          if (!dataTable) return;\n",
              "\n",
              "          const docLinkHtml = 'Like what you see? Visit the ' +\n",
              "            '<a target=\"_blank\" href=https://colab.research.google.com/notebooks/data_table.ipynb>data table notebook</a>'\n",
              "            + ' to learn more about interactive tables.';\n",
              "          element.innerHTML = '';\n",
              "          dataTable['output_type'] = 'display_data';\n",
              "          await google.colab.output.renderOutput(dataTable, element);\n",
              "          const docLink = document.createElement('div');\n",
              "          docLink.innerHTML = docLinkHtml;\n",
              "          element.appendChild(docLink);\n",
              "        }\n",
              "      </script>\n",
              "    </div>\n",
              "  </div>\n",
              "  "
            ]
          },
          "metadata": {},
          "execution_count": 12
        }
      ]
    },
    {
      "cell_type": "code",
      "source": [
        "# 그래프분석에 사용할 데이터 만들기\n",
        "df_graph = full_data[['user_id','product_name','aisle','department','order_number','reordered','order_dow','days_since_prior_order']]"
      ],
      "metadata": {
        "id": "Ik-UJdOZqDUU"
      },
      "execution_count": null,
      "outputs": []
    },
    {
      "cell_type": "code",
      "source": [
        "# 컬럼명 변경\n",
        "def df_rename(data):\n",
        "    data.columns = ['유저','제품','소분류','대분류','누적주문','재주문','요일','주문텀']\n",
        "    return data"
      ],
      "metadata": {
        "id": "FB8Llhu-3sDw"
      },
      "execution_count": null,
      "outputs": []
    },
    {
      "cell_type": "code",
      "source": [
        "df_graph = df_rename(df_graph)\n",
        "df_graph"
      ],
      "metadata": {
        "id": "XC_tCP0o3x3a",
        "colab": {
          "base_uri": "https://localhost:8080/",
          "height": 424
        },
        "outputId": "17dc9ad6-55ee-4786-88a3-137b4bc472f3"
      },
      "execution_count": null,
      "outputs": [
        {
          "output_type": "execute_result",
          "data": {
            "text/plain": [
              "              유저                                제품    소분류         대분류  누적주문  \\\n",
              "0         202279                Organic Egg Whites   eggs  dairy eggs     3   \n",
              "1         153404                Organic Egg Whites   eggs  dairy eggs     2   \n",
              "2          23750                Organic Egg Whites   eggs  dairy eggs    11   \n",
              "3          58707                Organic Egg Whites   eggs  dairy eggs    21   \n",
              "4         166654                Organic Egg Whites   eggs  dairy eggs    48   \n",
              "...          ...                               ...    ...         ...   ...   \n",
              "32434484  174096  Doc McStuffins Adhesive Bandages  other       other    11   \n",
              "32434485   80613            Dried Porcini Mushroom  other       other    10   \n",
              "32434486  132609            Cotes De Provence Rose  other       other     8   \n",
              "32434487  132609            Cotes De Provence Rose  other       other     7   \n",
              "32434488  103807            Cotes De Provence Rose  other       other    12   \n",
              "\n",
              "          재주문  요일   주문텀  \n",
              "0           1   5   8.0  \n",
              "1           0   0   7.0  \n",
              "2           0   6  10.0  \n",
              "3           1   6   8.0  \n",
              "4           1   0   9.0  \n",
              "...       ...  ..   ...  \n",
              "32434484    0   3   3.0  \n",
              "32434485    0   0   2.0  \n",
              "32434486    1   5   2.0  \n",
              "32434487    0   3   2.0  \n",
              "32434488    0   6   4.0  \n",
              "\n",
              "[32434489 rows x 8 columns]"
            ],
            "text/html": [
              "\n",
              "  <div id=\"df-40f9d625-b2ae-4143-9249-e701b49a15eb\">\n",
              "    <div class=\"colab-df-container\">\n",
              "      <div>\n",
              "<style scoped>\n",
              "    .dataframe tbody tr th:only-of-type {\n",
              "        vertical-align: middle;\n",
              "    }\n",
              "\n",
              "    .dataframe tbody tr th {\n",
              "        vertical-align: top;\n",
              "    }\n",
              "\n",
              "    .dataframe thead th {\n",
              "        text-align: right;\n",
              "    }\n",
              "</style>\n",
              "<table border=\"1\" class=\"dataframe\">\n",
              "  <thead>\n",
              "    <tr style=\"text-align: right;\">\n",
              "      <th></th>\n",
              "      <th>유저</th>\n",
              "      <th>제품</th>\n",
              "      <th>소분류</th>\n",
              "      <th>대분류</th>\n",
              "      <th>누적주문</th>\n",
              "      <th>재주문</th>\n",
              "      <th>요일</th>\n",
              "      <th>주문텀</th>\n",
              "    </tr>\n",
              "  </thead>\n",
              "  <tbody>\n",
              "    <tr>\n",
              "      <th>0</th>\n",
              "      <td>202279</td>\n",
              "      <td>Organic Egg Whites</td>\n",
              "      <td>eggs</td>\n",
              "      <td>dairy eggs</td>\n",
              "      <td>3</td>\n",
              "      <td>1</td>\n",
              "      <td>5</td>\n",
              "      <td>8.0</td>\n",
              "    </tr>\n",
              "    <tr>\n",
              "      <th>1</th>\n",
              "      <td>153404</td>\n",
              "      <td>Organic Egg Whites</td>\n",
              "      <td>eggs</td>\n",
              "      <td>dairy eggs</td>\n",
              "      <td>2</td>\n",
              "      <td>0</td>\n",
              "      <td>0</td>\n",
              "      <td>7.0</td>\n",
              "    </tr>\n",
              "    <tr>\n",
              "      <th>2</th>\n",
              "      <td>23750</td>\n",
              "      <td>Organic Egg Whites</td>\n",
              "      <td>eggs</td>\n",
              "      <td>dairy eggs</td>\n",
              "      <td>11</td>\n",
              "      <td>0</td>\n",
              "      <td>6</td>\n",
              "      <td>10.0</td>\n",
              "    </tr>\n",
              "    <tr>\n",
              "      <th>3</th>\n",
              "      <td>58707</td>\n",
              "      <td>Organic Egg Whites</td>\n",
              "      <td>eggs</td>\n",
              "      <td>dairy eggs</td>\n",
              "      <td>21</td>\n",
              "      <td>1</td>\n",
              "      <td>6</td>\n",
              "      <td>8.0</td>\n",
              "    </tr>\n",
              "    <tr>\n",
              "      <th>4</th>\n",
              "      <td>166654</td>\n",
              "      <td>Organic Egg Whites</td>\n",
              "      <td>eggs</td>\n",
              "      <td>dairy eggs</td>\n",
              "      <td>48</td>\n",
              "      <td>1</td>\n",
              "      <td>0</td>\n",
              "      <td>9.0</td>\n",
              "    </tr>\n",
              "    <tr>\n",
              "      <th>...</th>\n",
              "      <td>...</td>\n",
              "      <td>...</td>\n",
              "      <td>...</td>\n",
              "      <td>...</td>\n",
              "      <td>...</td>\n",
              "      <td>...</td>\n",
              "      <td>...</td>\n",
              "      <td>...</td>\n",
              "    </tr>\n",
              "    <tr>\n",
              "      <th>32434484</th>\n",
              "      <td>174096</td>\n",
              "      <td>Doc McStuffins Adhesive Bandages</td>\n",
              "      <td>other</td>\n",
              "      <td>other</td>\n",
              "      <td>11</td>\n",
              "      <td>0</td>\n",
              "      <td>3</td>\n",
              "      <td>3.0</td>\n",
              "    </tr>\n",
              "    <tr>\n",
              "      <th>32434485</th>\n",
              "      <td>80613</td>\n",
              "      <td>Dried Porcini Mushroom</td>\n",
              "      <td>other</td>\n",
              "      <td>other</td>\n",
              "      <td>10</td>\n",
              "      <td>0</td>\n",
              "      <td>0</td>\n",
              "      <td>2.0</td>\n",
              "    </tr>\n",
              "    <tr>\n",
              "      <th>32434486</th>\n",
              "      <td>132609</td>\n",
              "      <td>Cotes De Provence Rose</td>\n",
              "      <td>other</td>\n",
              "      <td>other</td>\n",
              "      <td>8</td>\n",
              "      <td>1</td>\n",
              "      <td>5</td>\n",
              "      <td>2.0</td>\n",
              "    </tr>\n",
              "    <tr>\n",
              "      <th>32434487</th>\n",
              "      <td>132609</td>\n",
              "      <td>Cotes De Provence Rose</td>\n",
              "      <td>other</td>\n",
              "      <td>other</td>\n",
              "      <td>7</td>\n",
              "      <td>0</td>\n",
              "      <td>3</td>\n",
              "      <td>2.0</td>\n",
              "    </tr>\n",
              "    <tr>\n",
              "      <th>32434488</th>\n",
              "      <td>103807</td>\n",
              "      <td>Cotes De Provence Rose</td>\n",
              "      <td>other</td>\n",
              "      <td>other</td>\n",
              "      <td>12</td>\n",
              "      <td>0</td>\n",
              "      <td>6</td>\n",
              "      <td>4.0</td>\n",
              "    </tr>\n",
              "  </tbody>\n",
              "</table>\n",
              "<p>32434489 rows × 8 columns</p>\n",
              "</div>\n",
              "      <button class=\"colab-df-convert\" onclick=\"convertToInteractive('df-40f9d625-b2ae-4143-9249-e701b49a15eb')\"\n",
              "              title=\"Convert this dataframe to an interactive table.\"\n",
              "              style=\"display:none;\">\n",
              "        \n",
              "  <svg xmlns=\"http://www.w3.org/2000/svg\" height=\"24px\"viewBox=\"0 0 24 24\"\n",
              "       width=\"24px\">\n",
              "    <path d=\"M0 0h24v24H0V0z\" fill=\"none\"/>\n",
              "    <path d=\"M18.56 5.44l.94 2.06.94-2.06 2.06-.94-2.06-.94-.94-2.06-.94 2.06-2.06.94zm-11 1L8.5 8.5l.94-2.06 2.06-.94-2.06-.94L8.5 2.5l-.94 2.06-2.06.94zm10 10l.94 2.06.94-2.06 2.06-.94-2.06-.94-.94-2.06-.94 2.06-2.06.94z\"/><path d=\"M17.41 7.96l-1.37-1.37c-.4-.4-.92-.59-1.43-.59-.52 0-1.04.2-1.43.59L10.3 9.45l-7.72 7.72c-.78.78-.78 2.05 0 2.83L4 21.41c.39.39.9.59 1.41.59.51 0 1.02-.2 1.41-.59l7.78-7.78 2.81-2.81c.8-.78.8-2.07 0-2.86zM5.41 20L4 18.59l7.72-7.72 1.47 1.35L5.41 20z\"/>\n",
              "  </svg>\n",
              "      </button>\n",
              "      \n",
              "  <style>\n",
              "    .colab-df-container {\n",
              "      display:flex;\n",
              "      flex-wrap:wrap;\n",
              "      gap: 12px;\n",
              "    }\n",
              "\n",
              "    .colab-df-convert {\n",
              "      background-color: #E8F0FE;\n",
              "      border: none;\n",
              "      border-radius: 50%;\n",
              "      cursor: pointer;\n",
              "      display: none;\n",
              "      fill: #1967D2;\n",
              "      height: 32px;\n",
              "      padding: 0 0 0 0;\n",
              "      width: 32px;\n",
              "    }\n",
              "\n",
              "    .colab-df-convert:hover {\n",
              "      background-color: #E2EBFA;\n",
              "      box-shadow: 0px 1px 2px rgba(60, 64, 67, 0.3), 0px 1px 3px 1px rgba(60, 64, 67, 0.15);\n",
              "      fill: #174EA6;\n",
              "    }\n",
              "\n",
              "    [theme=dark] .colab-df-convert {\n",
              "      background-color: #3B4455;\n",
              "      fill: #D2E3FC;\n",
              "    }\n",
              "\n",
              "    [theme=dark] .colab-df-convert:hover {\n",
              "      background-color: #434B5C;\n",
              "      box-shadow: 0px 1px 3px 1px rgba(0, 0, 0, 0.15);\n",
              "      filter: drop-shadow(0px 1px 2px rgba(0, 0, 0, 0.3));\n",
              "      fill: #FFFFFF;\n",
              "    }\n",
              "  </style>\n",
              "\n",
              "      <script>\n",
              "        const buttonEl =\n",
              "          document.querySelector('#df-40f9d625-b2ae-4143-9249-e701b49a15eb button.colab-df-convert');\n",
              "        buttonEl.style.display =\n",
              "          google.colab.kernel.accessAllowed ? 'block' : 'none';\n",
              "\n",
              "        async function convertToInteractive(key) {\n",
              "          const element = document.querySelector('#df-40f9d625-b2ae-4143-9249-e701b49a15eb');\n",
              "          const dataTable =\n",
              "            await google.colab.kernel.invokeFunction('convertToInteractive',\n",
              "                                                     [key], {});\n",
              "          if (!dataTable) return;\n",
              "\n",
              "          const docLinkHtml = 'Like what you see? Visit the ' +\n",
              "            '<a target=\"_blank\" href=https://colab.research.google.com/notebooks/data_table.ipynb>data table notebook</a>'\n",
              "            + ' to learn more about interactive tables.';\n",
              "          element.innerHTML = '';\n",
              "          dataTable['output_type'] = 'display_data';\n",
              "          await google.colab.output.renderOutput(dataTable, element);\n",
              "          const docLink = document.createElement('div');\n",
              "          docLink.innerHTML = docLinkHtml;\n",
              "          element.appendChild(docLink);\n",
              "        }\n",
              "      </script>\n",
              "    </div>\n",
              "  </div>\n",
              "  "
            ]
          },
          "metadata": {},
          "execution_count": 15
        }
      ]
    },
    {
      "cell_type": "code",
      "source": [
        "df_graph.groupby('제품')['주문텀'].max().sort_values(ascending=False).dropna()"
      ],
      "metadata": {
        "colab": {
          "base_uri": "https://localhost:8080/"
        },
        "id": "DJmB0FeXlJzf",
        "outputId": "691f2024-08e2-4984-c642-57f1bf2634c3"
      },
      "execution_count": 176,
      "outputs": [
        {
          "output_type": "execute_result",
          "data": {
            "text/plain": [
              "제품\n",
              "#2 Coffee Filters                                            30.0\n",
              "Organic Super Tampons Wth Applicator                         30.0\n",
              "Organic Superfood Blend Protein Smoothie Mix                 30.0\n",
              "Organic Superfood Coconut Flour Gluten-Free                  30.0\n",
              "Organic Superfood Oat Based Espresso Maca Mulberry Cereal    30.0\n",
              "                                                             ... \n",
              "Pomegranate Energy Shot                                       1.0\n",
              "Organic Veggie Ground                                         0.0\n",
              "Blackened Turkey                                              0.0\n",
              "Organic Chocolate Mint Caffeine Free Tea                      0.0\n",
              "Amaretto Almond Crunch Ice Cream                              0.0\n",
              "Name: 주문텀, Length: 49646, dtype: float64"
            ]
          },
          "metadata": {},
          "execution_count": 176
        }
      ]
    },
    {
      "cell_type": "code",
      "source": [
        "# CSV로 저장\n",
        "# df_graph.to_csv('file.csv',index=False)"
      ],
      "metadata": {
        "id": "jYtb-1APJpVn"
      },
      "execution_count": null,
      "outputs": []
    },
    {
      "cell_type": "code",
      "source": [
        "# 대분류 순위\n",
        "df_graph['대분류'].value_counts(normalize=True)"
      ],
      "metadata": {
        "colab": {
          "base_uri": "https://localhost:8080/"
        },
        "id": "F7tLdFsjSrIo",
        "outputId": "6b1d4e4e-8758-4b4d-cc70-298f66815337"
      },
      "execution_count": null,
      "outputs": [
        {
          "output_type": "execute_result",
          "data": {
            "text/plain": [
              "produce            0.292260\n",
              "dairy eggs         0.166922\n",
              "snacks             0.089027\n",
              "beverages          0.082940\n",
              "frozen             0.068952\n",
              "pantry             0.057827\n",
              "bakery             0.036282\n",
              "canned goods       0.032930\n",
              "deli               0.032411\n",
              "dry goods pasta    0.026719\n",
              "household          0.022774\n",
              "breakfast          0.021877\n",
              "meat seafood       0.021857\n",
              "personal care      0.013785\n",
              "babies             0.013066\n",
              "international      0.008301\n",
              "alcohol            0.004739\n",
              "pets               0.003013\n",
              "missing            0.002132\n",
              "other              0.001119\n",
              "bulk               0.001066\n",
              "Name: 대분류, dtype: float64"
            ]
          },
          "metadata": {},
          "execution_count": 21
        }
      ]
    },
    {
      "cell_type": "code",
      "source": [
        "count_depart = df_graph['대분류'].value_counts()\n",
        "count_depart = count_depart.to_frame()\n",
        "count_depart.reset_index(inplace=True)\n",
        "count_depart.columns = ['대분류','개수']"
      ],
      "metadata": {
        "id": "91w0vEwvd8AD"
      },
      "execution_count": null,
      "outputs": []
    },
    {
      "cell_type": "code",
      "source": [
        "plt.rc('font', size= 15, family='NanumBarunGothic')\n",
        "plt.rc('xtick',labelsize=12)\n",
        "\n",
        "plt.figure(figsize =(12,8))\n",
        "sns.barplot(data=count_depart[:10],x='대분류',y='개수')\n",
        "\n",
        "plt.show()"
      ],
      "metadata": {
        "colab": {
          "base_uri": "https://localhost:8080/",
          "height": 520
        },
        "id": "VR-mbv8werR8",
        "outputId": "a339eff6-d2e6-472c-ef7a-623f886e4a29"
      },
      "execution_count": 154,
      "outputs": [
        {
          "output_type": "display_data",
          "data": {
            "text/plain": [
              "<Figure size 864x576 with 1 Axes>"
            ],
            "image/png": "[encoded data removed]"
          },
          "metadata": {
            "needs_background": "light"
          }
        }
      ]
    },
    {
      "cell_type": "code",
      "source": [
        "# 대분류 produce의 제품목록\n",
        "df_graph[df_graph['대분류']=='produce']['제품'].value_counts()"
      ],
      "metadata": {
        "colab": {
          "base_uri": "https://localhost:8080/"
        },
        "id": "8Llem3cSTJ9T",
        "outputId": "5e8287f7-dd56-43ce-964a-896c0acdd12f"
      },
      "execution_count": null,
      "outputs": [
        {
          "output_type": "execute_result",
          "data": {
            "text/plain": [
              "Banana                                472565\n",
              "Bag of Organic Bananas                379450\n",
              "Organic Strawberries                  264683\n",
              "Organic Baby Spinach                  241921\n",
              "Organic Hass Avocado                  213584\n",
              "                                       ...  \n",
              "Yellow Cherry Tomato                       3\n",
              "Organic Velvet Pioppini Mushrooms          3\n",
              "Graffiti Eggplant                          2\n",
              "Baby Beets                                 2\n",
              "Organic Honey Bunch Grape Tomatoes         2\n",
              "Name: 제품, Length: 1684, dtype: int64"
            ]
          },
          "metadata": {},
          "execution_count": 22
        }
      ]
    },
    {
      "cell_type": "code",
      "source": [
        "df_graph.groupby(['요일','대분류'])['유저'].count().loc[0]"
      ],
      "metadata": {
        "colab": {
          "base_uri": "https://localhost:8080/"
        },
        "id": "OHywSQEPiRaX",
        "outputId": "72b4140a-7b98-480d-805e-15b7a2c356e2"
      },
      "execution_count": 172,
      "outputs": [
        {
          "output_type": "execute_result",
          "data": {
            "text/plain": [
              "대분류\n",
              "alcohol              17437\n",
              "babies               81622\n",
              "bakery              225382\n",
              "beverages           433110\n",
              "breakfast           127162\n",
              "bulk                  6137\n",
              "canned goods        228161\n",
              "dairy eggs         1020167\n",
              "deli                209526\n",
              "dry goods pasta     182149\n",
              "frozen              439144\n",
              "household           126237\n",
              "international        55728\n",
              "meat seafood        151417\n",
              "missing              13220\n",
              "other                 6086\n",
              "pantry              351950\n",
              "personal care        80387\n",
              "pets                 17151\n",
              "produce            1953784\n",
              "snacks              483709\n",
              "Name: 유저, dtype: int64"
            ]
          },
          "metadata": {},
          "execution_count": 172
        }
      ]
    },
    {
      "cell_type": "code",
      "source": [
        "product_count = df_graph['제품'].value_counts()\n",
        "product_count"
      ],
      "metadata": {
        "id": "hESwpYLmR6vJ",
        "colab": {
          "base_uri": "https://localhost:8080/"
        },
        "outputId": "d8045def-492d-4720-f8fc-2c43919ef778"
      },
      "execution_count": null,
      "outputs": [
        {
          "output_type": "execute_result",
          "data": {
            "text/plain": [
              "Banana                                        472565\n",
              "Bag of Organic Bananas                        379450\n",
              "Organic Strawberries                          264683\n",
              "Organic Baby Spinach                          241921\n",
              "Organic Hass Avocado                          213584\n",
              "                                               ...  \n",
              "Salsa, Black Bean                                  1\n",
              "Lndbrg White Quinoa 16 Z                           1\n",
              "Aged Parmesan Cheese Sticks                        1\n",
              "Pasta & Enchilada Sauce, Organic, 7 Veggie         1\n",
              "Homestlye Cornbread Stuffing                       1\n",
              "Name: 제품, Length: 49677, dtype: int64"
            ]
          },
          "metadata": {},
          "execution_count": 17
        }
      ]
    },
    {
      "cell_type": "code",
      "source": [
        "top_5 = product_count[:5].to_frame().reset_index()"
      ],
      "metadata": {
        "id": "y2ttBUfqUmV3"
      },
      "execution_count": null,
      "outputs": []
    },
    {
      "cell_type": "code",
      "source": [
        "top_5.rename(columns={'index':'제품명'},inplace=True)"
      ],
      "metadata": {
        "id": "_CMI__QSbi5v"
      },
      "execution_count": null,
      "outputs": []
    },
    {
      "cell_type": "code",
      "source": [
        "plt.figure(figsize=(10,7))\n",
        "sns.barplot(data = top_5, x='제품명',y='제품')\n",
        "plt.show()"
      ],
      "metadata": {
        "colab": {
          "base_uri": "https://localhost:8080/",
          "height": 451
        },
        "id": "fZxi4MzAS_IF",
        "outputId": "00505a0f-2744-4cb6-ba67-5083239a05fc"
      },
      "execution_count": 156,
      "outputs": [
        {
          "output_type": "display_data",
          "data": {
            "text/plain": [
              "<Figure size 720x504 with 1 Axes>"
            ],
            "image/png": "[encoded data removed]"
          },
          "metadata": {
            "needs_background": "light"
          }
        }
      ]
    },
    {
      "cell_type": "code",
      "source": [
        "# 재주문이 많은 제품 top20\n",
        "df_graph.groupby('제품')['재주문'].sum().sort_values(ascending=False).head(20)"
      ],
      "metadata": {
        "colab": {
          "base_uri": "https://localhost:8080/"
        },
        "id": "ZuhBFbfhU2XI",
        "outputId": "f09f15ec-d9a2-4d77-e942-9af601fcc1ad"
      },
      "execution_count": 127,
      "outputs": [
        {
          "output_type": "execute_result",
          "data": {
            "text/plain": [
              "제품\n",
              "Banana                      398609\n",
              "Bag of Organic Bananas      315913\n",
              "Organic Strawberries        205845\n",
              "Organic Baby Spinach        186884\n",
              "Organic Hass Avocado        170131\n",
              "Organic Avocado             134044\n",
              "Organic Whole Milk          114510\n",
              "Large Lemon                 106255\n",
              "Organic Raspberries         105409\n",
              "Strawberries                 99802\n",
              "Limes                        95768\n",
              "Organic Yellow Onion         79072\n",
              "Organic Garlic               74663\n",
              "Organic Zucchini             72165\n",
              "Cucumber Kirby               67313\n",
              "Organic Fuji Apple           63811\n",
              "Organic Blueberries          62922\n",
              "Apple Honeycrisp Organic     62510\n",
              "Organic Lemon                60536\n",
              "Organic Half & Half          59672\n",
              "Name: 재주문, dtype: int64"
            ]
          },
          "metadata": {},
          "execution_count": 127
        }
      ]
    },
    {
      "cell_type": "code",
      "source": [
        "df_graph['소분류'].value_counts(normalize=True)"
      ],
      "metadata": {
        "colab": {
          "base_uri": "https://localhost:8080/"
        },
        "id": "J-UNcTabSz6d",
        "outputId": "0407ed66-11a2-41b5-f7d7-1499a565307a"
      },
      "execution_count": null,
      "outputs": [
        {
          "output_type": "execute_result",
          "data": {
            "text/plain": [
              "fresh fruits                  0.112294\n",
              "fresh vegetables              0.105382\n",
              "packaged vegetables fruits    0.054427\n",
              "yogurt                        0.044778\n",
              "packaged cheese               0.030207\n",
              "                                ...   \n",
              "eye ear care                  0.000277\n",
              "baby bath body care           0.000265\n",
              "baby accessories              0.000252\n",
              "beauty                        0.000190\n",
              "frozen juice                  0.000150\n",
              "Name: 소분류, Length: 134, dtype: float64"
            ]
          },
          "metadata": {},
          "execution_count": 24
        }
      ]
    },
    {
      "cell_type": "code",
      "source": [
        "df_days = df_graph.groupby('요일')['유저'].count()\n",
        "df_days = df_days.to_frame()\n",
        "df_days.reset_index(inplace=True)\n",
        "df_days"
      ],
      "metadata": {
        "colab": {
          "base_uri": "https://localhost:8080/",
          "height": 269
        },
        "id": "HSnfiazmWz8C",
        "outputId": "bbd68af5-96e1-48b2-c0e1-fffd24d2fb30"
      },
      "execution_count": null,
      "outputs": [
        {
          "output_type": "execute_result",
          "data": {
            "text/plain": [
              "   요일       유저\n",
              "0   0  6209666\n",
              "1   1  5665856\n",
              "2   2  4217798\n",
              "3   3  3844117\n",
              "4   4  3787215\n",
              "5   5  4209533\n",
              "6   6  4500304"
            ],
            "text/html": [
              "\n",
              "  <div id=\"df-28f4cfe9-7766-4403-80de-dde2e469398f\">\n",
              "    <div class=\"colab-df-container\">\n",
              "      <div>\n",
              "<style scoped>\n",
              "    .dataframe tbody tr th:only-of-type {\n",
              "        vertical-align: middle;\n",
              "    }\n",
              "\n",
              "    .dataframe tbody tr th {\n",
              "        vertical-align: top;\n",
              "    }\n",
              "\n",
              "    .dataframe thead th {\n",
              "        text-align: right;\n",
              "    }\n",
              "</style>\n",
              "<table border=\"1\" class=\"dataframe\">\n",
              "  <thead>\n",
              "    <tr style=\"text-align: right;\">\n",
              "      <th></th>\n",
              "      <th>요일</th>\n",
              "      <th>유저</th>\n",
              "    </tr>\n",
              "  </thead>\n",
              "  <tbody>\n",
              "    <tr>\n",
              "      <th>0</th>\n",
              "      <td>0</td>\n",
              "      <td>6209666</td>\n",
              "    </tr>\n",
              "    <tr>\n",
              "      <th>1</th>\n",
              "      <td>1</td>\n",
              "      <td>5665856</td>\n",
              "    </tr>\n",
              "    <tr>\n",
              "      <th>2</th>\n",
              "      <td>2</td>\n",
              "      <td>4217798</td>\n",
              "    </tr>\n",
              "    <tr>\n",
              "      <th>3</th>\n",
              "      <td>3</td>\n",
              "      <td>3844117</td>\n",
              "    </tr>\n",
              "    <tr>\n",
              "      <th>4</th>\n",
              "      <td>4</td>\n",
              "      <td>3787215</td>\n",
              "    </tr>\n",
              "    <tr>\n",
              "      <th>5</th>\n",
              "      <td>5</td>\n",
              "      <td>4209533</td>\n",
              "    </tr>\n",
              "    <tr>\n",
              "      <th>6</th>\n",
              "      <td>6</td>\n",
              "      <td>4500304</td>\n",
              "    </tr>\n",
              "  </tbody>\n",
              "</table>\n",
              "</div>\n",
              "      <button class=\"colab-df-convert\" onclick=\"convertToInteractive('df-28f4cfe9-7766-4403-80de-dde2e469398f')\"\n",
              "              title=\"Convert this dataframe to an interactive table.\"\n",
              "              style=\"display:none;\">\n",
              "        \n",
              "  <svg xmlns=\"http://www.w3.org/2000/svg\" height=\"24px\"viewBox=\"0 0 24 24\"\n",
              "       width=\"24px\">\n",
              "    <path d=\"M0 0h24v24H0V0z\" fill=\"none\"/>\n",
              "    <path d=\"M18.56 5.44l.94 2.06.94-2.06 2.06-.94-2.06-.94-.94-2.06-.94 2.06-2.06.94zm-11 1L8.5 8.5l.94-2.06 2.06-.94-2.06-.94L8.5 2.5l-.94 2.06-2.06.94zm10 10l.94 2.06.94-2.06 2.06-.94-2.06-.94-.94-2.06-.94 2.06-2.06.94z\"/><path d=\"M17.41 7.96l-1.37-1.37c-.4-.4-.92-.59-1.43-.59-.52 0-1.04.2-1.43.59L10.3 9.45l-7.72 7.72c-.78.78-.78 2.05 0 2.83L4 21.41c.39.39.9.59 1.41.59.51 0 1.02-.2 1.41-.59l7.78-7.78 2.81-2.81c.8-.78.8-2.07 0-2.86zM5.41 20L4 18.59l7.72-7.72 1.47 1.35L5.41 20z\"/>\n",
              "  </svg>\n",
              "      </button>\n",
              "      \n",
              "  <style>\n",
              "    .colab-df-container {\n",
              "      display:flex;\n",
              "      flex-wrap:wrap;\n",
              "      gap: 12px;\n",
              "    }\n",
              "\n",
              "    .colab-df-convert {\n",
              "      background-color: #E8F0FE;\n",
              "      border: none;\n",
              "      border-radius: 50%;\n",
              "      cursor: pointer;\n",
              "      display: none;\n",
              "      fill: #1967D2;\n",
              "      height: 32px;\n",
              "      padding: 0 0 0 0;\n",
              "      width: 32px;\n",
              "    }\n",
              "\n",
              "    .colab-df-convert:hover {\n",
              "      background-color: #E2EBFA;\n",
              "      box-shadow: 0px 1px 2px rgba(60, 64, 67, 0.3), 0px 1px 3px 1px rgba(60, 64, 67, 0.15);\n",
              "      fill: #174EA6;\n",
              "    }\n",
              "\n",
              "    [theme=dark] .colab-df-convert {\n",
              "      background-color: #3B4455;\n",
              "      fill: #D2E3FC;\n",
              "    }\n",
              "\n",
              "    [theme=dark] .colab-df-convert:hover {\n",
              "      background-color: #434B5C;\n",
              "      box-shadow: 0px 1px 3px 1px rgba(0, 0, 0, 0.15);\n",
              "      filter: drop-shadow(0px 1px 2px rgba(0, 0, 0, 0.3));\n",
              "      fill: #FFFFFF;\n",
              "    }\n",
              "  </style>\n",
              "\n",
              "      <script>\n",
              "        const buttonEl =\n",
              "          document.querySelector('#df-28f4cfe9-7766-4403-80de-dde2e469398f button.colab-df-convert');\n",
              "        buttonEl.style.display =\n",
              "          google.colab.kernel.accessAllowed ? 'block' : 'none';\n",
              "\n",
              "        async function convertToInteractive(key) {\n",
              "          const element = document.querySelector('#df-28f4cfe9-7766-4403-80de-dde2e469398f');\n",
              "          const dataTable =\n",
              "            await google.colab.kernel.invokeFunction('convertToInteractive',\n",
              "                                                     [key], {});\n",
              "          if (!dataTable) return;\n",
              "\n",
              "          const docLinkHtml = 'Like what you see? Visit the ' +\n",
              "            '<a target=\"_blank\" href=https://colab.research.google.com/notebooks/data_table.ipynb>data table notebook</a>'\n",
              "            + ' to learn more about interactive tables.';\n",
              "          element.innerHTML = '';\n",
              "          dataTable['output_type'] = 'display_data';\n",
              "          await google.colab.output.renderOutput(dataTable, element);\n",
              "          const docLink = document.createElement('div');\n",
              "          docLink.innerHTML = docLinkHtml;\n",
              "          element.appendChild(docLink);\n",
              "        }\n",
              "      </script>\n",
              "    </div>\n",
              "  </div>\n",
              "  "
            ]
          },
          "metadata": {},
          "execution_count": 37
        }
      ]
    },
    {
      "cell_type": "code",
      "source": [
        "plt.figure(figsize=(8,6))\n",
        "sns.barplot(data = df_days, x=df_days['요일'],y= df_days['유저'] )"
      ],
      "metadata": {
        "colab": {
          "base_uri": "https://localhost:8080/",
          "height": 415
        },
        "id": "4N24nUCzWZ3A",
        "outputId": "8ddd86ea-7fcd-4877-97d9-6f9164e311c4"
      },
      "execution_count": null,
      "outputs": [
        {
          "output_type": "execute_result",
          "data": {
            "text/plain": [
              "<matplotlib.axes._subplots.AxesSubplot at 0x7f865e4d1d00>"
            ]
          },
          "metadata": {},
          "execution_count": 39
        },
        {
          "output_type": "display_data",
          "data": {
            "text/plain": [
              "<Figure size 576x432 with 1 Axes>"
            ],
            "image/png": "[encoded data removed]"
          },
          "metadata": {
            "needs_background": "light"
          }
        }
      ]
    },
    {
      "cell_type": "code",
      "source": [
        "day_depart = df_graph.groupby('요일')['대분류'].value_counts()\n",
        "day_depart = day_depart.to_frame()\n",
        "day_depart"
      ],
      "metadata": {
        "id": "9go5R3zmX_WA"
      },
      "execution_count": null,
      "outputs": []
    },
    {
      "cell_type": "code",
      "source": [
        "day_depart.loc[0]"
      ],
      "metadata": {
        "colab": {
          "base_uri": "https://localhost:8080/",
          "height": 739
        },
        "id": "4KFrQxMBYrDI",
        "outputId": "a641dc6b-26aa-4dce-8f4f-e5c389d25c57"
      },
      "execution_count": 104,
      "outputs": [
        {
          "output_type": "execute_result",
          "data": {
            "text/plain": [
              "                     대분류\n",
              "대분류                     \n",
              "produce          1953784\n",
              "dairy eggs       1020167\n",
              "snacks            483709\n",
              "frozen            439144\n",
              "beverages         433110\n",
              "pantry            351950\n",
              "canned goods      228161\n",
              "bakery            225382\n",
              "deli              209526\n",
              "dry goods pasta   182149\n",
              "meat seafood      151417\n",
              "breakfast         127162\n",
              "household         126237\n",
              "babies             81622\n",
              "personal care      80387\n",
              "international      55728\n",
              "alcohol            17437\n",
              "pets               17151\n",
              "missing            13220\n",
              "bulk                6137\n",
              "other               6086"
            ],
            "text/html": [
              "\n",
              "  <div id=\"df-10512bf8-3449-49a3-86d4-179e04fe9571\">\n",
              "    <div class=\"colab-df-container\">\n",
              "      <div>\n",
              "<style scoped>\n",
              "    .dataframe tbody tr th:only-of-type {\n",
              "        vertical-align: middle;\n",
              "    }\n",
              "\n",
              "    .dataframe tbody tr th {\n",
              "        vertical-align: top;\n",
              "    }\n",
              "\n",
              "    .dataframe thead th {\n",
              "        text-align: right;\n",
              "    }\n",
              "</style>\n",
              "<table border=\"1\" class=\"dataframe\">\n",
              "  <thead>\n",
              "    <tr style=\"text-align: right;\">\n",
              "      <th></th>\n",
              "      <th>대분류</th>\n",
              "    </tr>\n",
              "    <tr>\n",
              "      <th>대분류</th>\n",
              "      <th></th>\n",
              "    </tr>\n",
              "  </thead>\n",
              "  <tbody>\n",
              "    <tr>\n",
              "      <th>produce</th>\n",
              "      <td>1953784</td>\n",
              "    </tr>\n",
              "    <tr>\n",
              "      <th>dairy eggs</th>\n",
              "      <td>1020167</td>\n",
              "    </tr>\n",
              "    <tr>\n",
              "      <th>snacks</th>\n",
              "      <td>483709</td>\n",
              "    </tr>\n",
              "    <tr>\n",
              "      <th>frozen</th>\n",
              "      <td>439144</td>\n",
              "    </tr>\n",
              "    <tr>\n",
              "      <th>beverages</th>\n",
              "      <td>433110</td>\n",
              "    </tr>\n",
              "    <tr>\n",
              "      <th>pantry</th>\n",
              "      <td>351950</td>\n",
              "    </tr>\n",
              "    <tr>\n",
              "      <th>canned goods</th>\n",
              "      <td>228161</td>\n",
              "    </tr>\n",
              "    <tr>\n",
              "      <th>bakery</th>\n",
              "      <td>225382</td>\n",
              "    </tr>\n",
              "    <tr>\n",
              "      <th>deli</th>\n",
              "      <td>209526</td>\n",
              "    </tr>\n",
              "    <tr>\n",
              "      <th>dry goods pasta</th>\n",
              "      <td>182149</td>\n",
              "    </tr>\n",
              "    <tr>\n",
              "      <th>meat seafood</th>\n",
              "      <td>151417</td>\n",
              "    </tr>\n",
              "    <tr>\n",
              "      <th>breakfast</th>\n",
              "      <td>127162</td>\n",
              "    </tr>\n",
              "    <tr>\n",
              "      <th>household</th>\n",
              "      <td>126237</td>\n",
              "    </tr>\n",
              "    <tr>\n",
              "      <th>babies</th>\n",
              "      <td>81622</td>\n",
              "    </tr>\n",
              "    <tr>\n",
              "      <th>personal care</th>\n",
              "      <td>80387</td>\n",
              "    </tr>\n",
              "    <tr>\n",
              "      <th>international</th>\n",
              "      <td>55728</td>\n",
              "    </tr>\n",
              "    <tr>\n",
              "      <th>alcohol</th>\n",
              "      <td>17437</td>\n",
              "    </tr>\n",
              "    <tr>\n",
              "      <th>pets</th>\n",
              "      <td>17151</td>\n",
              "    </tr>\n",
              "    <tr>\n",
              "      <th>missing</th>\n",
              "      <td>13220</td>\n",
              "    </tr>\n",
              "    <tr>\n",
              "      <th>bulk</th>\n",
              "      <td>6137</td>\n",
              "    </tr>\n",
              "    <tr>\n",
              "      <th>other</th>\n",
              "      <td>6086</td>\n",
              "    </tr>\n",
              "  </tbody>\n",
              "</table>\n",
              "</div>\n",
              "      <button class=\"colab-df-convert\" onclick=\"convertToInteractive('df-10512bf8-3449-49a3-86d4-179e04fe9571')\"\n",
              "              title=\"Convert this dataframe to an interactive table.\"\n",
              "              style=\"display:none;\">\n",
              "        \n",
              "  <svg xmlns=\"http://www.w3.org/2000/svg\" height=\"24px\"viewBox=\"0 0 24 24\"\n",
              "       width=\"24px\">\n",
              "    <path d=\"M0 0h24v24H0V0z\" fill=\"none\"/>\n",
              "    <path d=\"M18.56 5.44l.94 2.06.94-2.06 2.06-.94-2.06-.94-.94-2.06-.94 2.06-2.06.94zm-11 1L8.5 8.5l.94-2.06 2.06-.94-2.06-.94L8.5 2.5l-.94 2.06-2.06.94zm10 10l.94 2.06.94-2.06 2.06-.94-2.06-.94-.94-2.06-.94 2.06-2.06.94z\"/><path d=\"M17.41 7.96l-1.37-1.37c-.4-.4-.92-.59-1.43-.59-.52 0-1.04.2-1.43.59L10.3 9.45l-7.72 7.72c-.78.78-.78 2.05 0 2.83L4 21.41c.39.39.9.59 1.41.59.51 0 1.02-.2 1.41-.59l7.78-7.78 2.81-2.81c.8-.78.8-2.07 0-2.86zM5.41 20L4 18.59l7.72-7.72 1.47 1.35L5.41 20z\"/>\n",
              "  </svg>\n",
              "      </button>\n",
              "      \n",
              "  <style>\n",
              "    .colab-df-container {\n",
              "      display:flex;\n",
              "      flex-wrap:wrap;\n",
              "      gap: 12px;\n",
              "    }\n",
              "\n",
              "    .colab-df-convert {\n",
              "      background-color: #E8F0FE;\n",
              "      border: none;\n",
              "      border-radius: 50%;\n",
              "      cursor: pointer;\n",
              "      display: none;\n",
              "      fill: #1967D2;\n",
              "      height: 32px;\n",
              "      padding: 0 0 0 0;\n",
              "      width: 32px;\n",
              "    }\n",
              "\n",
              "    .colab-df-convert:hover {\n",
              "      background-color: #E2EBFA;\n",
              "      box-shadow: 0px 1px 2px rgba(60, 64, 67, 0.3), 0px 1px 3px 1px rgba(60, 64, 67, 0.15);\n",
              "      fill: #174EA6;\n",
              "    }\n",
              "\n",
              "    [theme=dark] .colab-df-convert {\n",
              "      background-color: #3B4455;\n",
              "      fill: #D2E3FC;\n",
              "    }\n",
              "\n",
              "    [theme=dark] .colab-df-convert:hover {\n",
              "      background-color: #434B5C;\n",
              "      box-shadow: 0px 1px 3px 1px rgba(0, 0, 0, 0.15);\n",
              "      filter: drop-shadow(0px 1px 2px rgba(0, 0, 0, 0.3));\n",
              "      fill: #FFFFFF;\n",
              "    }\n",
              "  </style>\n",
              "\n",
              "      <script>\n",
              "        const buttonEl =\n",
              "          document.querySelector('#df-10512bf8-3449-49a3-86d4-179e04fe9571 button.colab-df-convert');\n",
              "        buttonEl.style.display =\n",
              "          google.colab.kernel.accessAllowed ? 'block' : 'none';\n",
              "\n",
              "        async function convertToInteractive(key) {\n",
              "          const element = document.querySelector('#df-10512bf8-3449-49a3-86d4-179e04fe9571');\n",
              "          const dataTable =\n",
              "            await google.colab.kernel.invokeFunction('convertToInteractive',\n",
              "                                                     [key], {});\n",
              "          if (!dataTable) return;\n",
              "\n",
              "          const docLinkHtml = 'Like what you see? Visit the ' +\n",
              "            '<a target=\"_blank\" href=https://colab.research.google.com/notebooks/data_table.ipynb>data table notebook</a>'\n",
              "            + ' to learn more about interactive tables.';\n",
              "          element.innerHTML = '';\n",
              "          dataTable['output_type'] = 'display_data';\n",
              "          await google.colab.output.renderOutput(dataTable, element);\n",
              "          const docLink = document.createElement('div');\n",
              "          docLink.innerHTML = docLinkHtml;\n",
              "          element.appendChild(docLink);\n",
              "        }\n",
              "      </script>\n",
              "    </div>\n",
              "  </div>\n",
              "  "
            ]
          },
          "metadata": {},
          "execution_count": 104
        }
      ]
    },
    {
      "cell_type": "code",
      "source": [
        "day_aisles = df_graph.groupby('요일')['소분류'].value_counts()\n",
        "day_aisles = day_aisles.to_frame()\n",
        "day_aisles"
      ],
      "metadata": {
        "colab": {
          "base_uri": "https://localhost:8080/",
          "height": 455
        },
        "id": "dU3mjekPcOFF",
        "outputId": "9d846182-b5e6-41c3-ae80-bf9663ab1dc7"
      },
      "execution_count": 106,
      "outputs": [
        {
          "output_type": "execute_result",
          "data": {
            "text/plain": [
              "                                  소분류\n",
              "요일 소분류                               \n",
              "0  fresh vegetables            745644\n",
              "   fresh fruits                715567\n",
              "   packaged vegetables fruits  370219\n",
              "   yogurt                      273223\n",
              "   packaged cheese             194812\n",
              "...                               ...\n",
              "6  kitchen supplies              1336\n",
              "   baby bath body care           1146\n",
              "   baby accessories              1117\n",
              "   beauty                         992\n",
              "   frozen juice                   672\n",
              "\n",
              "[938 rows x 1 columns]"
            ],
            "text/html": [
              "\n",
              "  <div id=\"df-cc800b56-4e07-49aa-b057-b0b9dab5f37e\">\n",
              "    <div class=\"colab-df-container\">\n",
              "      <div>\n",
              "<style scoped>\n",
              "    .dataframe tbody tr th:only-of-type {\n",
              "        vertical-align: middle;\n",
              "    }\n",
              "\n",
              "    .dataframe tbody tr th {\n",
              "        vertical-align: top;\n",
              "    }\n",
              "\n",
              "    .dataframe thead th {\n",
              "        text-align: right;\n",
              "    }\n",
              "</style>\n",
              "<table border=\"1\" class=\"dataframe\">\n",
              "  <thead>\n",
              "    <tr style=\"text-align: right;\">\n",
              "      <th></th>\n",
              "      <th></th>\n",
              "      <th>소분류</th>\n",
              "    </tr>\n",
              "    <tr>\n",
              "      <th>요일</th>\n",
              "      <th>소분류</th>\n",
              "      <th></th>\n",
              "    </tr>\n",
              "  </thead>\n",
              "  <tbody>\n",
              "    <tr>\n",
              "      <th rowspan=\"5\" valign=\"top\">0</th>\n",
              "      <th>fresh vegetables</th>\n",
              "      <td>745644</td>\n",
              "    </tr>\n",
              "    <tr>\n",
              "      <th>fresh fruits</th>\n",
              "      <td>715567</td>\n",
              "    </tr>\n",
              "    <tr>\n",
              "      <th>packaged vegetables fruits</th>\n",
              "      <td>370219</td>\n",
              "    </tr>\n",
              "    <tr>\n",
              "      <th>yogurt</th>\n",
              "      <td>273223</td>\n",
              "    </tr>\n",
              "    <tr>\n",
              "      <th>packaged cheese</th>\n",
              "      <td>194812</td>\n",
              "    </tr>\n",
              "    <tr>\n",
              "      <th>...</th>\n",
              "      <th>...</th>\n",
              "      <td>...</td>\n",
              "    </tr>\n",
              "    <tr>\n",
              "      <th rowspan=\"5\" valign=\"top\">6</th>\n",
              "      <th>kitchen supplies</th>\n",
              "      <td>1336</td>\n",
              "    </tr>\n",
              "    <tr>\n",
              "      <th>baby bath body care</th>\n",
              "      <td>1146</td>\n",
              "    </tr>\n",
              "    <tr>\n",
              "      <th>baby accessories</th>\n",
              "      <td>1117</td>\n",
              "    </tr>\n",
              "    <tr>\n",
              "      <th>beauty</th>\n",
              "      <td>992</td>\n",
              "    </tr>\n",
              "    <tr>\n",
              "      <th>frozen juice</th>\n",
              "      <td>672</td>\n",
              "    </tr>\n",
              "  </tbody>\n",
              "</table>\n",
              "<p>938 rows × 1 columns</p>\n",
              "</div>\n",
              "      <button class=\"colab-df-convert\" onclick=\"convertToInteractive('df-cc800b56-4e07-49aa-b057-b0b9dab5f37e')\"\n",
              "              title=\"Convert this dataframe to an interactive table.\"\n",
              "              style=\"display:none;\">\n",
              "        \n",
              "  <svg xmlns=\"http://www.w3.org/2000/svg\" height=\"24px\"viewBox=\"0 0 24 24\"\n",
              "       width=\"24px\">\n",
              "    <path d=\"M0 0h24v24H0V0z\" fill=\"none\"/>\n",
              "    <path d=\"M18.56 5.44l.94 2.06.94-2.06 2.06-.94-2.06-.94-.94-2.06-.94 2.06-2.06.94zm-11 1L8.5 8.5l.94-2.06 2.06-.94-2.06-.94L8.5 2.5l-.94 2.06-2.06.94zm10 10l.94 2.06.94-2.06 2.06-.94-2.06-.94-.94-2.06-.94 2.06-2.06.94z\"/><path d=\"M17.41 7.96l-1.37-1.37c-.4-.4-.92-.59-1.43-.59-.52 0-1.04.2-1.43.59L10.3 9.45l-7.72 7.72c-.78.78-.78 2.05 0 2.83L4 21.41c.39.39.9.59 1.41.59.51 0 1.02-.2 1.41-.59l7.78-7.78 2.81-2.81c.8-.78.8-2.07 0-2.86zM5.41 20L4 18.59l7.72-7.72 1.47 1.35L5.41 20z\"/>\n",
              "  </svg>\n",
              "      </button>\n",
              "      \n",
              "  <style>\n",
              "    .colab-df-container {\n",
              "      display:flex;\n",
              "      flex-wrap:wrap;\n",
              "      gap: 12px;\n",
              "    }\n",
              "\n",
              "    .colab-df-convert {\n",
              "      background-color: #E8F0FE;\n",
              "      border: none;\n",
              "      border-radius: 50%;\n",
              "      cursor: pointer;\n",
              "      display: none;\n",
              "      fill: #1967D2;\n",
              "      height: 32px;\n",
              "      padding: 0 0 0 0;\n",
              "      width: 32px;\n",
              "    }\n",
              "\n",
              "    .colab-df-convert:hover {\n",
              "      background-color: #E2EBFA;\n",
              "      box-shadow: 0px 1px 2px rgba(60, 64, 67, 0.3), 0px 1px 3px 1px rgba(60, 64, 67, 0.15);\n",
              "      fill: #174EA6;\n",
              "    }\n",
              "\n",
              "    [theme=dark] .colab-df-convert {\n",
              "      background-color: #3B4455;\n",
              "      fill: #D2E3FC;\n",
              "    }\n",
              "\n",
              "    [theme=dark] .colab-df-convert:hover {\n",
              "      background-color: #434B5C;\n",
              "      box-shadow: 0px 1px 3px 1px rgba(0, 0, 0, 0.15);\n",
              "      filter: drop-shadow(0px 1px 2px rgba(0, 0, 0, 0.3));\n",
              "      fill: #FFFFFF;\n",
              "    }\n",
              "  </style>\n",
              "\n",
              "      <script>\n",
              "        const buttonEl =\n",
              "          document.querySelector('#df-cc800b56-4e07-49aa-b057-b0b9dab5f37e button.colab-df-convert');\n",
              "        buttonEl.style.display =\n",
              "          google.colab.kernel.accessAllowed ? 'block' : 'none';\n",
              "\n",
              "        async function convertToInteractive(key) {\n",
              "          const element = document.querySelector('#df-cc800b56-4e07-49aa-b057-b0b9dab5f37e');\n",
              "          const dataTable =\n",
              "            await google.colab.kernel.invokeFunction('convertToInteractive',\n",
              "                                                     [key], {});\n",
              "          if (!dataTable) return;\n",
              "\n",
              "          const docLinkHtml = 'Like what you see? Visit the ' +\n",
              "            '<a target=\"_blank\" href=https://colab.research.google.com/notebooks/data_table.ipynb>data table notebook</a>'\n",
              "            + ' to learn more about interactive tables.';\n",
              "          element.innerHTML = '';\n",
              "          dataTable['output_type'] = 'display_data';\n",
              "          await google.colab.output.renderOutput(dataTable, element);\n",
              "          const docLink = document.createElement('div');\n",
              "          docLink.innerHTML = docLinkHtml;\n",
              "          element.appendChild(docLink);\n",
              "        }\n",
              "      </script>\n",
              "    </div>\n",
              "  </div>\n",
              "  "
            ]
          },
          "metadata": {},
          "execution_count": 106
        }
      ]
    },
    {
      "cell_type": "code",
      "source": [
        "day_aisles.loc[1]"
      ],
      "metadata": {
        "colab": {
          "base_uri": "https://localhost:8080/",
          "height": 455
        },
        "id": "b_efje0EctZg",
        "outputId": "1f99cb36-6991-41a0-acc8-3467e7273371"
      },
      "execution_count": 123,
      "outputs": [
        {
          "output_type": "execute_result",
          "data": {
            "text/plain": [
              "                               소분류\n",
              "소분류                               \n",
              "fresh fruits                667616\n",
              "fresh vegetables            590276\n",
              "packaged vegetables fruits  313143\n",
              "yogurt                      269486\n",
              "packaged cheese             169398\n",
              "...                            ...\n",
              "baby accessories              1370\n",
              "kitchen supplies              1326\n",
              "specialty wines champagnes    1231\n",
              "beauty                         927\n",
              "frozen juice                   769\n",
              "\n",
              "[134 rows x 1 columns]"
            ],
            "text/html": [
              "\n",
              "  <div id=\"df-03a2b5ef-075c-4480-8501-5c4084e6b9db\">\n",
              "    <div class=\"colab-df-container\">\n",
              "      <div>\n",
              "<style scoped>\n",
              "    .dataframe tbody tr th:only-of-type {\n",
              "        vertical-align: middle;\n",
              "    }\n",
              "\n",
              "    .dataframe tbody tr th {\n",
              "        vertical-align: top;\n",
              "    }\n",
              "\n",
              "    .dataframe thead th {\n",
              "        text-align: right;\n",
              "    }\n",
              "</style>\n",
              "<table border=\"1\" class=\"dataframe\">\n",
              "  <thead>\n",
              "    <tr style=\"text-align: right;\">\n",
              "      <th></th>\n",
              "      <th>소분류</th>\n",
              "    </tr>\n",
              "    <tr>\n",
              "      <th>소분류</th>\n",
              "      <th></th>\n",
              "    </tr>\n",
              "  </thead>\n",
              "  <tbody>\n",
              "    <tr>\n",
              "      <th>fresh fruits</th>\n",
              "      <td>667616</td>\n",
              "    </tr>\n",
              "    <tr>\n",
              "      <th>fresh vegetables</th>\n",
              "      <td>590276</td>\n",
              "    </tr>\n",
              "    <tr>\n",
              "      <th>packaged vegetables fruits</th>\n",
              "      <td>313143</td>\n",
              "    </tr>\n",
              "    <tr>\n",
              "      <th>yogurt</th>\n",
              "      <td>269486</td>\n",
              "    </tr>\n",
              "    <tr>\n",
              "      <th>packaged cheese</th>\n",
              "      <td>169398</td>\n",
              "    </tr>\n",
              "    <tr>\n",
              "      <th>...</th>\n",
              "      <td>...</td>\n",
              "    </tr>\n",
              "    <tr>\n",
              "      <th>baby accessories</th>\n",
              "      <td>1370</td>\n",
              "    </tr>\n",
              "    <tr>\n",
              "      <th>kitchen supplies</th>\n",
              "      <td>1326</td>\n",
              "    </tr>\n",
              "    <tr>\n",
              "      <th>specialty wines champagnes</th>\n",
              "      <td>1231</td>\n",
              "    </tr>\n",
              "    <tr>\n",
              "      <th>beauty</th>\n",
              "      <td>927</td>\n",
              "    </tr>\n",
              "    <tr>\n",
              "      <th>frozen juice</th>\n",
              "      <td>769</td>\n",
              "    </tr>\n",
              "  </tbody>\n",
              "</table>\n",
              "<p>134 rows × 1 columns</p>\n",
              "</div>\n",
              "      <button class=\"colab-df-convert\" onclick=\"convertToInteractive('df-03a2b5ef-075c-4480-8501-5c4084e6b9db')\"\n",
              "              title=\"Convert this dataframe to an interactive table.\"\n",
              "              style=\"display:none;\">\n",
              "        \n",
              "  <svg xmlns=\"http://www.w3.org/2000/svg\" height=\"24px\"viewBox=\"0 0 24 24\"\n",
              "       width=\"24px\">\n",
              "    <path d=\"M0 0h24v24H0V0z\" fill=\"none\"/>\n",
              "    <path d=\"M18.56 5.44l.94 2.06.94-2.06 2.06-.94-2.06-.94-.94-2.06-.94 2.06-2.06.94zm-11 1L8.5 8.5l.94-2.06 2.06-.94-2.06-.94L8.5 2.5l-.94 2.06-2.06.94zm10 10l.94 2.06.94-2.06 2.06-.94-2.06-.94-.94-2.06-.94 2.06-2.06.94z\"/><path d=\"M17.41 7.96l-1.37-1.37c-.4-.4-.92-.59-1.43-.59-.52 0-1.04.2-1.43.59L10.3 9.45l-7.72 7.72c-.78.78-.78 2.05 0 2.83L4 21.41c.39.39.9.59 1.41.59.51 0 1.02-.2 1.41-.59l7.78-7.78 2.81-2.81c.8-.78.8-2.07 0-2.86zM5.41 20L4 18.59l7.72-7.72 1.47 1.35L5.41 20z\"/>\n",
              "  </svg>\n",
              "      </button>\n",
              "      \n",
              "  <style>\n",
              "    .colab-df-container {\n",
              "      display:flex;\n",
              "      flex-wrap:wrap;\n",
              "      gap: 12px;\n",
              "    }\n",
              "\n",
              "    .colab-df-convert {\n",
              "      background-color: #E8F0FE;\n",
              "      border: none;\n",
              "      border-radius: 50%;\n",
              "      cursor: pointer;\n",
              "      display: none;\n",
              "      fill: #1967D2;\n",
              "      height: 32px;\n",
              "      padding: 0 0 0 0;\n",
              "      width: 32px;\n",
              "    }\n",
              "\n",
              "    .colab-df-convert:hover {\n",
              "      background-color: #E2EBFA;\n",
              "      box-shadow: 0px 1px 2px rgba(60, 64, 67, 0.3), 0px 1px 3px 1px rgba(60, 64, 67, 0.15);\n",
              "      fill: #174EA6;\n",
              "    }\n",
              "\n",
              "    [theme=dark] .colab-df-convert {\n",
              "      background-color: #3B4455;\n",
              "      fill: #D2E3FC;\n",
              "    }\n",
              "\n",
              "    [theme=dark] .colab-df-convert:hover {\n",
              "      background-color: #434B5C;\n",
              "      box-shadow: 0px 1px 3px 1px rgba(0, 0, 0, 0.15);\n",
              "      filter: drop-shadow(0px 1px 2px rgba(0, 0, 0, 0.3));\n",
              "      fill: #FFFFFF;\n",
              "    }\n",
              "  </style>\n",
              "\n",
              "      <script>\n",
              "        const buttonEl =\n",
              "          document.querySelector('#df-03a2b5ef-075c-4480-8501-5c4084e6b9db button.colab-df-convert');\n",
              "        buttonEl.style.display =\n",
              "          google.colab.kernel.accessAllowed ? 'block' : 'none';\n",
              "\n",
              "        async function convertToInteractive(key) {\n",
              "          const element = document.querySelector('#df-03a2b5ef-075c-4480-8501-5c4084e6b9db');\n",
              "          const dataTable =\n",
              "            await google.colab.kernel.invokeFunction('convertToInteractive',\n",
              "                                                     [key], {});\n",
              "          if (!dataTable) return;\n",
              "\n",
              "          const docLinkHtml = 'Like what you see? Visit the ' +\n",
              "            '<a target=\"_blank\" href=https://colab.research.google.com/notebooks/data_table.ipynb>data table notebook</a>'\n",
              "            + ' to learn more about interactive tables.';\n",
              "          element.innerHTML = '';\n",
              "          dataTable['output_type'] = 'display_data';\n",
              "          await google.colab.output.renderOutput(dataTable, element);\n",
              "          const docLink = document.createElement('div');\n",
              "          docLink.innerHTML = docLinkHtml;\n",
              "          element.appendChild(docLink);\n",
              "        }\n",
              "      </script>\n",
              "    </div>\n",
              "  </div>\n",
              "  "
            ]
          },
          "metadata": {},
          "execution_count": 123
        }
      ]
    },
    {
      "cell_type": "markdown",
      "source": [
        "## 4) 모델링"
      ],
      "metadata": {
        "id": "gh7kGCI8hUKI"
      }
    },
    {
      "cell_type": "markdown",
      "source": [
        "k-means"
      ],
      "metadata": {
        "id": "AKdEEzqejMfG"
      }
    },
    {
      "cell_type": "code",
      "source": [
        "from sklearn.cluster import KMeans\n",
        "from sklearn.preprocessing import MinMaxScaler\n",
        "\n",
        "df_model = df_graph[['누적주문','주문텀']].dropna()\n",
        "scaler = MinMaxScaler()\n",
        "sc_data = scaler.fit_transform(df_model)"
      ],
      "metadata": {
        "id": "PIImIP1CjOeB"
      },
      "execution_count": 188,
      "outputs": []
    },
    {
      "cell_type": "code",
      "source": [
        "model = KMeans(n_clusters=10, random_state=12)\n",
        "model.fit(sc_data)"
      ],
      "metadata": {
        "id": "hVH9QU73nMEA"
      },
      "execution_count": null,
      "outputs": []
    },
    {
      "cell_type": "markdown",
      "source": [
        "## 5) 평가"
      ],
      "metadata": {
        "id": "vAHummnChWVu"
      }
    },
    {
      "cell_type": "markdown",
      "source": [
        "## 6) 배포"
      ],
      "metadata": {
        "id": "jxW9YQndhY3w"
      }
    },
    {
      "cell_type": "code",
      "execution_count": null,
      "metadata": {
        "id": "E4N69JGigrVR"
      },
      "outputs": [],
      "source": []
    }
  ]
}