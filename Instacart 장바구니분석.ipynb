{
  "nbformat": 4,
  "nbformat_minor": 0,
  "metadata": {
    "colab": {
      "provenance": [],
      "collapsed_sections": [
        "NGjLFzThy5F3",
        "ux0tHaSSYlpI",
        "olSkWClwhIWE",
        "TW-AdieUgynq",
        "RfGMweD5XJ90",
        "AEHWvNkMh8_C",
        "5IJEL8Rsj1WL"
      ],
      "mount_file_id": "https://github.com/ev1025/Instacart/blob/main/Code_project1.ipynb",
      "authorship_tag": "ABX9TyPD6y+fcMcph5sL1hA4S8QR",
      "include_colab_link": true
    },
    "kernelspec": {
      "name": "python3",
      "display_name": "Python 3"
    },
    "language_info": {
      "name": "python"
    }
  },
  "cells": [
    {
      "cell_type": "markdown",
      "metadata": {
        "id": "view-in-github",
        "colab_type": "text"
      },
      "source": [
        "<a href=\"https://colab.research.google.com/github/ev1025/Instacart/blob/main/Instacart%20%EC%9E%A5%EB%B0%94%EA%B5%AC%EB%8B%88%EB%B6%84%EC%84%9D.ipynb\" target=\"_parent\"><img src=\"https://colab.research.google.com/assets/colab-badge.svg\" alt=\"Open In Colab\"/></a>"
      ]
    },
    {
      "cell_type": "markdown",
      "source": [
        "# 인스타카트 데이터 분석"
      ],
      "metadata": {
        "id": "VpDCmYYFg9Z4"
      }
    },
    {
      "cell_type": "markdown",
      "source": [
        "참고자료 : 케글 인스타카트 장바구니 분석 데이터     \n",
        "https://www.kaggle.com/datasets/psparks/instacart-market-basket-analysis"
      ],
      "metadata": {
        "id": "TJNQ25YFhgoG"
      }
    },
    {
      "cell_type": "markdown",
      "source": [
        "# 1. CRISP-DM 기반 분석"
      ],
      "metadata": {
        "id": "z-oZneANhFPX"
      }
    },
    {
      "cell_type": "markdown",
      "source": [
        "## 1) 비즈니스이해"
      ],
      "metadata": {
        "id": "Feqiq8RVhOJK"
      }
    },
    {
      "cell_type": "markdown",
      "source": [
        "![캡처.JPG](data:image/jpeg;base64,/9j/4AAQSkZJRgABAQEAYABgAAD/4RDaRXhpZgAATU0AKgAAAAgABAE7AAIAAAAFAAAISodpAAQAAAABAAAIUJydAAEAAAAKAAAQyOocAAcAAAgMAAAAPgAAAAAc6gAAAAgAAAAAAAAAAAAAAAAAAAAAAAAAAAAAAAAAAAAAAAAAAAAAAAAAAAAAAAAAAAAAAAAAAAAAAAAAAAAAAAAAAAAAAAAAAAAAAAAAAAAAAAAAAAAAAAAAAAAAAAAAAAAAAAAAAAAAAAAAAAAAAAAAAAAAAAAAAAAAAAAAAAAAAAAAAAAAAAAAAAAAAAAAAAAAAAAAAAAAAAAAAAAAAAAAAAAAAAAAAAAAAAAAAAAAAAAAAAAAAAAAAAAAAAAAAAAAAAAAAAAAAAAAAAAAAAAAAAAAAAAAAAAAAAAAAAAAAAAAAAAAAAAAAAAAAAAAAAAAAAAAAAAAAAAAAAAAAAAAAAAAAAAAAAAAAAAAAAAAAAAAAAAAAAAAAAAAAAAAAAAAAAAAAAAAAAAAAAAAAAAAAAAAAAAAAAAAAAAAAAAAAAAAAAAAAAAAAAAAAAAAAAAAAAAAAAAAAAAAAAAAAAAAAAAAAAAAAAAAAAAAAAAAAAAAAAAAAAAAAAAAAAAAAAAAAAAAAAAAAAAAAAAAAAAAAAAAAAAAAAAAAAAAAAAAAAAAAAAAAAAAAAAAAAAAAAAAAAAAAAAAAAAAAAAAAAAAAAAAAAAAAAAAAAAAAAAAAAAAAAAAAAAAAAAAAAAAAAAAAAAAAAAAAAAAAAAAAAAAAAAAAAAAAAAAAAAAAAAAAAAAAAAAAAAAAAAAAAAAAAAAAAAAAAAAAAAAAAAAAAAAAAAAAAAAAAAAAAAAAAAAAAAAAAAAAAAAAAAAAAAAAAAAAAAAAAAAAAAAAAAAAAAAAAAAAAAAAAAAAAAAAAAAAAAAAAAAAAAAAAAAAAAAAAAAAAAAAAAAAAAAAAAAAAAAAAAAAAAAAAAAAAAAAAAAAAAAAAAAAAAAAAAAAAAAAAAAAAAAAAAAAAAAAAAAAAAAAAAAAAAAAAAAAAAAAAAAAAAAAAAAAAAAAAAAAAAAAAAAAAAAAAAAAAAAAAAAAAAAAAAAAAAAAAAAAAAAAAAAAAAAAAAAAAAAAAAAAAAAAAAAAAAAAAAAAAAAAAAAAAAAAAAAAAAAAAAAAAAAAAAAAAAAAAAAAAAAAAAAAAAAAAAAAAAAAAAAAAAAAAAAAAAAAAAAAAAAAAAAAAAAAAAAAAAAAAAAAAAAAAAAAAAAAAAAAAAAAAAAAAAAAAAAAAAAAAAAAAAAAAAAAAAAAAAAAAAAAAAAAAAAAAAAAAAAAAAAAAAAAAAAAAAAAAAAAAAAAAAAAAAAAAAAAAAAAAAAAAAAAAAAAAAAAAAAAAAAAAAAAAAAAAAAAAAAAAAAAAAAAAAAAAAAAAAAAAAAAAAAAAAAAAAAAAAAAAAAAAAAAAAAAAAAAAAAAAAAAAAAAAAAAAAAAAAAAAAAAAAAAAAAAAAAAAAAAAAAAAAAAAAAAAAAAAAAAAAAAAAAAAAAAAAAAAAAAAAAAAAAAAAAAAAAAAAAAAAAAAAAAAAAAAAAAAAAAAAAAAAAAAAAAAAAAAAAAAAAAAAAAAAAAAAAAAAAAAAAAAAAAAAAAAAAAAAAAAAAAAAAAAAAAAAAAAAAAAAAAAAAAAAAAAAAAAAAAAAAAAAAAAAAAAAAAAAAAAAAAAAAAAAAAAAAAAAAAAAAAAAAAAAAAAAAAAAAAAAAAAAAAAAAAAAAAAAAAAAAAAAAAAAAAAAAAAAAAAAAAAAAAAAAAAAAAAAAAAAAAAAAAAAAAAAAAAAAAAAAAAAAAAAAAAAAAAAAAAAAAAAAAAAAAAAAAAAAAAAAAAAAAAAAAAAAAAAAAAAAAAAAAAAAAAAAAAAAAAAAAAAAAAAAAAAAAAAAAAAAAAAAAAAAAAAAAAAAAAAAAAAAAAAAAAAAAAAAAAAAAAAAAAAAAAAAAAAAAAAAAAAAAAAAAAAAAAAAAAAAAAAAAAAAAAAAAAAAAAAAAAAAAAAAAAAAAAAAAAAAAAAAAAAAAAAAAAAAAAAAAAAAAAAAAAAAAAAAAAAAAAAAAAAAAAAAAAAAAAAAAAAAAAAAAAAAAAAAAAAAAAAAAAAAAAAAAAAAAAAAAAAAAAAAAAAAAAAAAAAAAAAAAAAAAAAAAAAAAAAAAAAAAAAAAAAAAAAAAAAAAAAAAAAAAAAAAAAAAAAAAAAAAAAAAAAAAAAAAAAAAAAAAAAAAAAAAAAAAAAAAAAAAAAAAAAAAAAAAAAAAAAAAAAAAAAAAAAAAAAAAAAAAAAAAAAAAAAAAAAAAAAAAAAAAAAAAAAAAAAAAAAAAAAAAAAAAAAAAAAAAAAAAAAAAAAAAAAAAAAAAAAAAAAAAAAAAAAAAAAAAAAAAAAAAAAAAAAAAAAAAAAAAAAAAAAAAAAAAAAAAAAAAAAAAAAAAAAAAAAAAAAAAAAAAAAAAAAAAAAAAAAAAAAAAAAAAAAAAAAAAAAAAAAAAAAAAAAAAAAAAAAAAAAAAAAAAAAAAAAAAAAAAAAAAAAAAAAAAAAAAAAAAAAAAAAAAAAAAAAAAAAAAAAAAAAAAAAAAAAAAAAAAAAAAAAAAAAAAAAAAAAAAAAAAAAAAAAAAAAAAAAAAAAAAAAAAAAAAAAAAAAAAAAAAAAAAAAAAAAAAAAAAAAAAAAAAAAAAAAAAAAAAAAAAAAAAAAAAAAAAAAAAAAAAAAAAAAAAAAAAAAAAAAAAAAAAAAAAAAAAAAAAAAAAAAAAAAAAAAAAAAAAAAAAAAAAAAAAAAAAAAAAAAAAAAAAAAAAAAAAAAAAAAAAAAAAAAAAAAAAAAAAGVudnkAAAAFkAMAAgAAABQAABCekAQAAgAAABQAABCykpEAAgAAAAM4MAAAkpIAAgAAAAM4MAAA6hwABwAACAwAAAiSAAAAABzqAAAACAAAAAAAAAAAAAAAAAAAAAAAAAAAAAAAAAAAAAAAAAAAAAAAAAAAAAAAAAAAAAAAAAAAAAAAAAAAAAAAAAAAAAAAAAAAAAAAAAAAAAAAAAAAAAAAAAAAAAAAAAAAAAAAAAAAAAAAAAAAAAAAAAAAAAAAAAAAAAAAAAAAAAAAAAAAAAAAAAAAAAAAAAAAAAAAAAAAAAAAAAAAAAAAAAAAAAAAAAAAAAAAAAAAAAAAAAAAAAAAAAAAAAAAAAAAAAAAAAAAAAAAAAAAAAAAAAAAAAAAAAAAAAAAAAAAAAAAAAAAAAAAAAAAAAAAAAAAAAAAAAAAAAAAAAAAAAAAAAAAAAAAAAAAAAAAAAAAAAAAAAAAAAAAAAAAAAAAAAAAAAAAAAAAAAAAAAAAAAAAAAAAAAAAAAAAAAAAAAAAAAAAAAAAAAAAAAAAAAAAAAAAAAAAAAAAAAAAAAAAAAAAAAAAAAAAAAAAAAAAAAAAAAAAAAAAAAAAAAAAAAAAAAAAAAAAAAAAAAAAAAAAAAAAAAAAAAAAAAAAAAAAAAAAAAAAAAAAAAAAAAAAAAAAAAAAAAAAAAAAAAAAAAAAAAAAAAAAAAAAAAAAAAAAAAAAAAAAAAAAAAAAAAAAAAAAAAAAAAAAAAAAAAAAAAAAAAAAAAAAAAAAAAAAAAAAAAAAAAAAAAAAAAAAAAAAAAAAAAAAAAAAAAAAAAAAAAAAAAAAAAAAAAAAAAAAAAAAAAAAAAAAAAAAAAAAAAAAAAAAAAAAAAAAAAAAAAAAAAAAAAAAAAAAAAAAAAAAAAAAAAAAAAAAAAAAAAAAAAAAAAAAAAAAAAAAAAAAAAAAAAAAAAAAAAAAAAAAAAAAAAAAAAAAAAAAAAAAAAAAAAAAAAAAAAAAAAAAAAAAAAAAAAAAAAAAAAAAAAAAAAAAAAAAAAAAAAAAAAAAAAAAAAAAAAAAAAAAAAAAAAAAAAAAAAAAAAAAAAAAAAAAAAAAAAAAAAAAAAAAAAAAAAAAAAAAAAAAAAAAAAAAAAAAAAAAAAAAAAAAAAAAAAAAAAAAAAAAAAAAAAAAAAAAAAAAAAAAAAAAAAAAAAAAAAAAAAAAAAAAAAAAAAAAAAAAAAAAAAAAAAAAAAAAAAAAAAAAAAAAAAAAAAAAAAAAAAAAAAAAAAAAAAAAAAAAAAAAAAAAAAAAAAAAAAAAAAAAAAAAAAAAAAAAAAAAAAAAAAAAAAAAAAAAAAAAAAAAAAAAAAAAAAAAAAAAAAAAAAAAAAAAAAAAAAAAAAAAAAAAAAAAAAAAAAAAAAAAAAAAAAAAAAAAAAAAAAAAAAAAAAAAAAAAAAAAAAAAAAAAAAAAAAAAAAAAAAAAAAAAAAAAAAAAAAAAAAAAAAAAAAAAAAAAAAAAAAAAAAAAAAAAAAAAAAAAAAAAAAAAAAAAAAAAAAAAAAAAAAAAAAAAAAAAAAAAAAAAAAAAAAAAAAAAAAAAAAAAAAAAAAAAAAAAAAAAAAAAAAAAAAAAAAAAAAAAAAAAAAAAAAAAAAAAAAAAAAAAAAAAAAAAAAAAAAAAAAAAAAAAAAAAAAAAAAAAAAAAAAAAAAAAAAAAAAAAAAAAAAAAAAAAAAAAAAAAAAAAAAAAAAAAAAAAAAAAAAAAAAAAAAAAAAAAAAAAAAAAAAAAAAAAAAAAAAAAAAAAAAAAAAAAAAAAAAAAAAAAAAAAAAAAAAAAAAAAAAAAAAAAAAAAAAAAAAAAAAAAAAAAAAAAAAAAAAAAAAAAAAAAAAAAAAAAAAAAAAAAAAAAAAAAAAAAAAAAAAAAAAAAAAAAAAAAAAAAAAAAAAAAAAAAAAAAAAAAAAAAAAAAAAAAAAAAAAAAAAAAAAAAAAAAAAAAAAAAAAAAAAAAAAAAAAAAAAAAAAAAAAAAAAAAAAAAAAAAAAAAAAAAAAAAAAAAAAAAAAAAAAAAAAAAAAAAAAAAAAAAAAAAAAAAAAAAAAAAAAAAAAAAAAAAAAAAAAAAAAAAAAAAAAAAAAAAAAAAAAAAAAAAAAAAAAAAAAAAAAAAAAAAAAAAAAAAAAAAAAAAAAAAAAAAAAAAAAAAAAAAAAAAAAAAAAAAAAAAAAAAAAAAAAAAAAAAAAAAAAAAAAAAAAAAAAAAAAAAAAAAAAAAAAAAAAAAAAAAAAAAAAAAAAAAAAAAAAAAAAAAAAAAAAAAAAAAAAAAAAAAAAAAAAAAAAAAAAAAAAAAAAAAAAAAAAAAAAAAAAAAAAAAAAAAAAAAAAAAAAAAAAAAAAAAAAAAAAAAAAAAAAAAAAAAAAAAAAAAAAAAAAAAAAAAAAAAAAAAAAAAAAAAAAAAAAAAAAAAAAAAAAAAAAAAAAAAAAAAAAAAAAAAAAAAAAAAAAAAAAAAAAAAAAAAAAAAAAAAAAAAAAAAAAAAAAAAAAAAAAAAAAAAAAAAAAAAAAAAAAAAAAAAAAAAAAAAAAAAAAAAAAAAAAAAAAAAAAAAAAAAAAAAAAAAAAAAAAAAAAAAAAAAAAAAAAAAAAAAAAAAAAAAAAAAAAAAAAAAAAAAAAAAAAAAAAAAAAAAAAAAAAAAAAAAAAAAAAAAAAAAAAAAAAAAAAAAAAAAAAAAAAAAAAAAAAAAAAAAAAAAAAAAAAAAAAAAAAAAAAAAAAAAAAAAAAAAAAAAAAAAAAAAAAAAAAAAAAAAAAAAAAAAAAAAAAAAAAAAAAAAAAAAAAAAAAAAAAAAAAAAAAAAAAAAAAAAAAAAAAAAAAAAMjAyMzowMToxNyAxNDoyODo1MgAyMDIzOjAxOjE3IDE0OjI4OjUyAAAAZQBuAHYAeQAAAP/hCxdodHRwOi8vbnMuYWRvYmUuY29tL3hhcC8xLjAvADw/eHBhY2tldCBiZWdpbj0n77u/JyBpZD0nVzVNME1wQ2VoaUh6cmVTek5UY3prYzlkJz8+DQo8eDp4bXBtZXRhIHhtbG5zOng9ImFkb2JlOm5zOm1ldGEvIj48cmRmOlJERiB4bWxuczpyZGY9Imh0dHA6Ly93d3cudzMub3JnLzE5OTkvMDIvMjItcmRmLXN5bnRheC1ucyMiPjxyZGY6RGVzY3JpcHRpb24gcmRmOmFib3V0PSJ1dWlkOmZhZjViZGQ1LWJhM2QtMTFkYS1hZDMxLWQzM2Q3NTE4MmYxYiIgeG1sbnM6ZGM9Imh0dHA6Ly9wdXJsLm9yZy9kYy9lbGVtZW50cy8xLjEvIi8+PHJkZjpEZXNjcmlwdGlvbiByZGY6YWJvdXQ9InV1aWQ6ZmFmNWJkZDUtYmEzZC0xMWRhLWFkMzEtZDMzZDc1MTgyZjFiIiB4bWxuczp4bXA9Imh0dHA6Ly9ucy5hZG9iZS5jb20veGFwLzEuMC8iPjx4bXA6Q3JlYXRlRGF0ZT4yMDIzLTAxLTE3VDE0OjI4OjUyLjgwMjwveG1wOkNyZWF0ZURhdGU+PC9yZGY6RGVzY3JpcHRpb24+PHJkZjpEZXNjcmlwdGlvbiByZGY6YWJvdXQ9InV1aWQ6ZmFmNWJkZDUtYmEzZC0xMWRhLWFkMzEtZDMzZDc1MTgyZjFiIiB4bWxuczpkYz0iaHR0cDovL3B1cmwub3JnL2RjL2VsZW1lbnRzLzEuMS8iPjxkYzpjcmVhdG9yPjxyZGY6U2VxIHhtbG5zOnJkZj0iaHR0cDovL3d3dy53My5vcmcvMTk5OS8wMi8yMi1yZGYtc3ludGF4LW5zIyI+PHJkZjpsaT5lbnZ5PC9yZGY6bGk+PC9yZGY6U2VxPg0KCQkJPC9kYzpjcmVhdG9yPjwvcmRmOkRlc2NyaXB0aW9uPjwvcmRmOlJERj48L3g6eG1wbWV0YT4NCiAgICAgICAgICAgICAgICAgICAgICAgICAgICAgICAgICAgICAgICAgICAgICAgICAgICAgICAgICAgICAgICAgICAgICAgICAgICAgICAgICAgICAgICAgICAgICAgICAgICAKICAgICAgICAgICAgICAgICAgICAgICAgICAgICAgICAgICAgICAgICAgICAgICAgICAgICAgICAgICAgICAgICAgICAgICAgICAgICAgICAgICAgICAgICAgICAgICAgICAgIAogICAgICAgICAgICAgICAgICAgICAgICAgICAgICAgICAgICAgICAgICAgICAgICAgICAgICAgICAgICAgICAgICAgICAgICAgICAgICAgICAgICAgICAgICAgICAgICAgICAgCiAgICAgICAgICAgICAgICAgICAgICAgICAgICAgICAgICAgICAgICAgICAgICAgICAgICAgICAgICAgICAgICAgICAgICAgICAgICAgICAgICAgICAgICAgICAgICAgICAgICAKICAgICAgICAgICAgICAgICAgICAgICAgICAgICAgICAgICAgICAgICAgICAgICAgICAgICAgICAgICAgICAgICAgICAgICAgICAgICAgICAgICAgICAgICAgICAgICAgICAgIAogICAgICAgICAgICAgICAgICAgICAgICAgICAgICAgICAgICAgICAgICAgICAgICAgICAgICAgICAgICAgICAgICAgICAgICAgICAgICAgICAgICAgICAgICAgICAgICAgICAgCiAgICAgICAgICAgICAgICAgICAgICAgICAgICAgICAgICAgICAgICAgICAgICAgICAgICAgICAgICAgICAgICAgICAgICAgICAgICAgICAgICAgICAgICAgICAgICAgICAgICAKICAgICAgICAgICAgICAgICAgICAgICAgICAgICAgICAgICAgICAgICAgICAgICAgICAgICAgICAgICAgICAgICAgICAgICAgICAgICAgICAgICAgICAgICAgICAgICAgICAgIAogICAgICAgICAgICAgICAgICAgICAgICAgICAgICAgICAgICAgICAgICAgICAgICAgICAgICAgICAgICAgICAgICAgICAgICAgICAgICAgICAgICAgICAgICAgICAgICAgICAgCiAgICAgICAgICAgICAgICAgICAgICAgICAgICAgICAgICAgICAgICAgICAgICAgICAgICAgICAgICAgICAgICAgICAgICAgICAgICAgICAgICAgICAgICAgICAgICAgICAgICAKICAgICAgICAgICAgICAgICAgICAgICAgICAgICAgICAgICAgICAgICAgICAgICAgICAgICAgICAgICAgICAgICAgICAgICAgICAgICAgICAgICAgICAgICAgICAgICAgICAgIAogICAgICAgICAgICAgICAgICAgICAgICAgICAgICAgICAgICAgICAgICAgICAgICAgICAgICAgICAgICAgICAgICAgICAgICAgICAgICAgICAgICAgICAgICAgICAgICAgICAgCiAgICAgICAgICAgICAgICAgICAgICAgICAgICAgICAgICAgICAgICAgICAgICAgICAgICAgICAgICAgICAgICAgICAgICAgICAgICAgICAgICAgICAgICAgICAgICAgICAgICAKICAgICAgICAgICAgICAgICAgICAgICAgICAgICAgICAgICAgICAgICAgICAgICAgICAgICAgICAgICAgICAgICAgICAgICAgICAgICAgICAgICAgICAgICAgICAgICAgICAgIAogICAgICAgICAgICAgICAgICAgICAgICAgICAgICAgICAgICAgICAgICAgICAgICAgICAgICAgICAgICAgICAgICAgICAgICAgICAgICAgICAgICAgICAgICAgICAgICAgICAgCiAgICAgICAgICAgICAgICAgICAgICAgICAgICAgICAgICAgICAgICAgICAgICAgICAgICAgICAgICAgICAgICAgICAgICAgICAgICAgICAgICAgICAgICAgICAgICAgICAgICAKICAgICAgICAgICAgICAgICAgICAgICAgICAgICAgICAgICAgICAgICAgICAgICAgICAgICAgICAgICAgICAgICAgICAgICAgICAgICAgICAgICAgICAgICAgICAgICAgICAgIAogICAgICAgICAgICAgICAgICAgICAgICAgICAgICAgICAgICAgICAgICAgICAgICAgICAgICAgICAgICAgICAgICAgICAgICAgICAgICAgICAgICAgICAgICAgICAgICAgICAgCiAgICAgICAgICAgICAgICAgICAgICAgICAgICAgICAgICAgICAgICAgICAgICAgICAgICAgICAgICAgICAgICAgICAgICAgICAgICAgICAgICAgICAgICAgICAgICAgICAgICAKICAgICAgICAgICAgICAgICAgICAgICAgICAgICAgICAgICAgICAgICAgICAgICAgICAgICAgICAgICAgICAgICAgICAgICAgICAgICAgICAgICAgICAgICAgICAgICAgICAgIAogICAgICAgICAgICAgICAgICAgICAgICAgICAgPD94cGFja2V0IGVuZD0ndyc/Pv/bAEMABwUFBgUEBwYFBggHBwgKEQsKCQkKFQ8QDBEYFRoZGBUYFxseJyEbHSUdFxgiLiIlKCkrLCsaIC8zLyoyJyorKv/bAEMBBwgICgkKFAsLFCocGBwqKioqKioqKioqKioqKioqKioqKioqKioqKioqKioqKioqKioqKioqKioqKioqKioqKv/AABEIAPMBHAMBIgACEQEDEQH/xAAfAAABBQEBAQEBAQAAAAAAAAAAAQIDBAUGBwgJCgv/xAC1EAACAQMDAgQDBQUEBAAAAX0BAgMABBEFEiExQQYTUWEHInEUMoGRoQgjQrHBFVLR8CQzYnKCCQoWFxgZGiUmJygpKjQ1Njc4OTpDREVGR0hJSlNUVVZXWFlaY2RlZmdoaWpzdHV2d3h5eoOEhYaHiImKkpOUlZaXmJmaoqOkpaanqKmqsrO0tba3uLm6wsPExcbHyMnK0tPU1dbX2Nna4eLj5OXm5+jp6vHy8/T19vf4+fr/xAAfAQADAQEBAQEBAQEBAAAAAAAAAQIDBAUGBwgJCgv/xAC1EQACAQIEBAMEBwUEBAABAncAAQIDEQQFITEGEkFRB2FxEyIygQgUQpGhscEJIzNS8BVictEKFiQ04SXxFxgZGiYnKCkqNTY3ODk6Q0RFRkdISUpTVFVWV1hZWmNkZWZnaGlqc3R1dnd4eXqCg4SFhoeIiYqSk5SVlpeYmZqio6Slpqeoqaqys7S1tre4ubrCw8TFxsfIycrS09TV1tfY2dri4+Tl5ufo6ery8/T19vf4+fr/2gAMAwEAAhEDEQA/APpGiiigAooooAKKKKACiiigAooooAKKKKACiiigAooooAKKKKACijNGaACijNGaACijNGaACijNGaACijNGaACijNGaACijNGaACiiigAooooAKKKKACg0UGgBKKKKACiiigAooooAKKKKACiiigAopMgc0M6opLkKB1J4FAC0Viah4z8M6SSNS1/TbYjqsl0gI/DOaxJfjH8PYmKv4s0/I/usW/kKAO1orjIPjB8PrhgsfivTsn+9IV/mBW9p/inQNW/5Bmtafd+0NyjH8gaANWikyMZzx60vWgAooooAKKKKACiiigAooooAKKKKAHUUUUAFFFFABRRRQAUGig0AJRRRQAlLRRQAUUUlAC0UlQXl7bafZy3d9PHb28K7pJZGCqg9STQBOT6VynjH4leGPA0BbX9SjSfGVtYvnmb/gI6fU14j8TP2kJ7l5tK8AMYIASr6ky/O//XMHoPc818/3V3Pe3UlzeTyXE8h3PJKxZmPqSetAHuvir9qLWbxnh8JabDp0PQXF0PNlPvj7o/WvPG1nxv4+mLalrd9PDyC0kzLGPYKMD9K420i867iiJwHYKa9Vtl+x2629v8kajGB/OufEVJxjaG57OXZJic0pzeHkk1bc861Tw7qWlNm9gwp53qcg1knrXrc6/aUZJ/nVhtOeeK8t1GAWuozwryqOQPzp0akpRtPc3zbI6uV0qcqklJve3crVoaTpd3qVxizwpTBZycbaz66LwZNOdbSzt0eVrobFRBkluo4rSpJxg2jwqaTkkzZt/G3jfwHcRJp3iK7ERG5Y2kMkR9trZFeoeEf2pZ0dIPGekrImcG7sOCPcxnr+BrmNc+Gmuav4fluVtRHLbDzI4ZD+8kHcAdj9fSvHZEaNyrAqQcEHsawwuKp4iL5Hdrc0rUnSl5H6A+GPGnh/xjZfavDupwXiAfMitiRPZlPIrdzX526TrOoaFqEd/o97PZXUZyssLlT/APXHtX0n8L/2jLfU3g0jx2Y7W6bCRaioxHIf9sfwn36fSuowPf6KakiSIHjYMrAEMpyCPWnUAFFFFABRRRQAUUUUALRRRQAUUUUAFFFFABQaKDQAlFFFABQaKSgAoopsjrGhd2CqoySTgAUAVNX1ax0LSbjUtVuUtrS3QvJK54Uf4+1fHXxY+MWpfEHUWtLMvaaFC37m2zgzEH78nqfQdBV744/Fd/G+uPpOkTEaFYuQm3pcyDgufb0/OvJKAFJzSUUUAOjdo5VdeCpyK9D0rxBaX1svmyrFOBhlY4z7150OtW7fTb66jMlrZzzIvVo4ywH4gVnUimtT2spzavltRypK6e6O91HX7OxgYpMssuPlRDnmvO55GnneRzlmOTRJDLGcSIyn0YEU6G0uLhwtvBJKx6KilifyojGMVe481zfEZnNOorJbJEPWvZvgX4Pd7t/FF6hWOMGKzDfxMeGb8BxWN4J+D2r63dRXOvwyadpykMRIMSSj0A7fU19DWVlb6fZQ2llCsNvCoWONeigV8tnub06dJ4ejK8nv5IxwWFk5c81oTZI6cHsfSvnv42+D49H1qPW7CPZa6gT5qqOEl7/TI5r6ENcT8XdPXUPhnqZcZa2C3CH0IYD+RNfM5JipYfGRttLR/M9HGUlUpPyPlygcUUV+pnzJ7X8GPjfceFbiHQfFM7z6K5CQzMctaE/zTn8K+sIJ4rmCOa2kWWGRQyOhyGB6EGvzkr6A/Z7+LTadew+DvEE+bOZtunzyH/Uv/wA8yf7p7ehoA+n6KKKACiiigAooooAdRRRQAUUUUAFFFFABQaKDQAlFFFABSUtBoASvEf2jfiK3h/w+nhjTJimoamm6dkODFB0P4sePoDXs95dwWFjPd3biOC3jaWRz/CoGSfyFfA/jjxRceMvGWoa3ck/6TKfLUn7kY4VfwFAGAaQe9KqlmAUZJPAFek+C/h28zw3mtQMd5BhtccsexP8AhW1KjKq7ROTFYulhafPUf+bOI/4R7VP7HbU/scgsx/y1PH4/Ssyvre5+EE/iLwhPYy37abczKNipGGVQP4WHofbpXiPiP4D+OtAWeY6dHfW0ILGW0lDfKO+04b9KK0IQlywdzPBYipXp89WPLd6LyPN16819HfBbxNpt94Ti0S3/AHN/ZqxmjxjzFLffyOvUCvnEjBwetdF4J8YXPgrXxqNrEs6shilhY4DoSDjPY8V4+Z4N4vDOnHfdep7GGq+yqJvY+sJLO1mbM1tDIfVo1P8ASnRWtvB/qIIov9xAv8q830346eF7pB9sivbJ8chow4/NT/SvSLa4ju7SG5gJaKZBIhIwSCMjivzPE4bGYXSsmkfR06lKp8OpLiijODzSE15xuKa4b4v6kmnfDTUVZsPdbbdB6kkE/oDXY3t9bafZy3V9OkFvEMySu2Aor5p+J3j0+M9aWKz3JplqSIFIxvbu5Hv29q+gyPAVMRiY1Le7HVnBja0adNrqzg6K39B8Ea/4lUyaTYPLCDgzMQqA/U1f1f4YeKtGtWubnTvNhQZd7dxJtHqQOa/SnVpqXK5K54Co1Gua2hyNPjdkkV0YqyncGBwQR3ppGDzSVqZH2v8ABL4hf8J34IQXsgbVdOxBdDu4x8sn4j9Qa9Ir4i+CnjRvBnxIspZXK2N8RaXYzxtY/K34Ng/TNfbtABRS9qQUAFFLSCgB1FFFABRRRQAUUUUAFBooNACUUUUAFBooNAHlH7RXiU6D8K7izhfbPq0q2q4POz7z/oMfjXxtXvn7VWsGfxXo+kK3yWlq07D/AGnbA/Rf1rwOgCeyumsr6G5jALQuHAbocHNfSHwG8aQeKPFl/ZX9lFFcJAs1synJABw45+or5or0n4DeILHw78U7a41SYQQ3ED2wkb7qu2NuT2GRjNaRqSinFPRnNWw9Kq1OcbuOx9qKihcAYFDxq64IzRG+9FI5yKfUG6SaPlj49/CM6PczeK/D1sfsMz7r2BB/qWP8YH909/Q14ORX6L3trDe2ktvdRrLDIpR0cZVgeCCK+N/jH8K5vA2vtdaVG0uiXbnySPmMDdfLb+h9KV0K/K7M8wBwa6j/AIWX4wEKRLr12saKFUKQMAcAdK5v7NP/AM8ZP++TSfZp/wDnjJ/3yaznClU+NJ+ppGo47M9x+DnjdpbTWE8T6zkxlJUlvJ+3IIGT9OBWv4i+OHh/TFePRVfVLgdGGUiB+p5P4V88eRP/AM8ZMf7poNvOT/qX/wC+TXi1cjwdbEOvU69NkdkcfOMORP5nQeK/HmueMLjdql1iBT8lrF8sa/h3Puah8GeHX8UeKrPTsERM2+Zh/DGOSf6ViGGRRl42UepXFe5fBPw79h0KfXZ0/fXhMcORz5ank/if5V6FadPCYd+zVu1hYWDxNZc2vc9NtLSCxs4rWziWGCFdkaKMBRU3TnvVdLsN98banV1IyDke1fJSk5O73PrLJKyPn74yeGbfRfEkF7YxrFBqCM7IowFkUjdj65BrzivVvjrrEVzr1hpkRy1nEzSkdmfHH5AfnXlNfY4RydCLkfI4tRVaSiKCRyDg9j6V93fCnxJ/wlfwx0bUpH3z+QIZzn/lonynP1xn8a+EK+o/2VNYa48M63pDvn7JcpMi+iupB/Va6jlPfaQUvakFABQKWkFADqKKKACiiigAooooAKDRQaAEooooAKDRSGgD4v8A2hrz7X8adWXORbxQRD8IwT+pNeYV33xx3f8AC6vEW7/numPp5a1wNABSqSOhxSUUAfUPwC+Lv9qwQ+FPEVx/p0S4s53P+vUD7hP94Dp6ivfQcjrmvzntbqazuori2leKaJg6OhwysOhBr7E+C/xWh8daGtjqLqmt2agTJ085ezr/AFFMz+H0Oj8c+OYfDdsbW0KzajKPlTqIx/eb/CvKhdS3sKy3kxmkk+Zy5zk561H41Ynxpq3PW4P8q9V+HdlZyeBLGSe2ikbDZZkBP3jXzTdTG4iVO9kj5Obq5lipU+blUTyzy4ugjT/vkUvkx/8APNf++RWd8e/iNoUtp/wjfhtEkvIpw095b/KsJH8AI+8T37CvBzrOp5/4/wC5/wC/rf410f2XP+c2jklV71D6J8mP/nkv/fIpPJT/AJ5L/wB8ivnb+2dT/wCf+5/7+t/jR/bOp/8AP/c/9/W/xpf2XP8AnH/YdT/n6e6eItNtb/Txb3MCsjkjoARx2Ndb4evrJNFtbWxj8pbaMR+Xn7uBXj/gGxv7jS7rWb65mkh80W8Ku5IJ6sefwFeheGNra4ofoY2715GKUqM3R5rpHdlNevleZRwrfMp2/E7LbDMvynBqte3UOh6Zd6hcv+6t4jI2fYVM9mc5jfFeZ/G/xEbTR7bQoJP3t0fNnAP8A6D8Tz+FLDUXWqqB+nYmr7Gk5njWtanNrOsXWo3JzLcSFz7Z7fgKo0UV9okkrI+Nbbd2Fe7/ALKt4Y/HGsWhPyzaeHx7q4/+KrwivZ/2Xc/8LWucdP7Llz/33HTEfXNIKWigBKUUZooAWiiigAooooAKKKKACg0UGgBKKKKACkPSloNAHxb+0NZG1+NWqtj5biKCYfjGo/mDXmNe9ftU6Obfxdo+rquEu7Qws3+0jZ/k1eC0AFFFFABWn4f13UPDWuW2raTO0N1bOGQjofUH1BHFP8L2sN74p0+2uoxLDLMFdD3Fex/8IL4b6/2VF/303+NcWIxkMPJRktzzcZmNHCSUaieo6XWz4llOsvF5LXoErRg5CkjkCsfxr8WtUsPDUXg/Qy9kkaEXV0rYeTcSdq/3Rg8nrWqbeGzP2a2QJFGdqKOwpR4V0TU1+031hHNM/wB52J5r5/CYqFLESqNbnyuDxtKhiZVZrR3/ADPBySeTmkr3keBPDf8A0C4/++m/xoPgTw3/ANAuP/vpv8a9f+1aPZnu/wBvYbszwaprS2lvLqG2t0LyzOERR3JOBXun/CC+G/8AoFRf99N/jViw8J6Jpl9Fe2OnxxXELbo3yTtPryaTzWlbRMaz3DX1TNO60aHw74H07SocZgIDkfxPg7j+dQeGozJrSrnH7tqk1y7muLaMTPuAbjjpxVLSZpLfUVeFtrbSM18zOTnUu+pwYrNqFXNYYyCfLG2nXQ7tP9FjlluHCxIpZiTwAOSa+XPGPiB/Evim91FifLkfbCp7IOFH5V9AX1zNqFhNa3cheCZCki9NwPbIr5nu0VL2ZEGFWRgB6DNe/lEY+9LqfYSzulmfu0k0l3IqKKK94gK92/ZWsy/jvV7sjiHTwmf95wf/AGWvCa+ov2VNHaDw3rmrumPtVykEZPogJP6t+lAHv1IKXtSCgANApaQUAOooooAKKKKACiiigAoPSig9KAG0tJQKAFpDS0lAHkv7R3ho658LZL6FN0+kTC5GP7h+V/0IP4V8dV+i9/ZQajp9xZXiCS3uY2ilQj7ysMEfka+BvGvhi58HeMNR0O7B3WsxVGP8aHlW/EUAYNFFFAG34N/5HPS/+vha9+HWvAfBv/I56X/18LXv2MNXz2a/xY+h8fxB/Fh6GHdf8fcv+9Wnp4/0JPxrMu/+PuX/AHq09P8A+PJPxrwI/EfNdSzRRRWxYqqzAlUYgdSFOBSDnnNeu+CorQ+D7ZlRMFT5hIHJzzmvNPELW0mv3T6cgW2Z/kwOD6kfjmu2thfZUo1Oa9z08VgPYUI1ea9zA1b/AI90/wB7+lVNO/4/h9DVrVf+PdM/3v6VV07/AI/h9DXmfaPJRrn7p+lfN17/AMhC4/66t/OvpE/dP0r5uvf+Qhcf9dW/nX0WUfa+R9Xw/wD8vPkQUUUV7x9UKPYZr7s+Enhs+Fvhfo2nypsnaHz5wRzvf5j+WQPwr5P+Dfg1vGfxGsbaSPdZWjC6uyRkbFOQp+pwK+4gMdOB6UALRRRQAUlLRQAtFFFABRRRQAUUUUAFB6UUHpQA2gUUCgBaDRQaAErwv9pH4dtregx+K9Mh3XumrsulQcyQev1U/oa90pkqJLE0cqq6OCrKwyGB6g0AfnHRXqvxs+FMvgTX21HTImbQr5y0LAf6hz1jPt6GvKqANvwb/wAjnpf/AF8LXv3evAfBv/I56X/18LXvw6189mv8WPofH8QfxYehh3f/AB+S/wC9Wnp//Hkn41mXf/H5L/vVqad/x5J+NeDD4j5pblgHmvS/CngW2XT1utZhE00y5WJuiD/Gub8C6ENW1rz5k3W9rhzkfebsK9dXhcCvocuwkZL2s/kfVZPgIyXt6qv2OL1jR18P2oltnmGjeZvu7SM8gHuD1xnqKwvGHiDRNU0i3t9MT95G4I/d7dg9K3/HHie0tNOn02FlmuZl2so5CA9Sf8K8t9qnHVo026dPZ/gRmmKjRk6FKzTWvl6FLVf9Qn+9/Sqmnf8AH8Poat6r/qU/3v6VU07/AI/h9DXgP4j5g2D901823v8AyELj/rq386+kW+6fpXzde/8AIQuP+urfzr6LKftfI+s4f/5efIgpVUuwVRlicADvSV71+z58Jjq9/F4v8QW5FhbNusYXXieQfx47qO3qa90+pPWPgb8PD4H8ErLfxBdW1LE1yCOY1x8sf4dT7mvTs0g6UUALmiiigAooooAWiiigAooooAKKKKACg9KKD0oAbQKKBQAtBopKACiiigCjrWjWHiDR7jS9YtkubO5QpJG46j1HoR618a/Ff4San8PdUaeEPd6HM/8Ao92B9z/Yf0Pv3r7YqtqFhaapYS2Oo20d1bTKVkilXcrD3FAHwJ4N/wCR00v/AK+Fr34dah8S/s8z6D4ttNd8GE3GnJOHlsZGzJAP9k/xD26/Wp3Ro5SkilGBwVYYIP0r57NU/aRfkfIcQJ+0g+ljCu/+PuX/AHq07A4sk/H+dZl1zdS/71aen/8AHkn4/wA68CPxHzO56d4Z17RfDvheLz7lWuJSZHRBubPYflWRrnxBvtRVodOX7HARjcDlyPr2rkM0or1XjajpqnHRHrTzOu6SpQ91JW0FZizEsSSeSSeSaTNFA561wnmN31KOqD/R0/3v6VU07/j+H0NW9U/1CZ/vf0qrp3/H4v0NYv4iDXb7p+lfN96M6jcf9dW/nX0rDbTXcohtonllbhUQZJp3w6/Z0hg1D+2vHYWZ/MMkWmq2VHOQZD3+g4+tfR5Sn7zPrcgT99+hwnwa+CV14xuYta8RRPb6FEwZEIw12R2Hovqe9fW9raw2VrFbWkSQwQoEjjQYVFHQAU6KJIIljhRY40ACogwFA6ACn17h9QFFFIKAFooooAKKKKAFooooAKKKKACiiigAoPSig9KAG0CigUALSE4HNLWb4geWPw5qD22RKtu5QjqDtNKTsrkylyxbHDW9MNz9nF/bmbOPL80bvyq9kHpXyzk5D5O/ru759c19C+B2vW8G2DaozGdo+r/eK5+XPvivNweOeJk48trHkZfmTxc5QcbWOioFFZt14h0qz1KPT7m+hjupPuxM3Jz0r0XJRV2z15TjFXkzTPSsXWPC2ma2pN3ABLjiVOGH41sBs4peKUoxmrSVyalOFSPLNXR4zrvwn1W3lkn0meO8jJyI2+Rx/Q1hDSdR0y3WPULKeBhnO9Dj8+lfQdNaNHGGVSPQivLqZVRk+aDseJWyOhN3pvlPnrt1o+le63Hh7Sbo/v8AT7Z89/LGazp/CPhqL5p7OGIHgEuVB/WuSWVzW0kedPIaq2mjxygHn3r2aLwZ4ewGXT4nB5BJJB/WtG20TTLQ/wCj2NvH7rGM045VN7yQ4ZBVfxTR4ZJ4f1bVo0XT9Pnmy3ULhR+Jrp/D3wovBMlxrN2kA/54wncx/HtXrQUAYAAHpijFddLK6MHeWp6VDI8PTd5+8Z2l6Bp+jxhbC2VD3c8s31NaVFFepGKirRR7UYRgrRVkLRSA0ZqixaKTIooAWikzUctzDBjzpkj3dN7AZo23FdLclopAc8iloGLRRRQAUUUUAFFFFABQelFB6UANoopG4GScD1oArahqFvplm91duEjQZJPf2FccvxGt5pniuLBhbNkFlbJI+lYfjHXm1jUjBC3+i252qB/E3dq52vjcwzqoq3JQei/E+twOS050eautX+BYvfDmneHIX1y4nj1C0klIsbZAQHPUBz2x6VoeDPHmtX3i62tL+cTW90xTylQAR8ZBXHTpV7wVNHcai+lXkSXFpcqSYpFDAMO/Nd1p/hTRdLu/tVjp0EM/Z1XkfT0ruy+MsRCNWk+VX1XmfDY/JKmAxvLQlaG/qa+flryvxXo2iT/EiE3mrPBcTtEzwCEtkj7oDds4r1XFeNeN/wDkrlp/v2/869PHyUacbq+qObNJKNKLav7yPXrm6t7C1ae7mSGGMZZ3OABXLH4oeGBcGL7XIRnHmCFtv51yXxb1G4n1qy0aJiIigdhn7zM2B+Vb8Xwp0U6OIpPON2U5n8w/e+nTFTPEV51JQope73IqYrE1KsqeHS93e52tjqNrqVotzYTpPC4+V0OQazdZ8YaLoEmzUrxUlIyIkG5vyFecfDK8udL8ZXWhu+6J94ZewdD94fXmsG5a0T4hXZ8VpM8IuH81VznH8J9cY9KylmD9jGaWrdn2RhPNJ+wjOMbNuzvsj1jTviJ4c1O4WCG98qRjhROhTJ+prmvjK5OnaYFJ2tK/Gevy1DHoXw9164iTTb77LJkfulcpv56Yb+lP+MSBNL0hI+iyOB+Cipr1ak8LNya9ULEVq1TBVHNp+aZp+DfHWi/2ZpekPcSfbPLWHDRnG7HTNdfqesWOjWpudSuEt4h3Y9foO9cl4O8FaJ/Y+lav9lJvPLWXeZGxu9cVxmstceNviY2mecyQRymFB/cRfvEe5wa0+sVqNGPMk5PRGn1mvh8PHnScpWSt+p3yfFHwy8/lm7kQZwHeJgv511VreQXtulxaSpNE4yro2Qa4q7+FOhPprR2iyxXW35Z/MJO73HTFc18L9TudP8TXWhXLkxMH+TskiHnH1FXHEV6dSMK6XvdjSGKxFKrGniUrS2a7nqGq65p+iW/n6pcx28f+0eT9B3rn4vih4ZmnEf2qRMnG54iF/OvPbmO48ffEl7SSZkt1kZRz/q409Pcmu5uPhR4fmtQkC3FvKB/rVkyfxB4qViMRWbdFKy7krFYvESk8Olyp216nZxXcEtqLmOVGhZdwkDfKR65rmLz4leG7O5aFrtpmU4YwxllH41y/xGn/AOEZ8M6b4d02R1hdSXYn5mVex+pNXPDHww0qXQobjV43muZ0DkByojB6AYqp4ivOp7KkldLUqpisROr7GgldLVvY7PRvEuleIIi+lXazFfvJ0Yfgea0p7iO2haWd1jjUZZmOABXh+v6XN8PfGVtPpszmJsSR5PO3PzIfX/69dF8WtblOmabZ27MsF2hmkwcbgAMA/nUxx0o05uoveiKOYyhSqe1jaUP1OiuPih4YgnaP7XJJtOC8cRK/nXGfFm9S9m0e4tZC0UtuzoeRwSCDXR6F8L9DbRbaTUo5Li4kjV2bzCoGRnAArnvi9DHaXmkwwKEjigZUUDoARgVhiZYh4aTq2W1jlxksVLCSlWstrWO08NeONF1I2WmW9xI12Ygu1oyMkDnmuvrkfDXgrQ9OFlqlralbvylYMZCcEjk4rra9PDe09mvaWv5Hs4T23sl7a1/IdRRRXSdQUUUUAFFFFABQelFB6UANrm/Gus/2XorRRtia5+RfYdzXSV5b40kutT8UPbW8Msot1CKqqT15Jry81ryo4Z8i1eh6WWUI1sSlN6LVnMDkVLbWlxeXCwWsTSyseFUZrp9I8AX12yyak32WI87Qcuf8K73StFstHh8uyhVMj5nPLN9TXy2DyWvXfNV92P4n02MzqjRXLR95/gY/hTwouiKbm72veOMHHRB6CuooxRX22Hw9PD01TprRHxtavOvUdSo7thXjPjXn4u2n+/b/APoVezViXvhLSNR1qLVby133cW0q+8jp04rLF0ZVoKMejTPLx2GliKajHo0zzL4mf8lEsv8ArnF/6HXsqjgfSsbVPCWkazqUN/qFp5txCBsbeR0ORx3rb24FKhQlTqTk/tMWGw8qNWpN/aZ4v4P/AOSwXGP+etx/M1v6p4n8Ea5qs9rrtoUkgcxrcSIRuIOOo5H4119n4S0iw1yTVrW12XkhYs+89W68VX1jwJoOtzNNeWQWdzlpYmKMfyrnjha0KfLGz1vqckcHXpUXCNnq3Z7WPI/GNr4Wt/JbwxdSSyFiZE3FlUdjk966Txfp+oX3wx0W9uBI8tqoMwYZYKRjJ+nFdbp3w08O6fcrOts87ocr58hYA/TpXUvbxywtFJGrRsMFSOCPSs6eBm1PnsubojKlls2qntLR5lay2RwHgPxxpcmj2Gj3MhgvEAhRSpKyemDXJ6v9o8E/ExtRkiZ4JJTKhH/LRG+8AfUZr0aH4d+H7fWY9St7Z45Yn8xUWQ7A3rtrZ1bQ7DW7P7Nqdsk8fbcOV+h7Vo8LWnSUZtXjszSWDxFSioza5o/C1+pzF58UtAi0xp7WWSecqdkAjIbd6HsK4P4czvd/EeOeb78wmkbHqRmvQrX4XeG7W6E4t5ZSpyI5ZSyg/Staw8IaNpustqllZiO6YEbgxwM9cDpSeHxNWpCdVq0WJ4XF1qsJ1mrReyPKJZp/AfxKkuZ4GkgaR2GP443PUe49K725+Knh2G0EkMstzIRxEkZB/HPArpNY0DTdetvJ1O2WZR90kYZfoe1c3D8KfDcVwJGgnkAOdjzErTWHxNBtUWrPv0HHC4vDylHDtcrd9ehzvxIh/wCEk8NaZ4i05Ha3RWDgryqt3/AitLwv8TdITQ4INXla2uYIwjHYWDgdwRXfR2UEVmLSOCNbcLsEYX5cemK5W7+F/hy7ujMLeWDJyUhlKqfwpyw9eFT2tJq7WpdTC4mnV9vQau1qmeYeO/E6eKNZE9spW2gQpFuGC3OSfatj4o/8e3h//ryP/stehS/D3w3LaQ276cuyEkqVcgnPXJ71b1fwjpGuLbrqNp5i2w2xYYrhfTj6Vh9RrSjPnavKxyvLcRKNTnkm5W/A0dK/5A9n/wBcE/8AQRXnHxj0ueSGw1BQTFFuikIH3ckEE+3WvUIo1hhSNBtVQFUegFR3VrDe2z291EssUgwyMMgivSr0Pa0XTbPXxGG9vQdJs5Lwd450vV7Wy07e0N+Ignksp5wOcGuz61y+meANE0jWk1OxgkSZM7VMhKrnjIFdSKeHVWMLVbX8h4WNaNPlrWuuwtFFFdB1BRRRQAUUUUAFB6UUHpQA2mBF3lgo3Hqcc0+gUmrgAHFFLQaYCUUUUAFFFFAC0nWlzRmgBO9Bpc0UAGKSlzRmgBKKWjNABijFGaM0AJRS5ozQAYoxRmjNABikpc0ZoASlozRmgAxRRmjNAC0UUUAFFFFABRRRQAUUUUAGKKKKACiiigAxRiiigAxRiiigAxRiiigAooooAMUYoooAKMUUUAGKMUUUAGKMUUUAGKMUUUAGKMUUUAGKMUUUAGKMUUUAFFFFABRRRQB//9k=)"
      ],
      "metadata": {
        "id": "QGof5RfBMqp8"
      }
    },
    {
      "cell_type": "markdown",
      "source": [
        "**Instacart**\n",
        "- 2012년 미국 기업 Amazon의 직원이었던 ‘아푸바 메타’가 창업한 세계 최대규모의 식료품 배달 플랫폼이다.\n",
        "\n",
        "- 홈페이지나 앱을 통해서 주문을 하면 쇼퍼가 장을 봐준 뒤 1~2시간 안에 집 앞으로 배달해주는 시스템이다.\n",
        "\n",
        "- 2021년 12월 기준 52%의 시장점유율을 보이며 시장의 1위 자리를 굳건히 하고 있다.\n"
      ],
      "metadata": {
        "id": "lu7uv7IiJP4L"
      }
    },
    {
      "cell_type": "markdown",
      "source": [
        "**비즈니스 문제**\n",
        "- 경쟁이 과열되고 혜택에 따라 플랫폼을 쉽게 옮길 수 있는 세상이다.\n",
        "\n",
        "- 이러한 상황속에서 기존 고객을 유지하고 나아가 주요 고객으로 전환시키기 위한 방법을 분석해야한다.\n"
      ],
      "metadata": {
        "id": "_Q-hf4ybMfeb"
      }
    },
    {
      "cell_type": "markdown",
      "source": [
        "**가설**\n",
        "- 생각지 못한 구매 패턴이 있을 것이다.\n",
        "- 주요고객만의 구매 패턴이 있다.\n",
        "- 신규고객 유치비용은 기존고객 유지비용의 5~6배가 든다는 연구결과가 있다.\n",
        "\n",
        "- 주요고객의 특징을 파악하여 일반고객을 주요고객으로 전환한다면 고객생애가치를 높이고 비용을 절약할 수 있다.\n",
        "- 신규고객 또한 유지 될 때 비로소 의미가 있다.\n",
        "- 신규고객을 유치한 채로 끝낼 것이 아니라 위에서 언급한 주요고객으로 전환하기 위한 전략으로 이어져야한다."
      ],
      "metadata": {
        "id": "IBXqTuDvKJvi"
      }
    },
    {
      "cell_type": "markdown",
      "source": [
        "## 2) 데이터 이해"
      ],
      "metadata": {
        "id": "GX4uEt0phQxU"
      }
    },
    {
      "cell_type": "markdown",
      "source": [
        "- **aisles.csv** : 소분류 번호, 소분류\n",
        "- **departments.csv** : 대분류번호, 대분류\n",
        "- **products.csv** : 제품번호,제품명, 소분류번호, 대분류번호\n",
        "- **orders.csv** : 주문번호, 유저아이디, 주문횟수, 주문요일,주문시간(24시간), 주문텀(일자)\n",
        "- **order_products__train.csv** : 주문번호, 제품번호, 주문순서, 재주문여부"
      ],
      "metadata": {
        "id": "uXM5ArpaNwXX"
      }
    },
    {
      "cell_type": "markdown",
      "source": [
        "## 3) 데이터 전처리"
      ],
      "metadata": {
        "id": "gOjbyTlphSp0"
      }
    },
    {
      "cell_type": "markdown",
      "source": [
        "### 전처리"
      ],
      "metadata": {
        "id": "3DduM50DhfNf"
      }
    },
    {
      "cell_type": "code",
      "source": [
        "%pip install mlxtend --upgrade"
      ],
      "metadata": {
        "id": "E8T2JC5eIsij",
        "colab": {
          "base_uri": "https://localhost:8080/"
        },
        "outputId": "4f9de6c8-bd50-473e-e3f7-ef1c3d35e519"
      },
      "execution_count": 1,
      "outputs": [
        {
          "output_type": "stream",
          "name": "stdout",
          "text": [
            "Looking in indexes: https://pypi.org/simple, https://us-python.pkg.dev/colab-wheels/public/simple/\n",
            "Requirement already satisfied: mlxtend in /usr/local/lib/python3.8/dist-packages (0.21.0)\n",
            "Requirement already satisfied: scikit-learn>=1.0.2 in /usr/local/lib/python3.8/dist-packages (from mlxtend) (1.0.2)\n",
            "Requirement already satisfied: pandas>=0.24.2 in /usr/local/lib/python3.8/dist-packages (from mlxtend) (1.3.5)\n",
            "Requirement already satisfied: setuptools in /usr/local/lib/python3.8/dist-packages (from mlxtend) (57.4.0)\n",
            "Requirement already satisfied: numpy>=1.16.2 in /usr/local/lib/python3.8/dist-packages (from mlxtend) (1.21.6)\n",
            "Requirement already satisfied: joblib>=0.13.2 in /usr/local/lib/python3.8/dist-packages (from mlxtend) (1.2.0)\n",
            "Requirement already satisfied: scipy>=1.2.1 in /usr/local/lib/python3.8/dist-packages (from mlxtend) (1.7.3)\n",
            "Requirement already satisfied: matplotlib>=3.0.0 in /usr/local/lib/python3.8/dist-packages (from mlxtend) (3.2.2)\n",
            "Requirement already satisfied: kiwisolver>=1.0.1 in /usr/local/lib/python3.8/dist-packages (from matplotlib>=3.0.0->mlxtend) (1.4.4)\n",
            "Requirement already satisfied: python-dateutil>=2.1 in /usr/local/lib/python3.8/dist-packages (from matplotlib>=3.0.0->mlxtend) (2.8.2)\n",
            "Requirement already satisfied: cycler>=0.10 in /usr/local/lib/python3.8/dist-packages (from matplotlib>=3.0.0->mlxtend) (0.11.0)\n",
            "Requirement already satisfied: pyparsing!=2.0.4,!=2.1.2,!=2.1.6,>=2.0.1 in /usr/local/lib/python3.8/dist-packages (from matplotlib>=3.0.0->mlxtend) (3.0.9)\n",
            "Requirement already satisfied: pytz>=2017.3 in /usr/local/lib/python3.8/dist-packages (from pandas>=0.24.2->mlxtend) (2022.7.1)\n",
            "Requirement already satisfied: threadpoolctl>=2.0.0 in /usr/local/lib/python3.8/dist-packages (from scikit-learn>=1.0.2->mlxtend) (3.1.0)\n",
            "Requirement already satisfied: six>=1.5 in /usr/local/lib/python3.8/dist-packages (from python-dateutil>=2.1->matplotlib>=3.0.0->mlxtend) (1.15.0)\n"
          ]
        }
      ]
    },
    {
      "cell_type": "code",
      "source": [
        "# 한글 그래프 폰트(런타임재시작)\n",
        "!sudo apt-get install -y fonts-nanum\n",
        "!sudo fc-cache -fv\n",
        "!rm ~/.cache/matplotlib -rf"
      ],
      "metadata": {
        "id": "84Jl8CSIXo4p",
        "colab": {
          "base_uri": "https://localhost:8080/"
        },
        "outputId": "8cd7bdfd-2422-4410-9811-55c32c715b51"
      },
      "execution_count": 2,
      "outputs": [
        {
          "output_type": "stream",
          "name": "stdout",
          "text": [
            "Reading package lists... Done\n",
            "Building dependency tree       \n",
            "Reading state information... Done\n",
            "fonts-nanum is already the newest version (20180306-3).\n",
            "The following package was automatically installed and is no longer required:\n",
            "  libnvidia-common-510\n",
            "Use 'sudo apt autoremove' to remove it.\n",
            "0 upgraded, 0 newly installed, 0 to remove and 21 not upgraded.\n",
            "/usr/share/fonts: caching, new cache contents: 0 fonts, 1 dirs\n",
            "/usr/share/fonts/truetype: caching, new cache contents: 0 fonts, 3 dirs\n",
            "/usr/share/fonts/truetype/humor-sans: caching, new cache contents: 1 fonts, 0 dirs\n",
            "/usr/share/fonts/truetype/liberation: caching, new cache contents: 16 fonts, 0 dirs\n",
            "/usr/share/fonts/truetype/nanum: caching, new cache contents: 10 fonts, 0 dirs\n",
            "/usr/local/share/fonts: caching, new cache contents: 0 fonts, 0 dirs\n",
            "/root/.local/share/fonts: skipping, no such directory\n",
            "/root/.fonts: skipping, no such directory\n",
            "/usr/share/fonts/truetype: skipping, looped directory detected\n",
            "/usr/share/fonts/truetype/humor-sans: skipping, looped directory detected\n",
            "/usr/share/fonts/truetype/liberation: skipping, looped directory detected\n",
            "/usr/share/fonts/truetype/nanum: skipping, looped directory detected\n",
            "/var/cache/fontconfig: cleaning cache directory\n",
            "/root/.cache/fontconfig: not cleaning non-existent cache directory\n",
            "/root/.fontconfig: not cleaning non-existent cache directory\n",
            "fc-cache: succeeded\n"
          ]
        }
      ]
    },
    {
      "cell_type": "code",
      "source": [
        "import matplotlib.pyplot as plt\n",
        "import seaborn as sns\n",
        "\n",
        "import pandas as pd\n",
        "import numpy as np\n",
        "from functools import reduce"
      ],
      "metadata": {
        "id": "INnJt-a5ZK92"
      },
      "execution_count": 3,
      "outputs": []
    },
    {
      "cell_type": "code",
      "source": [
        "df1 = pd.read_csv('/content/drive/MyDrive/코드스테이츠/인스타카트/aisles.csv')               # 소분류\n",
        "df2 = pd.read_csv('/content/drive/MyDrive/코드스테이츠/인스타카트/departments.csv')          # 대분류\n",
        "df3 = pd.read_csv('/content/drive/MyDrive/코드스테이츠/인스타카트/order_products__train.csv')\n",
        "df4 = pd.read_csv('/content/drive/MyDrive/코드스테이츠/인스타카트/orders.csv')\n",
        "df5 = pd.read_csv('/content/drive/MyDrive/코드스테이츠/인스타카트/products.csv')"
      ],
      "metadata": {
        "id": "wfLtQBhVkUfN"
      },
      "execution_count": 4,
      "outputs": []
    },
    {
      "cell_type": "code",
      "source": [
        "df1.isnull().sum()"
      ],
      "metadata": {
        "id": "fevHHqohlj42",
        "colab": {
          "base_uri": "https://localhost:8080/"
        },
        "outputId": "148ed1e1-a1f5-4b7f-ed6b-e9c0a513fd9e"
      },
      "execution_count": 5,
      "outputs": [
        {
          "output_type": "execute_result",
          "data": {
            "text/plain": [
              "aisle_id    0\n",
              "aisle       0\n",
              "dtype: int64"
            ]
          },
          "metadata": {},
          "execution_count": 5
        }
      ]
    },
    {
      "cell_type": "code",
      "source": [
        "df2.isnull().sum()"
      ],
      "metadata": {
        "id": "wbhd3i14lqc2",
        "colab": {
          "base_uri": "https://localhost:8080/"
        },
        "outputId": "5f159b3c-5fcf-49e7-ab4a-5453deb068d1"
      },
      "execution_count": 6,
      "outputs": [
        {
          "output_type": "execute_result",
          "data": {
            "text/plain": [
              "department_id    0\n",
              "department       0\n",
              "dtype: int64"
            ]
          },
          "metadata": {},
          "execution_count": 6
        }
      ]
    },
    {
      "cell_type": "code",
      "source": [
        "df3.isnull().sum()"
      ],
      "metadata": {
        "id": "iAddx9Nfl3Ff",
        "colab": {
          "base_uri": "https://localhost:8080/"
        },
        "outputId": "74081c6a-0968-41d3-d61d-19b50dd1bbd6"
      },
      "execution_count": 7,
      "outputs": [
        {
          "output_type": "execute_result",
          "data": {
            "text/plain": [
              "order_id             0\n",
              "product_id           0\n",
              "add_to_cart_order    0\n",
              "reordered            0\n",
              "dtype: int64"
            ]
          },
          "metadata": {},
          "execution_count": 7
        }
      ]
    },
    {
      "cell_type": "code",
      "source": [
        "df4.isnull().sum()# 현재 주문 이전 주문과의 텀(데이터 유지)"
      ],
      "metadata": {
        "id": "tLpJMTrjl6D3",
        "colab": {
          "base_uri": "https://localhost:8080/"
        },
        "outputId": "0b3153f9-66c9-4d0c-c8b6-f7a677f99082"
      },
      "execution_count": 8,
      "outputs": [
        {
          "output_type": "execute_result",
          "data": {
            "text/plain": [
              "order_id                       0\n",
              "user_id                        0\n",
              "eval_set                       0\n",
              "order_number                   0\n",
              "order_dow                      0\n",
              "order_hour_of_day              0\n",
              "days_since_prior_order    206209\n",
              "dtype: int64"
            ]
          },
          "metadata": {},
          "execution_count": 8
        }
      ]
    },
    {
      "cell_type": "code",
      "source": [
        "df5.isnull().sum() "
      ],
      "metadata": {
        "id": "LJtlIqk3l-uo",
        "colab": {
          "base_uri": "https://localhost:8080/"
        },
        "outputId": "85b4cf68-3698-4c50-9aaa-210fac02bc81"
      },
      "execution_count": 9,
      "outputs": [
        {
          "output_type": "execute_result",
          "data": {
            "text/plain": [
              "product_id       0\n",
              "product_name     0\n",
              "aisle_id         0\n",
              "department_id    0\n",
              "dtype: int64"
            ]
          },
          "metadata": {},
          "execution_count": 9
        }
      ]
    },
    {
      "cell_type": "code",
      "source": [
        "# 한 번에 merge 각 컬럼이 달라서 실패\n",
        "# data = [df3,df1,df2,df5,df6]\n",
        "# full_data = reduce(lambda x,y : pd.merge(x,y), data)"
      ],
      "metadata": {
        "id": "iT3xQv1SH6Nz"
      },
      "execution_count": 10,
      "outputs": []
    },
    {
      "cell_type": "code",
      "source": [
        "# 데이터 합치는 함수\n",
        "def df_merge(t1,t2,t3,t4,t5):\n",
        "    data = pd.merge(t1,t2)\n",
        "    data = pd.merge(data,t3)\n",
        "    data = pd.merge(data,t4)\n",
        "    data = pd.merge(data,t5)\n",
        "    return data"
      ],
      "metadata": {
        "id": "pWEljM2cnF-E"
      },
      "execution_count": 11,
      "outputs": []
    },
    {
      "cell_type": "code",
      "source": [
        "full_data = df_merge(df3,df4,df5,df1,df2)\n",
        "full_data"
      ],
      "metadata": {
        "id": "Tq-zXFb7uCu6",
        "colab": {
          "base_uri": "https://localhost:8080/",
          "height": 554
        },
        "outputId": "fafc9edd-583d-4354-d2f5-9c59898e9c17"
      },
      "execution_count": 12,
      "outputs": [
        {
          "output_type": "execute_result",
          "data": {
            "text/plain": [
              "         order_id  product_id  add_to_cart_order  reordered  user_id eval_set  \\\n",
              "0               1       49302                  1          1   112108    train   \n",
              "1          816049       49302                  7          1    47901    train   \n",
              "2         1242203       49302                  1          1     2993    train   \n",
              "3         1383349       49302                 11          1    41425    train   \n",
              "4         1787378       49302                  8          0   187205    train   \n",
              "...           ...         ...                ...        ...      ...      ...   \n",
              "1384612   3283540       39484                 23          1   103639    train   \n",
              "1384613   3339757       24892                  1          1   157916    train   \n",
              "1384614   3343813       24892                  9          0    43638    train   \n",
              "1384615   3343813       27290                 10          0    43638    train   \n",
              "1384616   3406152       20143                  5          0    66681    train   \n",
              "\n",
              "         order_number  order_dow  order_hour_of_day  days_since_prior_order  \\\n",
              "0                   4          4                 10                     9.0   \n",
              "1                  14          4                  6                    16.0   \n",
              "2                  15          0                  7                     7.0   \n",
              "3                   4          3                  8                    14.0   \n",
              "4                   5          4                 14                    30.0   \n",
              "...               ...        ...                ...                     ...   \n",
              "1384612             7          0                 20                     6.0   \n",
              "1384613             4          2                  6                    22.0   \n",
              "1384614            10          2                 15                    22.0   \n",
              "1384615            10          2                 15                    22.0   \n",
              "1384616             8          6                  8                     3.0   \n",
              "\n",
              "                                              product_name  aisle_id  \\\n",
              "0                                         Bulgarian Yogurt       120   \n",
              "1                                         Bulgarian Yogurt       120   \n",
              "2                                         Bulgarian Yogurt       120   \n",
              "3                                         Bulgarian Yogurt       120   \n",
              "4                                         Bulgarian Yogurt       120   \n",
              "...                                                    ...       ...   \n",
              "1384612              Sliced Turkey Feast in Gravy Cat Food        41   \n",
              "1384613                 Wild Mackerel & Whitefish Cat Food        41   \n",
              "1384614                 Wild Mackerel & Whitefish Cat Food        41   \n",
              "1384615  Purrfect Delicacies Wet Cat Food Flaked Oceanf...        41   \n",
              "1384616  Savory Shreds with Turkey & Giblets in Gravy C...        41   \n",
              "\n",
              "         department_id          aisle  department  \n",
              "0                   16         yogurt  dairy eggs  \n",
              "1                   16         yogurt  dairy eggs  \n",
              "2                   16         yogurt  dairy eggs  \n",
              "3                   16         yogurt  dairy eggs  \n",
              "4                   16         yogurt  dairy eggs  \n",
              "...                ...            ...         ...  \n",
              "1384612              8  cat food care        pets  \n",
              "1384613              8  cat food care        pets  \n",
              "1384614              8  cat food care        pets  \n",
              "1384615              8  cat food care        pets  \n",
              "1384616              8  cat food care        pets  \n",
              "\n",
              "[1384617 rows x 15 columns]"
            ],
            "text/html": [
              "\n",
              "  <div id=\"df-8c8990e5-5e89-4e6c-afed-1429c340d4f3\">\n",
              "    <div class=\"colab-df-container\">\n",
              "      <div>\n",
              "<style scoped>\n",
              "    .dataframe tbody tr th:only-of-type {\n",
              "        vertical-align: middle;\n",
              "    }\n",
              "\n",
              "    .dataframe tbody tr th {\n",
              "        vertical-align: top;\n",
              "    }\n",
              "\n",
              "    .dataframe thead th {\n",
              "        text-align: right;\n",
              "    }\n",
              "</style>\n",
              "<table border=\"1\" class=\"dataframe\">\n",
              "  <thead>\n",
              "    <tr style=\"text-align: right;\">\n",
              "      <th></th>\n",
              "      <th>order_id</th>\n",
              "      <th>product_id</th>\n",
              "      <th>add_to_cart_order</th>\n",
              "      <th>reordered</th>\n",
              "      <th>user_id</th>\n",
              "      <th>eval_set</th>\n",
              "      <th>order_number</th>\n",
              "      <th>order_dow</th>\n",
              "      <th>order_hour_of_day</th>\n",
              "      <th>days_since_prior_order</th>\n",
              "      <th>product_name</th>\n",
              "      <th>aisle_id</th>\n",
              "      <th>department_id</th>\n",
              "      <th>aisle</th>\n",
              "      <th>department</th>\n",
              "    </tr>\n",
              "  </thead>\n",
              "  <tbody>\n",
              "    <tr>\n",
              "      <th>0</th>\n",
              "      <td>1</td>\n",
              "      <td>49302</td>\n",
              "      <td>1</td>\n",
              "      <td>1</td>\n",
              "      <td>112108</td>\n",
              "      <td>train</td>\n",
              "      <td>4</td>\n",
              "      <td>4</td>\n",
              "      <td>10</td>\n",
              "      <td>9.0</td>\n",
              "      <td>Bulgarian Yogurt</td>\n",
              "      <td>120</td>\n",
              "      <td>16</td>\n",
              "      <td>yogurt</td>\n",
              "      <td>dairy eggs</td>\n",
              "    </tr>\n",
              "    <tr>\n",
              "      <th>1</th>\n",
              "      <td>816049</td>\n",
              "      <td>49302</td>\n",
              "      <td>7</td>\n",
              "      <td>1</td>\n",
              "      <td>47901</td>\n",
              "      <td>train</td>\n",
              "      <td>14</td>\n",
              "      <td>4</td>\n",
              "      <td>6</td>\n",
              "      <td>16.0</td>\n",
              "      <td>Bulgarian Yogurt</td>\n",
              "      <td>120</td>\n",
              "      <td>16</td>\n",
              "      <td>yogurt</td>\n",
              "      <td>dairy eggs</td>\n",
              "    </tr>\n",
              "    <tr>\n",
              "      <th>2</th>\n",
              "      <td>1242203</td>\n",
              "      <td>49302</td>\n",
              "      <td>1</td>\n",
              "      <td>1</td>\n",
              "      <td>2993</td>\n",
              "      <td>train</td>\n",
              "      <td>15</td>\n",
              "      <td>0</td>\n",
              "      <td>7</td>\n",
              "      <td>7.0</td>\n",
              "      <td>Bulgarian Yogurt</td>\n",
              "      <td>120</td>\n",
              "      <td>16</td>\n",
              "      <td>yogurt</td>\n",
              "      <td>dairy eggs</td>\n",
              "    </tr>\n",
              "    <tr>\n",
              "      <th>3</th>\n",
              "      <td>1383349</td>\n",
              "      <td>49302</td>\n",
              "      <td>11</td>\n",
              "      <td>1</td>\n",
              "      <td>41425</td>\n",
              "      <td>train</td>\n",
              "      <td>4</td>\n",
              "      <td>3</td>\n",
              "      <td>8</td>\n",
              "      <td>14.0</td>\n",
              "      <td>Bulgarian Yogurt</td>\n",
              "      <td>120</td>\n",
              "      <td>16</td>\n",
              "      <td>yogurt</td>\n",
              "      <td>dairy eggs</td>\n",
              "    </tr>\n",
              "    <tr>\n",
              "      <th>4</th>\n",
              "      <td>1787378</td>\n",
              "      <td>49302</td>\n",
              "      <td>8</td>\n",
              "      <td>0</td>\n",
              "      <td>187205</td>\n",
              "      <td>train</td>\n",
              "      <td>5</td>\n",
              "      <td>4</td>\n",
              "      <td>14</td>\n",
              "      <td>30.0</td>\n",
              "      <td>Bulgarian Yogurt</td>\n",
              "      <td>120</td>\n",
              "      <td>16</td>\n",
              "      <td>yogurt</td>\n",
              "      <td>dairy eggs</td>\n",
              "    </tr>\n",
              "    <tr>\n",
              "      <th>...</th>\n",
              "      <td>...</td>\n",
              "      <td>...</td>\n",
              "      <td>...</td>\n",
              "      <td>...</td>\n",
              "      <td>...</td>\n",
              "      <td>...</td>\n",
              "      <td>...</td>\n",
              "      <td>...</td>\n",
              "      <td>...</td>\n",
              "      <td>...</td>\n",
              "      <td>...</td>\n",
              "      <td>...</td>\n",
              "      <td>...</td>\n",
              "      <td>...</td>\n",
              "      <td>...</td>\n",
              "    </tr>\n",
              "    <tr>\n",
              "      <th>1384612</th>\n",
              "      <td>3283540</td>\n",
              "      <td>39484</td>\n",
              "      <td>23</td>\n",
              "      <td>1</td>\n",
              "      <td>103639</td>\n",
              "      <td>train</td>\n",
              "      <td>7</td>\n",
              "      <td>0</td>\n",
              "      <td>20</td>\n",
              "      <td>6.0</td>\n",
              "      <td>Sliced Turkey Feast in Gravy Cat Food</td>\n",
              "      <td>41</td>\n",
              "      <td>8</td>\n",
              "      <td>cat food care</td>\n",
              "      <td>pets</td>\n",
              "    </tr>\n",
              "    <tr>\n",
              "      <th>1384613</th>\n",
              "      <td>3339757</td>\n",
              "      <td>24892</td>\n",
              "      <td>1</td>\n",
              "      <td>1</td>\n",
              "      <td>157916</td>\n",
              "      <td>train</td>\n",
              "      <td>4</td>\n",
              "      <td>2</td>\n",
              "      <td>6</td>\n",
              "      <td>22.0</td>\n",
              "      <td>Wild Mackerel &amp; Whitefish Cat Food</td>\n",
              "      <td>41</td>\n",
              "      <td>8</td>\n",
              "      <td>cat food care</td>\n",
              "      <td>pets</td>\n",
              "    </tr>\n",
              "    <tr>\n",
              "      <th>1384614</th>\n",
              "      <td>3343813</td>\n",
              "      <td>24892</td>\n",
              "      <td>9</td>\n",
              "      <td>0</td>\n",
              "      <td>43638</td>\n",
              "      <td>train</td>\n",
              "      <td>10</td>\n",
              "      <td>2</td>\n",
              "      <td>15</td>\n",
              "      <td>22.0</td>\n",
              "      <td>Wild Mackerel &amp; Whitefish Cat Food</td>\n",
              "      <td>41</td>\n",
              "      <td>8</td>\n",
              "      <td>cat food care</td>\n",
              "      <td>pets</td>\n",
              "    </tr>\n",
              "    <tr>\n",
              "      <th>1384615</th>\n",
              "      <td>3343813</td>\n",
              "      <td>27290</td>\n",
              "      <td>10</td>\n",
              "      <td>0</td>\n",
              "      <td>43638</td>\n",
              "      <td>train</td>\n",
              "      <td>10</td>\n",
              "      <td>2</td>\n",
              "      <td>15</td>\n",
              "      <td>22.0</td>\n",
              "      <td>Purrfect Delicacies Wet Cat Food Flaked Oceanf...</td>\n",
              "      <td>41</td>\n",
              "      <td>8</td>\n",
              "      <td>cat food care</td>\n",
              "      <td>pets</td>\n",
              "    </tr>\n",
              "    <tr>\n",
              "      <th>1384616</th>\n",
              "      <td>3406152</td>\n",
              "      <td>20143</td>\n",
              "      <td>5</td>\n",
              "      <td>0</td>\n",
              "      <td>66681</td>\n",
              "      <td>train</td>\n",
              "      <td>8</td>\n",
              "      <td>6</td>\n",
              "      <td>8</td>\n",
              "      <td>3.0</td>\n",
              "      <td>Savory Shreds with Turkey &amp; Giblets in Gravy C...</td>\n",
              "      <td>41</td>\n",
              "      <td>8</td>\n",
              "      <td>cat food care</td>\n",
              "      <td>pets</td>\n",
              "    </tr>\n",
              "  </tbody>\n",
              "</table>\n",
              "<p>1384617 rows × 15 columns</p>\n",
              "</div>\n",
              "      <button class=\"colab-df-convert\" onclick=\"convertToInteractive('df-8c8990e5-5e89-4e6c-afed-1429c340d4f3')\"\n",
              "              title=\"Convert this dataframe to an interactive table.\"\n",
              "              style=\"display:none;\">\n",
              "        \n",
              "  <svg xmlns=\"http://www.w3.org/2000/svg\" height=\"24px\"viewBox=\"0 0 24 24\"\n",
              "       width=\"24px\">\n",
              "    <path d=\"M0 0h24v24H0V0z\" fill=\"none\"/>\n",
              "    <path d=\"M18.56 5.44l.94 2.06.94-2.06 2.06-.94-2.06-.94-.94-2.06-.94 2.06-2.06.94zm-11 1L8.5 8.5l.94-2.06 2.06-.94-2.06-.94L8.5 2.5l-.94 2.06-2.06.94zm10 10l.94 2.06.94-2.06 2.06-.94-2.06-.94-.94-2.06-.94 2.06-2.06.94z\"/><path d=\"M17.41 7.96l-1.37-1.37c-.4-.4-.92-.59-1.43-.59-.52 0-1.04.2-1.43.59L10.3 9.45l-7.72 7.72c-.78.78-.78 2.05 0 2.83L4 21.41c.39.39.9.59 1.41.59.51 0 1.02-.2 1.41-.59l7.78-7.78 2.81-2.81c.8-.78.8-2.07 0-2.86zM5.41 20L4 18.59l7.72-7.72 1.47 1.35L5.41 20z\"/>\n",
              "  </svg>\n",
              "      </button>\n",
              "      \n",
              "  <style>\n",
              "    .colab-df-container {\n",
              "      display:flex;\n",
              "      flex-wrap:wrap;\n",
              "      gap: 12px;\n",
              "    }\n",
              "\n",
              "    .colab-df-convert {\n",
              "      background-color: #E8F0FE;\n",
              "      border: none;\n",
              "      border-radius: 50%;\n",
              "      cursor: pointer;\n",
              "      display: none;\n",
              "      fill: #1967D2;\n",
              "      height: 32px;\n",
              "      padding: 0 0 0 0;\n",
              "      width: 32px;\n",
              "    }\n",
              "\n",
              "    .colab-df-convert:hover {\n",
              "      background-color: #E2EBFA;\n",
              "      box-shadow: 0px 1px 2px rgba(60, 64, 67, 0.3), 0px 1px 3px 1px rgba(60, 64, 67, 0.15);\n",
              "      fill: #174EA6;\n",
              "    }\n",
              "\n",
              "    [theme=dark] .colab-df-convert {\n",
              "      background-color: #3B4455;\n",
              "      fill: #D2E3FC;\n",
              "    }\n",
              "\n",
              "    [theme=dark] .colab-df-convert:hover {\n",
              "      background-color: #434B5C;\n",
              "      box-shadow: 0px 1px 3px 1px rgba(0, 0, 0, 0.15);\n",
              "      filter: drop-shadow(0px 1px 2px rgba(0, 0, 0, 0.3));\n",
              "      fill: #FFFFFF;\n",
              "    }\n",
              "  </style>\n",
              "\n",
              "      <script>\n",
              "        const buttonEl =\n",
              "          document.querySelector('#df-8c8990e5-5e89-4e6c-afed-1429c340d4f3 button.colab-df-convert');\n",
              "        buttonEl.style.display =\n",
              "          google.colab.kernel.accessAllowed ? 'block' : 'none';\n",
              "\n",
              "        async function convertToInteractive(key) {\n",
              "          const element = document.querySelector('#df-8c8990e5-5e89-4e6c-afed-1429c340d4f3');\n",
              "          const dataTable =\n",
              "            await google.colab.kernel.invokeFunction('convertToInteractive',\n",
              "                                                     [key], {});\n",
              "          if (!dataTable) return;\n",
              "\n",
              "          const docLinkHtml = 'Like what you see? Visit the ' +\n",
              "            '<a target=\"_blank\" href=https://colab.research.google.com/notebooks/data_table.ipynb>data table notebook</a>'\n",
              "            + ' to learn more about interactive tables.';\n",
              "          element.innerHTML = '';\n",
              "          dataTable['output_type'] = 'display_data';\n",
              "          await google.colab.output.renderOutput(dataTable, element);\n",
              "          const docLink = document.createElement('div');\n",
              "          docLink.innerHTML = docLinkHtml;\n",
              "          element.appendChild(docLink);\n",
              "        }\n",
              "      </script>\n",
              "    </div>\n",
              "  </div>\n",
              "  "
            ]
          },
          "metadata": {},
          "execution_count": 12
        }
      ]
    },
    {
      "cell_type": "code",
      "source": [
        "# 그래프분석에 사용할 데이터 만들기\n",
        "df_graph = full_data[['order_id', 'user_id','product_name','aisle','department','order_number','reordered','order_dow','days_since_prior_order','order_hour_of_day']]"
      ],
      "metadata": {
        "id": "Ik-UJdOZqDUU"
      },
      "execution_count": 13,
      "outputs": []
    },
    {
      "cell_type": "code",
      "source": [
        "# 컬럼명 변경\n",
        "def df_rename(data):\n",
        "    data.columns = ['주문번호','유저','제품','소분류','대분류','누적주문','재주문','요일','주문텀','주문시간']\n",
        "    return data"
      ],
      "metadata": {
        "id": "FB8Llhu-3sDw"
      },
      "execution_count": 14,
      "outputs": []
    },
    {
      "cell_type": "code",
      "source": [
        "df_graph = df_rename(df_graph)\n",
        "df_graph = df_graph.sort_values(by='주문번호',ignore_index=True)"
      ],
      "metadata": {
        "id": "XC_tCP0o3x3a"
      },
      "execution_count": 15,
      "outputs": []
    },
    {
      "cell_type": "code",
      "source": [
        "df_graph"
      ],
      "metadata": {
        "colab": {
          "base_uri": "https://localhost:8080/",
          "height": 424
        },
        "id": "qSECteERN1KS",
        "outputId": "728cbdb5-a361-4c3f-8491-22a6c1718dab"
      },
      "execution_count": 16,
      "outputs": [
        {
          "output_type": "execute_result",
          "data": {
            "text/plain": [
              "            주문번호      유저                                    제품  \\\n",
              "0              1  112108                      Bulgarian Yogurt   \n",
              "1              1  112108  Lightly Smoked Sardines in Olive Oil   \n",
              "2              1  112108                 Organic Celery Hearts   \n",
              "3              1  112108           Organic Whole String Cheese   \n",
              "4              1  112108                  Organic Hass Avocado   \n",
              "...          ...     ...                                   ...   \n",
              "1384612  3421063  169679                   Organic Half & Half   \n",
              "1384613  3421063  169679                Natural Artesian Water   \n",
              "1384614  3421070  139822                  Creamy Peanut Butter   \n",
              "1384615  3421070  139822       Organic Unsweetened Almond Milk   \n",
              "1384616  3421070  139822                    Broccoli Florettes   \n",
              "\n",
              "                                   소분류           대분류  누적주문  재주문  요일  주문텀  주문시간  \n",
              "0                               yogurt    dairy eggs     4    1   4  9.0    10  \n",
              "1                  canned meat seafood  canned goods     4    1   4  9.0    10  \n",
              "2                     fresh vegetables       produce     4    0   4  9.0    10  \n",
              "3                      packaged cheese    dairy eggs     4    1   4  9.0    10  \n",
              "4                         fresh fruits       produce     4    0   4  9.0    10  \n",
              "...                                ...           ...   ...  ...  ..  ...   ...  \n",
              "1384612                          cream    dairy eggs    30    1   0  4.0    10  \n",
              "1384613  water seltzer sparkling water     beverages    30    1   0  4.0    10  \n",
              "1384614                        spreads        pantry    15    1   6  8.0    10  \n",
              "1384615                soy lactosefree    dairy eggs    15    1   6  8.0    10  \n",
              "1384616               packaged produce       produce    15    1   6  8.0    10  \n",
              "\n",
              "[1384617 rows x 10 columns]"
            ],
            "text/html": [
              "\n",
              "  <div id=\"df-504092c1-e95c-43f5-b2bf-d7ffe06f1abd\">\n",
              "    <div class=\"colab-df-container\">\n",
              "      <div>\n",
              "<style scoped>\n",
              "    .dataframe tbody tr th:only-of-type {\n",
              "        vertical-align: middle;\n",
              "    }\n",
              "\n",
              "    .dataframe tbody tr th {\n",
              "        vertical-align: top;\n",
              "    }\n",
              "\n",
              "    .dataframe thead th {\n",
              "        text-align: right;\n",
              "    }\n",
              "</style>\n",
              "<table border=\"1\" class=\"dataframe\">\n",
              "  <thead>\n",
              "    <tr style=\"text-align: right;\">\n",
              "      <th></th>\n",
              "      <th>주문번호</th>\n",
              "      <th>유저</th>\n",
              "      <th>제품</th>\n",
              "      <th>소분류</th>\n",
              "      <th>대분류</th>\n",
              "      <th>누적주문</th>\n",
              "      <th>재주문</th>\n",
              "      <th>요일</th>\n",
              "      <th>주문텀</th>\n",
              "      <th>주문시간</th>\n",
              "    </tr>\n",
              "  </thead>\n",
              "  <tbody>\n",
              "    <tr>\n",
              "      <th>0</th>\n",
              "      <td>1</td>\n",
              "      <td>112108</td>\n",
              "      <td>Bulgarian Yogurt</td>\n",
              "      <td>yogurt</td>\n",
              "      <td>dairy eggs</td>\n",
              "      <td>4</td>\n",
              "      <td>1</td>\n",
              "      <td>4</td>\n",
              "      <td>9.0</td>\n",
              "      <td>10</td>\n",
              "    </tr>\n",
              "    <tr>\n",
              "      <th>1</th>\n",
              "      <td>1</td>\n",
              "      <td>112108</td>\n",
              "      <td>Lightly Smoked Sardines in Olive Oil</td>\n",
              "      <td>canned meat seafood</td>\n",
              "      <td>canned goods</td>\n",
              "      <td>4</td>\n",
              "      <td>1</td>\n",
              "      <td>4</td>\n",
              "      <td>9.0</td>\n",
              "      <td>10</td>\n",
              "    </tr>\n",
              "    <tr>\n",
              "      <th>2</th>\n",
              "      <td>1</td>\n",
              "      <td>112108</td>\n",
              "      <td>Organic Celery Hearts</td>\n",
              "      <td>fresh vegetables</td>\n",
              "      <td>produce</td>\n",
              "      <td>4</td>\n",
              "      <td>0</td>\n",
              "      <td>4</td>\n",
              "      <td>9.0</td>\n",
              "      <td>10</td>\n",
              "    </tr>\n",
              "    <tr>\n",
              "      <th>3</th>\n",
              "      <td>1</td>\n",
              "      <td>112108</td>\n",
              "      <td>Organic Whole String Cheese</td>\n",
              "      <td>packaged cheese</td>\n",
              "      <td>dairy eggs</td>\n",
              "      <td>4</td>\n",
              "      <td>1</td>\n",
              "      <td>4</td>\n",
              "      <td>9.0</td>\n",
              "      <td>10</td>\n",
              "    </tr>\n",
              "    <tr>\n",
              "      <th>4</th>\n",
              "      <td>1</td>\n",
              "      <td>112108</td>\n",
              "      <td>Organic Hass Avocado</td>\n",
              "      <td>fresh fruits</td>\n",
              "      <td>produce</td>\n",
              "      <td>4</td>\n",
              "      <td>0</td>\n",
              "      <td>4</td>\n",
              "      <td>9.0</td>\n",
              "      <td>10</td>\n",
              "    </tr>\n",
              "    <tr>\n",
              "      <th>...</th>\n",
              "      <td>...</td>\n",
              "      <td>...</td>\n",
              "      <td>...</td>\n",
              "      <td>...</td>\n",
              "      <td>...</td>\n",
              "      <td>...</td>\n",
              "      <td>...</td>\n",
              "      <td>...</td>\n",
              "      <td>...</td>\n",
              "      <td>...</td>\n",
              "    </tr>\n",
              "    <tr>\n",
              "      <th>1384612</th>\n",
              "      <td>3421063</td>\n",
              "      <td>169679</td>\n",
              "      <td>Organic Half &amp; Half</td>\n",
              "      <td>cream</td>\n",
              "      <td>dairy eggs</td>\n",
              "      <td>30</td>\n",
              "      <td>1</td>\n",
              "      <td>0</td>\n",
              "      <td>4.0</td>\n",
              "      <td>10</td>\n",
              "    </tr>\n",
              "    <tr>\n",
              "      <th>1384613</th>\n",
              "      <td>3421063</td>\n",
              "      <td>169679</td>\n",
              "      <td>Natural Artesian Water</td>\n",
              "      <td>water seltzer sparkling water</td>\n",
              "      <td>beverages</td>\n",
              "      <td>30</td>\n",
              "      <td>1</td>\n",
              "      <td>0</td>\n",
              "      <td>4.0</td>\n",
              "      <td>10</td>\n",
              "    </tr>\n",
              "    <tr>\n",
              "      <th>1384614</th>\n",
              "      <td>3421070</td>\n",
              "      <td>139822</td>\n",
              "      <td>Creamy Peanut Butter</td>\n",
              "      <td>spreads</td>\n",
              "      <td>pantry</td>\n",
              "      <td>15</td>\n",
              "      <td>1</td>\n",
              "      <td>6</td>\n",
              "      <td>8.0</td>\n",
              "      <td>10</td>\n",
              "    </tr>\n",
              "    <tr>\n",
              "      <th>1384615</th>\n",
              "      <td>3421070</td>\n",
              "      <td>139822</td>\n",
              "      <td>Organic Unsweetened Almond Milk</td>\n",
              "      <td>soy lactosefree</td>\n",
              "      <td>dairy eggs</td>\n",
              "      <td>15</td>\n",
              "      <td>1</td>\n",
              "      <td>6</td>\n",
              "      <td>8.0</td>\n",
              "      <td>10</td>\n",
              "    </tr>\n",
              "    <tr>\n",
              "      <th>1384616</th>\n",
              "      <td>3421070</td>\n",
              "      <td>139822</td>\n",
              "      <td>Broccoli Florettes</td>\n",
              "      <td>packaged produce</td>\n",
              "      <td>produce</td>\n",
              "      <td>15</td>\n",
              "      <td>1</td>\n",
              "      <td>6</td>\n",
              "      <td>8.0</td>\n",
              "      <td>10</td>\n",
              "    </tr>\n",
              "  </tbody>\n",
              "</table>\n",
              "<p>1384617 rows × 10 columns</p>\n",
              "</div>\n",
              "      <button class=\"colab-df-convert\" onclick=\"convertToInteractive('df-504092c1-e95c-43f5-b2bf-d7ffe06f1abd')\"\n",
              "              title=\"Convert this dataframe to an interactive table.\"\n",
              "              style=\"display:none;\">\n",
              "        \n",
              "  <svg xmlns=\"http://www.w3.org/2000/svg\" height=\"24px\"viewBox=\"0 0 24 24\"\n",
              "       width=\"24px\">\n",
              "    <path d=\"M0 0h24v24H0V0z\" fill=\"none\"/>\n",
              "    <path d=\"M18.56 5.44l.94 2.06.94-2.06 2.06-.94-2.06-.94-.94-2.06-.94 2.06-2.06.94zm-11 1L8.5 8.5l.94-2.06 2.06-.94-2.06-.94L8.5 2.5l-.94 2.06-2.06.94zm10 10l.94 2.06.94-2.06 2.06-.94-2.06-.94-.94-2.06-.94 2.06-2.06.94z\"/><path d=\"M17.41 7.96l-1.37-1.37c-.4-.4-.92-.59-1.43-.59-.52 0-1.04.2-1.43.59L10.3 9.45l-7.72 7.72c-.78.78-.78 2.05 0 2.83L4 21.41c.39.39.9.59 1.41.59.51 0 1.02-.2 1.41-.59l7.78-7.78 2.81-2.81c.8-.78.8-2.07 0-2.86zM5.41 20L4 18.59l7.72-7.72 1.47 1.35L5.41 20z\"/>\n",
              "  </svg>\n",
              "      </button>\n",
              "      \n",
              "  <style>\n",
              "    .colab-df-container {\n",
              "      display:flex;\n",
              "      flex-wrap:wrap;\n",
              "      gap: 12px;\n",
              "    }\n",
              "\n",
              "    .colab-df-convert {\n",
              "      background-color: #E8F0FE;\n",
              "      border: none;\n",
              "      border-radius: 50%;\n",
              "      cursor: pointer;\n",
              "      display: none;\n",
              "      fill: #1967D2;\n",
              "      height: 32px;\n",
              "      padding: 0 0 0 0;\n",
              "      width: 32px;\n",
              "    }\n",
              "\n",
              "    .colab-df-convert:hover {\n",
              "      background-color: #E2EBFA;\n",
              "      box-shadow: 0px 1px 2px rgba(60, 64, 67, 0.3), 0px 1px 3px 1px rgba(60, 64, 67, 0.15);\n",
              "      fill: #174EA6;\n",
              "    }\n",
              "\n",
              "    [theme=dark] .colab-df-convert {\n",
              "      background-color: #3B4455;\n",
              "      fill: #D2E3FC;\n",
              "    }\n",
              "\n",
              "    [theme=dark] .colab-df-convert:hover {\n",
              "      background-color: #434B5C;\n",
              "      box-shadow: 0px 1px 3px 1px rgba(0, 0, 0, 0.15);\n",
              "      filter: drop-shadow(0px 1px 2px rgba(0, 0, 0, 0.3));\n",
              "      fill: #FFFFFF;\n",
              "    }\n",
              "  </style>\n",
              "\n",
              "      <script>\n",
              "        const buttonEl =\n",
              "          document.querySelector('#df-504092c1-e95c-43f5-b2bf-d7ffe06f1abd button.colab-df-convert');\n",
              "        buttonEl.style.display =\n",
              "          google.colab.kernel.accessAllowed ? 'block' : 'none';\n",
              "\n",
              "        async function convertToInteractive(key) {\n",
              "          const element = document.querySelector('#df-504092c1-e95c-43f5-b2bf-d7ffe06f1abd');\n",
              "          const dataTable =\n",
              "            await google.colab.kernel.invokeFunction('convertToInteractive',\n",
              "                                                     [key], {});\n",
              "          if (!dataTable) return;\n",
              "\n",
              "          const docLinkHtml = 'Like what you see? Visit the ' +\n",
              "            '<a target=\"_blank\" href=https://colab.research.google.com/notebooks/data_table.ipynb>data table notebook</a>'\n",
              "            + ' to learn more about interactive tables.';\n",
              "          element.innerHTML = '';\n",
              "          dataTable['output_type'] = 'display_data';\n",
              "          await google.colab.output.renderOutput(dataTable, element);\n",
              "          const docLink = document.createElement('div');\n",
              "          docLink.innerHTML = docLinkHtml;\n",
              "          element.appendChild(docLink);\n",
              "        }\n",
              "      </script>\n",
              "    </div>\n",
              "  </div>\n",
              "  "
            ]
          },
          "metadata": {},
          "execution_count": 16
        }
      ]
    },
    {
      "cell_type": "code",
      "source": [
        "# CSV로 저장\n",
        "# df_graph.to_csv('file.csv',index=False)"
      ],
      "metadata": {
        "id": "jYtb-1APJpVn"
      },
      "execution_count": 17,
      "outputs": []
    },
    {
      "cell_type": "markdown",
      "source": [
        "## 4) 분석 및 모델링"
      ],
      "metadata": {
        "id": "gh7kGCI8hUKI"
      }
    },
    {
      "cell_type": "markdown",
      "source": [
        "### 분석"
      ],
      "metadata": {
        "id": "6Y36hPserqLw"
      }
    },
    {
      "cell_type": "markdown",
      "source": [
        "#### 이용시간 분석"
      ],
      "metadata": {
        "id": "NGjLFzThy5F3"
      }
    },
    {
      "cell_type": "code",
      "source": [
        "plt.rc('font', size= 15, family='NanumBarunGothic')\n",
        "plt.rc('font',size=14)\n",
        "plt.rc('xtick', labelsize=14)\n",
        "plt.rc('ytick', labelsize=14)\n",
        "plt.rc('axes', titlesize=30)\n",
        "plt.rc('axes', labelsize=20)\n",
        "y_name = [0,1,2,3,4,5,6]\n",
        "labels = ['일요일','월요일','화요일','수요일','목요일','금요일','토요일']"
      ],
      "metadata": {
        "id": "A8C153_bdxc1"
      },
      "execution_count": 18,
      "outputs": []
    },
    {
      "cell_type": "markdown",
      "source": [
        "**요일별 주문량**"
      ],
      "metadata": {
        "id": "VYBYr8rIQHxh"
      }
    },
    {
      "cell_type": "code",
      "source": [
        "df_days = df_graph.groupby('요일')['유저'].count()\n",
        "df_days = df_days.to_frame()\n",
        "df_days.reset_index(inplace=True)\n",
        "df_days"
      ],
      "metadata": {
        "colab": {
          "base_uri": "https://localhost:8080/",
          "height": 269
        },
        "id": "SxFVw-ZLdo6v",
        "outputId": "7f6647f2-8ed8-4a36-a859-b9979aca5e96"
      },
      "execution_count": 19,
      "outputs": [
        {
          "output_type": "execute_result",
          "data": {
            "text/plain": [
              "   요일      유저\n",
              "0   0  324026\n",
              "1   1  205978\n",
              "2   2  160562\n",
              "3   3  154381\n",
              "4   4  155481\n",
              "5   5  176910\n",
              "6   6  207279"
            ],
            "text/html": [
              "\n",
              "  <div id=\"df-2be08a0b-cef6-403e-937b-967f67e8b150\">\n",
              "    <div class=\"colab-df-container\">\n",
              "      <div>\n",
              "<style scoped>\n",
              "    .dataframe tbody tr th:only-of-type {\n",
              "        vertical-align: middle;\n",
              "    }\n",
              "\n",
              "    .dataframe tbody tr th {\n",
              "        vertical-align: top;\n",
              "    }\n",
              "\n",
              "    .dataframe thead th {\n",
              "        text-align: right;\n",
              "    }\n",
              "</style>\n",
              "<table border=\"1\" class=\"dataframe\">\n",
              "  <thead>\n",
              "    <tr style=\"text-align: right;\">\n",
              "      <th></th>\n",
              "      <th>요일</th>\n",
              "      <th>유저</th>\n",
              "    </tr>\n",
              "  </thead>\n",
              "  <tbody>\n",
              "    <tr>\n",
              "      <th>0</th>\n",
              "      <td>0</td>\n",
              "      <td>324026</td>\n",
              "    </tr>\n",
              "    <tr>\n",
              "      <th>1</th>\n",
              "      <td>1</td>\n",
              "      <td>205978</td>\n",
              "    </tr>\n",
              "    <tr>\n",
              "      <th>2</th>\n",
              "      <td>2</td>\n",
              "      <td>160562</td>\n",
              "    </tr>\n",
              "    <tr>\n",
              "      <th>3</th>\n",
              "      <td>3</td>\n",
              "      <td>154381</td>\n",
              "    </tr>\n",
              "    <tr>\n",
              "      <th>4</th>\n",
              "      <td>4</td>\n",
              "      <td>155481</td>\n",
              "    </tr>\n",
              "    <tr>\n",
              "      <th>5</th>\n",
              "      <td>5</td>\n",
              "      <td>176910</td>\n",
              "    </tr>\n",
              "    <tr>\n",
              "      <th>6</th>\n",
              "      <td>6</td>\n",
              "      <td>207279</td>\n",
              "    </tr>\n",
              "  </tbody>\n",
              "</table>\n",
              "</div>\n",
              "      <button class=\"colab-df-convert\" onclick=\"convertToInteractive('df-2be08a0b-cef6-403e-937b-967f67e8b150')\"\n",
              "              title=\"Convert this dataframe to an interactive table.\"\n",
              "              style=\"display:none;\">\n",
              "        \n",
              "  <svg xmlns=\"http://www.w3.org/2000/svg\" height=\"24px\"viewBox=\"0 0 24 24\"\n",
              "       width=\"24px\">\n",
              "    <path d=\"M0 0h24v24H0V0z\" fill=\"none\"/>\n",
              "    <path d=\"M18.56 5.44l.94 2.06.94-2.06 2.06-.94-2.06-.94-.94-2.06-.94 2.06-2.06.94zm-11 1L8.5 8.5l.94-2.06 2.06-.94-2.06-.94L8.5 2.5l-.94 2.06-2.06.94zm10 10l.94 2.06.94-2.06 2.06-.94-2.06-.94-.94-2.06-.94 2.06-2.06.94z\"/><path d=\"M17.41 7.96l-1.37-1.37c-.4-.4-.92-.59-1.43-.59-.52 0-1.04.2-1.43.59L10.3 9.45l-7.72 7.72c-.78.78-.78 2.05 0 2.83L4 21.41c.39.39.9.59 1.41.59.51 0 1.02-.2 1.41-.59l7.78-7.78 2.81-2.81c.8-.78.8-2.07 0-2.86zM5.41 20L4 18.59l7.72-7.72 1.47 1.35L5.41 20z\"/>\n",
              "  </svg>\n",
              "      </button>\n",
              "      \n",
              "  <style>\n",
              "    .colab-df-container {\n",
              "      display:flex;\n",
              "      flex-wrap:wrap;\n",
              "      gap: 12px;\n",
              "    }\n",
              "\n",
              "    .colab-df-convert {\n",
              "      background-color: #E8F0FE;\n",
              "      border: none;\n",
              "      border-radius: 50%;\n",
              "      cursor: pointer;\n",
              "      display: none;\n",
              "      fill: #1967D2;\n",
              "      height: 32px;\n",
              "      padding: 0 0 0 0;\n",
              "      width: 32px;\n",
              "    }\n",
              "\n",
              "    .colab-df-convert:hover {\n",
              "      background-color: #E2EBFA;\n",
              "      box-shadow: 0px 1px 2px rgba(60, 64, 67, 0.3), 0px 1px 3px 1px rgba(60, 64, 67, 0.15);\n",
              "      fill: #174EA6;\n",
              "    }\n",
              "\n",
              "    [theme=dark] .colab-df-convert {\n",
              "      background-color: #3B4455;\n",
              "      fill: #D2E3FC;\n",
              "    }\n",
              "\n",
              "    [theme=dark] .colab-df-convert:hover {\n",
              "      background-color: #434B5C;\n",
              "      box-shadow: 0px 1px 3px 1px rgba(0, 0, 0, 0.15);\n",
              "      filter: drop-shadow(0px 1px 2px rgba(0, 0, 0, 0.3));\n",
              "      fill: #FFFFFF;\n",
              "    }\n",
              "  </style>\n",
              "\n",
              "      <script>\n",
              "        const buttonEl =\n",
              "          document.querySelector('#df-2be08a0b-cef6-403e-937b-967f67e8b150 button.colab-df-convert');\n",
              "        buttonEl.style.display =\n",
              "          google.colab.kernel.accessAllowed ? 'block' : 'none';\n",
              "\n",
              "        async function convertToInteractive(key) {\n",
              "          const element = document.querySelector('#df-2be08a0b-cef6-403e-937b-967f67e8b150');\n",
              "          const dataTable =\n",
              "            await google.colab.kernel.invokeFunction('convertToInteractive',\n",
              "                                                     [key], {});\n",
              "          if (!dataTable) return;\n",
              "\n",
              "          const docLinkHtml = 'Like what you see? Visit the ' +\n",
              "            '<a target=\"_blank\" href=https://colab.research.google.com/notebooks/data_table.ipynb>data table notebook</a>'\n",
              "            + ' to learn more about interactive tables.';\n",
              "          element.innerHTML = '';\n",
              "          dataTable['output_type'] = 'display_data';\n",
              "          await google.colab.output.renderOutput(dataTable, element);\n",
              "          const docLink = document.createElement('div');\n",
              "          docLink.innerHTML = docLinkHtml;\n",
              "          element.appendChild(docLink);\n",
              "        }\n",
              "      </script>\n",
              "    </div>\n",
              "  </div>\n",
              "  "
            ]
          },
          "metadata": {},
          "execution_count": 19
        }
      ]
    },
    {
      "cell_type": "code",
      "source": [
        "plt.figure(figsize=(10,8))\n",
        "sns.barplot(data = df_days, x=df_days['요일'],y= df_days['유저'])\n",
        "plt.ylabel('주문량', rotation='horizontal',labelpad=40)\n",
        "plt.xticks(range(7),labels)\n",
        "plt.show();"
      ],
      "metadata": {
        "colab": {
          "base_uri": "https://localhost:8080/",
          "height": 513
        },
        "id": "uQ8Xy-N4doxP",
        "outputId": "2e953460-e361-4bdf-d8af-5797bd1dbaf2"
      },
      "execution_count": 20,
      "outputs": [
        {
          "output_type": "display_data",
          "data": {
            "text/plain": [
              "<Figure size 720x576 with 1 Axes>"
            ],
            "image/png": "[encoded data removed]"
          },
          "metadata": {
            "needs_background": "light"
          }
        }
      ]
    },
    {
      "cell_type": "markdown",
      "source": [
        "**주문요일별 이용시간**"
      ],
      "metadata": {
        "id": "GoYslXdUPVes"
      }
    },
    {
      "cell_type": "code",
      "source": [
        "df_time = df_graph.groupby('요일')['주문시간'].value_counts()\n",
        "heat_time = df_time.unstack()/1000"
      ],
      "metadata": {
        "id": "cKAKxA5EKBiC"
      },
      "execution_count": 21,
      "outputs": []
    },
    {
      "cell_type": "code",
      "source": [
        "plt.figure(figsize=(23,7))\n",
        "\n",
        "sns.heatmap(heat_time, annot=True, linewidths=0.5, fmt = '.2f', cmap='YlGnBu')\n",
        "plt.yticks(y_name, labels, rotation='horizontal')\n",
        "plt.ylabel('요일',rotation='horizontal', labelpad=30, fontsize=20)\n",
        "plt.xlabel('주문시간', labelpad=15, fontsize=20)\n",
        "plt.title('요일별 주문 시간',pad=20)\n",
        "\n",
        "plt.show();"
      ],
      "metadata": {
        "colab": {
          "base_uri": "https://localhost:8080/",
          "height": 512
        },
        "id": "EVYRaOnIJp8p",
        "outputId": "bfe2fe42-d6aa-4af8-cdad-e90419de050c"
      },
      "execution_count": 22,
      "outputs": [
        {
          "output_type": "display_data",
          "data": {
            "text/plain": [
              "<Figure size 1656x504 with 2 Axes>"
            ],
            "image/png": "[encoded data removed]"
          },
          "metadata": {
            "needs_background": "light"
          }
        }
      ]
    },
    {
      "cell_type": "code",
      "source": [
        "# # 피벗 테이블 예시\n",
        "# weekhour_ds = full_data.pivot_table(index='order_dow', columns='order_hour_of_day', values='user_id', aggfunc=lambda x: len(x)/1000).fillna(0)\n",
        "\n",
        "# plt.figure(figsize=(20,10))\n",
        "# sns.heatmap(weekhour_ds, annot=True, linewidths=0.5, fmt = '.2f', cmap='YlGnBu')"
      ],
      "metadata": {
        "id": "OJyjPsMer8G3"
      },
      "execution_count": 23,
      "outputs": []
    },
    {
      "cell_type": "markdown",
      "source": [
        "#### 대분류 분석"
      ],
      "metadata": {
        "id": "ux0tHaSSYlpI"
      }
    },
    {
      "cell_type": "code",
      "source": [
        "# 대분류 순위\n",
        "df_graph['대분류'].value_counts(normalize=True)"
      ],
      "metadata": {
        "id": "F7tLdFsjSrIo",
        "colab": {
          "base_uri": "https://localhost:8080/"
        },
        "outputId": "813977b5-50c4-4607-b97c-544fee948b8c"
      },
      "execution_count": 24,
      "outputs": [
        {
          "output_type": "execute_result",
          "data": {
            "text/plain": [
              "produce            0.295451\n",
              "dairy eggs         0.156759\n",
              "snacks             0.085845\n",
              "beverages          0.082366\n",
              "frozen             0.072530\n",
              "pantry             0.058675\n",
              "bakery             0.034951\n",
              "canned goods       0.033799\n",
              "deli               0.031988\n",
              "dry goods pasta    0.027959\n",
              "household          0.025990\n",
              "meat seafood       0.021888\n",
              "breakfast          0.021306\n",
              "personal care      0.015578\n",
              "babies             0.010791\n",
              "international      0.008596\n",
              "missing            0.005959\n",
              "alcohol            0.004043\n",
              "pets               0.003248\n",
              "other              0.001296\n",
              "bulk               0.000981\n",
              "Name: 대분류, dtype: float64"
            ]
          },
          "metadata": {},
          "execution_count": 24
        }
      ]
    },
    {
      "cell_type": "code",
      "source": [
        "# 대분류 그래프 데이터\n",
        "count_depart = df_graph['대분류'].value_counts()\n",
        "count_depart = count_depart.to_frame()\n",
        "count_depart.reset_index(inplace=True)\n",
        "count_depart.columns = ['대분류','개수']"
      ],
      "metadata": {
        "id": "91w0vEwvd8AD"
      },
      "execution_count": 25,
      "outputs": []
    },
    {
      "cell_type": "code",
      "source": [
        "# 대분류 그래프\n",
        "plt.figure(figsize =(12,8))\n",
        "sns.barplot(data=count_depart[:10],x='대분류',y='개수')\n",
        "plt.ylabel('판매량', rotation='horizontal', labelpad=20)\n",
        "plt.title('대분류 판매순위',pad = 20)\n",
        "plt.show();"
      ],
      "metadata": {
        "id": "VR-mbv8werR8",
        "colab": {
          "base_uri": "https://localhost:8080/",
          "height": 556
        },
        "outputId": "2e4746b9-a806-44d9-9cdb-eaf6880e4036"
      },
      "execution_count": 26,
      "outputs": [
        {
          "output_type": "display_data",
          "data": {
            "text/plain": [
              "<Figure size 864x576 with 1 Axes>"
            ],
            "image/png": "[encoded data removed]"
          },
          "metadata": {
            "needs_background": "light"
          }
        }
      ]
    },
    {
      "cell_type": "code",
      "source": [
        "df_day_depart = df_graph.groupby('요일')['대분류'].value_counts(ascending=False)\n",
        "df_day_depart = df_day_depart.unstack()/1000"
      ],
      "metadata": {
        "id": "cxuImoLGKjgb"
      },
      "execution_count": 27,
      "outputs": []
    },
    {
      "cell_type": "code",
      "source": [
        "plt.figure(figsize=(30,10))\n",
        "sns.heatmap(df_day_depart, annot=True,fmt='.2f',cmap = 'YlGnBu')\n",
        "plt.yticks(y_name, labels, rotation='horizontal')\n",
        "plt.ylabel('요일', rotation='horizontal', labelpad=25)\n",
        "plt.xticks(rotation =45,fontsize=20)\n",
        "plt.title('요일별 대분류 판매비율',pad = 20)\n",
        "# b,t = plt.ylim()\n",
        "# plt.ylim(b+0.5,t-0.5)\n",
        "plt.show()"
      ],
      "metadata": {
        "colab": {
          "base_uri": "https://localhost:8080/",
          "height": 769
        },
        "id": "xFq_sriiKhSQ",
        "outputId": "9a17ec78-c099-4dbf-a5d3-cfee849e74da"
      },
      "execution_count": 28,
      "outputs": [
        {
          "output_type": "display_data",
          "data": {
            "text/plain": [
              "<Figure size 2160x720 with 2 Axes>"
            ],
            "image/png": "[encoded data removed]"
          },
          "metadata": {
            "needs_background": "light"
          }
        }
      ]
    },
    {
      "cell_type": "code",
      "source": [
        "# # 대분류별 주문시간\n",
        "# for i in set(df_graph['대분류']):\n",
        "#     print(f'----------------{i}제품------------------------')\n",
        "#     print(df_graph[df_graph['대분류']==i]['주문시간'].value_counts().to_frame().rank(ascending=False)[:5])"
      ],
      "metadata": {
        "id": "YpQcnNTluqe1"
      },
      "execution_count": 29,
      "outputs": []
    },
    {
      "cell_type": "code",
      "source": [
        "# # 요일별 판매 순위\n",
        "# day_depart = df_graph.groupby('요일')['대분류'].value_counts()\n",
        "# day_depart = day_depart.to_frame()\n",
        "# day_depart.columns=['개수']\n",
        "# # day_depart.unstack() # 멀티인덱스  Series -> Dataframe\n",
        "\n",
        "# for i in range(7):\n",
        "#     print(f'---------{i}요일------------')\n",
        "#     print(day_depart.loc[i])"
      ],
      "metadata": {
        "id": "4Mh4bvr6dbBI"
      },
      "execution_count": 30,
      "outputs": []
    },
    {
      "cell_type": "code",
      "source": [
        "# # 대분류별 제품 순위 -> 대분류별 제품의 특징 찾기\n",
        "# for i in set(df_graph['대분류']):\n",
        "#     print('-------------------------------------------------')\n",
        "#     print(f'----------------{i}제품--------------------')\n",
        "#     print(df_graph[df_graph['대분류']==i]['제품'].value_counts().to_frame())"
      ],
      "metadata": {
        "id": "wBimWnXwVriZ"
      },
      "execution_count": 31,
      "outputs": []
    },
    {
      "cell_type": "code",
      "source": [
        "# # 대분류별 요일 판매량 추이 비교\n",
        "# for i in set(df_graph['대분류']):\n",
        "#     pets_data = df_graph[df_graph['대분류']==i]\n",
        "#     print(f'-----------{i}---------------')\n",
        "#     print(pets_data.groupby('요일')['유저'].count().sort_values(ascending=False))"
      ],
      "metadata": {
        "id": "lernA-R7Zhil"
      },
      "execution_count": 32,
      "outputs": []
    },
    {
      "cell_type": "code",
      "source": [
        "# 대분류별 제품 판매요일 순위\n",
        "# 3, 4, 5요일에 알콜을 많이 판매\n",
        "for i in set(df_graph['대분류']):\n",
        "    print(f'----------------{i}제품------------------------')\n",
        "    print(df_graph[df_graph['대분류']==i]['요일'].value_counts().to_frame().rank(ascending=False))"
      ],
      "metadata": {
        "colab": {
          "base_uri": "https://localhost:8080/"
        },
        "id": "T6nXdv-NfGBy",
        "outputId": "9275633b-cc85-4f5d-949c-aaae9d58eebe"
      },
      "execution_count": 33,
      "outputs": [
        {
          "output_type": "stream",
          "name": "stdout",
          "text": [
            "----------------pets제품------------------------\n",
            "    요일\n",
            "0  1.0\n",
            "6  2.0\n",
            "5  3.0\n",
            "1  4.0\n",
            "3  5.0\n",
            "4  6.0\n",
            "2  7.0\n",
            "----------------dairy eggs제품------------------------\n",
            "    요일\n",
            "0  1.0\n",
            "1  2.0\n",
            "6  3.0\n",
            "5  4.0\n",
            "2  5.0\n",
            "4  6.0\n",
            "3  7.0\n",
            "----------------produce제품------------------------\n",
            "    요일\n",
            "0  1.0\n",
            "1  2.0\n",
            "6  3.0\n",
            "5  4.0\n",
            "2  5.0\n",
            "4  6.0\n",
            "3  7.0\n",
            "----------------babies제품------------------------\n",
            "    요일\n",
            "0  1.0\n",
            "1  2.0\n",
            "6  3.0\n",
            "5  4.0\n",
            "2  5.0\n",
            "3  6.0\n",
            "4  7.0\n",
            "----------------alcohol제품------------------------\n",
            "    요일\n",
            "5  1.0\n",
            "4  2.0\n",
            "3  3.0\n",
            "6  4.0\n",
            "0  5.0\n",
            "2  6.0\n",
            "1  7.0\n",
            "----------------household제품------------------------\n",
            "    요일\n",
            "0  1.0\n",
            "6  2.0\n",
            "1  3.0\n",
            "5  4.0\n",
            "4  5.0\n",
            "2  6.0\n",
            "3  7.0\n",
            "----------------pantry제품------------------------\n",
            "    요일\n",
            "0  1.0\n",
            "6  2.0\n",
            "1  3.0\n",
            "5  4.0\n",
            "4  5.0\n",
            "2  6.0\n",
            "3  7.0\n",
            "----------------bulk제품------------------------\n",
            "    요일\n",
            "0  1.0\n",
            "6  2.0\n",
            "1  3.0\n",
            "5  4.0\n",
            "2  5.0\n",
            "3  6.0\n",
            "4  7.0\n",
            "----------------bakery제품------------------------\n",
            "    요일\n",
            "0  1.0\n",
            "6  2.0\n",
            "1  3.0\n",
            "5  4.0\n",
            "2  5.0\n",
            "4  6.0\n",
            "3  7.0\n",
            "----------------other제품------------------------\n",
            "    요일\n",
            "0  1.0\n",
            "6  2.0\n",
            "1  3.0\n",
            "5  4.0\n",
            "3  5.0\n",
            "2  6.0\n",
            "4  7.0\n",
            "----------------breakfast제품------------------------\n",
            "    요일\n",
            "0  1.0\n",
            "1  2.0\n",
            "6  3.0\n",
            "5  4.0\n",
            "2  5.0\n",
            "3  6.0\n",
            "4  7.0\n",
            "----------------personal care제품------------------------\n",
            "    요일\n",
            "0  1.0\n",
            "6  2.0\n",
            "1  3.0\n",
            "5  4.0\n",
            "2  5.0\n",
            "3  6.0\n",
            "4  7.0\n",
            "----------------international제품------------------------\n",
            "    요일\n",
            "0  1.0\n",
            "6  2.0\n",
            "1  3.0\n",
            "5  4.0\n",
            "3  5.0\n",
            "2  6.0\n",
            "4  7.0\n",
            "----------------canned goods제품------------------------\n",
            "    요일\n",
            "0  1.0\n",
            "6  2.0\n",
            "1  3.0\n",
            "5  4.0\n",
            "2  5.0\n",
            "4  6.0\n",
            "3  7.0\n",
            "----------------frozen제품------------------------\n",
            "    요일\n",
            "0  1.0\n",
            "6  2.0\n",
            "1  3.0\n",
            "5  4.0\n",
            "2  5.0\n",
            "3  6.0\n",
            "4  7.0\n",
            "----------------deli제품------------------------\n",
            "    요일\n",
            "0  1.0\n",
            "1  2.0\n",
            "6  3.0\n",
            "5  4.0\n",
            "2  5.0\n",
            "3  6.0\n",
            "4  7.0\n",
            "----------------beverages제품------------------------\n",
            "    요일\n",
            "0  1.0\n",
            "1  2.0\n",
            "6  3.0\n",
            "5  4.0\n",
            "4  5.0\n",
            "2  6.0\n",
            "3  7.0\n",
            "----------------dry goods pasta제품------------------------\n",
            "    요일\n",
            "0  1.0\n",
            "6  2.0\n",
            "1  3.0\n",
            "5  4.0\n",
            "2  5.0\n",
            "4  6.0\n",
            "3  7.0\n",
            "----------------meat seafood제품------------------------\n",
            "    요일\n",
            "0  1.0\n",
            "6  2.0\n",
            "1  3.0\n",
            "5  4.0\n",
            "2  5.0\n",
            "4  6.0\n",
            "3  7.0\n",
            "----------------snacks제품------------------------\n",
            "    요일\n",
            "0  1.0\n",
            "1  2.0\n",
            "6  3.0\n",
            "5  4.0\n",
            "3  5.0\n",
            "2  6.0\n",
            "4  7.0\n",
            "----------------missing제품------------------------\n",
            "    요일\n",
            "0  1.0\n",
            "6  2.0\n",
            "5  3.0\n",
            "1  4.0\n",
            "3  5.0\n",
            "2  6.0\n",
            "4  7.0\n"
          ]
        }
      ]
    },
    {
      "cell_type": "markdown",
      "source": [
        "**요일별 알콜 판매량**"
      ],
      "metadata": {
        "id": "7wdLEScSQT6m"
      }
    },
    {
      "cell_type": "code",
      "source": [
        "al_data = df_graph[df_graph['대분류']=='alcohol'].groupby('요일')['유저'].count().to_frame().reset_index()\n",
        "\n",
        "plt.figure(figsize=(10,7))\n",
        "sns.barplot(data =al_data, x='요일', y='유저' )\n",
        "plt.ylabel('판매량', rotation='horizontal', labelpad = 25)\n",
        "plt.xticks(range(7),labels)\n",
        "plt.title('알콜 판매량',pad=20)\n",
        "plt.show()"
      ],
      "metadata": {
        "colab": {
          "base_uri": "https://localhost:8080/",
          "height": 501
        },
        "id": "MjCJLTY6ZQrN",
        "outputId": "d5641520-1267-4f24-a336-e63556acf955"
      },
      "execution_count": 34,
      "outputs": [
        {
          "output_type": "display_data",
          "data": {
            "text/plain": [
              "<Figure size 720x504 with 1 Axes>"
            ],
            "image/png": "[encoded data removed]"
          },
          "metadata": {
            "needs_background": "light"
          }
        }
      ]
    },
    {
      "cell_type": "markdown",
      "source": [
        "#### 소분류별 분석"
      ],
      "metadata": {
        "id": "olSkWClwhIWE"
      }
    },
    {
      "cell_type": "code",
      "source": [
        "# 소분류의 비율\n",
        "# 채소와 과일류의 종류가 많음\n",
        "df_graph['소분류'].value_counts(normalize=True)"
      ],
      "metadata": {
        "id": "J-UNcTabSz6d",
        "colab": {
          "base_uri": "https://localhost:8080/"
        },
        "outputId": "e79e5a66-c14c-4bd7-8071-a20333045c5e"
      },
      "execution_count": 35,
      "outputs": [
        {
          "output_type": "execute_result",
          "data": {
            "text/plain": [
              "fresh vegetables              0.108773\n",
              "fresh fruits                  0.108675\n",
              "packaged vegetables fruits    0.056689\n",
              "yogurt                        0.039896\n",
              "packaged cheese               0.030116\n",
              "                                ...   \n",
              "kitchen supplies              0.000324\n",
              "baby bath body care           0.000237\n",
              "baby accessories              0.000221\n",
              "frozen juice                  0.000212\n",
              "beauty                        0.000207\n",
              "Name: 소분류, Length: 134, dtype: float64"
            ]
          },
          "metadata": {},
          "execution_count": 35
        }
      ]
    },
    {
      "cell_type": "code",
      "source": [
        "# 요일별 많이 팔리는 소분류(top10) - 식료품(월요일0 - 일요일6)\n",
        "day_aisles = df_graph.groupby('요일')['소분류'].value_counts()\n",
        "day_aisles = day_aisles.to_frame()\n",
        "day_aisles.columns = ['개수']\n",
        "\n",
        "for i in range(7):\n",
        "    print(f'{i}')\n",
        "    print(day_aisles.loc[i][:10])\n",
        "    print('------------------------------------')"
      ],
      "metadata": {
        "id": "dU3mjekPcOFF",
        "colab": {
          "base_uri": "https://localhost:8080/"
        },
        "outputId": "cbd4cc27-16c1-4d73-f137-933253b3fd13"
      },
      "execution_count": 36,
      "outputs": [
        {
          "output_type": "stream",
          "name": "stdout",
          "text": [
            "0\n",
            "                                  개수\n",
            "소분류                                 \n",
            "fresh vegetables               39998\n",
            "fresh fruits                   37086\n",
            "packaged vegetables fruits     20244\n",
            "yogurt                         13398\n",
            "packaged cheese                 9953\n",
            "milk                            7330\n",
            "water seltzer sparkling water   7258\n",
            "chips pretzels                  6521\n",
            "soy lactosefree                 6072\n",
            "frozen produce                  5548\n",
            "------------------------------------\n",
            "1\n",
            "                                  개수\n",
            "소분류                                 \n",
            "fresh fruits                   23013\n",
            "fresh vegetables               22579\n",
            "packaged vegetables fruits     11949\n",
            "yogurt                          8684\n",
            "packaged cheese                 6194\n",
            "water seltzer sparkling water   5816\n",
            "milk                            4959\n",
            "chips pretzels                  4650\n",
            "soy lactosefree                 3891\n",
            "bread                           3519\n",
            "------------------------------------\n",
            "2\n",
            "                                  개수\n",
            "소분류                                 \n",
            "fresh fruits                   17081\n",
            "fresh vegetables               16646\n",
            "packaged vegetables fruits      8871\n",
            "yogurt                          6416\n",
            "packaged cheese                 4697\n",
            "water seltzer sparkling water   4451\n",
            "milk                            3751\n",
            "chips pretzels                  3642\n",
            "soy lactosefree                 3068\n",
            "refrigerated                    2796\n",
            "------------------------------------\n",
            "3\n",
            "                                  개수\n",
            "소분류                                 \n",
            "fresh fruits                   16197\n",
            "fresh vegetables               15084\n",
            "packaged vegetables fruits      8165\n",
            "yogurt                          6080\n",
            "packaged cheese                 4477\n",
            "water seltzer sparkling water   4444\n",
            "chips pretzels                  3754\n",
            "milk                            3732\n",
            "soy lactosefree                 2917\n",
            "refrigerated                    2646\n",
            "------------------------------------\n",
            "4\n",
            "                                  개수\n",
            "소분류                                 \n",
            "fresh fruits                   16328\n",
            "fresh vegetables               15340\n",
            "packaged vegetables fruits      8167\n",
            "yogurt                          6061\n",
            "packaged cheese                 4648\n",
            "water seltzer sparkling water   4522\n",
            "milk                            3911\n",
            "chips pretzels                  3776\n",
            "soy lactosefree                 2969\n",
            "refrigerated                    2833\n",
            "------------------------------------\n",
            "5\n",
            "                                  개수\n",
            "소분류                                 \n",
            "fresh fruits                   18915\n",
            "fresh vegetables               17483\n",
            "packaged vegetables fruits      9366\n",
            "yogurt                          6958\n",
            "packaged cheese                 5416\n",
            "water seltzer sparkling water   5139\n",
            "chips pretzels                  4357\n",
            "milk                            4307\n",
            "soy lactosefree                 3348\n",
            "ice cream ice                   3220\n",
            "------------------------------------\n",
            "6\n",
            "                                  개수\n",
            "소분류                                 \n",
            "fresh vegetables               23479\n",
            "fresh fruits                   21853\n",
            "packaged vegetables fruits     11731\n",
            "yogurt                          7643\n",
            "packaged cheese                 6314\n",
            "water seltzer sparkling water   4987\n",
            "milk                            4654\n",
            "chips pretzels                  4569\n",
            "ice cream ice                   3997\n",
            "soy lactosefree                 3975\n",
            "------------------------------------\n"
          ]
        }
      ]
    },
    {
      "cell_type": "code",
      "source": [
        "# beers coolers 가 5,4,3요일에 많이 팔림 => 대분류 확인내용\n",
        "for i in set(df_graph['소분류']):\n",
        "    if df_graph[df_graph['소분류']==i]['요일'].value_counts().index[0] != [0]:\n",
        "        print(f'------------소분류 : {i}----------')\n",
        "        print(df_graph[df_graph['소분류']==i]['요일'].value_counts())"
      ],
      "metadata": {
        "colab": {
          "base_uri": "https://localhost:8080/"
        },
        "id": "v0ftwTOli4Er",
        "outputId": "d54bea5e-a6c5-46d7-f71d-2198b88c8a48"
      },
      "execution_count": 37,
      "outputs": [
        {
          "output_type": "stream",
          "name": "stdout",
          "text": [
            "------------소분류 : beers coolers----------\n",
            "5    380\n",
            "4    372\n",
            "3    271\n",
            "2    243\n",
            "1    204\n",
            "0    190\n",
            "6    179\n",
            "Name: 요일, dtype: int64\n",
            "------------소분류 : cold flu allergy----------\n",
            "1    227\n",
            "0    216\n",
            "6    202\n",
            "2    198\n",
            "3    182\n",
            "5    175\n",
            "4    146\n",
            "Name: 요일, dtype: int64\n",
            "------------소분류 : spirits----------\n",
            "5    179\n",
            "4    159\n",
            "6    152\n",
            "0    143\n",
            "3    126\n",
            "1    105\n",
            "2    103\n",
            "Name: 요일, dtype: int64\n",
            "------------소분류 : trail mix snack mix----------\n",
            "1    275\n",
            "0    219\n",
            "3    216\n",
            "4    207\n",
            "2    206\n",
            "5    191\n",
            "6    149\n",
            "Name: 요일, dtype: int64\n",
            "------------소분류 : white wines----------\n",
            "5    191\n",
            "6    186\n",
            "0    162\n",
            "3    159\n",
            "4    155\n",
            "2    120\n",
            "1    115\n",
            "Name: 요일, dtype: int64\n",
            "------------소분류 : specialty wines champagnes----------\n",
            "6    83\n",
            "4    80\n",
            "5    77\n",
            "3    77\n",
            "0    53\n",
            "2    51\n",
            "1    40\n",
            "Name: 요일, dtype: int64\n",
            "------------소분류 : mint gum----------\n",
            "5    153\n",
            "1    152\n",
            "3    149\n",
            "2    144\n",
            "0    136\n",
            "4    125\n",
            "6    103\n",
            "Name: 요일, dtype: int64\n",
            "------------소분류 : first aid----------\n",
            "6    95\n",
            "0    93\n",
            "2    77\n",
            "1    75\n",
            "3    69\n",
            "4    66\n",
            "5    64\n",
            "Name: 요일, dtype: int64\n",
            "------------소분류 : kosher foods----------\n",
            "1    118\n",
            "0    104\n",
            "3     92\n",
            "4     84\n",
            "6     82\n",
            "5     77\n",
            "2     71\n",
            "Name: 요일, dtype: int64\n",
            "------------소분류 : red wines----------\n",
            "5    209\n",
            "3    201\n",
            "4    192\n",
            "6    165\n",
            "0    165\n",
            "2    160\n",
            "1    151\n",
            "Name: 요일, dtype: int64\n"
          ]
        }
      ]
    },
    {
      "cell_type": "markdown",
      "source": [
        "#### 제품별 분석"
      ],
      "metadata": {
        "id": "TW-AdieUgynq"
      }
    },
    {
      "cell_type": "code",
      "source": [
        "# 가장 잘팔리는 top10\n",
        "product_count = df_graph['제품'].value_counts()\n",
        "top_10 = product_count[:10].to_frame().reset_index()\n",
        "top_10.rename(columns={'index':'제품명'},inplace=True)\n",
        "top_10\n",
        "\n",
        "# 같은데 다른 방법\n",
        "# df_top10 = df_graph.groupby('제품').count()[['유저']].sort_values(by='유저',ascending=False)[:10].reset_index()\n",
        "# df_top10"
      ],
      "metadata": {
        "id": "hESwpYLmR6vJ",
        "colab": {
          "base_uri": "https://localhost:8080/",
          "height": 363
        },
        "outputId": "1dea84d9-50f3-4a6a-cd3a-be010fee6510"
      },
      "execution_count": 38,
      "outputs": [
        {
          "output_type": "execute_result",
          "data": {
            "text/plain": [
              "                      제품명     제품\n",
              "0                  Banana  18726\n",
              "1  Bag of Organic Bananas  15480\n",
              "2    Organic Strawberries  10894\n",
              "3    Organic Baby Spinach   9784\n",
              "4             Large Lemon   8135\n",
              "5         Organic Avocado   7409\n",
              "6    Organic Hass Avocado   7293\n",
              "7            Strawberries   6494\n",
              "8                   Limes   6033\n",
              "9     Organic Raspberries   5546"
            ],
            "text/html": [
              "\n",
              "  <div id=\"df-ffff854d-b238-4fe0-b469-c0dd97340143\">\n",
              "    <div class=\"colab-df-container\">\n",
              "      <div>\n",
              "<style scoped>\n",
              "    .dataframe tbody tr th:only-of-type {\n",
              "        vertical-align: middle;\n",
              "    }\n",
              "\n",
              "    .dataframe tbody tr th {\n",
              "        vertical-align: top;\n",
              "    }\n",
              "\n",
              "    .dataframe thead th {\n",
              "        text-align: right;\n",
              "    }\n",
              "</style>\n",
              "<table border=\"1\" class=\"dataframe\">\n",
              "  <thead>\n",
              "    <tr style=\"text-align: right;\">\n",
              "      <th></th>\n",
              "      <th>제품명</th>\n",
              "      <th>제품</th>\n",
              "    </tr>\n",
              "  </thead>\n",
              "  <tbody>\n",
              "    <tr>\n",
              "      <th>0</th>\n",
              "      <td>Banana</td>\n",
              "      <td>18726</td>\n",
              "    </tr>\n",
              "    <tr>\n",
              "      <th>1</th>\n",
              "      <td>Bag of Organic Bananas</td>\n",
              "      <td>15480</td>\n",
              "    </tr>\n",
              "    <tr>\n",
              "      <th>2</th>\n",
              "      <td>Organic Strawberries</td>\n",
              "      <td>10894</td>\n",
              "    </tr>\n",
              "    <tr>\n",
              "      <th>3</th>\n",
              "      <td>Organic Baby Spinach</td>\n",
              "      <td>9784</td>\n",
              "    </tr>\n",
              "    <tr>\n",
              "      <th>4</th>\n",
              "      <td>Large Lemon</td>\n",
              "      <td>8135</td>\n",
              "    </tr>\n",
              "    <tr>\n",
              "      <th>5</th>\n",
              "      <td>Organic Avocado</td>\n",
              "      <td>7409</td>\n",
              "    </tr>\n",
              "    <tr>\n",
              "      <th>6</th>\n",
              "      <td>Organic Hass Avocado</td>\n",
              "      <td>7293</td>\n",
              "    </tr>\n",
              "    <tr>\n",
              "      <th>7</th>\n",
              "      <td>Strawberries</td>\n",
              "      <td>6494</td>\n",
              "    </tr>\n",
              "    <tr>\n",
              "      <th>8</th>\n",
              "      <td>Limes</td>\n",
              "      <td>6033</td>\n",
              "    </tr>\n",
              "    <tr>\n",
              "      <th>9</th>\n",
              "      <td>Organic Raspberries</td>\n",
              "      <td>5546</td>\n",
              "    </tr>\n",
              "  </tbody>\n",
              "</table>\n",
              "</div>\n",
              "      <button class=\"colab-df-convert\" onclick=\"convertToInteractive('df-ffff854d-b238-4fe0-b469-c0dd97340143')\"\n",
              "              title=\"Convert this dataframe to an interactive table.\"\n",
              "              style=\"display:none;\">\n",
              "        \n",
              "  <svg xmlns=\"http://www.w3.org/2000/svg\" height=\"24px\"viewBox=\"0 0 24 24\"\n",
              "       width=\"24px\">\n",
              "    <path d=\"M0 0h24v24H0V0z\" fill=\"none\"/>\n",
              "    <path d=\"M18.56 5.44l.94 2.06.94-2.06 2.06-.94-2.06-.94-.94-2.06-.94 2.06-2.06.94zm-11 1L8.5 8.5l.94-2.06 2.06-.94-2.06-.94L8.5 2.5l-.94 2.06-2.06.94zm10 10l.94 2.06.94-2.06 2.06-.94-2.06-.94-.94-2.06-.94 2.06-2.06.94z\"/><path d=\"M17.41 7.96l-1.37-1.37c-.4-.4-.92-.59-1.43-.59-.52 0-1.04.2-1.43.59L10.3 9.45l-7.72 7.72c-.78.78-.78 2.05 0 2.83L4 21.41c.39.39.9.59 1.41.59.51 0 1.02-.2 1.41-.59l7.78-7.78 2.81-2.81c.8-.78.8-2.07 0-2.86zM5.41 20L4 18.59l7.72-7.72 1.47 1.35L5.41 20z\"/>\n",
              "  </svg>\n",
              "      </button>\n",
              "      \n",
              "  <style>\n",
              "    .colab-df-container {\n",
              "      display:flex;\n",
              "      flex-wrap:wrap;\n",
              "      gap: 12px;\n",
              "    }\n",
              "\n",
              "    .colab-df-convert {\n",
              "      background-color: #E8F0FE;\n",
              "      border: none;\n",
              "      border-radius: 50%;\n",
              "      cursor: pointer;\n",
              "      display: none;\n",
              "      fill: #1967D2;\n",
              "      height: 32px;\n",
              "      padding: 0 0 0 0;\n",
              "      width: 32px;\n",
              "    }\n",
              "\n",
              "    .colab-df-convert:hover {\n",
              "      background-color: #E2EBFA;\n",
              "      box-shadow: 0px 1px 2px rgba(60, 64, 67, 0.3), 0px 1px 3px 1px rgba(60, 64, 67, 0.15);\n",
              "      fill: #174EA6;\n",
              "    }\n",
              "\n",
              "    [theme=dark] .colab-df-convert {\n",
              "      background-color: #3B4455;\n",
              "      fill: #D2E3FC;\n",
              "    }\n",
              "\n",
              "    [theme=dark] .colab-df-convert:hover {\n",
              "      background-color: #434B5C;\n",
              "      box-shadow: 0px 1px 3px 1px rgba(0, 0, 0, 0.15);\n",
              "      filter: drop-shadow(0px 1px 2px rgba(0, 0, 0, 0.3));\n",
              "      fill: #FFFFFF;\n",
              "    }\n",
              "  </style>\n",
              "\n",
              "      <script>\n",
              "        const buttonEl =\n",
              "          document.querySelector('#df-ffff854d-b238-4fe0-b469-c0dd97340143 button.colab-df-convert');\n",
              "        buttonEl.style.display =\n",
              "          google.colab.kernel.accessAllowed ? 'block' : 'none';\n",
              "\n",
              "        async function convertToInteractive(key) {\n",
              "          const element = document.querySelector('#df-ffff854d-b238-4fe0-b469-c0dd97340143');\n",
              "          const dataTable =\n",
              "            await google.colab.kernel.invokeFunction('convertToInteractive',\n",
              "                                                     [key], {});\n",
              "          if (!dataTable) return;\n",
              "\n",
              "          const docLinkHtml = 'Like what you see? Visit the ' +\n",
              "            '<a target=\"_blank\" href=https://colab.research.google.com/notebooks/data_table.ipynb>data table notebook</a>'\n",
              "            + ' to learn more about interactive tables.';\n",
              "          element.innerHTML = '';\n",
              "          dataTable['output_type'] = 'display_data';\n",
              "          await google.colab.output.renderOutput(dataTable, element);\n",
              "          const docLink = document.createElement('div');\n",
              "          docLink.innerHTML = docLinkHtml;\n",
              "          element.appendChild(docLink);\n",
              "        }\n",
              "      </script>\n",
              "    </div>\n",
              "  </div>\n",
              "  "
            ]
          },
          "metadata": {},
          "execution_count": 38
        }
      ]
    },
    {
      "cell_type": "markdown",
      "source": [
        "**가장 많이 팔리는 제품**"
      ],
      "metadata": {
        "id": "z-OjRQpwQbEa"
      }
    },
    {
      "cell_type": "code",
      "source": [
        "plt.figure(figsize=(14,7))\n",
        "sns.barplot(data = top_10, x='제품명',y='제품')\n",
        "plt.xticks(rotation=45)\n",
        "plt.ylabel('판매량', rotation='horizontal',labelpad=30)\n",
        "plt.title('제품 판매량 Top10', pad = 20)\n",
        "plt.show()"
      ],
      "metadata": {
        "id": "fZxi4MzAS_IF",
        "colab": {
          "base_uri": "https://localhost:8080/",
          "height": 605
        },
        "outputId": "bc8af7c9-ba4e-4914-e709-741fa9ef720c"
      },
      "execution_count": 39,
      "outputs": [
        {
          "output_type": "display_data",
          "data": {
            "text/plain": [
              "<Figure size 1008x504 with 1 Axes>"
            ],
            "image/png": "[encoded data removed]"
          },
          "metadata": {
            "needs_background": "light"
          }
        }
      ]
    },
    {
      "cell_type": "code",
      "source": [
        "# 판매량이 높은 제품이 재주문률도 높을까?\n",
        "\n",
        "df_reorder = df_graph.groupby(['제품','재주문']).count()[['유저']] # df_reorder = df_graph.groupby(['제품','재주문']).agg({'유저':len})\n",
        "df_reorder = df_reorder.reset_index().pivot(index='제품', columns='재주문', values='유저').fillna(0)\n",
        "df_reorder['재주문비율'] = df_reorder[1] / df_reorder.sum(axis=1) # axis=1은 0, 1 더하기\n",
        "df_reorder.sort_values(by='재주문비율',inplace=True)\n",
        "\n",
        "df_reorder.loc[list(top_10['제품명'])][['재주문비율']].plot(kind='line',figsize=(20,8),marker='o')\n",
        "plt.xticks(range(len(top_10)),list(top_10['제품명']),fontsize = 14,rotation=45)\n",
        "plt.ylabel('재주문율',rotation='horizontal',labelpad=60)\n",
        "plt.title(f\"판매량 Top 10의 재주문률(avg={round(np.mean(df_reorder['재주문비율']),2)*100}%) \",pad = 20)\n",
        "plt.show()"
      ],
      "metadata": {
        "colab": {
          "base_uri": "https://localhost:8080/",
          "height": 660
        },
        "id": "5k2N5KcxL-16",
        "outputId": "80953169-2f58-43b7-989e-b64ff244b156"
      },
      "execution_count": 40,
      "outputs": [
        {
          "output_type": "display_data",
          "data": {
            "text/plain": [
              "<Figure size 1440x576 with 1 Axes>"
            ],
            "image/png": "[encoded data removed]"
          },
          "metadata": {
            "needs_background": "light"
          }
        }
      ]
    },
    {
      "cell_type": "markdown",
      "source": [
        "#### 누적주문이 높은 사람의 주문량"
      ],
      "metadata": {
        "id": "mlm5KbR5fNDg"
      }
    },
    {
      "cell_type": "code",
      "source": [
        "df_max = df_graph.groupby('유저',as_index=False)[['누적주문']].max()\n",
        "df_count = df_graph.groupby('유저',as_index=False)[['주문번호']].count()\n",
        "\n",
        "# df_pivot = pd.concat([df_max,df_count],join='inner',axis=1)\n",
        "df_pivot = df_max.merge(df_count, how='left',on='유저')\n",
        "df_pivot.rename(columns={'주문번호':'주문량'},inplace =True)\n",
        "df_pivot"
      ],
      "metadata": {
        "id": "eqAeRTqLNj4u",
        "colab": {
          "base_uri": "https://localhost:8080/",
          "height": 424
        },
        "outputId": "8d72e829-7282-4eeb-a274-a04e1d92f2bd"
      },
      "execution_count": 41,
      "outputs": [
        {
          "output_type": "execute_result",
          "data": {
            "text/plain": [
              "            유저  누적주문  주문량\n",
              "0            1    11   11\n",
              "1            2    15   31\n",
              "2            5     5    9\n",
              "3            7    21    9\n",
              "4            8     4   18\n",
              "...        ...   ...  ...\n",
              "131204  206199    20   22\n",
              "131205  206200    24   19\n",
              "131206  206203     6   13\n",
              "131207  206205     4   19\n",
              "131208  206209    14    8\n",
              "\n",
              "[131209 rows x 3 columns]"
            ],
            "text/html": [
              "\n",
              "  <div id=\"df-955de7e4-f60a-4606-a6bc-374a837e72cf\">\n",
              "    <div class=\"colab-df-container\">\n",
              "      <div>\n",
              "<style scoped>\n",
              "    .dataframe tbody tr th:only-of-type {\n",
              "        vertical-align: middle;\n",
              "    }\n",
              "\n",
              "    .dataframe tbody tr th {\n",
              "        vertical-align: top;\n",
              "    }\n",
              "\n",
              "    .dataframe thead th {\n",
              "        text-align: right;\n",
              "    }\n",
              "</style>\n",
              "<table border=\"1\" class=\"dataframe\">\n",
              "  <thead>\n",
              "    <tr style=\"text-align: right;\">\n",
              "      <th></th>\n",
              "      <th>유저</th>\n",
              "      <th>누적주문</th>\n",
              "      <th>주문량</th>\n",
              "    </tr>\n",
              "  </thead>\n",
              "  <tbody>\n",
              "    <tr>\n",
              "      <th>0</th>\n",
              "      <td>1</td>\n",
              "      <td>11</td>\n",
              "      <td>11</td>\n",
              "    </tr>\n",
              "    <tr>\n",
              "      <th>1</th>\n",
              "      <td>2</td>\n",
              "      <td>15</td>\n",
              "      <td>31</td>\n",
              "    </tr>\n",
              "    <tr>\n",
              "      <th>2</th>\n",
              "      <td>5</td>\n",
              "      <td>5</td>\n",
              "      <td>9</td>\n",
              "    </tr>\n",
              "    <tr>\n",
              "      <th>3</th>\n",
              "      <td>7</td>\n",
              "      <td>21</td>\n",
              "      <td>9</td>\n",
              "    </tr>\n",
              "    <tr>\n",
              "      <th>4</th>\n",
              "      <td>8</td>\n",
              "      <td>4</td>\n",
              "      <td>18</td>\n",
              "    </tr>\n",
              "    <tr>\n",
              "      <th>...</th>\n",
              "      <td>...</td>\n",
              "      <td>...</td>\n",
              "      <td>...</td>\n",
              "    </tr>\n",
              "    <tr>\n",
              "      <th>131204</th>\n",
              "      <td>206199</td>\n",
              "      <td>20</td>\n",
              "      <td>22</td>\n",
              "    </tr>\n",
              "    <tr>\n",
              "      <th>131205</th>\n",
              "      <td>206200</td>\n",
              "      <td>24</td>\n",
              "      <td>19</td>\n",
              "    </tr>\n",
              "    <tr>\n",
              "      <th>131206</th>\n",
              "      <td>206203</td>\n",
              "      <td>6</td>\n",
              "      <td>13</td>\n",
              "    </tr>\n",
              "    <tr>\n",
              "      <th>131207</th>\n",
              "      <td>206205</td>\n",
              "      <td>4</td>\n",
              "      <td>19</td>\n",
              "    </tr>\n",
              "    <tr>\n",
              "      <th>131208</th>\n",
              "      <td>206209</td>\n",
              "      <td>14</td>\n",
              "      <td>8</td>\n",
              "    </tr>\n",
              "  </tbody>\n",
              "</table>\n",
              "<p>131209 rows × 3 columns</p>\n",
              "</div>\n",
              "      <button class=\"colab-df-convert\" onclick=\"convertToInteractive('df-955de7e4-f60a-4606-a6bc-374a837e72cf')\"\n",
              "              title=\"Convert this dataframe to an interactive table.\"\n",
              "              style=\"display:none;\">\n",
              "        \n",
              "  <svg xmlns=\"http://www.w3.org/2000/svg\" height=\"24px\"viewBox=\"0 0 24 24\"\n",
              "       width=\"24px\">\n",
              "    <path d=\"M0 0h24v24H0V0z\" fill=\"none\"/>\n",
              "    <path d=\"M18.56 5.44l.94 2.06.94-2.06 2.06-.94-2.06-.94-.94-2.06-.94 2.06-2.06.94zm-11 1L8.5 8.5l.94-2.06 2.06-.94-2.06-.94L8.5 2.5l-.94 2.06-2.06.94zm10 10l.94 2.06.94-2.06 2.06-.94-2.06-.94-.94-2.06-.94 2.06-2.06.94z\"/><path d=\"M17.41 7.96l-1.37-1.37c-.4-.4-.92-.59-1.43-.59-.52 0-1.04.2-1.43.59L10.3 9.45l-7.72 7.72c-.78.78-.78 2.05 0 2.83L4 21.41c.39.39.9.59 1.41.59.51 0 1.02-.2 1.41-.59l7.78-7.78 2.81-2.81c.8-.78.8-2.07 0-2.86zM5.41 20L4 18.59l7.72-7.72 1.47 1.35L5.41 20z\"/>\n",
              "  </svg>\n",
              "      </button>\n",
              "      \n",
              "  <style>\n",
              "    .colab-df-container {\n",
              "      display:flex;\n",
              "      flex-wrap:wrap;\n",
              "      gap: 12px;\n",
              "    }\n",
              "\n",
              "    .colab-df-convert {\n",
              "      background-color: #E8F0FE;\n",
              "      border: none;\n",
              "      border-radius: 50%;\n",
              "      cursor: pointer;\n",
              "      display: none;\n",
              "      fill: #1967D2;\n",
              "      height: 32px;\n",
              "      padding: 0 0 0 0;\n",
              "      width: 32px;\n",
              "    }\n",
              "\n",
              "    .colab-df-convert:hover {\n",
              "      background-color: #E2EBFA;\n",
              "      box-shadow: 0px 1px 2px rgba(60, 64, 67, 0.3), 0px 1px 3px 1px rgba(60, 64, 67, 0.15);\n",
              "      fill: #174EA6;\n",
              "    }\n",
              "\n",
              "    [theme=dark] .colab-df-convert {\n",
              "      background-color: #3B4455;\n",
              "      fill: #D2E3FC;\n",
              "    }\n",
              "\n",
              "    [theme=dark] .colab-df-convert:hover {\n",
              "      background-color: #434B5C;\n",
              "      box-shadow: 0px 1px 3px 1px rgba(0, 0, 0, 0.15);\n",
              "      filter: drop-shadow(0px 1px 2px rgba(0, 0, 0, 0.3));\n",
              "      fill: #FFFFFF;\n",
              "    }\n",
              "  </style>\n",
              "\n",
              "      <script>\n",
              "        const buttonEl =\n",
              "          document.querySelector('#df-955de7e4-f60a-4606-a6bc-374a837e72cf button.colab-df-convert');\n",
              "        buttonEl.style.display =\n",
              "          google.colab.kernel.accessAllowed ? 'block' : 'none';\n",
              "\n",
              "        async function convertToInteractive(key) {\n",
              "          const element = document.querySelector('#df-955de7e4-f60a-4606-a6bc-374a837e72cf');\n",
              "          const dataTable =\n",
              "            await google.colab.kernel.invokeFunction('convertToInteractive',\n",
              "                                                     [key], {});\n",
              "          if (!dataTable) return;\n",
              "\n",
              "          const docLinkHtml = 'Like what you see? Visit the ' +\n",
              "            '<a target=\"_blank\" href=https://colab.research.google.com/notebooks/data_table.ipynb>data table notebook</a>'\n",
              "            + ' to learn more about interactive tables.';\n",
              "          element.innerHTML = '';\n",
              "          dataTable['output_type'] = 'display_data';\n",
              "          await google.colab.output.renderOutput(dataTable, element);\n",
              "          const docLink = document.createElement('div');\n",
              "          docLink.innerHTML = docLinkHtml;\n",
              "          element.appendChild(docLink);\n",
              "        }\n",
              "      </script>\n",
              "    </div>\n",
              "  </div>\n",
              "  "
            ]
          },
          "metadata": {},
          "execution_count": 41
        }
      ]
    },
    {
      "cell_type": "code",
      "source": [
        "max_length = df_pivot.주문량.max()\n",
        "\n",
        "plt.figure(figsize=(8,6))\n",
        "plt.scatter(df_pivot.누적주문,\n",
        "            df_pivot.주문량,\n",
        "            alpha=0.5,\n",
        "            s=df_pivot.주문량*10,\n",
        "            c = df_pivot.주문량,\n",
        "            cmap='viridis')\n",
        "plt.ylabel('1회 주문량', rotation='horizontal', labelpad=40,fontsize=20)\n",
        "plt.xlabel('누적주문 수',labelpad=30, fontsize=25)\n",
        "plt.colorbar()\n",
        "plt.clim(0, max_length)\n",
        "plt.show();"
      ],
      "metadata": {
        "colab": {
          "base_uri": "https://localhost:8080/",
          "height": 434
        },
        "id": "RTm16EPRmTUq",
        "outputId": "706b5c21-2823-4f2b-f2f5-b60726856548"
      },
      "execution_count": 79,
      "outputs": [
        {
          "output_type": "display_data",
          "data": {
            "text/plain": [
              "<Figure size 576x432 with 2 Axes>"
            ],
            "image/png": "[encoded data removed]"
          },
          "metadata": {}
        }
      ]
    },
    {
      "cell_type": "code",
      "source": [
        "# plt.figure(figsize=(13,13))\n",
        "# sns.scatterplot(data = df_pivot, x= '누적주문', y = '주문량',)\n",
        "# plt.ylabel('주문량', rotation='horizontal', labelpad=30)\n",
        "# plt.show();"
      ],
      "metadata": {
        "id": "s82Hwbg1Z5eH"
      },
      "execution_count": 44,
      "outputs": []
    },
    {
      "cell_type": "markdown",
      "source": [
        "### 연관규칙분석(Association Rule)"
      ],
      "metadata": {
        "id": "RfGMweD5XJ90"
      }
    },
    {
      "cell_type": "code",
      "source": [
        "# 주문번호 별 주문 리스트 나누기(한 번 주문 할 때 어떤 물건을 같이 사는지 확인하기 위해서)\n",
        "\n",
        "# 연관규칙분석을 위해 요소 비교를 하는 과정에서 시간이 오래걸려서 리스트 대신 array를 사용하였다.\n",
        "# 하나의 iterator 요소간 비교에서 zip 함수를 사용 할 수 있었다.\n",
        "# 마지막 열은 record에 append 되지 않는 점을 확인하여 if문을 하나 더 추가하여 마지막 열 추가\n",
        "\n",
        "df_array = df_graph.values # 전체 데이터를 array화 하여 계산속도 증가\n",
        "\n",
        "record = [] # 주문번호 별 주문내역리스트\n",
        "record2 =[] # 한 주문에 포함 된 내역\n",
        "\n",
        "for p1, p2 in zip(df_array, df_array[1:]): # 0과1 1과2 ... 비교하도록 for문 \n",
        "\n",
        "    if p1[0]==p2[0]:              # 주문번호가 같으면 record2에 추가\n",
        "        record2.append(p1[2])\n",
        "\n",
        "        if p1[2]==df_array[-2][2]: # 전체데이터의 마지막열에 도달하면 마지막 주문내역 record에 추가\n",
        "            record2.append(p2[2])\n",
        "            record.append(record2)\n",
        "  \n",
        "    else:\n",
        "        record2.append(p1[2])    # 주문번호가 다르면 해당 주문의 마지막 물건이다. 주문번호 마지막 목록을 record2에 추가하고\n",
        "        record.append(record2)   # 해당 주문을 그룹화한 record2를 record에 추가하고\n",
        "        record2 = []             # record2를 초기화"
      ],
      "metadata": {
        "id": "1JdMjJ0IKkjf"
      },
      "execution_count": 45,
      "outputs": []
    },
    {
      "cell_type": "code",
      "source": [
        "# 같은 주문번호끼리 list\n",
        "record[0]"
      ],
      "metadata": {
        "colab": {
          "base_uri": "https://localhost:8080/"
        },
        "id": "QQyZOVhBOshv",
        "outputId": "e2091164-59ed-4e34-bd85-3a0c21889969"
      },
      "execution_count": 46,
      "outputs": [
        {
          "output_type": "execute_result",
          "data": {
            "text/plain": [
              "['Bulgarian Yogurt',\n",
              " 'Lightly Smoked Sardines in Olive Oil',\n",
              " 'Organic Celery Hearts',\n",
              " 'Organic Whole String Cheese',\n",
              " 'Organic Hass Avocado',\n",
              " 'Bag of Organic Bananas',\n",
              " 'Organic 4% Milk Fat Whole Milk Cottage Cheese',\n",
              " 'Cucumber Kirby']"
            ]
          },
          "metadata": {},
          "execution_count": 46
        }
      ]
    },
    {
      "cell_type": "code",
      "source": [
        "# 위에 record 확인용\n",
        "df_graph.head(10)"
      ],
      "metadata": {
        "colab": {
          "base_uri": "https://localhost:8080/",
          "height": 363
        },
        "id": "w7oOACnOMQUH",
        "outputId": "91f1df9d-c834-40b1-a6e5-5a3391ed5efa"
      },
      "execution_count": 47,
      "outputs": [
        {
          "output_type": "execute_result",
          "data": {
            "text/plain": [
              "   주문번호      유저                                             제품  \\\n",
              "0     1  112108                               Bulgarian Yogurt   \n",
              "1     1  112108           Lightly Smoked Sardines in Olive Oil   \n",
              "2     1  112108                          Organic Celery Hearts   \n",
              "3     1  112108                    Organic Whole String Cheese   \n",
              "4     1  112108                           Organic Hass Avocado   \n",
              "5     1  112108                         Bag of Organic Bananas   \n",
              "6     1  112108  Organic 4% Milk Fat Whole Milk Cottage Cheese   \n",
              "7     1  112108                                 Cucumber Kirby   \n",
              "8    36   79431                                      Asparagus   \n",
              "9    36   79431                  Grated Pecorino Romano Cheese   \n",
              "\n",
              "                    소분류           대분류  누적주문  재주문  요일   주문텀  주문시간  \n",
              "0                yogurt    dairy eggs     4    1   4   9.0    10  \n",
              "1   canned meat seafood  canned goods     4    1   4   9.0    10  \n",
              "2      fresh vegetables       produce     4    0   4   9.0    10  \n",
              "3       packaged cheese    dairy eggs     4    1   4   9.0    10  \n",
              "4          fresh fruits       produce     4    0   4   9.0    10  \n",
              "5          fresh fruits       produce     4    0   4   9.0    10  \n",
              "6  other creams cheeses    dairy eggs     4    1   4   9.0    10  \n",
              "7      fresh vegetables       produce     4    0   4   9.0    10  \n",
              "8      fresh vegetables       produce    23    1   6  30.0    18  \n",
              "9     specialty cheeses    dairy eggs    23    0   6  30.0    18  "
            ],
            "text/html": [
              "\n",
              "  <div id=\"df-8051b109-70ce-4837-84fb-8baa2278247b\">\n",
              "    <div class=\"colab-df-container\">\n",
              "      <div>\n",
              "<style scoped>\n",
              "    .dataframe tbody tr th:only-of-type {\n",
              "        vertical-align: middle;\n",
              "    }\n",
              "\n",
              "    .dataframe tbody tr th {\n",
              "        vertical-align: top;\n",
              "    }\n",
              "\n",
              "    .dataframe thead th {\n",
              "        text-align: right;\n",
              "    }\n",
              "</style>\n",
              "<table border=\"1\" class=\"dataframe\">\n",
              "  <thead>\n",
              "    <tr style=\"text-align: right;\">\n",
              "      <th></th>\n",
              "      <th>주문번호</th>\n",
              "      <th>유저</th>\n",
              "      <th>제품</th>\n",
              "      <th>소분류</th>\n",
              "      <th>대분류</th>\n",
              "      <th>누적주문</th>\n",
              "      <th>재주문</th>\n",
              "      <th>요일</th>\n",
              "      <th>주문텀</th>\n",
              "      <th>주문시간</th>\n",
              "    </tr>\n",
              "  </thead>\n",
              "  <tbody>\n",
              "    <tr>\n",
              "      <th>0</th>\n",
              "      <td>1</td>\n",
              "      <td>112108</td>\n",
              "      <td>Bulgarian Yogurt</td>\n",
              "      <td>yogurt</td>\n",
              "      <td>dairy eggs</td>\n",
              "      <td>4</td>\n",
              "      <td>1</td>\n",
              "      <td>4</td>\n",
              "      <td>9.0</td>\n",
              "      <td>10</td>\n",
              "    </tr>\n",
              "    <tr>\n",
              "      <th>1</th>\n",
              "      <td>1</td>\n",
              "      <td>112108</td>\n",
              "      <td>Lightly Smoked Sardines in Olive Oil</td>\n",
              "      <td>canned meat seafood</td>\n",
              "      <td>canned goods</td>\n",
              "      <td>4</td>\n",
              "      <td>1</td>\n",
              "      <td>4</td>\n",
              "      <td>9.0</td>\n",
              "      <td>10</td>\n",
              "    </tr>\n",
              "    <tr>\n",
              "      <th>2</th>\n",
              "      <td>1</td>\n",
              "      <td>112108</td>\n",
              "      <td>Organic Celery Hearts</td>\n",
              "      <td>fresh vegetables</td>\n",
              "      <td>produce</td>\n",
              "      <td>4</td>\n",
              "      <td>0</td>\n",
              "      <td>4</td>\n",
              "      <td>9.0</td>\n",
              "      <td>10</td>\n",
              "    </tr>\n",
              "    <tr>\n",
              "      <th>3</th>\n",
              "      <td>1</td>\n",
              "      <td>112108</td>\n",
              "      <td>Organic Whole String Cheese</td>\n",
              "      <td>packaged cheese</td>\n",
              "      <td>dairy eggs</td>\n",
              "      <td>4</td>\n",
              "      <td>1</td>\n",
              "      <td>4</td>\n",
              "      <td>9.0</td>\n",
              "      <td>10</td>\n",
              "    </tr>\n",
              "    <tr>\n",
              "      <th>4</th>\n",
              "      <td>1</td>\n",
              "      <td>112108</td>\n",
              "      <td>Organic Hass Avocado</td>\n",
              "      <td>fresh fruits</td>\n",
              "      <td>produce</td>\n",
              "      <td>4</td>\n",
              "      <td>0</td>\n",
              "      <td>4</td>\n",
              "      <td>9.0</td>\n",
              "      <td>10</td>\n",
              "    </tr>\n",
              "    <tr>\n",
              "      <th>5</th>\n",
              "      <td>1</td>\n",
              "      <td>112108</td>\n",
              "      <td>Bag of Organic Bananas</td>\n",
              "      <td>fresh fruits</td>\n",
              "      <td>produce</td>\n",
              "      <td>4</td>\n",
              "      <td>0</td>\n",
              "      <td>4</td>\n",
              "      <td>9.0</td>\n",
              "      <td>10</td>\n",
              "    </tr>\n",
              "    <tr>\n",
              "      <th>6</th>\n",
              "      <td>1</td>\n",
              "      <td>112108</td>\n",
              "      <td>Organic 4% Milk Fat Whole Milk Cottage Cheese</td>\n",
              "      <td>other creams cheeses</td>\n",
              "      <td>dairy eggs</td>\n",
              "      <td>4</td>\n",
              "      <td>1</td>\n",
              "      <td>4</td>\n",
              "      <td>9.0</td>\n",
              "      <td>10</td>\n",
              "    </tr>\n",
              "    <tr>\n",
              "      <th>7</th>\n",
              "      <td>1</td>\n",
              "      <td>112108</td>\n",
              "      <td>Cucumber Kirby</td>\n",
              "      <td>fresh vegetables</td>\n",
              "      <td>produce</td>\n",
              "      <td>4</td>\n",
              "      <td>0</td>\n",
              "      <td>4</td>\n",
              "      <td>9.0</td>\n",
              "      <td>10</td>\n",
              "    </tr>\n",
              "    <tr>\n",
              "      <th>8</th>\n",
              "      <td>36</td>\n",
              "      <td>79431</td>\n",
              "      <td>Asparagus</td>\n",
              "      <td>fresh vegetables</td>\n",
              "      <td>produce</td>\n",
              "      <td>23</td>\n",
              "      <td>1</td>\n",
              "      <td>6</td>\n",
              "      <td>30.0</td>\n",
              "      <td>18</td>\n",
              "    </tr>\n",
              "    <tr>\n",
              "      <th>9</th>\n",
              "      <td>36</td>\n",
              "      <td>79431</td>\n",
              "      <td>Grated Pecorino Romano Cheese</td>\n",
              "      <td>specialty cheeses</td>\n",
              "      <td>dairy eggs</td>\n",
              "      <td>23</td>\n",
              "      <td>0</td>\n",
              "      <td>6</td>\n",
              "      <td>30.0</td>\n",
              "      <td>18</td>\n",
              "    </tr>\n",
              "  </tbody>\n",
              "</table>\n",
              "</div>\n",
              "      <button class=\"colab-df-convert\" onclick=\"convertToInteractive('df-8051b109-70ce-4837-84fb-8baa2278247b')\"\n",
              "              title=\"Convert this dataframe to an interactive table.\"\n",
              "              style=\"display:none;\">\n",
              "        \n",
              "  <svg xmlns=\"http://www.w3.org/2000/svg\" height=\"24px\"viewBox=\"0 0 24 24\"\n",
              "       width=\"24px\">\n",
              "    <path d=\"M0 0h24v24H0V0z\" fill=\"none\"/>\n",
              "    <path d=\"M18.56 5.44l.94 2.06.94-2.06 2.06-.94-2.06-.94-.94-2.06-.94 2.06-2.06.94zm-11 1L8.5 8.5l.94-2.06 2.06-.94-2.06-.94L8.5 2.5l-.94 2.06-2.06.94zm10 10l.94 2.06.94-2.06 2.06-.94-2.06-.94-.94-2.06-.94 2.06-2.06.94z\"/><path d=\"M17.41 7.96l-1.37-1.37c-.4-.4-.92-.59-1.43-.59-.52 0-1.04.2-1.43.59L10.3 9.45l-7.72 7.72c-.78.78-.78 2.05 0 2.83L4 21.41c.39.39.9.59 1.41.59.51 0 1.02-.2 1.41-.59l7.78-7.78 2.81-2.81c.8-.78.8-2.07 0-2.86zM5.41 20L4 18.59l7.72-7.72 1.47 1.35L5.41 20z\"/>\n",
              "  </svg>\n",
              "      </button>\n",
              "      \n",
              "  <style>\n",
              "    .colab-df-container {\n",
              "      display:flex;\n",
              "      flex-wrap:wrap;\n",
              "      gap: 12px;\n",
              "    }\n",
              "\n",
              "    .colab-df-convert {\n",
              "      background-color: #E8F0FE;\n",
              "      border: none;\n",
              "      border-radius: 50%;\n",
              "      cursor: pointer;\n",
              "      display: none;\n",
              "      fill: #1967D2;\n",
              "      height: 32px;\n",
              "      padding: 0 0 0 0;\n",
              "      width: 32px;\n",
              "    }\n",
              "\n",
              "    .colab-df-convert:hover {\n",
              "      background-color: #E2EBFA;\n",
              "      box-shadow: 0px 1px 2px rgba(60, 64, 67, 0.3), 0px 1px 3px 1px rgba(60, 64, 67, 0.15);\n",
              "      fill: #174EA6;\n",
              "    }\n",
              "\n",
              "    [theme=dark] .colab-df-convert {\n",
              "      background-color: #3B4455;\n",
              "      fill: #D2E3FC;\n",
              "    }\n",
              "\n",
              "    [theme=dark] .colab-df-convert:hover {\n",
              "      background-color: #434B5C;\n",
              "      box-shadow: 0px 1px 3px 1px rgba(0, 0, 0, 0.15);\n",
              "      filter: drop-shadow(0px 1px 2px rgba(0, 0, 0, 0.3));\n",
              "      fill: #FFFFFF;\n",
              "    }\n",
              "  </style>\n",
              "\n",
              "      <script>\n",
              "        const buttonEl =\n",
              "          document.querySelector('#df-8051b109-70ce-4837-84fb-8baa2278247b button.colab-df-convert');\n",
              "        buttonEl.style.display =\n",
              "          google.colab.kernel.accessAllowed ? 'block' : 'none';\n",
              "\n",
              "        async function convertToInteractive(key) {\n",
              "          const element = document.querySelector('#df-8051b109-70ce-4837-84fb-8baa2278247b');\n",
              "          const dataTable =\n",
              "            await google.colab.kernel.invokeFunction('convertToInteractive',\n",
              "                                                     [key], {});\n",
              "          if (!dataTable) return;\n",
              "\n",
              "          const docLinkHtml = 'Like what you see? Visit the ' +\n",
              "            '<a target=\"_blank\" href=https://colab.research.google.com/notebooks/data_table.ipynb>data table notebook</a>'\n",
              "            + ' to learn more about interactive tables.';\n",
              "          element.innerHTML = '';\n",
              "          dataTable['output_type'] = 'display_data';\n",
              "          await google.colab.output.renderOutput(dataTable, element);\n",
              "          const docLink = document.createElement('div');\n",
              "          docLink.innerHTML = docLinkHtml;\n",
              "          element.appendChild(docLink);\n",
              "        }\n",
              "      </script>\n",
              "    </div>\n",
              "  </div>\n",
              "  "
            ]
          },
          "metadata": {},
          "execution_count": 47
        }
      ]
    },
    {
      "cell_type": "markdown",
      "source": [
        "**surpport (지지도)**\n",
        "- $P(A∩B)$ \n",
        "- A,B가 동시에 일어난 수 / 전체 거래 수\n",
        "- A와 B가 동시에 거래되는 비중 \n",
        "\n",
        "**confidence (신뢰도)**\n",
        "- $P(A∩B)/P(A)$\n",
        "- A,B가 동시에 일어난 수 / A가 일어난 수\n",
        "- A를 포함하는 거래 중 A,B가 동시에 거래되는 비중\n",
        "\n",
        "**lift(향상도)**\n",
        "- $P(A∩B) / P(A)*P(B)$  = $P(B|A) / P(B)$\n",
        "- A,B가 동시에 일어난 수 / 독립된 A * 독립된 B\n",
        "- AB, AC가 같은 신뢰도를 가질 때, B와 C 중 어느것이 더 관련있는지\n",
        "- (lift = 1) 독립 / (lift > 1) 양의 상관관계 / (lift < 1) 음의 상관관계  \n",
        "\n",
        "> **Tip**   \n",
        "1. 지지도,신뢰도, 향상도가 모두 높다 = 좋은 rule\n",
        "2. 지지도가 낮고 신뢰와 향상도가 높다 = 실효성이 떨어짐\n"
      ],
      "metadata": {
        "id": "8t1kP3KWcXv5"
      }
    },
    {
      "cell_type": "markdown",
      "source": [
        "#### **apriori공식문서** : http://rasbt.github.io/mlxtend/user_guide/frequent_patterns/apriori/"
      ],
      "metadata": {
        "id": "AEHWvNkMh8_C"
      }
    },
    {
      "cell_type": "code",
      "source": [
        "from mlxtend.preprocessing import TransactionEncoder\n",
        "\n",
        "te = TransactionEncoder()\n",
        "te_ary = te.fit(record).transform(record) # fit = 고유한 라벨을 갖게됨 / transform = 원핫인코딩,numpy배열로 전환\n",
        "ap_data = pd.DataFrame(te_ary,columns=te.columns_) # 원핫 인코딩 된 데이터프레임으로 변환"
      ],
      "metadata": {
        "id": "IedDhYKFXXYD"
      },
      "execution_count": 48,
      "outputs": []
    },
    {
      "cell_type": "code",
      "source": [
        "# 주문당 평균 10건 주문 -> 주문건당 혜택?\n",
        "mean_order =[te_ary[i].sum() for i in range(len(te_ary))]\n",
        "np.mean(mean_order) "
      ],
      "metadata": {
        "colab": {
          "base_uri": "https://localhost:8080/"
        },
        "id": "bMBfmJ_ifVJ3",
        "outputId": "8a0b417f-ed79-4882-9fb0-78ff3008c235"
      },
      "execution_count": 49,
      "outputs": [
        {
          "output_type": "execute_result",
          "data": {
            "text/plain": [
              "10.622537348184979"
            ]
          },
          "metadata": {},
          "execution_count": 49
        }
      ]
    },
    {
      "cell_type": "code",
      "source": [
        "# 지지도가 0.1% 이상인 데이터 출력\n",
        "# 데이터용량이 커서 메모리부족현상발생 ->FP-growth 알고리즘 사용\n",
        "from mlxtend.frequent_patterns import apriori, association_rules\n",
        "\n",
        "# frequent_itemsets = apriori(ap_data, min_support=0.1, use_colnames=True)\n",
        "# frequent_itemsets"
      ],
      "metadata": {
        "id": "zYZ9fQqNW14g"
      },
      "execution_count": 50,
      "outputs": []
    },
    {
      "cell_type": "code",
      "source": [
        "# association_rules(frequent_itemsets, metric='confidence', min_threshold=0.1)"
      ],
      "metadata": {
        "id": "3Dtm4cb9ZIW0"
      },
      "execution_count": 51,
      "outputs": []
    },
    {
      "cell_type": "markdown",
      "source": [
        "#### FP-growth Algorithm"
      ],
      "metadata": {
        "id": "5IJEL8Rsj1WL"
      }
    },
    {
      "cell_type": "code",
      "source": [
        "# %pip install mlxtend --upgrade"
      ],
      "metadata": {
        "id": "IAbAqnvbIqUm"
      },
      "execution_count": 52,
      "outputs": []
    },
    {
      "cell_type": "code",
      "source": [
        "# import에러 발생하여 mlxtend 버전업그레이드 진행\n",
        "from mlxtend.frequent_patterns import fpgrowth\n",
        "\n",
        "result = fpgrowth(ap_data, min_support=0.01, use_colnames=True).sort_values(by='support',ascending=False)\n",
        "result_chart = association_rules(result, metric='confidence',  min_threshold=0.01)"
      ],
      "metadata": {
        "id": "NeuU5UFZkGxd"
      },
      "execution_count": 53,
      "outputs": []
    },
    {
      "cell_type": "code",
      "source": [
        "result.sort_values(by='support',ascending=False).head(100)"
      ],
      "metadata": {
        "colab": {
          "base_uri": "https://localhost:8080/",
          "height": 424
        },
        "id": "QuJwUZioSl5H",
        "outputId": "b7c7cc77-6ec3-4906-e905-51a144731da0"
      },
      "execution_count": 54,
      "outputs": [
        {
          "output_type": "execute_result",
          "data": {
            "text/plain": [
              "      support                       itemsets\n",
              "25   0.142858                       (Banana)\n",
              "0    0.120506       (Bag of Organic Bananas)\n",
              "22   0.084055         (Organic Strawberries)\n",
              "40   0.076634         (Organic Baby Spinach)\n",
              "32   0.062341                  (Large Lemon)\n",
              "..        ...                            ...\n",
              "83   0.011777   (Grape White/Green Seedless)\n",
              "64   0.011710  (Organic Reduced Fat 2% Milk)\n",
              "104  0.011582          (2% Reduced Fat Milk)\n",
              "88   0.011417              (Red Raspberries)\n",
              "47   0.011387                         (Soda)\n",
              "\n",
              "[100 rows x 2 columns]"
            ],
            "text/html": [
              "\n",
              "  <div id=\"df-d832074a-9642-4190-b1e8-85a57df4b09b\">\n",
              "    <div class=\"colab-df-container\">\n",
              "      <div>\n",
              "<style scoped>\n",
              "    .dataframe tbody tr th:only-of-type {\n",
              "        vertical-align: middle;\n",
              "    }\n",
              "\n",
              "    .dataframe tbody tr th {\n",
              "        vertical-align: top;\n",
              "    }\n",
              "\n",
              "    .dataframe thead th {\n",
              "        text-align: right;\n",
              "    }\n",
              "</style>\n",
              "<table border=\"1\" class=\"dataframe\">\n",
              "  <thead>\n",
              "    <tr style=\"text-align: right;\">\n",
              "      <th></th>\n",
              "      <th>support</th>\n",
              "      <th>itemsets</th>\n",
              "    </tr>\n",
              "  </thead>\n",
              "  <tbody>\n",
              "    <tr>\n",
              "      <th>25</th>\n",
              "      <td>0.142858</td>\n",
              "      <td>(Banana)</td>\n",
              "    </tr>\n",
              "    <tr>\n",
              "      <th>0</th>\n",
              "      <td>0.120506</td>\n",
              "      <td>(Bag of Organic Bananas)</td>\n",
              "    </tr>\n",
              "    <tr>\n",
              "      <th>22</th>\n",
              "      <td>0.084055</td>\n",
              "      <td>(Organic Strawberries)</td>\n",
              "    </tr>\n",
              "    <tr>\n",
              "      <th>40</th>\n",
              "      <td>0.076634</td>\n",
              "      <td>(Organic Baby Spinach)</td>\n",
              "    </tr>\n",
              "    <tr>\n",
              "      <th>32</th>\n",
              "      <td>0.062341</td>\n",
              "      <td>(Large Lemon)</td>\n",
              "    </tr>\n",
              "    <tr>\n",
              "      <th>...</th>\n",
              "      <td>...</td>\n",
              "      <td>...</td>\n",
              "    </tr>\n",
              "    <tr>\n",
              "      <th>83</th>\n",
              "      <td>0.011777</td>\n",
              "      <td>(Grape White/Green Seedless)</td>\n",
              "    </tr>\n",
              "    <tr>\n",
              "      <th>64</th>\n",
              "      <td>0.011710</td>\n",
              "      <td>(Organic Reduced Fat 2% Milk)</td>\n",
              "    </tr>\n",
              "    <tr>\n",
              "      <th>104</th>\n",
              "      <td>0.011582</td>\n",
              "      <td>(2% Reduced Fat Milk)</td>\n",
              "    </tr>\n",
              "    <tr>\n",
              "      <th>88</th>\n",
              "      <td>0.011417</td>\n",
              "      <td>(Red Raspberries)</td>\n",
              "    </tr>\n",
              "    <tr>\n",
              "      <th>47</th>\n",
              "      <td>0.011387</td>\n",
              "      <td>(Soda)</td>\n",
              "    </tr>\n",
              "  </tbody>\n",
              "</table>\n",
              "<p>100 rows × 2 columns</p>\n",
              "</div>\n",
              "      <button class=\"colab-df-convert\" onclick=\"convertToInteractive('df-d832074a-9642-4190-b1e8-85a57df4b09b')\"\n",
              "              title=\"Convert this dataframe to an interactive table.\"\n",
              "              style=\"display:none;\">\n",
              "        \n",
              "  <svg xmlns=\"http://www.w3.org/2000/svg\" height=\"24px\"viewBox=\"0 0 24 24\"\n",
              "       width=\"24px\">\n",
              "    <path d=\"M0 0h24v24H0V0z\" fill=\"none\"/>\n",
              "    <path d=\"M18.56 5.44l.94 2.06.94-2.06 2.06-.94-2.06-.94-.94-2.06-.94 2.06-2.06.94zm-11 1L8.5 8.5l.94-2.06 2.06-.94-2.06-.94L8.5 2.5l-.94 2.06-2.06.94zm10 10l.94 2.06.94-2.06 2.06-.94-2.06-.94-.94-2.06-.94 2.06-2.06.94z\"/><path d=\"M17.41 7.96l-1.37-1.37c-.4-.4-.92-.59-1.43-.59-.52 0-1.04.2-1.43.59L10.3 9.45l-7.72 7.72c-.78.78-.78 2.05 0 2.83L4 21.41c.39.39.9.59 1.41.59.51 0 1.02-.2 1.41-.59l7.78-7.78 2.81-2.81c.8-.78.8-2.07 0-2.86zM5.41 20L4 18.59l7.72-7.72 1.47 1.35L5.41 20z\"/>\n",
              "  </svg>\n",
              "      </button>\n",
              "      \n",
              "  <style>\n",
              "    .colab-df-container {\n",
              "      display:flex;\n",
              "      flex-wrap:wrap;\n",
              "      gap: 12px;\n",
              "    }\n",
              "\n",
              "    .colab-df-convert {\n",
              "      background-color: #E8F0FE;\n",
              "      border: none;\n",
              "      border-radius: 50%;\n",
              "      cursor: pointer;\n",
              "      display: none;\n",
              "      fill: #1967D2;\n",
              "      height: 32px;\n",
              "      padding: 0 0 0 0;\n",
              "      width: 32px;\n",
              "    }\n",
              "\n",
              "    .colab-df-convert:hover {\n",
              "      background-color: #E2EBFA;\n",
              "      box-shadow: 0px 1px 2px rgba(60, 64, 67, 0.3), 0px 1px 3px 1px rgba(60, 64, 67, 0.15);\n",
              "      fill: #174EA6;\n",
              "    }\n",
              "\n",
              "    [theme=dark] .colab-df-convert {\n",
              "      background-color: #3B4455;\n",
              "      fill: #D2E3FC;\n",
              "    }\n",
              "\n",
              "    [theme=dark] .colab-df-convert:hover {\n",
              "      background-color: #434B5C;\n",
              "      box-shadow: 0px 1px 3px 1px rgba(0, 0, 0, 0.15);\n",
              "      filter: drop-shadow(0px 1px 2px rgba(0, 0, 0, 0.3));\n",
              "      fill: #FFFFFF;\n",
              "    }\n",
              "  </style>\n",
              "\n",
              "      <script>\n",
              "        const buttonEl =\n",
              "          document.querySelector('#df-d832074a-9642-4190-b1e8-85a57df4b09b button.colab-df-convert');\n",
              "        buttonEl.style.display =\n",
              "          google.colab.kernel.accessAllowed ? 'block' : 'none';\n",
              "\n",
              "        async function convertToInteractive(key) {\n",
              "          const element = document.querySelector('#df-d832074a-9642-4190-b1e8-85a57df4b09b');\n",
              "          const dataTable =\n",
              "            await google.colab.kernel.invokeFunction('convertToInteractive',\n",
              "                                                     [key], {});\n",
              "          if (!dataTable) return;\n",
              "\n",
              "          const docLinkHtml = 'Like what you see? Visit the ' +\n",
              "            '<a target=\"_blank\" href=https://colab.research.google.com/notebooks/data_table.ipynb>data table notebook</a>'\n",
              "            + ' to learn more about interactive tables.';\n",
              "          element.innerHTML = '';\n",
              "          dataTable['output_type'] = 'display_data';\n",
              "          await google.colab.output.renderOutput(dataTable, element);\n",
              "          const docLink = document.createElement('div');\n",
              "          docLink.innerHTML = docLinkHtml;\n",
              "          element.appendChild(docLink);\n",
              "        }\n",
              "      </script>\n",
              "    </div>\n",
              "  </div>\n",
              "  "
            ]
          },
          "metadata": {},
          "execution_count": 54
        }
      ]
    },
    {
      "cell_type": "code",
      "source": [
        "result_chart.sort_values(by=['antecedent support','confidence','lift'],ascending=False)\n",
        " \n",
        "# dfStyler = result_chart.sort_values(by=['antecedent support','confidence','lift'],ascending=False).style.set_properties(**{'text-align': 'center'})\n",
        "# dfStyler.set_table_styles([dict(selector='th',props=[('text-align', 'left')])])"
      ],
      "metadata": {
        "colab": {
          "base_uri": "https://localhost:8080/",
          "height": 1000
        },
        "id": "d1EAti9Toxjy",
        "outputId": "833ce2ca-9305-41a2-8b09-71280946cd1e"
      },
      "execution_count": 55,
      "outputs": [
        {
          "output_type": "execute_result",
          "data": {
            "text/plain": [
              "                 antecedents               consequents  antecedent support  \\\n",
              "6                   (Banana)         (Organic Avocado)            0.142858   \n",
              "8                   (Banana)    (Organic Strawberries)            0.142858   \n",
              "10                  (Banana)             (Large Lemon)            0.142858   \n",
              "12                  (Banana)    (Organic Baby Spinach)            0.142858   \n",
              "15                  (Banana)            (Strawberries)            0.142858   \n",
              "30                  (Banana)                   (Limes)            0.142858   \n",
              "0   (Bag of Organic Bananas)    (Organic Strawberries)            0.120506   \n",
              "3   (Bag of Organic Bananas)    (Organic Hass Avocado)            0.120506   \n",
              "5   (Bag of Organic Bananas)    (Organic Baby Spinach)            0.120506   \n",
              "17  (Bag of Organic Bananas)     (Organic Raspberries)            0.120506   \n",
              "35  (Bag of Organic Bananas)        (Organic Cucumber)            0.120506   \n",
              "1     (Organic Strawberries)  (Bag of Organic Bananas)            0.084055   \n",
              "9     (Organic Strawberries)                  (Banana)            0.084055   \n",
              "19    (Organic Strawberries)     (Organic Raspberries)            0.084055   \n",
              "21    (Organic Strawberries)    (Organic Baby Spinach)            0.084055   \n",
              "25    (Organic Strawberries)    (Organic Hass Avocado)            0.084055   \n",
              "4     (Organic Baby Spinach)  (Bag of Organic Bananas)            0.076634   \n",
              "13    (Organic Baby Spinach)                  (Banana)            0.076634   \n",
              "20    (Organic Baby Spinach)    (Organic Strawberries)            0.076634   \n",
              "27    (Organic Baby Spinach)         (Organic Avocado)            0.076634   \n",
              "33    (Organic Baby Spinach)    (Organic Hass Avocado)            0.076634   \n",
              "11             (Large Lemon)                  (Banana)            0.062341   \n",
              "22             (Large Lemon)                   (Limes)            0.062341   \n",
              "29             (Large Lemon)         (Organic Avocado)            0.062341   \n",
              "7          (Organic Avocado)                  (Banana)            0.057143   \n",
              "26         (Organic Avocado)    (Organic Baby Spinach)            0.057143   \n",
              "28         (Organic Avocado)             (Large Lemon)            0.057143   \n",
              "2     (Organic Hass Avocado)  (Bag of Organic Bananas)            0.057023   \n",
              "24    (Organic Hass Avocado)    (Organic Strawberries)            0.057023   \n",
              "32    (Organic Hass Avocado)    (Organic Baby Spinach)            0.057023   \n",
              "14            (Strawberries)                  (Banana)            0.049460   \n",
              "23                   (Limes)             (Large Lemon)            0.046328   \n",
              "31                   (Limes)                  (Banana)            0.046328   \n",
              "16     (Organic Raspberries)  (Bag of Organic Bananas)            0.042865   \n",
              "18     (Organic Raspberries)    (Organic Strawberries)            0.042865   \n",
              "34        (Organic Cucumber)  (Bag of Organic Bananas)            0.035910   \n",
              "\n",
              "    consequent support   support  confidence      lift  leverage  conviction  \n",
              "6             0.057143  0.017132    0.119926  2.098696  0.008969    1.071338  \n",
              "8             0.084055  0.016704    0.116930  1.391107  0.004696    1.037228  \n",
              "10            0.062341  0.016584    0.116088  1.862155  0.007678    1.060806  \n",
              "12            0.076634  0.015540    0.108780  1.419474  0.004592    1.036070  \n",
              "15            0.049460  0.014887    0.104206  2.106894  0.007821    1.061115  \n",
              "30            0.046328  0.010260    0.071819  1.550248  0.003642    1.027464  \n",
              "0             0.084055  0.023907    0.198392  2.360263  0.013778    1.142634  \n",
              "3             0.057023  0.019348    0.160558  2.815674  0.012477    1.123338  \n",
              "5             0.076634  0.017869    0.148280  1.934903  0.008634    1.084119  \n",
              "17            0.042865  0.013940    0.115682  2.698751  0.008775    1.082342  \n",
              "35            0.035910  0.010012    0.083084  2.313684  0.005685    1.051449  \n",
              "1             0.120506  0.023907    0.284425  2.360263  0.013778    1.229074  \n",
              "9             0.142858  0.016704    0.198731  1.391107  0.004696    1.069731  \n",
              "19            0.042865  0.012896    0.153427  3.579306  0.009293    1.130599  \n",
              "21            0.076634  0.012821    0.152533  1.990408  0.006380    1.089560  \n",
              "25            0.057023  0.012100    0.143955  2.524502  0.007307    1.101551  \n",
              "4             0.120506  0.017869    0.233167  1.934903  0.008634    1.146917  \n",
              "13            0.142858  0.015540    0.202783  1.419474  0.004592    1.075168  \n",
              "20            0.084055  0.012821    0.167304  1.990408  0.006380    1.099975  \n",
              "27            0.057143  0.010958    0.142997  2.502431  0.006579    1.100179  \n",
              "33            0.057023  0.010057    0.131236  2.301451  0.005687    1.085423  \n",
              "11            0.142858  0.016584    0.266024  1.862155  0.007678    1.167806  \n",
              "22            0.046328  0.012235    0.196265  4.236468  0.009347    1.186551  \n",
              "29            0.057143  0.010485    0.168193  2.943351  0.006923    1.133504  \n",
              "7             0.142858  0.017132    0.299816  2.098696  0.008969    1.224166  \n",
              "26            0.076634  0.010958    0.191772  2.502431  0.006579    1.142457  \n",
              "28            0.062341  0.010485    0.183491  2.943351  0.006923    1.148376  \n",
              "2             0.120506  0.019348    0.339305  2.815674  0.012477    1.331165  \n",
              "24            0.084055  0.012100    0.212197  2.524502  0.007307    1.162657  \n",
              "32            0.076634  0.010057    0.176370  2.301451  0.005687    1.121093  \n",
              "14            0.142858  0.014887    0.300987  2.106894  0.007821    1.226217  \n",
              "23            0.062341  0.012235    0.264105  4.236468  0.009347    1.274175  \n",
              "31            0.142858  0.010260    0.221466  1.550248  0.003642    1.100968  \n",
              "16            0.120506  0.013940    0.325215  2.698751  0.008775    1.303369  \n",
              "18            0.084055  0.012896    0.300859  3.579306  0.009293    1.310100  \n",
              "34            0.120506  0.010012    0.278812  2.313684  0.005685    1.219508  "
            ],
            "text/html": [
              "\n",
              "  <div id=\"df-d0019079-7e13-41cd-ad2a-7d1f987c654a\">\n",
              "    <div class=\"colab-df-container\">\n",
              "      <div>\n",
              "<style scoped>\n",
              "    .dataframe tbody tr th:only-of-type {\n",
              "        vertical-align: middle;\n",
              "    }\n",
              "\n",
              "    .dataframe tbody tr th {\n",
              "        vertical-align: top;\n",
              "    }\n",
              "\n",
              "    .dataframe thead th {\n",
              "        text-align: right;\n",
              "    }\n",
              "</style>\n",
              "<table border=\"1\" class=\"dataframe\">\n",
              "  <thead>\n",
              "    <tr style=\"text-align: right;\">\n",
              "      <th></th>\n",
              "      <th>antecedents</th>\n",
              "      <th>consequents</th>\n",
              "      <th>antecedent support</th>\n",
              "      <th>consequent support</th>\n",
              "      <th>support</th>\n",
              "      <th>confidence</th>\n",
              "      <th>lift</th>\n",
              "      <th>leverage</th>\n",
              "      <th>conviction</th>\n",
              "    </tr>\n",
              "  </thead>\n",
              "  <tbody>\n",
              "    <tr>\n",
              "      <th>6</th>\n",
              "      <td>(Banana)</td>\n",
              "      <td>(Organic Avocado)</td>\n",
              "      <td>0.142858</td>\n",
              "      <td>0.057143</td>\n",
              "      <td>0.017132</td>\n",
              "      <td>0.119926</td>\n",
              "      <td>2.098696</td>\n",
              "      <td>0.008969</td>\n",
              "      <td>1.071338</td>\n",
              "    </tr>\n",
              "    <tr>\n",
              "      <th>8</th>\n",
              "      <td>(Banana)</td>\n",
              "      <td>(Organic Strawberries)</td>\n",
              "      <td>0.142858</td>\n",
              "      <td>0.084055</td>\n",
              "      <td>0.016704</td>\n",
              "      <td>0.116930</td>\n",
              "      <td>1.391107</td>\n",
              "      <td>0.004696</td>\n",
              "      <td>1.037228</td>\n",
              "    </tr>\n",
              "    <tr>\n",
              "      <th>10</th>\n",
              "      <td>(Banana)</td>\n",
              "      <td>(Large Lemon)</td>\n",
              "      <td>0.142858</td>\n",
              "      <td>0.062341</td>\n",
              "      <td>0.016584</td>\n",
              "      <td>0.116088</td>\n",
              "      <td>1.862155</td>\n",
              "      <td>0.007678</td>\n",
              "      <td>1.060806</td>\n",
              "    </tr>\n",
              "    <tr>\n",
              "      <th>12</th>\n",
              "      <td>(Banana)</td>\n",
              "      <td>(Organic Baby Spinach)</td>\n",
              "      <td>0.142858</td>\n",
              "      <td>0.076634</td>\n",
              "      <td>0.015540</td>\n",
              "      <td>0.108780</td>\n",
              "      <td>1.419474</td>\n",
              "      <td>0.004592</td>\n",
              "      <td>1.036070</td>\n",
              "    </tr>\n",
              "    <tr>\n",
              "      <th>15</th>\n",
              "      <td>(Banana)</td>\n",
              "      <td>(Strawberries)</td>\n",
              "      <td>0.142858</td>\n",
              "      <td>0.049460</td>\n",
              "      <td>0.014887</td>\n",
              "      <td>0.104206</td>\n",
              "      <td>2.106894</td>\n",
              "      <td>0.007821</td>\n",
              "      <td>1.061115</td>\n",
              "    </tr>\n",
              "    <tr>\n",
              "      <th>30</th>\n",
              "      <td>(Banana)</td>\n",
              "      <td>(Limes)</td>\n",
              "      <td>0.142858</td>\n",
              "      <td>0.046328</td>\n",
              "      <td>0.010260</td>\n",
              "      <td>0.071819</td>\n",
              "      <td>1.550248</td>\n",
              "      <td>0.003642</td>\n",
              "      <td>1.027464</td>\n",
              "    </tr>\n",
              "    <tr>\n",
              "      <th>0</th>\n",
              "      <td>(Bag of Organic Bananas)</td>\n",
              "      <td>(Organic Strawberries)</td>\n",
              "      <td>0.120506</td>\n",
              "      <td>0.084055</td>\n",
              "      <td>0.023907</td>\n",
              "      <td>0.198392</td>\n",
              "      <td>2.360263</td>\n",
              "      <td>0.013778</td>\n",
              "      <td>1.142634</td>\n",
              "    </tr>\n",
              "    <tr>\n",
              "      <th>3</th>\n",
              "      <td>(Bag of Organic Bananas)</td>\n",
              "      <td>(Organic Hass Avocado)</td>\n",
              "      <td>0.120506</td>\n",
              "      <td>0.057023</td>\n",
              "      <td>0.019348</td>\n",
              "      <td>0.160558</td>\n",
              "      <td>2.815674</td>\n",
              "      <td>0.012477</td>\n",
              "      <td>1.123338</td>\n",
              "    </tr>\n",
              "    <tr>\n",
              "      <th>5</th>\n",
              "      <td>(Bag of Organic Bananas)</td>\n",
              "      <td>(Organic Baby Spinach)</td>\n",
              "      <td>0.120506</td>\n",
              "      <td>0.076634</td>\n",
              "      <td>0.017869</td>\n",
              "      <td>0.148280</td>\n",
              "      <td>1.934903</td>\n",
              "      <td>0.008634</td>\n",
              "      <td>1.084119</td>\n",
              "    </tr>\n",
              "    <tr>\n",
              "      <th>17</th>\n",
              "      <td>(Bag of Organic Bananas)</td>\n",
              "      <td>(Organic Raspberries)</td>\n",
              "      <td>0.120506</td>\n",
              "      <td>0.042865</td>\n",
              "      <td>0.013940</td>\n",
              "      <td>0.115682</td>\n",
              "      <td>2.698751</td>\n",
              "      <td>0.008775</td>\n",
              "      <td>1.082342</td>\n",
              "    </tr>\n",
              "    <tr>\n",
              "      <th>35</th>\n",
              "      <td>(Bag of Organic Bananas)</td>\n",
              "      <td>(Organic Cucumber)</td>\n",
              "      <td>0.120506</td>\n",
              "      <td>0.035910</td>\n",
              "      <td>0.010012</td>\n",
              "      <td>0.083084</td>\n",
              "      <td>2.313684</td>\n",
              "      <td>0.005685</td>\n",
              "      <td>1.051449</td>\n",
              "    </tr>\n",
              "    <tr>\n",
              "      <th>1</th>\n",
              "      <td>(Organic Strawberries)</td>\n",
              "      <td>(Bag of Organic Bananas)</td>\n",
              "      <td>0.084055</td>\n",
              "      <td>0.120506</td>\n",
              "      <td>0.023907</td>\n",
              "      <td>0.284425</td>\n",
              "      <td>2.360263</td>\n",
              "      <td>0.013778</td>\n",
              "      <td>1.229074</td>\n",
              "    </tr>\n",
              "    <tr>\n",
              "      <th>9</th>\n",
              "      <td>(Organic Strawberries)</td>\n",
              "      <td>(Banana)</td>\n",
              "      <td>0.084055</td>\n",
              "      <td>0.142858</td>\n",
              "      <td>0.016704</td>\n",
              "      <td>0.198731</td>\n",
              "      <td>1.391107</td>\n",
              "      <td>0.004696</td>\n",
              "      <td>1.069731</td>\n",
              "    </tr>\n",
              "    <tr>\n",
              "      <th>19</th>\n",
              "      <td>(Organic Strawberries)</td>\n",
              "      <td>(Organic Raspberries)</td>\n",
              "      <td>0.084055</td>\n",
              "      <td>0.042865</td>\n",
              "      <td>0.012896</td>\n",
              "      <td>0.153427</td>\n",
              "      <td>3.579306</td>\n",
              "      <td>0.009293</td>\n",
              "      <td>1.130599</td>\n",
              "    </tr>\n",
              "    <tr>\n",
              "      <th>21</th>\n",
              "      <td>(Organic Strawberries)</td>\n",
              "      <td>(Organic Baby Spinach)</td>\n",
              "      <td>0.084055</td>\n",
              "      <td>0.076634</td>\n",
              "      <td>0.012821</td>\n",
              "      <td>0.152533</td>\n",
              "      <td>1.990408</td>\n",
              "      <td>0.006380</td>\n",
              "      <td>1.089560</td>\n",
              "    </tr>\n",
              "    <tr>\n",
              "      <th>25</th>\n",
              "      <td>(Organic Strawberries)</td>\n",
              "      <td>(Organic Hass Avocado)</td>\n",
              "      <td>0.084055</td>\n",
              "      <td>0.057023</td>\n",
              "      <td>0.012100</td>\n",
              "      <td>0.143955</td>\n",
              "      <td>2.524502</td>\n",
              "      <td>0.007307</td>\n",
              "      <td>1.101551</td>\n",
              "    </tr>\n",
              "    <tr>\n",
              "      <th>4</th>\n",
              "      <td>(Organic Baby Spinach)</td>\n",
              "      <td>(Bag of Organic Bananas)</td>\n",
              "      <td>0.076634</td>\n",
              "      <td>0.120506</td>\n",
              "      <td>0.017869</td>\n",
              "      <td>0.233167</td>\n",
              "      <td>1.934903</td>\n",
              "      <td>0.008634</td>\n",
              "      <td>1.146917</td>\n",
              "    </tr>\n",
              "    <tr>\n",
              "      <th>13</th>\n",
              "      <td>(Organic Baby Spinach)</td>\n",
              "      <td>(Banana)</td>\n",
              "      <td>0.076634</td>\n",
              "      <td>0.142858</td>\n",
              "      <td>0.015540</td>\n",
              "      <td>0.202783</td>\n",
              "      <td>1.419474</td>\n",
              "      <td>0.004592</td>\n",
              "      <td>1.075168</td>\n",
              "    </tr>\n",
              "    <tr>\n",
              "      <th>20</th>\n",
              "      <td>(Organic Baby Spinach)</td>\n",
              "      <td>(Organic Strawberries)</td>\n",
              "      <td>0.076634</td>\n",
              "      <td>0.084055</td>\n",
              "      <td>0.012821</td>\n",
              "      <td>0.167304</td>\n",
              "      <td>1.990408</td>\n",
              "      <td>0.006380</td>\n",
              "      <td>1.099975</td>\n",
              "    </tr>\n",
              "    <tr>\n",
              "      <th>27</th>\n",
              "      <td>(Organic Baby Spinach)</td>\n",
              "      <td>(Organic Avocado)</td>\n",
              "      <td>0.076634</td>\n",
              "      <td>0.057143</td>\n",
              "      <td>0.010958</td>\n",
              "      <td>0.142997</td>\n",
              "      <td>2.502431</td>\n",
              "      <td>0.006579</td>\n",
              "      <td>1.100179</td>\n",
              "    </tr>\n",
              "    <tr>\n",
              "      <th>33</th>\n",
              "      <td>(Organic Baby Spinach)</td>\n",
              "      <td>(Organic Hass Avocado)</td>\n",
              "      <td>0.076634</td>\n",
              "      <td>0.057023</td>\n",
              "      <td>0.010057</td>\n",
              "      <td>0.131236</td>\n",
              "      <td>2.301451</td>\n",
              "      <td>0.005687</td>\n",
              "      <td>1.085423</td>\n",
              "    </tr>\n",
              "    <tr>\n",
              "      <th>11</th>\n",
              "      <td>(Large Lemon)</td>\n",
              "      <td>(Banana)</td>\n",
              "      <td>0.062341</td>\n",
              "      <td>0.142858</td>\n",
              "      <td>0.016584</td>\n",
              "      <td>0.266024</td>\n",
              "      <td>1.862155</td>\n",
              "      <td>0.007678</td>\n",
              "      <td>1.167806</td>\n",
              "    </tr>\n",
              "    <tr>\n",
              "      <th>22</th>\n",
              "      <td>(Large Lemon)</td>\n",
              "      <td>(Limes)</td>\n",
              "      <td>0.062341</td>\n",
              "      <td>0.046328</td>\n",
              "      <td>0.012235</td>\n",
              "      <td>0.196265</td>\n",
              "      <td>4.236468</td>\n",
              "      <td>0.009347</td>\n",
              "      <td>1.186551</td>\n",
              "    </tr>\n",
              "    <tr>\n",
              "      <th>29</th>\n",
              "      <td>(Large Lemon)</td>\n",
              "      <td>(Organic Avocado)</td>\n",
              "      <td>0.062341</td>\n",
              "      <td>0.057143</td>\n",
              "      <td>0.010485</td>\n",
              "      <td>0.168193</td>\n",
              "      <td>2.943351</td>\n",
              "      <td>0.006923</td>\n",
              "      <td>1.133504</td>\n",
              "    </tr>\n",
              "    <tr>\n",
              "      <th>7</th>\n",
              "      <td>(Organic Avocado)</td>\n",
              "      <td>(Banana)</td>\n",
              "      <td>0.057143</td>\n",
              "      <td>0.142858</td>\n",
              "      <td>0.017132</td>\n",
              "      <td>0.299816</td>\n",
              "      <td>2.098696</td>\n",
              "      <td>0.008969</td>\n",
              "      <td>1.224166</td>\n",
              "    </tr>\n",
              "    <tr>\n",
              "      <th>26</th>\n",
              "      <td>(Organic Avocado)</td>\n",
              "      <td>(Organic Baby Spinach)</td>\n",
              "      <td>0.057143</td>\n",
              "      <td>0.076634</td>\n",
              "      <td>0.010958</td>\n",
              "      <td>0.191772</td>\n",
              "      <td>2.502431</td>\n",
              "      <td>0.006579</td>\n",
              "      <td>1.142457</td>\n",
              "    </tr>\n",
              "    <tr>\n",
              "      <th>28</th>\n",
              "      <td>(Organic Avocado)</td>\n",
              "      <td>(Large Lemon)</td>\n",
              "      <td>0.057143</td>\n",
              "      <td>0.062341</td>\n",
              "      <td>0.010485</td>\n",
              "      <td>0.183491</td>\n",
              "      <td>2.943351</td>\n",
              "      <td>0.006923</td>\n",
              "      <td>1.148376</td>\n",
              "    </tr>\n",
              "    <tr>\n",
              "      <th>2</th>\n",
              "      <td>(Organic Hass Avocado)</td>\n",
              "      <td>(Bag of Organic Bananas)</td>\n",
              "      <td>0.057023</td>\n",
              "      <td>0.120506</td>\n",
              "      <td>0.019348</td>\n",
              "      <td>0.339305</td>\n",
              "      <td>2.815674</td>\n",
              "      <td>0.012477</td>\n",
              "      <td>1.331165</td>\n",
              "    </tr>\n",
              "    <tr>\n",
              "      <th>24</th>\n",
              "      <td>(Organic Hass Avocado)</td>\n",
              "      <td>(Organic Strawberries)</td>\n",
              "      <td>0.057023</td>\n",
              "      <td>0.084055</td>\n",
              "      <td>0.012100</td>\n",
              "      <td>0.212197</td>\n",
              "      <td>2.524502</td>\n",
              "      <td>0.007307</td>\n",
              "      <td>1.162657</td>\n",
              "    </tr>\n",
              "    <tr>\n",
              "      <th>32</th>\n",
              "      <td>(Organic Hass Avocado)</td>\n",
              "      <td>(Organic Baby Spinach)</td>\n",
              "      <td>0.057023</td>\n",
              "      <td>0.076634</td>\n",
              "      <td>0.010057</td>\n",
              "      <td>0.176370</td>\n",
              "      <td>2.301451</td>\n",
              "      <td>0.005687</td>\n",
              "      <td>1.121093</td>\n",
              "    </tr>\n",
              "    <tr>\n",
              "      <th>14</th>\n",
              "      <td>(Strawberries)</td>\n",
              "      <td>(Banana)</td>\n",
              "      <td>0.049460</td>\n",
              "      <td>0.142858</td>\n",
              "      <td>0.014887</td>\n",
              "      <td>0.300987</td>\n",
              "      <td>2.106894</td>\n",
              "      <td>0.007821</td>\n",
              "      <td>1.226217</td>\n",
              "    </tr>\n",
              "    <tr>\n",
              "      <th>23</th>\n",
              "      <td>(Limes)</td>\n",
              "      <td>(Large Lemon)</td>\n",
              "      <td>0.046328</td>\n",
              "      <td>0.062341</td>\n",
              "      <td>0.012235</td>\n",
              "      <td>0.264105</td>\n",
              "      <td>4.236468</td>\n",
              "      <td>0.009347</td>\n",
              "      <td>1.274175</td>\n",
              "    </tr>\n",
              "    <tr>\n",
              "      <th>31</th>\n",
              "      <td>(Limes)</td>\n",
              "      <td>(Banana)</td>\n",
              "      <td>0.046328</td>\n",
              "      <td>0.142858</td>\n",
              "      <td>0.010260</td>\n",
              "      <td>0.221466</td>\n",
              "      <td>1.550248</td>\n",
              "      <td>0.003642</td>\n",
              "      <td>1.100968</td>\n",
              "    </tr>\n",
              "    <tr>\n",
              "      <th>16</th>\n",
              "      <td>(Organic Raspberries)</td>\n",
              "      <td>(Bag of Organic Bananas)</td>\n",
              "      <td>0.042865</td>\n",
              "      <td>0.120506</td>\n",
              "      <td>0.013940</td>\n",
              "      <td>0.325215</td>\n",
              "      <td>2.698751</td>\n",
              "      <td>0.008775</td>\n",
              "      <td>1.303369</td>\n",
              "    </tr>\n",
              "    <tr>\n",
              "      <th>18</th>\n",
              "      <td>(Organic Raspberries)</td>\n",
              "      <td>(Organic Strawberries)</td>\n",
              "      <td>0.042865</td>\n",
              "      <td>0.084055</td>\n",
              "      <td>0.012896</td>\n",
              "      <td>0.300859</td>\n",
              "      <td>3.579306</td>\n",
              "      <td>0.009293</td>\n",
              "      <td>1.310100</td>\n",
              "    </tr>\n",
              "    <tr>\n",
              "      <th>34</th>\n",
              "      <td>(Organic Cucumber)</td>\n",
              "      <td>(Bag of Organic Bananas)</td>\n",
              "      <td>0.035910</td>\n",
              "      <td>0.120506</td>\n",
              "      <td>0.010012</td>\n",
              "      <td>0.278812</td>\n",
              "      <td>2.313684</td>\n",
              "      <td>0.005685</td>\n",
              "      <td>1.219508</td>\n",
              "    </tr>\n",
              "  </tbody>\n",
              "</table>\n",
              "</div>\n",
              "      <button class=\"colab-df-convert\" onclick=\"convertToInteractive('df-d0019079-7e13-41cd-ad2a-7d1f987c654a')\"\n",
              "              title=\"Convert this dataframe to an interactive table.\"\n",
              "              style=\"display:none;\">\n",
              "        \n",
              "  <svg xmlns=\"http://www.w3.org/2000/svg\" height=\"24px\"viewBox=\"0 0 24 24\"\n",
              "       width=\"24px\">\n",
              "    <path d=\"M0 0h24v24H0V0z\" fill=\"none\"/>\n",
              "    <path d=\"M18.56 5.44l.94 2.06.94-2.06 2.06-.94-2.06-.94-.94-2.06-.94 2.06-2.06.94zm-11 1L8.5 8.5l.94-2.06 2.06-.94-2.06-.94L8.5 2.5l-.94 2.06-2.06.94zm10 10l.94 2.06.94-2.06 2.06-.94-2.06-.94-.94-2.06-.94 2.06-2.06.94z\"/><path d=\"M17.41 7.96l-1.37-1.37c-.4-.4-.92-.59-1.43-.59-.52 0-1.04.2-1.43.59L10.3 9.45l-7.72 7.72c-.78.78-.78 2.05 0 2.83L4 21.41c.39.39.9.59 1.41.59.51 0 1.02-.2 1.41-.59l7.78-7.78 2.81-2.81c.8-.78.8-2.07 0-2.86zM5.41 20L4 18.59l7.72-7.72 1.47 1.35L5.41 20z\"/>\n",
              "  </svg>\n",
              "      </button>\n",
              "      \n",
              "  <style>\n",
              "    .colab-df-container {\n",
              "      display:flex;\n",
              "      flex-wrap:wrap;\n",
              "      gap: 12px;\n",
              "    }\n",
              "\n",
              "    .colab-df-convert {\n",
              "      background-color: #E8F0FE;\n",
              "      border: none;\n",
              "      border-radius: 50%;\n",
              "      cursor: pointer;\n",
              "      display: none;\n",
              "      fill: #1967D2;\n",
              "      height: 32px;\n",
              "      padding: 0 0 0 0;\n",
              "      width: 32px;\n",
              "    }\n",
              "\n",
              "    .colab-df-convert:hover {\n",
              "      background-color: #E2EBFA;\n",
              "      box-shadow: 0px 1px 2px rgba(60, 64, 67, 0.3), 0px 1px 3px 1px rgba(60, 64, 67, 0.15);\n",
              "      fill: #174EA6;\n",
              "    }\n",
              "\n",
              "    [theme=dark] .colab-df-convert {\n",
              "      background-color: #3B4455;\n",
              "      fill: #D2E3FC;\n",
              "    }\n",
              "\n",
              "    [theme=dark] .colab-df-convert:hover {\n",
              "      background-color: #434B5C;\n",
              "      box-shadow: 0px 1px 3px 1px rgba(0, 0, 0, 0.15);\n",
              "      filter: drop-shadow(0px 1px 2px rgba(0, 0, 0, 0.3));\n",
              "      fill: #FFFFFF;\n",
              "    }\n",
              "  </style>\n",
              "\n",
              "      <script>\n",
              "        const buttonEl =\n",
              "          document.querySelector('#df-d0019079-7e13-41cd-ad2a-7d1f987c654a button.colab-df-convert');\n",
              "        buttonEl.style.display =\n",
              "          google.colab.kernel.accessAllowed ? 'block' : 'none';\n",
              "\n",
              "        async function convertToInteractive(key) {\n",
              "          const element = document.querySelector('#df-d0019079-7e13-41cd-ad2a-7d1f987c654a');\n",
              "          const dataTable =\n",
              "            await google.colab.kernel.invokeFunction('convertToInteractive',\n",
              "                                                     [key], {});\n",
              "          if (!dataTable) return;\n",
              "\n",
              "          const docLinkHtml = 'Like what you see? Visit the ' +\n",
              "            '<a target=\"_blank\" href=https://colab.research.google.com/notebooks/data_table.ipynb>data table notebook</a>'\n",
              "            + ' to learn more about interactive tables.';\n",
              "          element.innerHTML = '';\n",
              "          dataTable['output_type'] = 'display_data';\n",
              "          await google.colab.output.renderOutput(dataTable, element);\n",
              "          const docLink = document.createElement('div');\n",
              "          docLink.innerHTML = docLinkHtml;\n",
              "          element.appendChild(docLink);\n",
              "        }\n",
              "      </script>\n",
              "    </div>\n",
              "  </div>\n",
              "  "
            ]
          },
          "metadata": {},
          "execution_count": 55
        }
      ]
    },
    {
      "cell_type": "markdown",
      "source": [
        "#### 누적주문이 많은 유저의 연관규칙분석"
      ],
      "metadata": {
        "id": "pnqZiq41mEtZ"
      }
    },
    {
      "cell_type": "code",
      "source": [
        "# 누적주문이 많은 유저\n",
        "top_user = df_graph.groupby('유저')[['누적주문']].max().sort_values(by='누적주문',ascending=False)"
      ],
      "metadata": {
        "id": "R_Hixt7lmEL6"
      },
      "execution_count": 56,
      "outputs": []
    },
    {
      "cell_type": "code",
      "source": [
        "# 누적구매 top 200 유저들이 구매하는 제품의 빈발집단 생성\n",
        "top_items = []\n",
        "for i in list(top_user[:500].index):\n",
        "    top_items.append(list(df_graph[df_graph['유저']==i]['제품'].values))"
      ],
      "metadata": {
        "id": "cSgP38bkmM9H"
      },
      "execution_count": 57,
      "outputs": []
    },
    {
      "cell_type": "code",
      "source": [
        "# 누적주문이 많은 고객은 일반 바나나보다 친환경 바나나를 선호한다.\n",
        "\n",
        "count_1 = 0\n",
        "count_2 = 0\n",
        "\n",
        "for i in range(len(top_items)):\n",
        "    for j in range(len(top_items[i])):\n",
        "        if top_items[i][j] in 'Banana':\n",
        "            count_1 += 1\n",
        "\n",
        "for i in range(len(top_items)):\n",
        "    for j in range(len(top_items[i])):\n",
        "        if top_items[i][j] in 'Bag of Organic Bananas':\n",
        "            count_2 += 1\n",
        "\n",
        "print(f'바나나{count_1}개')    \n",
        "print(f'친환경바나나{count_2}개')    \n",
        "\n",
        "df_banana = pd.DataFrame([[68,162]], columns=['Banana', 'Bag of Organic Bananas'])\n",
        "plt.figure(figsize=(10,6))\n",
        "sns.barplot(data=df_banana)\n",
        "plt.show()"
      ],
      "metadata": {
        "colab": {
          "base_uri": "https://localhost:8080/",
          "height": 414
        },
        "id": "ZnzUve0Ysbqq",
        "outputId": "b59005f7-e6c5-4eb5-c176-d52877b409d5"
      },
      "execution_count": 58,
      "outputs": [
        {
          "output_type": "stream",
          "name": "stdout",
          "text": [
            "바나나68개\n",
            "친환경바나나162개\n"
          ]
        },
        {
          "output_type": "display_data",
          "data": {
            "text/plain": [
              "<Figure size 720x432 with 1 Axes>"
            ],
            "image/png": "[encoded data removed]"
          },
          "metadata": {
            "needs_background": "light"
          }
        }
      ]
    },
    {
      "cell_type": "code",
      "source": [
        "te2 = TransactionEncoder()\n",
        "te_ary2 = te2.fit(top_items).transform(top_items) # fit = 고유한 라벨을 갖게됨 / transform = 원핫인코딩,numpy배열로 전환\n",
        "ap_data2 = pd.DataFrame(te_ary2,columns=te2.columns_) # 원핫 인코딩 된 데이터프레임으로 변환"
      ],
      "metadata": {
        "id": "T6Tn8y-_mRKl"
      },
      "execution_count": 59,
      "outputs": []
    },
    {
      "cell_type": "code",
      "source": [
        "result2 = fpgrowth(ap_data2, min_support=0.01, use_colnames=True).sort_values(by='support',ascending=False)\n",
        "result_chart2 = association_rules(result2, metric='confidence',  min_threshold=0.5)\n",
        "# result_chart2.sort_values(by=['antecedent support','confidence','lift'],ascending=False)"
      ],
      "metadata": {
        "id": "FDAfuJ0AmSSe"
      },
      "execution_count": 60,
      "outputs": []
    },
    {
      "cell_type": "code",
      "source": [
        "# 빈발집단 연관성분석\n",
        "association = result_chart2[['antecedents','consequents','antecedent support','confidence','lift']].sort_values(by=['antecedent support','confidence','lift'],ascending=False)\n",
        "association.head(10)"
      ],
      "metadata": {
        "colab": {
          "base_uri": "https://localhost:8080/",
          "height": 363
        },
        "id": "6KWgsg790ECr",
        "outputId": "72c803ce-e87d-4cf0-d6e7-cdfd3fe7c45e"
      },
      "execution_count": 78,
      "outputs": [
        {
          "output_type": "execute_result",
          "data": {
            "text/plain": [
              "                                          antecedents  \\\n",
              "0                                     (Organic Lemon)   \n",
              "4      (Bag of Organic Bananas, Organic Strawberries)   \n",
              "1                                  (Organic Cucumber)   \n",
              "2                                  (Honeycrisp Apple)   \n",
              "3        (Organic Hass Avocado, Organic Strawberries)   \n",
              "10            (Organic Lemon, Bag of Organic Bananas)   \n",
              "8                        (Organic Small Bunch Celery)   \n",
              "7                        (Organic Small Bunch Celery)   \n",
              "12  (Organic Large Extra Fancy Fuji Apple, Bag of ...   \n",
              "5                                (Organic Fuji Apple)   \n",
              "\n",
              "                 consequents  antecedent support  confidence       lift  \n",
              "0   (Bag of Organic Bananas)               0.052    0.500000   2.873563  \n",
              "4     (Organic Hass Avocado)               0.032    0.500000   5.813953  \n",
              "1   (Bag of Organic Bananas)               0.030    0.533333   3.065134  \n",
              "2                   (Banana)               0.026    0.615385   4.524887  \n",
              "3   (Bag of Organic Bananas)               0.026    0.615385   3.536693  \n",
              "10    (Organic Hass Avocado)               0.026    0.538462   6.261181  \n",
              "8     (Organic Yellow Onion)               0.024    0.583333  11.666667  \n",
              "7     (Organic Hass Avocado)               0.024    0.583333   6.782946  \n",
              "12    (Organic Hass Avocado)               0.024    0.583333   6.782946  \n",
              "5                   (Banana)               0.024    0.583333   4.289216  "
            ],
            "text/html": [
              "\n",
              "  <div id=\"df-3a81b0be-e2dc-4f0f-8998-289fdee7a4a2\">\n",
              "    <div class=\"colab-df-container\">\n",
              "      <div>\n",
              "<style scoped>\n",
              "    .dataframe tbody tr th:only-of-type {\n",
              "        vertical-align: middle;\n",
              "    }\n",
              "\n",
              "    .dataframe tbody tr th {\n",
              "        vertical-align: top;\n",
              "    }\n",
              "\n",
              "    .dataframe thead th {\n",
              "        text-align: right;\n",
              "    }\n",
              "</style>\n",
              "<table border=\"1\" class=\"dataframe\">\n",
              "  <thead>\n",
              "    <tr style=\"text-align: right;\">\n",
              "      <th></th>\n",
              "      <th>antecedents</th>\n",
              "      <th>consequents</th>\n",
              "      <th>antecedent support</th>\n",
              "      <th>confidence</th>\n",
              "      <th>lift</th>\n",
              "    </tr>\n",
              "  </thead>\n",
              "  <tbody>\n",
              "    <tr>\n",
              "      <th>0</th>\n",
              "      <td>(Organic Lemon)</td>\n",
              "      <td>(Bag of Organic Bananas)</td>\n",
              "      <td>0.052</td>\n",
              "      <td>0.500000</td>\n",
              "      <td>2.873563</td>\n",
              "    </tr>\n",
              "    <tr>\n",
              "      <th>4</th>\n",
              "      <td>(Bag of Organic Bananas, Organic Strawberries)</td>\n",
              "      <td>(Organic Hass Avocado)</td>\n",
              "      <td>0.032</td>\n",
              "      <td>0.500000</td>\n",
              "      <td>5.813953</td>\n",
              "    </tr>\n",
              "    <tr>\n",
              "      <th>1</th>\n",
              "      <td>(Organic Cucumber)</td>\n",
              "      <td>(Bag of Organic Bananas)</td>\n",
              "      <td>0.030</td>\n",
              "      <td>0.533333</td>\n",
              "      <td>3.065134</td>\n",
              "    </tr>\n",
              "    <tr>\n",
              "      <th>2</th>\n",
              "      <td>(Honeycrisp Apple)</td>\n",
              "      <td>(Banana)</td>\n",
              "      <td>0.026</td>\n",
              "      <td>0.615385</td>\n",
              "      <td>4.524887</td>\n",
              "    </tr>\n",
              "    <tr>\n",
              "      <th>3</th>\n",
              "      <td>(Organic Hass Avocado, Organic Strawberries)</td>\n",
              "      <td>(Bag of Organic Bananas)</td>\n",
              "      <td>0.026</td>\n",
              "      <td>0.615385</td>\n",
              "      <td>3.536693</td>\n",
              "    </tr>\n",
              "    <tr>\n",
              "      <th>10</th>\n",
              "      <td>(Organic Lemon, Bag of Organic Bananas)</td>\n",
              "      <td>(Organic Hass Avocado)</td>\n",
              "      <td>0.026</td>\n",
              "      <td>0.538462</td>\n",
              "      <td>6.261181</td>\n",
              "    </tr>\n",
              "    <tr>\n",
              "      <th>8</th>\n",
              "      <td>(Organic Small Bunch Celery)</td>\n",
              "      <td>(Organic Yellow Onion)</td>\n",
              "      <td>0.024</td>\n",
              "      <td>0.583333</td>\n",
              "      <td>11.666667</td>\n",
              "    </tr>\n",
              "    <tr>\n",
              "      <th>7</th>\n",
              "      <td>(Organic Small Bunch Celery)</td>\n",
              "      <td>(Organic Hass Avocado)</td>\n",
              "      <td>0.024</td>\n",
              "      <td>0.583333</td>\n",
              "      <td>6.782946</td>\n",
              "    </tr>\n",
              "    <tr>\n",
              "      <th>12</th>\n",
              "      <td>(Organic Large Extra Fancy Fuji Apple, Bag of ...</td>\n",
              "      <td>(Organic Hass Avocado)</td>\n",
              "      <td>0.024</td>\n",
              "      <td>0.583333</td>\n",
              "      <td>6.782946</td>\n",
              "    </tr>\n",
              "    <tr>\n",
              "      <th>5</th>\n",
              "      <td>(Organic Fuji Apple)</td>\n",
              "      <td>(Banana)</td>\n",
              "      <td>0.024</td>\n",
              "      <td>0.583333</td>\n",
              "      <td>4.289216</td>\n",
              "    </tr>\n",
              "  </tbody>\n",
              "</table>\n",
              "</div>\n",
              "      <button class=\"colab-df-convert\" onclick=\"convertToInteractive('df-3a81b0be-e2dc-4f0f-8998-289fdee7a4a2')\"\n",
              "              title=\"Convert this dataframe to an interactive table.\"\n",
              "              style=\"display:none;\">\n",
              "        \n",
              "  <svg xmlns=\"http://www.w3.org/2000/svg\" height=\"24px\"viewBox=\"0 0 24 24\"\n",
              "       width=\"24px\">\n",
              "    <path d=\"M0 0h24v24H0V0z\" fill=\"none\"/>\n",
              "    <path d=\"M18.56 5.44l.94 2.06.94-2.06 2.06-.94-2.06-.94-.94-2.06-.94 2.06-2.06.94zm-11 1L8.5 8.5l.94-2.06 2.06-.94-2.06-.94L8.5 2.5l-.94 2.06-2.06.94zm10 10l.94 2.06.94-2.06 2.06-.94-2.06-.94-.94-2.06-.94 2.06-2.06.94z\"/><path d=\"M17.41 7.96l-1.37-1.37c-.4-.4-.92-.59-1.43-.59-.52 0-1.04.2-1.43.59L10.3 9.45l-7.72 7.72c-.78.78-.78 2.05 0 2.83L4 21.41c.39.39.9.59 1.41.59.51 0 1.02-.2 1.41-.59l7.78-7.78 2.81-2.81c.8-.78.8-2.07 0-2.86zM5.41 20L4 18.59l7.72-7.72 1.47 1.35L5.41 20z\"/>\n",
              "  </svg>\n",
              "      </button>\n",
              "      \n",
              "  <style>\n",
              "    .colab-df-container {\n",
              "      display:flex;\n",
              "      flex-wrap:wrap;\n",
              "      gap: 12px;\n",
              "    }\n",
              "\n",
              "    .colab-df-convert {\n",
              "      background-color: #E8F0FE;\n",
              "      border: none;\n",
              "      border-radius: 50%;\n",
              "      cursor: pointer;\n",
              "      display: none;\n",
              "      fill: #1967D2;\n",
              "      height: 32px;\n",
              "      padding: 0 0 0 0;\n",
              "      width: 32px;\n",
              "    }\n",
              "\n",
              "    .colab-df-convert:hover {\n",
              "      background-color: #E2EBFA;\n",
              "      box-shadow: 0px 1px 2px rgba(60, 64, 67, 0.3), 0px 1px 3px 1px rgba(60, 64, 67, 0.15);\n",
              "      fill: #174EA6;\n",
              "    }\n",
              "\n",
              "    [theme=dark] .colab-df-convert {\n",
              "      background-color: #3B4455;\n",
              "      fill: #D2E3FC;\n",
              "    }\n",
              "\n",
              "    [theme=dark] .colab-df-convert:hover {\n",
              "      background-color: #434B5C;\n",
              "      box-shadow: 0px 1px 3px 1px rgba(0, 0, 0, 0.15);\n",
              "      filter: drop-shadow(0px 1px 2px rgba(0, 0, 0, 0.3));\n",
              "      fill: #FFFFFF;\n",
              "    }\n",
              "  </style>\n",
              "\n",
              "      <script>\n",
              "        const buttonEl =\n",
              "          document.querySelector('#df-3a81b0be-e2dc-4f0f-8998-289fdee7a4a2 button.colab-df-convert');\n",
              "        buttonEl.style.display =\n",
              "          google.colab.kernel.accessAllowed ? 'block' : 'none';\n",
              "\n",
              "        async function convertToInteractive(key) {\n",
              "          const element = document.querySelector('#df-3a81b0be-e2dc-4f0f-8998-289fdee7a4a2');\n",
              "          const dataTable =\n",
              "            await google.colab.kernel.invokeFunction('convertToInteractive',\n",
              "                                                     [key], {});\n",
              "          if (!dataTable) return;\n",
              "\n",
              "          const docLinkHtml = 'Like what you see? Visit the ' +\n",
              "            '<a target=\"_blank\" href=https://colab.research.google.com/notebooks/data_table.ipynb>data table notebook</a>'\n",
              "            + ' to learn more about interactive tables.';\n",
              "          element.innerHTML = '';\n",
              "          dataTable['output_type'] = 'display_data';\n",
              "          await google.colab.output.renderOutput(dataTable, element);\n",
              "          const docLink = document.createElement('div');\n",
              "          docLink.innerHTML = docLinkHtml;\n",
              "          element.appendChild(docLink);\n",
              "        }\n",
              "      </script>\n",
              "    </div>\n",
              "  </div>\n",
              "  "
            ]
          },
          "metadata": {},
          "execution_count": 78
        }
      ]
    },
    {
      "cell_type": "code",
      "source": [
        "# 연관규칙분석 아보카도 개수\n",
        "count_3 = 0\n",
        "for i in range(len(result_chart2)):\n",
        "    for j in result_chart2.sort_values(by=['antecedent support','confidence','lift'],ascending=False)['antecedents'][i]:\n",
        "        if j == 'Organic Hass Avocado':\n",
        "            count_3 +=1\n",
        "\n",
        "for i in range(len(result_chart2)):\n",
        "    for j in result_chart2.sort_values(by=['antecedent support','confidence','lift'],ascending=False)['consequents'][i]:\n",
        "        if j == 'Organic Hass Avocado':\n",
        "            count_3 +=1\n",
        "count_3"
      ],
      "metadata": {
        "colab": {
          "base_uri": "https://localhost:8080/"
        },
        "id": "XvOygOaFznyY",
        "outputId": "9abe8883-1d9a-4f37-e95f-4a704b407dde"
      },
      "execution_count": 62,
      "outputs": [
        {
          "output_type": "execute_result",
          "data": {
            "text/plain": [
              "20"
            ]
          },
          "metadata": {},
          "execution_count": 62
        }
      ]
    },
    {
      "cell_type": "code",
      "source": [
        "# 연관규칙분석 바나나 개수\n",
        "count_4 = 0\n",
        "for i in range(len(result_chart2)):\n",
        "    for j in result_chart2.sort_values(by=['antecedent support','confidence','lift'],ascending=False)['antecedents'][i]:\n",
        "        if j == 'Banana':\n",
        "            count_4 +=1\n",
        "\n",
        "for i in range(len(result_chart2)):\n",
        "    for j in result_chart2.sort_values(by=['antecedent support','confidence','lift'],ascending=False)['consequents'][i]:\n",
        "        if j == 'Banana':\n",
        "            count_4 +=1\n",
        "count_4"
      ],
      "metadata": {
        "colab": {
          "base_uri": "https://localhost:8080/"
        },
        "id": "zZ-HMMDN0pq0",
        "outputId": "dacf4f7e-a369-4a63-a112-2cf171d8aab3"
      },
      "execution_count": 63,
      "outputs": [
        {
          "output_type": "execute_result",
          "data": {
            "text/plain": [
              "2"
            ]
          },
          "metadata": {},
          "execution_count": 63
        }
      ]
    },
    {
      "cell_type": "code",
      "source": [
        "# 연관규칙분석 오가닉바나나 개수\n",
        "count_5 = 0\n",
        "for i in range(len(result_chart2)):\n",
        "    for j in result_chart2.sort_values(by=['antecedent support','confidence','lift'],ascending=False)['antecedents'][i]:\n",
        "        if j == 'Bag of Organic Bananas':\n",
        "            count_5 +=1\n",
        "\n",
        "for i in range(len(result_chart2)):\n",
        "    for j in result_chart2.sort_values(by=['antecedent support','confidence','lift'],ascending=False)['consequents'][i]:\n",
        "        if j == 'Bag of Organic Bananas':\n",
        "            count_5 +=1\n",
        "count_5"
      ],
      "metadata": {
        "colab": {
          "base_uri": "https://localhost:8080/"
        },
        "id": "DjAjdyqDzuWr",
        "outputId": "6003c187-a1d6-4c85-e0ff-6067b5260ffd"
      },
      "execution_count": 64,
      "outputs": [
        {
          "output_type": "execute_result",
          "data": {
            "text/plain": [
              "22"
            ]
          },
          "metadata": {},
          "execution_count": 64
        }
      ]
    },
    {
      "cell_type": "code",
      "source": [
        "# 연관성분석 30개중 아보카도와 바나나를 포함한 수\n",
        "# 바나나와 아보카도가 핵심아이템!\n",
        "assosi_df = pd.DataFrame({'개수': (count_3, count_4+count_5)}, index=['아보카도','바나나'])\n",
        "plt.bar(range(2),assosi_df.개수, color=['green','yellow'])\n",
        "plt.xticks(range(2), assosi_df.index)\n",
        "plt.show();"
      ],
      "metadata": {
        "id": "BjnOzKQg5CRy",
        "outputId": "865b2fc3-c4c9-4fb4-b9cb-e5e5706bf254",
        "colab": {
          "base_uri": "https://localhost:8080/",
          "height": 273
        }
      },
      "execution_count": 67,
      "outputs": [
        {
          "output_type": "display_data",
          "data": {
            "text/plain": [
              "<Figure size 432x288 with 1 Axes>"
            ],
            "image/png": "[encoded data removed]"
          },
          "metadata": {
            "needs_background": "light"
          }
        }
      ]
    },
    {
      "cell_type": "markdown",
      "source": [
        "### k-means(분석 실패)"
      ],
      "metadata": {
        "id": "AKdEEzqejMfG"
      }
    },
    {
      "cell_type": "code",
      "source": [
        "from sklearn.cluster import KMeans\n",
        "from sklearn.preprocessing import MinMaxScaler\n",
        "\n",
        "df_model = df_graph[['누적주문','주문텀']].dropna()\n",
        "scaler = MinMaxScaler()\n",
        "sc_data = scaler.fit_transform(df_model)"
      ],
      "metadata": {
        "id": "PIImIP1CjOeB"
      },
      "execution_count": 68,
      "outputs": []
    },
    {
      "cell_type": "code",
      "source": [
        "# Elbow Method\n",
        "from yellowbrick.cluster import KElbowVisualizer\n",
        "elbow = KMeans()\n",
        "elbow_vi = KElbowVisualizer(elbow, k=(1,10))\n",
        "elbow_vi.fit(sc_data)\n",
        "plt.show();\n",
        "# 파란색 : 각 데이터간 군집의 중심과의 평균거리\n",
        "# 초록색 : 학습시간"
      ],
      "metadata": {
        "id": "DaI9O8zBCCe1",
        "colab": {
          "base_uri": "https://localhost:8080/",
          "height": 347
        },
        "outputId": "58affea9-3225-4e77-d433-9c6eded8ec72"
      },
      "execution_count": 77,
      "outputs": [
        {
          "output_type": "display_data",
          "data": {
            "text/plain": [
              "<Figure size 576x396 with 2 Axes>"
            ],
            "image/png": "[encoded data removed]"
          },
          "metadata": {}
        }
      ]
    },
    {
      "cell_type": "code",
      "source": [
        "k = 2\n",
        "model = KMeans(n_clusters=k, random_state=12)\n",
        "model.fit(sc_data)"
      ],
      "metadata": {
        "id": "hVH9QU73nMEA",
        "colab": {
          "base_uri": "https://localhost:8080/"
        },
        "outputId": "6221710b-8089-45f9-8243-1e840bc1d458"
      },
      "execution_count": 70,
      "outputs": [
        {
          "output_type": "execute_result",
          "data": {
            "text/plain": [
              "KMeans(n_clusters=2, random_state=12)"
            ]
          },
          "metadata": {},
          "execution_count": 70
        }
      ]
    },
    {
      "cell_type": "code",
      "source": [
        "df_graph['cluster'] = model.fit_predict(sc_data)"
      ],
      "metadata": {
        "id": "LhaiBT8_rDVx"
      },
      "execution_count": 71,
      "outputs": []
    },
    {
      "cell_type": "code",
      "source": [
        "plt.rc('font', size= 15, family='NanumBarunGothic')\n",
        "plt.figure(figsize=(12,8))\n",
        "for i in range(k):\n",
        "    plt.scatter(df_graph.loc[df_graph['cluster']==i, '누적주문'], \n",
        "                df_graph.loc[df_graph['cluster']==i, '주문텀'])\n",
        "plt.xlabel('누적주문')\n",
        "plt.ylabel('주문텀')\n",
        "plt.legend(['고객1', '고객2'])\n",
        "plt.show();"
      ],
      "metadata": {
        "id": "hgoN-adNrOX-",
        "colab": {
          "base_uri": "https://localhost:8080/",
          "height": 499
        },
        "outputId": "2005ffaa-0ae7-474d-a748-01c9b1ecbce9"
      },
      "execution_count": 76,
      "outputs": [
        {
          "output_type": "display_data",
          "data": {
            "text/plain": [
              "<Figure size 864x576 with 1 Axes>"
            ],
            "image/png": "[encoded data removed]"
          },
          "metadata": {}
        }
      ]
    },
    {
      "cell_type": "markdown",
      "source": [
        "## 5) 평가"
      ],
      "metadata": {
        "id": "vAHummnChWVu"
      }
    },
    {
      "cell_type": "markdown",
      "source": [
        "### 프로젝트 수행 결과"
      ],
      "metadata": {
        "id": "l1VDzU8hwre1"
      }
    },
    {
      "cell_type": "markdown",
      "source": [
        "**가설 1. 생각지 못한 구매 패턴이 존재할 것이다.**\n",
        "- 전체 주문량이 저조한 `수, 목, 금요일`에 주류 판매비율이 높은 특징이 있다.\n",
        "- 수, 목, 금요일에 주류 및 관련 제품의 판매촉진으로 저조한 주문량을 끌어올린다.\n",
        "\n",
        "**가설 2. 주요 고객만의 구매 패턴이 있다.**\n",
        "- 주요 고객들은 유기농 제품을 선호하며 특히 유기농 바나나와 Hass품종의 아보카도를 선호한다.\n",
        "- 누적주문을 많이 하는 주요 고객들은 제품을 소량 구매하는 경향이 있다.\n",
        "- 이는 주요 고객일 수록 제품의 품질에 신경을 많이 쓴다는 의미로 해석될 수 있다.\n",
        "- 품질이 우수한 유기농 제품의 프로모션을 진행하면 유기농 제품을 많이 이용하는 주요 고객에게는 로열티 효과가 적용되어 만족도를 올릴 수 있다.\n",
        "- 또, 일반 고객이 유기농 제품을 접할 기회를 제공하여 주요 고객으로 전환률을 높일 수 있다."
      ],
      "metadata": {
        "id": "KNzI8bakSnIZ"
      }
    },
    {
      "cell_type": "markdown",
      "source": [
        "### 자체평가"
      ],
      "metadata": {
        "id": "Er1u9ZSYwtUs"
      }
    },
    {
      "cell_type": "markdown",
      "source": [
        "- 데이터를 핸들링 하는데 있어서 부족함을 많이 느꼈다.\n",
        "\n",
        "- 많은 양의 데이터를 처음 다뤄보니 연산속도의 중요성이 크게 와 닿았다. 데이터프레임 연산 과정에서 램부족으로 인한 런타임 초기화 오류가 지속되어 배열을 활용하여 문제를 해결하였다.\n",
        "\n",
        "- 연관규칙분석 과정에서 빈발집단 데이터프레임을 만드는 과정에서 많은 시행착오를 겼었다.또, Apriori를 이용한 연관규칙 분석을 시행하는 도중, 램 부족 현상을 다시 한 번  겪었다. 트리구조를 사용하는  FP-growth 알고리즘을 사용하여 데이터 스캔 횟수를 줄이고 문제를 해결했다.\n",
        "\n",
        "- 각 컬럼에 대한 이해와 인사이트 도출이 어려웠고 수익성 있는 결과를 내지 못한 것 같다. 조금 더 분석가적인 사고방식을 길러야 겠다.\n",
        "\n",
        "- K-Means모델도 사용하였으나, 유의미한 결과를 얻지 못했다. 분석 모델링에 대한 이해가 부족하다. 모델링 방식에 대해 공부해야 한다.\n",
        "\n",
        "- 주요고객과 일반고객을 어떻게 세분화 할 것인가에 대한 방법을 연구해야한다. (주문 횟수?, 주문량?)"
      ],
      "metadata": {
        "id": "PN_FQxF6SN5d"
      }
    }
  ]
}